{
 "cells": [
  {
   "cell_type": "code",
   "execution_count": 16,
   "metadata": {
    "collapsed": false
   },
   "outputs": [],
   "source": [
    "# special IPython command to prepare the notebook for matplotlib\n",
    "%matplotlib inline \n",
    "%precision 2\n",
    "\n",
    "# Import NumPy\n",
    "import numpy as np\n",
    "import pandas as pd\n",
    "import matplotlib.pyplot as plt\n",
    "import plotly.plotly as py\n",
    "import plotly.graph_objs as go\n",
    "import cufflinks as cf\n",
    "\n",
    "\n",
    "pd.options.display.mpl_style = 'default'\n",
    "\n",
    "cf.set_config_file(theme='ggplot', offline=False, world_readable=True, sharing=True)"
   ]
  },
  {
   "cell_type": "markdown",
   "metadata": {},
   "source": [
    "## Recall from from lab last week 09/12/2014\n",
    "\n",
    "Previously discussed: \n",
    "\n",
    "* Reading in a CSV file into a pandas DataFrame\n",
    "* Using histograms, scatterplots and boxplots as exploratory data analysis\n",
    "* Summary statistics\n",
    "* Functions to access a pandas DataFrame\n",
    "* Defining your own functions and using loops"
   ]
  },
  {
   "cell_type": "markdown",
   "metadata": {},
   "source": [
    "## Today, we will discuss the following:\n",
    "* Brief introduction to Numpy, Scipy\n",
    "    * Vectorizing functions\n",
    "* More pandas and matplotlib\n",
    "* Working in the command line\n",
    "* Overview of git and Github\n",
    "\n",
    "<a href=https://raw.githubusercontent.com/cs109/2014/master/labs/Lab3_Notes.ipynb download=Lab3_Notes.ipynb> Download this notebook from Github </a>"
   ]
  },
  {
   "cell_type": "markdown",
   "metadata": {},
   "source": [
    "## Numpy\n",
    "\n",
    "NumPy and SciPy are modules in Python for scientific computing.  [NumPy](http://www.numpy.org) lets you do fast, vectorized operations on arrays.  Why use this module?  \n",
    "\n",
    "* It gives you the performance of using low-level code (e.g. C or Fortran) with the benefit of writing the code in an interpreted scripting language (all while keeping the native Python code). \n",
    "* It gives you a fast, memory-efficient multidimensional array called `ndarray` which allows you perform vectorized operations on (and supports mathematical functions such as linear algebra and random number generation)"
   ]
  },
  {
   "cell_type": "code",
   "execution_count": 5,
   "metadata": {
    "collapsed": true
   },
   "outputs": [],
   "source": []
  },
  {
   "cell_type": "markdown",
   "metadata": {},
   "source": [
    "To create a fast, multidimensional `ndarray` object, use the `np.array()` method on a python `list` or `tuple` or reading data from files. "
   ]
  },
  {
   "cell_type": "code",
   "execution_count": 8,
   "metadata": {
    "collapsed": false
   },
   "outputs": [
    {
     "data": {
      "text/plain": [
       "array([1, 2, 3, 4])"
      ]
     },
     "execution_count": 8,
     "metadata": {},
     "output_type": "execute_result"
    }
   ],
   "source": [
    "x = np.array([1,2,3,4])\n",
    "y = np.array([[1,2], [3,4]])\n",
    "x"
   ]
  },
  {
   "cell_type": "code",
   "execution_count": 9,
   "metadata": {
    "collapsed": false
   },
   "outputs": [
    {
     "data": {
      "text/plain": [
       "array([[1, 2],\n",
       "       [3, 4]])"
      ]
     },
     "execution_count": 9,
     "metadata": {},
     "output_type": "execute_result"
    }
   ],
   "source": [
    "y"
   ]
  },
  {
   "cell_type": "markdown",
   "metadata": {
    "collapsed": false
   },
   "source": [
    "## Testing tables\n",
    "\n",
    "Descriptions | Numbers\n",
    "- | --\n",
    "Rifayan | 234\n",
    "Richard | 67\n",
    "Ben Gay | 56\n",
    "\n"
   ]
  },
  {
   "cell_type": "markdown",
   "metadata": {},
   "source": [
    "#### Properties of NumPy arrays\n",
    "There are a set of properties about the `ndarray` object such the dimensions, the size, etc.  \n",
    "\n",
    "Property | Description\n",
    "--- | ----\n",
    "`y.shape` (or `shape(y)` | Shape or dimension of the array\n",
    "`y.size` (or `size(y)`) | Number of elements in the array \n",
    "`y.ndim` | number of dimensions \n"
   ]
  },
  {
   "cell_type": "code",
   "execution_count": 11,
   "metadata": {
    "collapsed": false
   },
   "outputs": [
    {
     "data": {
      "text/plain": [
       "(4,)"
      ]
     },
     "execution_count": 11,
     "metadata": {},
     "output_type": "execute_result"
    }
   ],
   "source": [
    "x.shape"
   ]
  },
  {
   "cell_type": "code",
   "execution_count": 15,
   "metadata": {
    "collapsed": false
   },
   "outputs": [
    {
     "name": "stdout",
     "output_type": "stream",
     "text": [
      "2\n"
     ]
    },
    {
     "data": {
      "text/plain": [
       "(2, 2)"
      ]
     },
     "execution_count": 15,
     "metadata": {},
     "output_type": "execute_result"
    }
   ],
   "source": [
    "print(y.ndim)\n",
    "y.shape"
   ]
  },
  {
   "cell_type": "markdown",
   "metadata": {},
   "source": [
    "#### Other ways to generate NumPy arrays\n",
    "\n",
    "Function | Description\n",
    "--- | ---\n",
    "`np.arange(start,stop,step)` | Create a range between the start and stop arguments\n",
    "`np.linspace(start,stop,num)` | Create a range between start and stop (both ends included) of length num\n",
    "`np.logspace(start, stop,num,base)` | Create a range in the log space with a define base of length num\n",
    "`np.eye(n)` | Generate an n x n identity matrix"
   ]
  },
  {
   "cell_type": "code",
   "execution_count": 8,
   "metadata": {
    "collapsed": false
   },
   "outputs": [
    {
     "data": {
      "text/plain": [
       "array([ 0,  2,  4,  6,  8, 10, 12, 14, 16, 18, 20])"
      ]
     },
     "execution_count": 8,
     "metadata": {},
     "output_type": "execute_result"
    }
   ],
   "source": [
    "np.arange(0, 21, 2)"
   ]
  },
  {
   "cell_type": "code",
   "execution_count": 26,
   "metadata": {
    "collapsed": false
   },
   "outputs": [
    {
     "data": {
      "text/plain": [
       "array([ 0,  2,  4,  6,  8, 10, 12, 14, 16, 18])"
      ]
     },
     "execution_count": 26,
     "metadata": {},
     "output_type": "execute_result"
    }
   ],
   "source": [
    "# Try it: Create a numpy array from 0 to 20 in steps of size 2\n",
    "np.arange(0,20,2)"
   ]
  },
  {
   "cell_type": "code",
   "execution_count": 33,
   "metadata": {
    "collapsed": false
   },
   "outputs": [
    {
     "data": {
      "text/plain": [
       "array([-10. ,  -9.5,  -9. ,  -8.5,  -8. ,  -7.5,  -7. ,  -6.5,  -6. ,\n",
       "        -5.5,  -5. ,  -4.5,  -4. ,  -3.5,  -3. ,  -2.5,  -2. ,  -1.5,\n",
       "        -1. ,  -0.5,   0. ,   0.5,   1. ,   1.5,   2. ,   2.5,   3. ,\n",
       "         3.5,   4. ,   4.5,   5. ,   5.5,   6. ,   6.5,   7. ,   7.5,\n",
       "         8. ,   8.5,   9. ,   9.5,  10. ])"
      ]
     },
     "execution_count": 33,
     "metadata": {},
     "output_type": "execute_result"
    }
   ],
   "source": [
    "# Try it: Create a numpy array from -10 to 10 in steps of 0.5 (INCLUDING the number 10)\n",
    "np.arange(-10, 10.5, 0.5)"
   ]
  },
  {
   "cell_type": "code",
   "execution_count": 31,
   "metadata": {
    "collapsed": false
   },
   "outputs": [
    {
     "data": {
      "text/plain": [
       "array([  100.,   200.,   300.,   400.,   500.,   600.,   700.,   800.,\n",
       "         900.,  1000.])"
      ]
     },
     "execution_count": 31,
     "metadata": {},
     "output_type": "execute_result"
    }
   ],
   "source": [
    "# Try it: Create a numpy array from 100 to 1000 of length 10\n",
    "np.linspace(100,1000,10)"
   ]
  },
  {
   "cell_type": "markdown",
   "metadata": {},
   "source": [
    "In addition, the `numpy.random` module can be used to create arrays using a random number generation "
   ]
  },
  {
   "cell_type": "code",
   "execution_count": 32,
   "metadata": {
    "collapsed": false
   },
   "outputs": [],
   "source": [
    "from numpy import random"
   ]
  },
  {
   "cell_type": "markdown",
   "metadata": {},
   "source": [
    "Function | Description\n",
    "--- | ---\n",
    "`np.random.randint(a, b, N)` | Generate N random integers between a and b\n",
    "`np.random.rand(n, m)` | Generate uniform random numbers in [0,1] of dim n x m\n",
    "`np.random.randn(n, m)` | Generate standard normal random numbers of dim n x m\n"
   ]
  },
  {
   "cell_type": "code",
   "execution_count": 50,
   "metadata": {
    "collapsed": false
   },
   "outputs": [
    {
     "name": "stdout",
     "output_type": "stream",
     "text": [
      "[[ 0.48  0.98  0.8   0.93]\n",
      " [ 0.36  0.47  0.83  0.66]\n",
      " [ 0.5   0.94  0.33  0.57]\n",
      " [ 0.82  0.72  0.93  0.86]\n",
      " [ 0.21  0.92  0.4   0.2 ]]\n",
      "\n",
      "[[ 0.48  0.98  0.8   0.93  0.36  0.47  0.83  0.66  0.5   0.94]\n",
      " [ 0.33  0.57  0.82  0.72  0.93  0.86  0.21  0.92  0.4   0.2 ]]\n",
      "\n"
     ]
    },
    {
     "data": {
      "text/plain": [
       "array([ 0.48,  0.98,  0.8 ,  0.93,  0.36,  0.47,  0.83,  0.66,  0.5 ,\n",
       "        0.94,  0.33,  0.57,  0.82,  0.72,  0.93,  0.86,  0.21,  0.92,\n",
       "        0.4 ,  0.2 ])"
      ]
     },
     "execution_count": 50,
     "metadata": {},
     "output_type": "execute_result"
    }
   ],
   "source": [
    "np.random.randint(1, 100, 50)\n",
    "\n",
    "d = np.random.rand(5,4)\n",
    "\n",
    "print(d)\n",
    "print()\n",
    "print(d.reshape(2,10))\n",
    "print()\n",
    "d.flatten()"
   ]
  },
  {
   "cell_type": "code",
   "execution_count": 14,
   "metadata": {
    "collapsed": false
   },
   "outputs": [],
   "source": [
    "# Try it: Create a numpy array filled with random samples \n",
    "# from a normal distribution of size 4 x 4"
   ]
  },
  {
   "cell_type": "markdown",
   "metadata": {},
   "source": [
    "#### Reshaping, resizing and stacking NumPy arrays\n",
    "\n",
    "To reshape an array, use `reshape()`:"
   ]
  },
  {
   "cell_type": "code",
   "execution_count": 15,
   "metadata": {
    "collapsed": false
   },
   "outputs": [
    {
     "data": {
      "text/plain": [
       "array([[ 0.34961451,  0.75618943,  0.85774252,  0.29423465],\n",
       "       [ 0.72196235,  0.02541357,  0.7708488 ,  0.07240782],\n",
       "       [ 0.54376752,  0.41193452,  0.40132359,  0.63399867],\n",
       "       [ 0.12622657,  0.34662246,  0.27813886,  0.95162428]])"
      ]
     },
     "execution_count": 15,
     "metadata": {},
     "output_type": "execute_result"
    }
   ],
   "source": [
    "z = np.random.rand(4,4)\n",
    "z "
   ]
  },
  {
   "cell_type": "code",
   "execution_count": 16,
   "metadata": {
    "collapsed": false
   },
   "outputs": [
    {
     "data": {
      "text/plain": [
       "(4, 4)"
      ]
     },
     "execution_count": 16,
     "metadata": {},
     "output_type": "execute_result"
    }
   ],
   "source": [
    "z.shape"
   ]
  },
  {
   "cell_type": "code",
   "execution_count": 17,
   "metadata": {
    "collapsed": false
   },
   "outputs": [
    {
     "data": {
      "text/plain": [
       "array([[ 0.34961451,  0.75618943],\n",
       "       [ 0.85774252,  0.29423465],\n",
       "       [ 0.72196235,  0.02541357],\n",
       "       [ 0.7708488 ,  0.07240782],\n",
       "       [ 0.54376752,  0.41193452],\n",
       "       [ 0.40132359,  0.63399867],\n",
       "       [ 0.12622657,  0.34662246],\n",
       "       [ 0.27813886,  0.95162428]])"
      ]
     },
     "execution_count": 17,
     "metadata": {},
     "output_type": "execute_result"
    }
   ],
   "source": [
    "z.reshape((8,2)) # dim is now 8 x 2"
   ]
  },
  {
   "cell_type": "markdown",
   "metadata": {},
   "source": [
    "To flatten an array (convert a higher dimensional array into a vector), use `flatten()`"
   ]
  },
  {
   "cell_type": "code",
   "execution_count": 18,
   "metadata": {
    "collapsed": false
   },
   "outputs": [
    {
     "data": {
      "text/plain": [
       "array([ 0.34961451,  0.75618943,  0.85774252,  0.29423465,  0.72196235,\n",
       "        0.02541357,  0.7708488 ,  0.07240782,  0.54376752,  0.41193452,\n",
       "        0.40132359,  0.63399867,  0.12622657,  0.34662246,  0.27813886,\n",
       "        0.95162428])"
      ]
     },
     "execution_count": 18,
     "metadata": {},
     "output_type": "execute_result"
    }
   ],
   "source": [
    "z.flatten()"
   ]
  },
  {
   "cell_type": "markdown",
   "metadata": {},
   "source": [
    "## Operating on NumPy arrays\n",
    "\n",
    "#### Assigning values\n",
    "To assign values to a specific element in a `ndarray`, use the assignment operator. "
   ]
  },
  {
   "cell_type": "code",
   "execution_count": 19,
   "metadata": {
    "collapsed": false
   },
   "outputs": [
    {
     "data": {
      "text/plain": [
       "(2, 2)"
      ]
     },
     "execution_count": 19,
     "metadata": {},
     "output_type": "execute_result"
    }
   ],
   "source": [
    "y = np.array([[1,2], [3,4]])\n",
    "y.shape"
   ]
  },
  {
   "cell_type": "code",
   "execution_count": 20,
   "metadata": {
    "collapsed": false
   },
   "outputs": [
    {
     "data": {
      "text/plain": [
       "array([[10,  2],\n",
       "       [ 3,  4]])"
      ]
     },
     "execution_count": 20,
     "metadata": {},
     "output_type": "execute_result"
    }
   ],
   "source": [
    "y[0,0] = 10\n",
    "y "
   ]
  },
  {
   "cell_type": "markdown",
   "metadata": {},
   "source": [
    "#### Indexing and slicing arrays\n",
    "To extract elements of the NumPy arrays, use the bracket operator and the slice (i.e. colon) operator.  To slice specific elements in the array, use `dat[lower:upper:step]`. To extract the diagonal (and subdiagonal) elements, use `diag()`. "
   ]
  },
  {
   "cell_type": "code",
   "execution_count": 51,
   "metadata": {
    "collapsed": false
   },
   "outputs": [
    {
     "data": {
      "text/plain": [
       "array([[ 0.24,  0.17,  0.07,  0.91],\n",
       "       [ 0.6 ,  0.03,  0.84,  0.32],\n",
       "       [ 0.1 ,  0.78,  0.12,  0.19],\n",
       "       [ 0.08,  0.88,  0.57,  0.01]])"
      ]
     },
     "execution_count": 51,
     "metadata": {},
     "output_type": "execute_result"
    }
   ],
   "source": [
    " # random samples from a uniform distribution between 0 and 1\n",
    "dat = np.random.rand(4,4)\n",
    "dat"
   ]
  },
  {
   "cell_type": "code",
   "execution_count": 52,
   "metadata": {
    "collapsed": false
   },
   "outputs": [
    {
     "data": {
      "text/plain": [
       "array([ 0.24,  0.17,  0.07,  0.91])"
      ]
     },
     "execution_count": 52,
     "metadata": {},
     "output_type": "execute_result"
    }
   ],
   "source": [
    "dat[0, :] # row 1"
   ]
  },
  {
   "cell_type": "code",
   "execution_count": 53,
   "metadata": {
    "collapsed": false
   },
   "outputs": [
    {
     "data": {
      "text/plain": [
       "array([ 0.24,  0.6 ,  0.1 ,  0.08])"
      ]
     },
     "execution_count": 53,
     "metadata": {},
     "output_type": "execute_result"
    }
   ],
   "source": [
    "dat[:, 0] # column 1"
   ]
  },
  {
   "cell_type": "code",
   "execution_count": 54,
   "metadata": {
    "collapsed": false
   },
   "outputs": [
    {
     "data": {
      "text/plain": [
       "array([ 0.24,  0.1 ])"
      ]
     },
     "execution_count": 54,
     "metadata": {},
     "output_type": "execute_result"
    }
   ],
   "source": [
    "dat[0:3:2, 0] # first and third elements in column 1"
   ]
  },
  {
   "cell_type": "code",
   "execution_count": 55,
   "metadata": {
    "collapsed": false
   },
   "outputs": [
    {
     "data": {
      "text/plain": [
       "array([ 0.24,  0.03,  0.12,  0.01])"
      ]
     },
     "execution_count": 55,
     "metadata": {},
     "output_type": "execute_result"
    }
   ],
   "source": [
    "np.diag(dat) # diagonal"
   ]
  },
  {
   "cell_type": "code",
   "execution_count": 26,
   "metadata": {
    "collapsed": false
   },
   "outputs": [
    {
     "data": {
      "text/plain": [
       "array([[ 0,  1,  2,  3],\n",
       "       [ 4,  5,  6,  7],\n",
       "       [ 8,  9, 10, 11],\n",
       "       [12, 13, 14, 15],\n",
       "       [16, 17, 18, 19],\n",
       "       [20, 21, 22, 23],\n",
       "       [24, 25, 26, 27],\n",
       "       [28, 29, 30, 31]])"
      ]
     },
     "execution_count": 26,
     "metadata": {},
     "output_type": "execute_result"
    }
   ],
   "source": [
    "np.arange(32).reshape((8, 4)) # returns an 8 x 4 array"
   ]
  },
  {
   "cell_type": "code",
   "execution_count": 65,
   "metadata": {
    "collapsed": false
   },
   "outputs": [
    {
     "data": {
      "text/plain": [
       "array(['less', 'less', 'less', 'less', 'less', 'high', 'high', 'high',\n",
       "       'high', 'high'], \n",
       "      dtype='<U4')"
      ]
     },
     "execution_count": 65,
     "metadata": {},
     "output_type": "execute_result"
    }
   ],
   "source": [
    "dat = np.arange(10)\n",
    "\n",
    "np.where(dat<5, 'less', 'high')"
   ]
  },
  {
   "cell_type": "markdown",
   "metadata": {},
   "source": [
    "#### Element-wise transformations on arrays\n",
    "There are many vectorized wrappers that take in one scalar and produce one ore more scalars (e.g. `np.exp()`, `np.sqrt()`). This element-wise array methods are also known as NumPy `ufuncs`. \n",
    "\n",
    "Function | Description \n",
    "--- | --- \n",
    "`np.abs(x)` | absolute value of each element\n",
    "`np.sqrt(x)` | square root of each element\n",
    "`np.square(x)` | square of each element\n",
    "`np.exp(x)` | exponential of each element\n",
    "`np.maximum(x, y)` | element-wise maximum from two arrays x and y\n",
    "`np.minimum(x,y)` | element-wise minimum\n",
    "`np.sign(x)` | compute the sign of each element: 1 (pos), 0 (zero), -1 (neg)\n",
    "`np.subtract(x, y)` | subtract elements in y from elements in x\n",
    "`np.power(x, y)` | raise elements in first array x to powers in second array y\n",
    "`np.where(cond, x, y)` | ifelse statement\n",
    "\n"
   ]
  },
  {
   "cell_type": "markdown",
   "metadata": {},
   "source": [
    "## Vectorizing functions\n",
    "\n",
    "It is important to state again that you should avoid looping through elements in vectors if at all possible.  One way to get around that when writing functions is to use what are called **vectorized functions**.  Say you wrote a function `f` which accepts some input `x` and checks if `x` is bigger or smaller than 0.  \n"
   ]
  },
  {
   "cell_type": "code",
   "execution_count": 28,
   "metadata": {
    "collapsed": false
   },
   "outputs": [
    {
     "name": "stdout",
     "output_type": "stream",
     "text": [
      "True\n"
     ]
    }
   ],
   "source": [
    "def f(x):\n",
    "    if x >=0:\n",
    "        return True\n",
    "    else:\n",
    "        return False\n",
    "\n",
    "print f(3)"
   ]
  },
  {
   "cell_type": "markdown",
   "metadata": {},
   "source": [
    "If we give the function an array instead of just one value (e.g. 3), then Python will give an error because there is more than one element in `x`.  The way to get around this is to **vectorize** the function.  "
   ]
  },
  {
   "cell_type": "code",
   "execution_count": 29,
   "metadata": {
    "collapsed": false
   },
   "outputs": [
    {
     "data": {
      "text/plain": [
       "array([-5, -4, -3, -2, -1,  0,  1,  2,  3,  4,  5])"
      ]
     },
     "execution_count": 29,
     "metadata": {},
     "output_type": "execute_result"
    }
   ],
   "source": [
    "f_vec = np.vectorize(f)\n",
    "z = np.arange(-5, 6)\n",
    "z "
   ]
  },
  {
   "cell_type": "code",
   "execution_count": 30,
   "metadata": {
    "collapsed": false
   },
   "outputs": [
    {
     "data": {
      "text/plain": [
       "array([False, False, False, False, False,  True,  True,  True,  True,\n",
       "        True,  True], dtype=bool)"
      ]
     },
     "execution_count": 30,
     "metadata": {},
     "output_type": "execute_result"
    }
   ],
   "source": [
    "f_vec(z)"
   ]
  },
  {
   "cell_type": "markdown",
   "metadata": {},
   "source": [
    "Instead of vectorizing the function, you can also make the function itself aware that it will be accepting vectors from the beginning. "
   ]
  },
  {
   "cell_type": "code",
   "execution_count": 31,
   "metadata": {
    "collapsed": false
   },
   "outputs": [
    {
     "name": "stdout",
     "output_type": "stream",
     "text": [
      "True\n"
     ]
    }
   ],
   "source": [
    "def f(x):\n",
    "    return (x >=0)\n",
    "\n",
    "print f(3)"
   ]
  },
  {
   "cell_type": "markdown",
   "metadata": {},
   "source": [
    "# Scipy"
   ]
  },
  {
   "cell_type": "markdown",
   "metadata": {},
   "source": [
    "Now that you know a little bit about [NumPy](numpy.html) and SciPy is a collection of mathematical and scientific modules built on top of NumPy.  For example, SciPy can handle multidimensional arrays, integration, linear algebra, statistics and optimization.  "
   ]
  },
  {
   "cell_type": "code",
   "execution_count": 32,
   "metadata": {
    "collapsed": false
   },
   "outputs": [],
   "source": [
    "# Import SciPy\n",
    "import scipy"
   ]
  },
  {
   "cell_type": "markdown",
   "metadata": {},
   "source": [
    "SciPy includes most of NumPy, so importing SciPy should be generally OK. The main SciPy module is made up of many [submodules containing specialized topics](http://docs.scipy.org/doc/scipy/reference/). \n",
    "\n",
    "Favorite SciPy submodules | What does it contain? \n",
    "--- | --- \n",
    "`scipy.stats` | [statistics](http://docs.scipy.org/doc/scipy/reference/tutorial/stats.html): random variables, probability density functions, cumulative distribution functions, survival functions\n",
    "`scipy.integrate` | [integration](http://docs.scipy.org/doc/scipy/reference/tutorial/integrate.html): single, double, triple integration, trapezoidal rule, Simpson's rule, differential equation solvers\n",
    "`scipy.signal` | [signal processing tools](http://docs.scipy.org/doc/scipy/reference/signal.html): signal processing tools such as wavelets, spectral densities, filters, B-splines\n",
    "`scipy.optimize` | [optimization](http://docs.scipy.org/doc/scipy/reference/optimize.html): find roots, curve fitting, least squares, etc \n",
    "`scipy.special` | [special functions](http://docs.scipy.org/doc/scipy/reference/tutorial/special.html): very specialized functions in mathematical physics e.g. bessel, gamma\n",
    "`scipy.linalg` | [linear algebra](http://docs.scipy.org/doc/scipy/reference/linalg.html): inverse of a matrix, determinant, Kronecker product, eigenvalue decomposition, SVD, functions for matrices (beyond those in `numpy.linalg`)\n",
    "\n",
    "If you want to import a SciPy submodule (e.g. the statistics submodule `scipy.stats`), use "
   ]
  },
  {
   "cell_type": "code",
   "execution_count": 66,
   "metadata": {
    "collapsed": false
   },
   "outputs": [],
   "source": [
    "from scipy import stats"
   ]
  },
  {
   "cell_type": "markdown",
   "metadata": {},
   "source": [
    "#### scipy.stats \n",
    "Let's dive a bit deeper in `scipy.stats`. The real utility of this submodule is to access probability distributions functions (pdfs) and standard statistical tests (e.g. $t$-test).  \n",
    "\n",
    "#### Probability distribution functions\n",
    "There is a large collection of [continuous and discrete pdfs](http://docs.scipy.org/doc/scipy/reference/stats.html) in the `scipy.stats` submodule.  The syntax to simulate random variables from a specific pdf is the name of the distribution  followed by `.rvs`. To generate $n$=10 $N(0,1)$ random variables, "
   ]
  },
  {
   "cell_type": "code",
   "execution_count": 17,
   "metadata": {
    "collapsed": false
   },
   "outputs": [
    {
     "data": {
      "text/html": [
       "<script type=\"text/javascript\">window.PLOTLYENV=window.PLOTLYENV || {};window.PLOTLYENV.BASE_URL=\"https://plot.ly\";</script>"
      ],
      "text/plain": [
       "<IPython.core.display.HTML object>"
      ]
     },
     "metadata": {},
     "output_type": "display_data"
    },
    {
     "data": {
      "text/html": [
       "<div class=\"d7ec59f9-5690-4f01-bc07-880e9de3e8a3 loading\" style=\"color: rgb(50,50,50);\">Drawing...</div><div id=\"d7ec59f9-5690-4f01-bc07-880e9de3e8a3\" style=\"height: 525; width: 100%;\" class=\"plotly-graph-div\"></div><script type=\"text/javascript\">Plotly.plot(\"d7ec59f9-5690-4f01-bc07-880e9de3e8a3\", [{\"marker\": {\"color\": \"rgba(226, 74, 51, 1.0)\", \"line\": {\"color\": \"#D9D9D9\", \"width\": 1.3}}, \"histnorm\": \"\", \"opacity\": 0.8, \"x\": [-1.7125014509838825, -2.209400484495533, 1.6919631797177928, -1.5192197687380953, 0.27449006178630586, -0.10743146394976237, -0.17130229957351029, 0.42044914614402035, 1.610435908307231, -0.8245953399921675, -0.7479533037519082, -2.510020172509863, 0.029406463467124756, 0.6445228753116798, -0.42987291386482884, -0.23767391648569425, -0.5996522218911603, 1.358482691951677, -0.6299121280865708, -0.06156703155968704, -0.027840693173056114, 0.6060953324456176, 0.39873969608096327, -1.221452579970507, 0.026081687380371053, 0.33702176645405113, -1.2919145418045686, 0.7734445571420406, 1.0683080324476835, -1.038018246196481, 1.5923965355453977, -0.747568061735545, -0.6645198776074535, -0.6379083614690794, -0.4672635394169853, 0.4211832572378957, 0.6498755194677344, 0.5704824408255745, -0.9017355429289556, 1.5282339080688396, -0.25215605388522067, 1.6872235783065006, -0.6147005821569873, 0.39286801045168446, -0.03845275803169053, -0.9887974351512249, -0.8680878989140002, -0.9611928526721076, 0.32306782513930266, 0.4124671139042475, 0.13503558347760933, -0.24887601515722083, 1.3051056074058944, 0.49315758832396295, -0.6752324054674421, 1.153008955318352, -1.1723548166545203, 0.5530598431984273, -0.349931100781578, -1.0496688149024649, 0.19982137641422262, 0.625062649184766, 0.13621548086113494, 0.39302714811719347, -0.8029095756016119, -1.4229431745158863, 0.9141047200794705, 1.969242798379829, -0.6495674489985579, 1.451378934643788, 0.6614380646593674, 0.08311878339672679, 0.9332388109452602, 0.05913833961020001, -0.33455985838247354, -0.3748625833780594, 1.3121047817701281, 1.1176812167954429, -0.8328274399506654, -0.05065872182137023, -0.02368046119578033, -1.4409823255880927, -1.572455768815084, -1.7297309677204302, 0.1636914676361346, 0.11876652841528605, 0.053006133850029225, 1.0488200499157605, 0.6413639825751735, 0.2614005090093598, -0.8302716246114504, 0.9543356160122345, 0.19674364671862402, 0.7016779130232462, 1.181645786341152, 0.149221844365901, 0.7675052409880317, 0.8759602133755457, -1.5222681570721928, -0.7619772426517278, -0.2742601277400378, 1.3292026626804283, 0.6126203519278288, -0.949845983616799, 0.3495106713831991, -0.16669474774442747, 0.858625124453336, 1.625771493509856, -0.8989664823309015, -2.332403743448398, -1.3142534746504877, 0.5639180184519214, 0.870888348099737, 1.9913306255603413, -0.5017008175414023, 0.36871063635659546, -0.37000783531559617, 1.3317385828052553, -0.31093083133902766, -0.5366614682251034, -0.9034890139454914, -0.11420029658714202, 0.3417203334946887, -1.2730031342607888, -0.4089394607663924, 1.1990723924310658, 0.7913385186652891, 0.6492465696406078, 1.1097550659358515, 0.34256854119048713, 1.0356516976612724, 1.7852943394778258, -1.4250111387545519, -1.0742482735555623, 0.8623530372108249, -0.8046352244467558, 2.1002266706301436, -1.3071186543027609, 0.5753331564639567, 0.39288574609697874, 1.7950660929168767, 0.5161203062292026, -0.42103581020583114, 1.9745179017699834, -1.9672658763681874, 1.2517704611499318, -0.5493986392940244, 0.08640455624092266, -1.6432712034557933, -1.0049500281666628, -3.0348715937884663, -0.4653378609728539, -0.08667864724907731, 0.011514526871789508, 1.0479996322950555, -0.07636624376060089, -0.8638599763623364, -0.0405949859493776, 1.220025321066498, -1.3532368880550583, 0.3664892027219327, -0.5732209265684844, -0.3176112882377993, 1.166822246120813, -1.2115586426766265, -0.9118911611984033, -0.13662374155238194, 1.3002544029402716, -0.3615291777118231, 0.3643188658889132, 0.34439069820816953, -0.7707360833251818, -1.2045584654078114, 0.6303652429007847, 1.0600436039019596, 0.5384416627310609, 0.9434582243394865, 1.1273250341682257, 0.21495006815891443, -0.7566378438885965, 0.5534200253424834, -0.8557070541228053, -1.025918998072776, 0.6815301050103274, 0.5544004554898323, -1.0638761118435507, -0.4568678397485602, -0.33098873487165037, -0.5445363601055684, 0.9163804569937878, 0.4663733652647958, 1.660887403963247, 1.2210942011200876, -0.2728129885695279, -1.4379670457648, -0.9209714976969547, -0.21011477590828725, 2.34108162851504, 0.38680708429038063, -0.17069421971268006, -0.24636360236626992, -1.8321550231402117, -0.6603860299815062, -1.100466978641524, 1.010184616868454, -0.4689152719376272, 0.3602975299421785, 0.3623436968491732, 1.2754212788329353, -2.3980932083521496, -0.7714052126947358, -1.689038132674339, -0.018612570111659565, -0.6231370976871837, 1.0710032501626652, 0.23027523451256834, -0.1848039284525624, 0.1279529249044033, -0.5781754947671498, 0.37351771149627916, -1.0834970397521233, -0.10239254607442398, 1.705265663104043, -1.1183522674933803, 2.157904374431905, 1.731694871826454, 0.4841488897647498, 0.9284449013492244, 0.8724732625069986, -0.04543478820734387, 0.21427499429561955, 0.5945890820551761, 0.8428219224987928, -0.9446872246212002, -0.20613190199461, 0.9767089217938847, -0.6463968262110444, 0.6202290648619713, 0.45095899172346743, 0.4474703988947107, 0.025220750857741895, 1.526352697210746, 0.8072128703947218, -1.9672048187566806, -0.4601483763842633, 1.9434123449543317, -0.5765318472568396, 1.9776078534946975, 0.5907076944583822, 1.5955382118414505, -1.3671481880066028, -2.2877461719011256, -1.471047474611527, -0.8216072887683983, -0.147155330761478, -0.6137267181226759, -0.24779220346305844, 0.9559160216209813, 0.2385738280091819, -0.5958981990186445, 0.9742596505740745, -0.3185557299773847, 0.05512560550143966, -0.43950745648945616, -0.18253727579577397, 0.47444271944787425, 0.5924414279675962, 0.1023518354099859, 1.2639935883888902, 0.6395254864331831, 0.21064088206626955, 1.2483948664515674, 0.5517825516636254, -0.1550751631522556, -0.36366255875994896, -0.36254816938285983, -1.563937188281901, 1.0406955669765814, 0.10305521502118337, -1.1177749823543806, -0.7991968367501393, 1.7562349112708593, 0.15321489677463865, -0.6475127179214549, 0.32529728706555044, -0.42537482717506175, 0.6471464914169298, -0.5456815064424584, -0.8222181702866502, -0.6816651840150648, -0.9747730604236591, 0.799739219300716, 0.936572042439939, 0.8981680870406117, 0.41792433970446347, -1.6018834868836282, 2.223665042564403, 0.8566574562882041, -0.30758674244870426, -0.18709020957215958, 1.2128756742140334, 0.3771985497249175, -0.3962853122004743, 0.3955494020460493, 0.016048488898343337, -1.4048796816497802, 0.5833364450381732, 0.986870300346255, -0.06506308169278249, -1.1725546088715053, -0.3302585074735682, -0.1315157458708051, -0.3997593615070907, -0.7048266676652232, 0.30257612873148204, 0.7575516883564359, 0.5730719960962722, -0.7620763714678899, 0.18849058296970123, 0.23143075850964068, -0.05008921354502364, -0.8595042692771252, 0.1158119281308716, 0.6085807772981483, -0.8953851491023828, 0.8799860348296392, 0.052969224595181656, 0.018666527969258245, -0.20174802007612389, 0.7640451881763731, 0.06449341768201956, 1.4024380334485933, -0.07972161035841886, 0.5616246387717351, 0.20966230241464032, 1.7660648825985164, 0.9964389303283382, 1.8498045355109456, 0.2298021241825134, 1.1686165528837515, -0.420278456477821, -0.5558396452568409, 1.2081829626584857, 0.673804458514026, -0.7864978988837628, -0.3324111343977131, -0.29712985147551346, 0.7916491024858296, 0.20480867861810045, 0.998052265843575, -0.4626151086449444, 0.6951506724375195, -1.1029259149715693, -0.20516935359036428, -0.375265426322435, 0.4557330374007974, 0.27940975491167036, -1.1991644988004846, -1.06093646111743, -0.511625636433752, 2.7175115103124257, 0.9142853349755437, 0.10324481075217487, 0.009820642353702058, -0.5490329067377612, -2.166318890286222, 0.7420257333270985, 0.36500468364996874, 0.07411996339424003, -0.9049782062843871, -0.4491467873078759, 0.2926852476867228, 1.7696059873732435, -0.29690846583376324, 0.9638544898652514, 1.0827985357887846, 1.1348382907381878, 0.4390548534001652, 1.5501888487976412, 0.30290953595111475, 1.033091840066303, 0.7913541610344353, 0.4054092776326388, 0.2815918502768284, 0.9122405615305704, 0.19297547182764913, 0.07578523168941745, 0.41829569123644406, 0.04104776667336971, 1.2130819719316417, 1.4331952045056495, -0.15663023615654115, -0.008160985732505259, -1.6519459424647067, 1.4648625629964427, -0.6466005337953764, 0.5469449917726991, 0.015954813508555918, 2.009679734717159, -0.7866238030362265, 0.5972436594320615, 1.5166125149173952, 1.1951193197382226, 1.2420927660512142, -0.8160045251872251, 0.15507228447612942, -0.9697116291928737, 0.09001565185472934, 0.895111096807738, 1.1755138889223355, 0.49779599153107723, -0.5960423820397777, 0.6374812902664814, 0.40214743670084613, -1.522432768219752, -1.0061965903450205, -1.6060762778183568, 1.066657991438885, -1.0651319540535396, -1.3506850495025942, 0.5365656784048686, 0.33846697178709284, 0.5491574050894567, 1.1612937944793023, -0.31139208326698214, 0.3762625424508647, 1.006382336242994, -0.3985990664953097, 0.33129892781499337, 1.3155327469206932, 0.13142787987456406, -0.6399815039790293, 1.4969067960674303, 0.3342047263781355, 1.0339715100748923, 0.03601548905634777, 0.18535706787700243, 0.20182230337018675, -0.4756892984457983, -0.047738039766911246, 0.45037071391845496, -1.476213902601272, 0.7695326369650624, -0.06019451271125428, -0.12065068727584208, -1.2714199114914124, -1.1359210840966223, -0.01606859214121729, 0.4968411697957565, 0.14758340403413148, -1.196533326421566, -1.1770546791429146, -1.346553210288858, -1.1528319403643943, 0.08500088514768248, 1.568173039278862, -0.42343845114210316, -0.23183406205911772, -0.012527625914362638, 0.30425243933302487, -0.973363555798156, 0.11990229937632423, 1.1660932960528156, 0.6403082630353485, -1.6328328522825832, 0.5872405258949583, -1.7872468630879759, 0.6707661373216751, -0.4482441369422273, -0.990980097620324, -0.24856435102657715, 0.35943100134866773, 0.25591919364327465, 0.5858683353811657, 1.2576987612360078, 1.1420871036144584, -0.27570401119772153, -0.4044375449529357, 1.1881371708441621, 0.23920875634794778, 0.6594398261858201, 1.9196777210639728, 0.29637681431063356, -0.6255859189165845, -0.39544927429961807, -0.4765752742018711, -0.4662041144831556, -1.0008124091799124, -0.3685498660654199, -1.907252391118261, -0.20915094433888792, 2.070006302032057, 0.25390380570594384, 0.33793223365970293, -1.3001994505122518, 0.3965049445449672, -0.14403155846263158, 0.4061656585914156, 2.0667264800057272, 0.3897493207124911, -1.09722935855828, 0.3685285457373113, 0.3506754403730335, 1.7459459912652402, -0.0634103994703519, 0.19147883696730963, 1.5976128239666056, -1.3011509862177724, 0.529862919750172, 0.4878876656930031, 0.2798433564469994, 2.074338889941616, -1.2671483396472956, -0.7422187597433334, 0.047520694292907985, -1.122675756584268, -1.2158308343823738, -0.2759808661521326, -0.11407560535962687, -0.3998457821824629, 0.9457618133098693, -0.12796468764052388, 0.37258164996287396, 1.8182613171234594, 0.08997018931456087, 1.6499376871584115, -1.4954317131791939, -0.5258469177396978, -1.3556630766752962, 1.7486350420433805, -0.04459608256693686, -0.5751228217645176, -1.1991752141491014, 0.7234115703984874, 1.201331156633098, -0.5453363444683756, -0.924302545437513, 0.2908568778596164, 0.891959733310506, 0.3559563609533681, 2.0236161280671574, 0.48630214160985497, 0.1529064107368187, -1.0984437606197033, -1.4309206210385785, 0.6977474686722476, -0.6586776145396195, -0.3350473884361819, 0.010845668683100973, -0.3651039102162054, -1.0238553884267318, 0.5274092773154402, 1.3218843802943963, 0.25408129814728836, -0.3367963375130196, -0.6817601574939005, -1.722789168878874, 0.08098620351943896, 2.116524527087712, 0.5551971126665376, 1.0556843758276946, 0.6204877068587645, 0.7121800909824533, 0.8656667812952891, 0.7572189094193464, -0.48219374014222854, 0.4227723953746533, -0.5695329937665247, -0.2669324399686044, -0.14407173864027534, -0.8148371267838908, 1.1103254121548651, 1.1916023432525336, -0.970741345389308, 0.3536101282262548, 0.4771335325477215, 0.6951799928803385, -1.5464328311301934, 1.2243698333776776, -0.1798476760661083, 0.24886581877570735, -0.44468747129344643, -0.4095335012758474, -0.4050176714461039, -0.5136044026973702, -1.6180424490829968, 0.9756593270206957, 0.09333432178453557, -0.810217182971689, -0.043541124392369644, 0.14411377676138246, 0.2976441286324094, -2.5185879438079444, 0.06315609409641487, 0.6707925908328445, -0.5432010305792008, 1.2135090968217344, 1.347068170024992, -0.138363847269105, 0.1660009603995139, 0.12087515813894788, -0.4944009146384916, -2.067889360598388, 0.13488303564219528, 1.1627419204285414, -0.24744042130075927, 0.979506235781376, 0.4089930310318326, -1.2148867211118604, 0.7091015278277456, 0.646116435259985, -1.1757419450980147, 0.47447325029172355, -0.7395925301438709, 1.112415645036832, 1.0890953521635518, -0.5781486067581271, 0.3307231262667824, 0.06722833877389017, -1.3224777741058042, -0.30714840370421664, -1.5247162896106752, 0.18107391324449781, 0.35807643853964793, 0.6441677310917779, -0.9644976827006903, 1.190464035536376, -1.3424619180252675, 0.5686118064309075, -0.16393271319864988, 0.9625408545214419, 0.21382347884780087, 1.6036178135594081, -1.134196256434033, -0.5171595560760747, 0.8128647741950106, 0.7512413009333084, -0.3786529026289023, -1.176735124383923, -1.8083825368695219, -0.23796778837536803, 1.1076728208038518, -0.7487685232093562, -0.2267147653733018, -0.39495440833334333, 0.5409114125365937, 0.15767746439638144, -0.787716223783712, -0.062468042821336764, -1.6739796412581267, -0.019120186275287557, -1.070099797175905, 0.7320821599228398, 0.9503418387991416, 1.3067048728038102, -0.5193532276956092, 0.6882609057540928, 0.7591858924211464, -0.41728310602634544, -0.3669857357480025, -0.09782945678185265, 0.452481263846982, -0.22289908682279924, -0.7684216181989386, 0.4425241231424019, -0.1825630005172037, -0.6547907596394662, -0.8078700173404181, 0.9806342293659381, -1.718269498424527, -1.4972975407291658, -1.3012359352888268, -0.2033020090246538, -0.6769198887911644, -1.2875904618959875, -0.3427243439828661, -1.6049816477120296, -0.16448758263956137, 0.7655804085801587, -0.8270251592471807, -0.3862297006982249, -0.36781059710631586, 2.735822747231461, 1.7451101753001397, 1.188119214083723, -1.4544787736435976, -0.20446019120503856, 1.2134235986259199, 0.3709648260508179, -1.136630821343602, 1.3773773079922027, -1.386751690684978, 0.7214943422130885, -1.0477535725488285, 1.431468651022321, -2.166318561460894, 1.1456552101822928, 1.3727346359188268, -0.15308562029641082, -0.06925437046227474, 0.34428320909209825, -0.7819223766174015, 1.2388825774696623, -1.2971986222443594, 1.1843441083323898, 0.8814593082750234, -0.4934549311598342, -1.3460407092577633, 0.021311132930880237, -0.3998190102520352, -0.1981167791139309, 0.003732020667188544, 0.22832497207130092, -0.7457139558313925, 0.8113829505528999, -0.5823014967810446, -0.3297385128825953, 0.8162843478613974, 0.5032193546428421, 1.3808807626388648, 0.29031111808541393, 1.686097367693024, -1.62325390579795, -1.2603642458228779, -0.2120995148991566, 0.6938591101075532, -0.275907535906778, 0.02361142423208661, -0.19531871529307462, -0.6173767563437245, -0.49378598992392947, 1.8914477572465132, -0.8731690570267256, -1.1938694373354861, -0.9361280335799209, -0.3925322945843, -0.35291495459168587, -0.01896647949248411, 0.29965889458040734, -0.8776609760537016, -0.38925984822207654, -0.6513943500030112, 0.06875479385567922, 0.8945836339922728, -0.5663070970565742, 1.2800431386331599, 0.5934404371506259, 0.48710374578969545, 1.1632447128599517, -0.13053739961747324, 0.12939922357099545, -0.4361708377661942, -0.12654130467052807, -0.570718094580445, 0.29153849674532323, 0.6314832934676523, 1.7237952322659724, 0.1656753819411219, 0.7714551903176669, 0.27515790282053865, 0.009801908197618224, 0.08246437231732777, -0.38540477364472936, -0.4001450772829845, -1.0725527301988294, 0.5300864011866767, 1.339070669288422, 0.08952277210173429, -0.5975413715015339, -0.08511338450083246, 1.1330214725928878, -2.6080103544255535, 1.0366830175427875, 2.53376790613335, 0.39714875979560116, -0.9966814345614088, 1.207162340801068, -1.035566097834621, -0.7543939166332342, -1.30202409264663, 1.4116811369061752, 0.42976114370439444, 0.35744903252986115, 0.28925829594186653, 1.7588224790727025, -0.15046405703039306, -0.21812026550253108, -0.04921948154080813, -0.25033282799131323, -0.7685352691855446, 0.32544786462671077, 0.20887699239425384, -2.029261921464617, -1.0592058805021163, -0.13755968600352605, 1.9986796339696737, -0.12012973243480109, -1.2360768040549954, 2.109311558255336, -0.5603313856995794, 1.4341248275185858, 0.9238451228979722, 0.42582321027583486, -1.9463259211204043, 1.7111638700709357, 1.8645740676351903, 0.7744576830388521, -1.8315317465693508, -1.018325212777055, -0.34438922134046246, -0.34782466688084035, 0.6416169768698047, 1.9456264532372467, -0.7050978765705573, -2.2246785752883893, -0.009731096115644197, 0.24566083603877636, -1.303174525410712, 0.027990236434093627, 0.7470148915419719, 0.3240012385999052, 1.6883562541814328, 1.1174549297584426, -0.07059117227394873, 1.1577899485390561, 1.6871804826319543, 1.4129070926214125, -0.1515561416353148, 1.5963275233247824, -1.782795906089161, -0.8540841453563793, -0.8436588601110302, -0.7613230681773184, -0.775718038843173, 0.5849664820936213, 1.4351260280866476, 0.26936410707481956, 0.07338176528036401, -1.2835130327460613, 1.0258969555104709, 0.06768852882683352, 0.9006180976822824, -0.3831383090992814, 0.28507041755239976, -0.2992616650491225, 0.7310919472424489, 2.0650281846034346, 2.1920552963571662, 0.45172261740134917, -0.9812973555849878, 1.7692153765257326, 1.018421720273572, 0.7975720017821282, -0.9346902370115678, 0.47347905124611883, 0.22138431458536603, 0.1285872812857396, 2.495788503829475, 0.8729088639549455, -0.2700011990304749, 0.4868568658688187, -2.0626924366557784, -0.5199419336057982, -0.7006008906130312, -0.929340985414996, 1.6648480338730245, -2.0293356811191336, -1.2256835685949576, 0.11531510554248837, 0.3164444924894611, 0.012046891648206015, 0.820582284332078, -0.7955440967362131, 0.5689463753186369, 0.43262518272938333, 1.1309278710596542, 0.87620687037833, -1.134255947409314, 0.5608965590705176, -0.02209848283106316, -1.1972355129032788, 0.7932403167907744, 1.0002269115871458, -0.5517049349538385, -0.9694185028403656, 0.5408011925094346, -0.7259001701702169, 1.15515132355906, -0.9240292021281649, 0.4361401109850558, 2.2048002096358643, -0.36946117765203523, -0.7268710125196544, 0.06256714656617962, 1.217009517921778, 0.39472253270349095, -1.1994631993426716, 1.5621742602373714, -0.7949488697689149, 0.16666035484003106, -0.2177366699711679, 1.3467238325538682, -0.9534884254364908, -1.2807692417219194, -0.20293752411368646, 1.0782873849548746, 0.7104760418808436, 0.45044607829409544, -0.9539295965651542, -0.6811878332563139, -2.8918253673625185, 1.3444260670841244, 1.7140562343546033, 1.8948282919686086, 0.6462691619750128, -2.2487290333710166, -0.4039427872655261, 0.022350566306362857, -0.8478161001625082, -2.0634040646266563, 0.6300301815059696, -0.9003726313460292, -0.41714689285290263, -0.8241039232542449, 0.11741533738050476, 0.5452963715936556, -0.1815867700206839, -0.28934214790670437, 0.2422743286560745, -0.05621269244700337, -1.987395747289913, 0.8026707633353782, -0.7568368150992032, -0.3322984584902186, -0.8420310775807276, -0.13137591910912655, 1.8859203352708727, 0.04072258097450021, 1.6697798474262397, 0.7280312090617683, -0.08660078770575433, 0.2502866727794045, -0.006131993317820038, -0.13836046737557456, 1.3699902482560056, 0.35798155567584367, -0.14354284051529584, 0.823688227776929, 0.5725336426842876, 0.38988840263036495, 0.028338673963390855, 0.5714090116226133, 0.08062612743670983, -0.4095380568423887, 0.11524381618279485, 1.0096232693847196, 0.46572736242461293, -0.9002864646269934, -0.5463640642102054, 2.5501570720433646, -1.7871016618533735, 1.3436911481920102, -1.787333633923286, -0.430205570510814, -0.6840007455218994, 0.052234840587906686, 2.547010437745556, 0.13157175258544632, 0.9986464522976193, -0.7448397738371388, -0.38292375943070095, -0.041837435682385696, 2.303234703283155, -0.803129459973063, -1.4529773318726624, -1.13719570823246, 0.7121589160946382, 0.5368114670680203, 1.1587194294541128, -0.6953238718568313, 0.21614211449337478, -2.4060541967518136, -0.6120791697981158, -0.29221665782199524, 0.49109777496011964, -0.159786956021958, 0.4968024277164446, -0.49726059669667827, -0.12379526908789323, -0.624341703759674, -0.1483964487209027, -1.2091135163475895, 1.433665677393997, -1.6570983359678908, -0.21694441809418655, -0.04483893204769673, -0.9062469703338406, -0.23715516265926717, -2.1089697319656153, 0.31731711904403764], \"histfunc\": \"count\", \"nbinsx\": 20, \"name\": \"vals\", \"orientation\": \"v\", \"type\": \"histogram\"}], {\"barmode\": \"overlay\", \"yaxis1\": {\"tickfont\": {\"color\": \"#666666\"}, \"showgrid\": true, \"zerolinecolor\": \"#F6F6F6\", \"titlefont\": {\"color\": \"#666666\"}, \"gridcolor\": \"#F6F6F6\", \"title\": \"\"}, \"plot_bgcolor\": \"#E5E5E5\", \"legend\": {\"bgcolor\": \"#FFFFFF\", \"font\": {\"color\": \"#666666\"}}, \"titlefont\": {\"color\": \"#151516\"}, \"paper_bgcolor\": \"#FFFFFF\", \"xaxis1\": {\"tickfont\": {\"color\": \"#666666\"}, \"showgrid\": true, \"zerolinecolor\": \"#F6F6F6\", \"titlefont\": {\"color\": \"#666666\"}, \"gridcolor\": \"#F6F6F6\", \"title\": \"\"}, \"title\": \"Histogram of 1000 normal random variables\"}, {\"showLink\": true, \"linkText\": \"Export to plot.ly\"}).then(function() {\n",
       "    $(\".d7ec59f9-5690-4f01-bc07-880e9de3e8a3.loading\").remove();\n",
       "})</script>"
      ],
      "text/plain": [
       "<IPython.core.display.HTML object>"
      ]
     },
     "metadata": {},
     "output_type": "display_data"
    }
   ],
   "source": [
    "from scipy.stats import norm\n",
    "x = norm.rvs(loc = 0, scale = 1, size = 1000)\n",
    "\n",
    "df = pd.DataFrame(x, columns=['vals'])\n",
    "\n",
    "df.iplot(kind='hist', bins=20, title='Histogram of 1000 normal random variables')"
   ]
  },
  {
   "cell_type": "markdown",
   "metadata": {},
   "source": [
    "# More Pandas and Matplotlib\n",
    "\n",
    "## Motor Trend Car Road Tests Data\n",
    "\n",
    "The data was extracted from the 1974 Motor Trend US magazine, and comprises fuel consumption and 10 aspects of automobile design and performance for 32 automobiles (1973–74 models). This dataset is available on Github in the [2014_data repository](https://github.com/cs109/2014_data) and is called `mtcars.csv`. "
   ]
  },
  {
   "cell_type": "markdown",
   "metadata": {},
   "source": [
    "## Reading in the mtcars data (CSV file) from the web\n",
    "\n",
    "This is a `.csv` file, so we will use the function `read_csv()` that will read in a CSV file into a pandas DataFrame. "
   ]
  },
  {
   "cell_type": "code",
   "execution_count": 3,
   "metadata": {
    "collapsed": false
   },
   "outputs": [
    {
     "data": {
      "text/html": [
       "<div>\n",
       "<table border=\"1\" class=\"dataframe\">\n",
       "  <thead>\n",
       "    <tr style=\"text-align: right;\">\n",
       "      <th></th>\n",
       "      <th>mpg</th>\n",
       "      <th>cyl</th>\n",
       "      <th>disp</th>\n",
       "      <th>hp</th>\n",
       "      <th>drat</th>\n",
       "      <th>wt</th>\n",
       "      <th>qsec</th>\n",
       "      <th>vs</th>\n",
       "      <th>am</th>\n",
       "      <th>gear</th>\n",
       "      <th>carb</th>\n",
       "    </tr>\n",
       "  </thead>\n",
       "  <tbody>\n",
       "    <tr>\n",
       "      <th>Mazda RX4</th>\n",
       "      <td>21.0</td>\n",
       "      <td>6</td>\n",
       "      <td>160</td>\n",
       "      <td>110</td>\n",
       "      <td>3.90</td>\n",
       "      <td>2.620</td>\n",
       "      <td>16.46</td>\n",
       "      <td>0</td>\n",
       "      <td>1</td>\n",
       "      <td>4</td>\n",
       "      <td>4</td>\n",
       "    </tr>\n",
       "    <tr>\n",
       "      <th>Mazda RX4 Wag</th>\n",
       "      <td>21.0</td>\n",
       "      <td>6</td>\n",
       "      <td>160</td>\n",
       "      <td>110</td>\n",
       "      <td>3.90</td>\n",
       "      <td>2.875</td>\n",
       "      <td>17.02</td>\n",
       "      <td>0</td>\n",
       "      <td>1</td>\n",
       "      <td>4</td>\n",
       "      <td>4</td>\n",
       "    </tr>\n",
       "    <tr>\n",
       "      <th>Datsun 710</th>\n",
       "      <td>22.8</td>\n",
       "      <td>4</td>\n",
       "      <td>108</td>\n",
       "      <td>93</td>\n",
       "      <td>3.85</td>\n",
       "      <td>2.320</td>\n",
       "      <td>18.61</td>\n",
       "      <td>1</td>\n",
       "      <td>1</td>\n",
       "      <td>4</td>\n",
       "      <td>1</td>\n",
       "    </tr>\n",
       "    <tr>\n",
       "      <th>Hornet 4 Drive</th>\n",
       "      <td>21.4</td>\n",
       "      <td>6</td>\n",
       "      <td>258</td>\n",
       "      <td>110</td>\n",
       "      <td>3.08</td>\n",
       "      <td>3.215</td>\n",
       "      <td>19.44</td>\n",
       "      <td>1</td>\n",
       "      <td>0</td>\n",
       "      <td>3</td>\n",
       "      <td>1</td>\n",
       "    </tr>\n",
       "    <tr>\n",
       "      <th>Hornet Sportabout</th>\n",
       "      <td>18.7</td>\n",
       "      <td>8</td>\n",
       "      <td>360</td>\n",
       "      <td>175</td>\n",
       "      <td>3.15</td>\n",
       "      <td>3.440</td>\n",
       "      <td>17.02</td>\n",
       "      <td>0</td>\n",
       "      <td>0</td>\n",
       "      <td>3</td>\n",
       "      <td>2</td>\n",
       "    </tr>\n",
       "  </tbody>\n",
       "</table>\n",
       "</div>"
      ],
      "text/plain": [
       "                    mpg  cyl  disp   hp  drat     wt   qsec  vs  am  gear  \\\n",
       "Mazda RX4          21.0    6   160  110  3.90  2.620  16.46   0   1     4   \n",
       "Mazda RX4 Wag      21.0    6   160  110  3.90  2.875  17.02   0   1     4   \n",
       "Datsun 710         22.8    4   108   93  3.85  2.320  18.61   1   1     4   \n",
       "Hornet 4 Drive     21.4    6   258  110  3.08  3.215  19.44   1   0     3   \n",
       "Hornet Sportabout  18.7    8   360  175  3.15  3.440  17.02   0   0     3   \n",
       "\n",
       "                   carb  \n",
       "Mazda RX4             4  \n",
       "Mazda RX4 Wag         4  \n",
       "Datsun 710            1  \n",
       "Hornet 4 Drive        1  \n",
       "Hornet Sportabout     2  "
      ]
     },
     "execution_count": 3,
     "metadata": {},
     "output_type": "execute_result"
    }
   ],
   "source": [
    "url = 'https://raw.githubusercontent.com/cs109/2014_data/master/mtcars.csv'\n",
    "mtcars = pd.read_csv(url, sep = ',', index_col=0)\n",
    "mtcars.head()"
   ]
  },
  {
   "cell_type": "code",
   "execution_count": 96,
   "metadata": {
    "collapsed": false
   },
   "outputs": [
    {
     "data": {
      "text/plain": [
       "(32, 11)"
      ]
     },
     "execution_count": 96,
     "metadata": {},
     "output_type": "execute_result"
    }
   ],
   "source": [
    "# DataFrame with 32 observations on 11 variables\n",
    "mtcars.shape "
   ]
  },
  {
   "cell_type": "code",
   "execution_count": 37,
   "metadata": {
    "collapsed": false
   },
   "outputs": [
    {
     "data": {
      "text/plain": [
       "Index([u'mpg', u'cyl', u'disp', u'hp', u'drat', u'wt', u'qsec', u'vs', u'am', u'gear', u'carb'], dtype='object')"
      ]
     },
     "execution_count": 37,
     "metadata": {},
     "output_type": "execute_result"
    }
   ],
   "source": [
    "# return the column names\n",
    "mtcars.columns"
   ]
  },
  {
   "cell_type": "markdown",
   "metadata": {},
   "source": [
    "Here is a table containing a description of all the column names. \n",
    "\n",
    "Column name | Description \n",
    "--- | --- \n",
    "mpg | Miles/(US) gallon\n",
    "cyl | Number of cylinders\n",
    "disp | Displacement (cu.in.)\n",
    "hp | Gross horsepower\n",
    "drat | Rear axle ratio\n",
    "wt | Weight (lb/1000)\n",
    "qsec | 1/4 mile time\n",
    "vs | V/S\n",
    "am | Transmission (0 = automatic, 1 = manual)\n",
    "gear | Number of forward gears\n",
    "carb | Number of carburetors\n"
   ]
  },
  {
   "cell_type": "code",
   "execution_count": 39,
   "metadata": {
    "collapsed": false
   },
   "outputs": [
    {
     "data": {
      "text/html": [
       "<div style=\"max-height:1000px;max-width:1500px;overflow:auto;\">\n",
       "<table border=\"1\" class=\"dataframe\">\n",
       "  <thead>\n",
       "    <tr style=\"text-align: right;\">\n",
       "      <th></th>\n",
       "      <th>mpg</th>\n",
       "      <th>cyl</th>\n",
       "      <th>disp</th>\n",
       "      <th>hp</th>\n",
       "      <th>drat</th>\n",
       "      <th>wt</th>\n",
       "      <th>qsec</th>\n",
       "      <th>vs</th>\n",
       "      <th>am</th>\n",
       "      <th>gear</th>\n",
       "      <th>carb</th>\n",
       "    </tr>\n",
       "  </thead>\n",
       "  <tbody>\n",
       "    <tr>\n",
       "      <th>Fiat X1-9</th>\n",
       "      <td> 27.3</td>\n",
       "      <td> 4</td>\n",
       "      <td>  79.0</td>\n",
       "      <td>  66</td>\n",
       "      <td> 4.08</td>\n",
       "      <td> 1.935</td>\n",
       "      <td> 18.9</td>\n",
       "      <td> 1</td>\n",
       "      <td> 1</td>\n",
       "      <td> 4</td>\n",
       "      <td> 1</td>\n",
       "    </tr>\n",
       "    <tr>\n",
       "      <th>Porsche 914-2</th>\n",
       "      <td> 26.0</td>\n",
       "      <td> 4</td>\n",
       "      <td> 120.3</td>\n",
       "      <td>  91</td>\n",
       "      <td> 4.43</td>\n",
       "      <td> 2.140</td>\n",
       "      <td> 16.7</td>\n",
       "      <td> 0</td>\n",
       "      <td> 1</td>\n",
       "      <td> 5</td>\n",
       "      <td> 2</td>\n",
       "    </tr>\n",
       "    <tr>\n",
       "      <th>Lotus Europa</th>\n",
       "      <td> 30.4</td>\n",
       "      <td> 4</td>\n",
       "      <td>  95.1</td>\n",
       "      <td> 113</td>\n",
       "      <td> 3.77</td>\n",
       "      <td> 1.513</td>\n",
       "      <td> 16.9</td>\n",
       "      <td> 1</td>\n",
       "      <td> 1</td>\n",
       "      <td> 5</td>\n",
       "      <td> 2</td>\n",
       "    </tr>\n",
       "    <tr>\n",
       "      <th>Ford Pantera L</th>\n",
       "      <td> 15.8</td>\n",
       "      <td> 8</td>\n",
       "      <td> 351.0</td>\n",
       "      <td> 264</td>\n",
       "      <td> 4.22</td>\n",
       "      <td> 3.170</td>\n",
       "      <td> 14.5</td>\n",
       "      <td> 0</td>\n",
       "      <td> 1</td>\n",
       "      <td> 5</td>\n",
       "      <td> 4</td>\n",
       "    </tr>\n",
       "    <tr>\n",
       "      <th>Ferrari Dino</th>\n",
       "      <td> 19.7</td>\n",
       "      <td> 6</td>\n",
       "      <td> 145.0</td>\n",
       "      <td> 175</td>\n",
       "      <td> 3.62</td>\n",
       "      <td> 2.770</td>\n",
       "      <td> 15.5</td>\n",
       "      <td> 0</td>\n",
       "      <td> 1</td>\n",
       "      <td> 5</td>\n",
       "      <td> 6</td>\n",
       "    </tr>\n",
       "    <tr>\n",
       "      <th>Maserati Bora</th>\n",
       "      <td> 15.0</td>\n",
       "      <td> 8</td>\n",
       "      <td> 301.0</td>\n",
       "      <td> 335</td>\n",
       "      <td> 3.54</td>\n",
       "      <td> 3.570</td>\n",
       "      <td> 14.6</td>\n",
       "      <td> 0</td>\n",
       "      <td> 1</td>\n",
       "      <td> 5</td>\n",
       "      <td> 8</td>\n",
       "    </tr>\n",
       "    <tr>\n",
       "      <th>Volvo 142E</th>\n",
       "      <td> 21.4</td>\n",
       "      <td> 4</td>\n",
       "      <td> 121.0</td>\n",
       "      <td> 109</td>\n",
       "      <td> 4.11</td>\n",
       "      <td> 2.780</td>\n",
       "      <td> 18.6</td>\n",
       "      <td> 1</td>\n",
       "      <td> 1</td>\n",
       "      <td> 4</td>\n",
       "      <td> 2</td>\n",
       "    </tr>\n",
       "  </tbody>\n",
       "</table>\n",
       "</div>"
      ],
      "text/plain": [
       "                 mpg  cyl   disp   hp  drat     wt  qsec  vs  am  gear  carb\n",
       "Fiat X1-9       27.3    4   79.0   66  4.08  1.935  18.9   1   1     4     1\n",
       "Porsche 914-2   26.0    4  120.3   91  4.43  2.140  16.7   0   1     5     2\n",
       "Lotus Europa    30.4    4   95.1  113  3.77  1.513  16.9   1   1     5     2\n",
       "Ford Pantera L  15.8    8  351.0  264  4.22  3.170  14.5   0   1     5     4\n",
       "Ferrari Dino    19.7    6  145.0  175  3.62  2.770  15.5   0   1     5     6\n",
       "Maserati Bora   15.0    8  301.0  335  3.54  3.570  14.6   0   1     5     8\n",
       "Volvo 142E      21.4    4  121.0  109  4.11  2.780  18.6   1   1     4     2"
      ]
     },
     "execution_count": 39,
     "metadata": {},
     "output_type": "execute_result"
    }
   ],
   "source": [
    "mtcars[25:] # rows 25 to end of data frame"
   ]
  },
  {
   "cell_type": "code",
   "execution_count": 40,
   "metadata": {
    "collapsed": false
   },
   "outputs": [
    {
     "data": {
      "text/plain": [
       "Index([u'Mazda RX4', u'Mazda RX4 Wag', u'Datsun 710', u'Hornet 4 Drive', u'Hornet Sportabout', u'Valiant', u'Duster 360', u'Merc 240D', u'Merc 230', u'Merc 280', u'Merc 280C', u'Merc 450SE', u'Merc 450SL', u'Merc 450SLC', u'Cadillac Fleetwood', u'Lincoln Continental', u'Chrysler Imperial', u'Fiat 128', u'Honda Civic', u'Toyota Corolla', u'Toyota Corona', u'Dodge Challenger', u'AMC Javelin', u'Camaro Z28', u'Pontiac Firebird', u'Fiat X1-9', u'Porsche 914-2', u'Lotus Europa', u'Ford Pantera L', u'Ferrari Dino', u'Maserati Bora', u'Volvo 142E'], dtype='object')"
      ]
     },
     "execution_count": 40,
     "metadata": {},
     "output_type": "execute_result"
    }
   ],
   "source": [
    "# return index\n",
    "mtcars.index"
   ]
  },
  {
   "cell_type": "code",
   "execution_count": 41,
   "metadata": {
    "collapsed": false
   },
   "outputs": [
    {
     "data": {
      "text/plain": [
       "mpg      15.00\n",
       "cyl       8.00\n",
       "disp    301.00\n",
       "hp      335.00\n",
       "drat      3.54\n",
       "wt        3.57\n",
       "qsec     14.60\n",
       "vs        0.00\n",
       "am        1.00\n",
       "gear      5.00\n",
       "carb      8.00\n",
       "Name: Maserati Bora, dtype: float64"
      ]
     },
     "execution_count": 41,
     "metadata": {},
     "output_type": "execute_result"
    }
   ],
   "source": [
    "mtcars.ix['Maserati Bora'] # access a row by an index"
   ]
  },
  {
   "cell_type": "code",
   "execution_count": 42,
   "metadata": {
    "collapsed": false
   },
   "outputs": [],
   "source": [
    "# What other methods are available when working with pandas DataFrames?\n",
    "# type 'mtcars.' and then click <TAB>\n",
    "# mtcars.<TAB>\n",
    "\n",
    "# try it here"
   ]
  },
  {
   "cell_type": "markdown",
   "metadata": {},
   "source": [
    "## Exploratory Data Analysis (EDA)\n",
    "\n",
    "Even though they may look like continuous variabes, `cyl`, `vs`, `am`, `gear` and `carb` are integer or categorical variables. First, let's look at some summary statistics of the mtcars data set. "
   ]
  },
  {
   "cell_type": "code",
   "execution_count": 43,
   "metadata": {
    "collapsed": false
   },
   "outputs": [
    {
     "data": {
      "text/html": [
       "<div style=\"max-height:1000px;max-width:1500px;overflow:auto;\">\n",
       "<table border=\"1\" class=\"dataframe\">\n",
       "  <thead>\n",
       "    <tr style=\"text-align: right;\">\n",
       "      <th></th>\n",
       "      <th>mpg</th>\n",
       "      <th>cyl</th>\n",
       "      <th>disp</th>\n",
       "      <th>hp</th>\n",
       "      <th>drat</th>\n",
       "      <th>wt</th>\n",
       "      <th>qsec</th>\n",
       "      <th>vs</th>\n",
       "      <th>am</th>\n",
       "      <th>gear</th>\n",
       "      <th>carb</th>\n",
       "    </tr>\n",
       "  </thead>\n",
       "  <tbody>\n",
       "    <tr>\n",
       "      <th>count</th>\n",
       "      <td> 32.000000</td>\n",
       "      <td> 32.000000</td>\n",
       "      <td>  32.000000</td>\n",
       "      <td>  32.000000</td>\n",
       "      <td> 32.000000</td>\n",
       "      <td> 32.000000</td>\n",
       "      <td> 32.000000</td>\n",
       "      <td> 32.000000</td>\n",
       "      <td> 32.000000</td>\n",
       "      <td> 32.000000</td>\n",
       "      <td> 32.0000</td>\n",
       "    </tr>\n",
       "    <tr>\n",
       "      <th>mean</th>\n",
       "      <td> 20.090625</td>\n",
       "      <td>  6.187500</td>\n",
       "      <td> 230.721875</td>\n",
       "      <td> 146.687500</td>\n",
       "      <td>  3.596563</td>\n",
       "      <td>  3.217250</td>\n",
       "      <td> 17.848750</td>\n",
       "      <td>  0.437500</td>\n",
       "      <td>  0.406250</td>\n",
       "      <td>  3.687500</td>\n",
       "      <td>  2.8125</td>\n",
       "    </tr>\n",
       "    <tr>\n",
       "      <th>std</th>\n",
       "      <td>  6.026948</td>\n",
       "      <td>  1.785922</td>\n",
       "      <td> 123.938694</td>\n",
       "      <td>  68.562868</td>\n",
       "      <td>  0.534679</td>\n",
       "      <td>  0.978457</td>\n",
       "      <td>  1.786943</td>\n",
       "      <td>  0.504016</td>\n",
       "      <td>  0.498991</td>\n",
       "      <td>  0.737804</td>\n",
       "      <td>  1.6152</td>\n",
       "    </tr>\n",
       "    <tr>\n",
       "      <th>min</th>\n",
       "      <td> 10.400000</td>\n",
       "      <td>  4.000000</td>\n",
       "      <td>  71.100000</td>\n",
       "      <td>  52.000000</td>\n",
       "      <td>  2.760000</td>\n",
       "      <td>  1.513000</td>\n",
       "      <td> 14.500000</td>\n",
       "      <td>  0.000000</td>\n",
       "      <td>  0.000000</td>\n",
       "      <td>  3.000000</td>\n",
       "      <td>  1.0000</td>\n",
       "    </tr>\n",
       "    <tr>\n",
       "      <th>25%</th>\n",
       "      <td> 15.425000</td>\n",
       "      <td>  4.000000</td>\n",
       "      <td> 120.825000</td>\n",
       "      <td>  96.500000</td>\n",
       "      <td>  3.080000</td>\n",
       "      <td>  2.581250</td>\n",
       "      <td> 16.892500</td>\n",
       "      <td>  0.000000</td>\n",
       "      <td>  0.000000</td>\n",
       "      <td>  3.000000</td>\n",
       "      <td>  2.0000</td>\n",
       "    </tr>\n",
       "    <tr>\n",
       "      <th>50%</th>\n",
       "      <td> 19.200000</td>\n",
       "      <td>  6.000000</td>\n",
       "      <td> 196.300000</td>\n",
       "      <td> 123.000000</td>\n",
       "      <td>  3.695000</td>\n",
       "      <td>  3.325000</td>\n",
       "      <td> 17.710000</td>\n",
       "      <td>  0.000000</td>\n",
       "      <td>  0.000000</td>\n",
       "      <td>  4.000000</td>\n",
       "      <td>  2.0000</td>\n",
       "    </tr>\n",
       "    <tr>\n",
       "      <th>75%</th>\n",
       "      <td> 22.800000</td>\n",
       "      <td>  8.000000</td>\n",
       "      <td> 326.000000</td>\n",
       "      <td> 180.000000</td>\n",
       "      <td>  3.920000</td>\n",
       "      <td>  3.610000</td>\n",
       "      <td> 18.900000</td>\n",
       "      <td>  1.000000</td>\n",
       "      <td>  1.000000</td>\n",
       "      <td>  4.000000</td>\n",
       "      <td>  4.0000</td>\n",
       "    </tr>\n",
       "    <tr>\n",
       "      <th>max</th>\n",
       "      <td> 33.900000</td>\n",
       "      <td>  8.000000</td>\n",
       "      <td> 472.000000</td>\n",
       "      <td> 335.000000</td>\n",
       "      <td>  4.930000</td>\n",
       "      <td>  5.424000</td>\n",
       "      <td> 22.900000</td>\n",
       "      <td>  1.000000</td>\n",
       "      <td>  1.000000</td>\n",
       "      <td>  5.000000</td>\n",
       "      <td>  8.0000</td>\n",
       "    </tr>\n",
       "  </tbody>\n",
       "</table>\n",
       "</div>"
      ],
      "text/plain": [
       "             mpg        cyl        disp          hp       drat         wt  \\\n",
       "count  32.000000  32.000000   32.000000   32.000000  32.000000  32.000000   \n",
       "mean   20.090625   6.187500  230.721875  146.687500   3.596563   3.217250   \n",
       "std     6.026948   1.785922  123.938694   68.562868   0.534679   0.978457   \n",
       "min    10.400000   4.000000   71.100000   52.000000   2.760000   1.513000   \n",
       "25%    15.425000   4.000000  120.825000   96.500000   3.080000   2.581250   \n",
       "50%    19.200000   6.000000  196.300000  123.000000   3.695000   3.325000   \n",
       "75%    22.800000   8.000000  326.000000  180.000000   3.920000   3.610000   \n",
       "max    33.900000   8.000000  472.000000  335.000000   4.930000   5.424000   \n",
       "\n",
       "            qsec         vs         am       gear     carb  \n",
       "count  32.000000  32.000000  32.000000  32.000000  32.0000  \n",
       "mean   17.848750   0.437500   0.406250   3.687500   2.8125  \n",
       "std     1.786943   0.504016   0.498991   0.737804   1.6152  \n",
       "min    14.500000   0.000000   0.000000   3.000000   1.0000  \n",
       "25%    16.892500   0.000000   0.000000   3.000000   2.0000  \n",
       "50%    17.710000   0.000000   0.000000   4.000000   2.0000  \n",
       "75%    18.900000   1.000000   1.000000   4.000000   4.0000  \n",
       "max    22.900000   1.000000   1.000000   5.000000   8.0000  "
      ]
     },
     "execution_count": 43,
     "metadata": {},
     "output_type": "execute_result"
    }
   ],
   "source": [
    "mtcars.describe()"
   ]
  },
  {
   "cell_type": "markdown",
   "metadata": {},
   "source": [
    "#### Using conditional statements\n",
    "\n",
    "To check if `any` or `all` elements in an array meet a certain criteria, use `any()` and `all()`. "
   ]
  },
  {
   "cell_type": "code",
   "execution_count": 204,
   "metadata": {
    "collapsed": false
   },
   "outputs": [
    {
     "data": {
      "text/plain": [
       "True"
      ]
     },
     "execution_count": 204,
     "metadata": {},
     "output_type": "execute_result"
    }
   ],
   "source": [
    "(mtcars.mpg >= 20).any()"
   ]
  },
  {
   "cell_type": "markdown",
   "metadata": {},
   "source": [
    "Let's look at the distribution of `mpg` using a histogram."
   ]
  },
  {
   "cell_type": "code",
   "execution_count": 18,
   "metadata": {
    "collapsed": false
   },
   "outputs": [
    {
     "data": {
      "text/html": [
       "<script type=\"text/javascript\">window.PLOTLYENV=window.PLOTLYENV || {};window.PLOTLYENV.BASE_URL=\"https://plot.ly\";</script>"
      ],
      "text/plain": [
       "<IPython.core.display.HTML object>"
      ]
     },
     "metadata": {},
     "output_type": "display_data"
    },
    {
     "data": {
      "text/html": [
       "<div class=\"95263933-29d5-410f-9e74-6a7fd5fcc8c3 loading\" style=\"color: rgb(50,50,50);\">Drawing...</div><div id=\"95263933-29d5-410f-9e74-6a7fd5fcc8c3\" style=\"height: 525; width: 100%;\" class=\"plotly-graph-div\"></div><script type=\"text/javascript\">Plotly.plot(\"95263933-29d5-410f-9e74-6a7fd5fcc8c3\", [{\"marker\": {\"color\": \"rgba(226, 74, 51, 1.0)\", \"line\": {\"color\": \"#D9D9D9\", \"width\": 1.3}}, \"histnorm\": \"\", \"opacity\": 0.8, \"x\": [21.0, 21.0, 22.8, 21.4, 18.7, 18.1, 14.3, 24.4, 22.8, 19.2, 17.8, 16.4, 17.3, 15.2, 10.4, 10.4, 14.7, 32.4, 30.4, 33.9, 21.5, 15.5, 15.2, 13.3, 19.2, 27.3, 26.0, 30.4, 15.8, 19.7, 15.0, 21.4], \"histfunc\": \"count\", \"nbinsx\": 10, \"name\": \"mpg\", \"orientation\": \"v\", \"type\": \"histogram\"}], {\"barmode\": \"overlay\", \"yaxis1\": {\"tickfont\": {\"color\": \"#666666\"}, \"showgrid\": true, \"zerolinecolor\": \"#F6F6F6\", \"titlefont\": {\"color\": \"#666666\"}, \"gridcolor\": \"#F6F6F6\", \"title\": \"Miles Per Gallon\"}, \"plot_bgcolor\": \"#E5E5E5\", \"legend\": {\"bgcolor\": \"#FFFFFF\", \"font\": {\"color\": \"#666666\"}}, \"titlefont\": {\"color\": \"#151516\"}, \"paper_bgcolor\": \"#FFFFFF\", \"xaxis1\": {\"tickfont\": {\"color\": \"#666666\"}, \"showgrid\": true, \"zerolinecolor\": \"#F6F6F6\", \"titlefont\": {\"color\": \"#666666\"}, \"gridcolor\": \"#F6F6F6\", \"title\": \"Distribution of MPG\"}}, {\"showLink\": true, \"linkText\": \"Export to plot.ly\"}).then(function() {\n",
       "    $(\".95263933-29d5-410f-9e74-6a7fd5fcc8c3.loading\").remove();\n",
       "})</script>"
      ],
      "text/plain": [
       "<IPython.core.display.HTML object>"
      ]
     },
     "metadata": {},
     "output_type": "display_data"
    }
   ],
   "source": [
    "mtcars.mpg.iplot(kind='hist', bins=10,\n",
    "                xTitle='Distribution of MPG', yTitle='Miles Per Gallon')"
   ]
  },
  {
   "cell_type": "markdown",
   "metadata": {},
   "source": [
    "### Relationship between cyl and mpg"
   ]
  },
  {
   "cell_type": "code",
   "execution_count": 19,
   "metadata": {
    "collapsed": false
   },
   "outputs": [
    {
     "data": {
      "text/html": [
       "<script type=\"text/javascript\">window.PLOTLYENV=window.PLOTLYENV || {};window.PLOTLYENV.BASE_URL=\"https://plot.ly\";</script>"
      ],
      "text/plain": [
       "<IPython.core.display.HTML object>"
      ]
     },
     "metadata": {},
     "output_type": "display_data"
    },
    {
     "data": {
      "text/html": [
       "<div class=\"a5bd0b40-0f01-448f-aa5e-dbdeff676dd4 loading\" style=\"color: rgb(50,50,50);\">Drawing...</div><div id=\"a5bd0b40-0f01-448f-aa5e-dbdeff676dd4\" style=\"height: 525; width: 100%;\" class=\"plotly-graph-div\"></div><script type=\"text/javascript\">Plotly.plot(\"a5bd0b40-0f01-448f-aa5e-dbdeff676dd4\", [{\"marker\": {\"size\": 12, \"symbol\": \"dot\"}, \"mode\": \"markers\", \"type\": \"scatter\", \"text\": \"\", \"y\": [21.0, 21.0, 22.8, 21.4, 18.7, 18.1, 14.3, 24.4, 22.8, 19.2, 17.8, 16.4, 17.3, 15.2, 10.4, 10.4, 14.7, 32.4, 30.4, 33.9, 21.5, 15.5, 15.2, 13.3, 19.2, 27.3, 26.0, 30.4, 15.8, 19.7, 15.0, 21.4], \"line\": {\"color\": \"rgba(139, 0, 0, 1.0)\", \"dash\": \"solid\", \"width\": 1.3}, \"x\": [6, 6, 4, 6, 8, 6, 8, 4, 4, 6, 6, 8, 8, 8, 8, 8, 8, 4, 4, 4, 4, 8, 8, 8, 8, 4, 4, 4, 8, 6, 8, 4], \"name\": \"mpg\"}], {\"yaxis1\": {\"tickfont\": {\"color\": \"#666666\"}, \"showgrid\": true, \"zerolinecolor\": \"#F6F6F6\", \"titlefont\": {\"color\": \"#666666\"}, \"gridcolor\": \"#F6F6F6\", \"title\": \"MPG\"}, \"plot_bgcolor\": \"#E5E5E5\", \"legend\": {\"bgcolor\": \"#FFFFFF\", \"font\": {\"color\": \"#666666\"}}, \"titlefont\": {\"color\": \"#151516\"}, \"paper_bgcolor\": \"#FFFFFF\", \"xaxis1\": {\"tickfont\": {\"color\": \"#666666\"}, \"showgrid\": true, \"zerolinecolor\": \"#F6F6F6\", \"titlefont\": {\"color\": \"#666666\"}, \"gridcolor\": \"#F6F6F6\", \"title\": \"Cylinder\"}, \"title\": \"Relationship between cylinders and MPG\"}, {\"showLink\": true, \"linkText\": \"Export to plot.ly\"}).then(function() {\n",
       "    $(\".a5bd0b40-0f01-448f-aa5e-dbdeff676dd4.loading\").remove();\n",
       "})</script>"
      ],
      "text/plain": [
       "<IPython.core.display.HTML object>"
      ]
     },
     "metadata": {},
     "output_type": "display_data"
    }
   ],
   "source": [
    "# Relationship between cyl and mpg\n",
    "mtcars[['cyl','mpg']].iplot(kind='scatter', x='cyl', y='mpg', mode='markers', \n",
    "                            colors='darkred', xTitle='Cylinder', yTitle='MPG', \n",
    "                            title='Relationship between cylinders and MPG')\n"
   ]
  },
  {
   "cell_type": "markdown",
   "metadata": {
    "collapsed": false
   },
   "source": [
    "### Relationship between horsepower and mpg\n"
   ]
  },
  {
   "cell_type": "code",
   "execution_count": 20,
   "metadata": {
    "collapsed": false
   },
   "outputs": [
    {
     "data": {
      "text/html": [
       "<script type=\"text/javascript\">window.PLOTLYENV=window.PLOTLYENV || {};window.PLOTLYENV.BASE_URL=\"https://plot.ly\";</script>"
      ],
      "text/plain": [
       "<IPython.core.display.HTML object>"
      ]
     },
     "metadata": {},
     "output_type": "display_data"
    },
    {
     "data": {
      "text/html": [
       "<div class=\"1f15d5e2-ca26-44a3-83ac-0e363179dd57 loading\" style=\"color: rgb(50,50,50);\">Drawing...</div><div id=\"1f15d5e2-ca26-44a3-83ac-0e363179dd57\" style=\"height: 525; width: 100%;\" class=\"plotly-graph-div\"></div><script type=\"text/javascript\">Plotly.plot(\"1f15d5e2-ca26-44a3-83ac-0e363179dd57\", [{\"marker\": {\"size\": 12, \"symbol\": \"dot\"}, \"mode\": \"markers\", \"type\": \"scatter\", \"text\": \"\", \"y\": [21.0, 21.0, 22.8, 21.4, 18.7, 18.1, 14.3, 24.4, 22.8, 19.2, 17.8, 16.4, 17.3, 15.2, 10.4, 10.4, 14.7, 32.4, 30.4, 33.9, 21.5, 15.5, 15.2, 13.3, 19.2, 27.3, 26.0, 30.4, 15.8, 19.7, 15.0, 21.4], \"line\": {\"color\": \"rgba(0, 128, 0, 1.0)\", \"dash\": \"solid\", \"width\": 1.3}, \"x\": [110, 110, 93, 110, 175, 105, 245, 62, 95, 123, 123, 180, 180, 180, 205, 215, 230, 66, 52, 65, 97, 150, 150, 245, 175, 66, 91, 113, 264, 175, 335, 109], \"name\": \"mpg\"}], {\"yaxis1\": {\"tickfont\": {\"color\": \"#666666\"}, \"showgrid\": true, \"zerolinecolor\": \"#F6F6F6\", \"titlefont\": {\"color\": \"#666666\"}, \"gridcolor\": \"#F6F6F6\", \"title\": \"MPG\"}, \"plot_bgcolor\": \"#E5E5E5\", \"legend\": {\"bgcolor\": \"#FFFFFF\", \"font\": {\"color\": \"#666666\"}}, \"titlefont\": {\"color\": \"#151516\"}, \"paper_bgcolor\": \"#FFFFFF\", \"xaxis1\": {\"tickfont\": {\"color\": \"#666666\"}, \"showgrid\": true, \"zerolinecolor\": \"#F6F6F6\", \"titlefont\": {\"color\": \"#666666\"}, \"gridcolor\": \"#F6F6F6\", \"title\": \"Horsepower\"}, \"title\": \"Relationship between horsepower and MPG\"}, {\"showLink\": true, \"linkText\": \"Export to plot.ly\"}).then(function() {\n",
       "    $(\".1f15d5e2-ca26-44a3-83ac-0e363179dd57.loading\").remove();\n",
       "})</script>"
      ],
      "text/plain": [
       "<IPython.core.display.HTML object>"
      ]
     },
     "metadata": {},
     "output_type": "display_data"
    }
   ],
   "source": [
    "mtcars[['hp', 'mpg']].iplot(kind='scatter', mode='markers', x='hp', y='mpg', \n",
    "                            xTitle='Horsepower', yTitle='MPG', colors='green',\n",
    "                            title='Relationship between horsepower and MPG')"
   ]
  },
  {
   "cell_type": "markdown",
   "metadata": {},
   "source": [
    "### Generate corelation matrix"
   ]
  },
  {
   "cell_type": "code",
   "execution_count": 21,
   "metadata": {
    "collapsed": false
   },
   "outputs": [
    {
     "data": {
      "text/html": [
       "<script type=\"text/javascript\">window.PLOTLYENV=window.PLOTLYENV || {};window.PLOTLYENV.BASE_URL=\"https://plot.ly\";</script>"
      ],
      "text/plain": [
       "<IPython.core.display.HTML object>"
      ]
     },
     "metadata": {},
     "output_type": "display_data"
    },
    {
     "data": {
      "text/html": [
       "<div class=\"3ebedd5d-d50c-4270-92c2-8dc2abcdf403 loading\" style=\"color: rgb(50,50,50);\">Drawing...</div><div id=\"3ebedd5d-d50c-4270-92c2-8dc2abcdf403\" style=\"height: 525; width: 100%;\" class=\"plotly-graph-div\"></div><script type=\"text/javascript\">Plotly.plot(\"3ebedd5d-d50c-4270-92c2-8dc2abcdf403\", [{\"marker\": {\"color\": \"rgba(226, 74, 51, 1.0)\", \"line\": {\"color\": \"#D9D9D9\", \"width\": 1.3}}, \"histnorm\": \"\", \"opacity\": 0.8, \"name\": \"mpg\", \"xaxis\": \"x1\", \"histfunc\": \"count\", \"nbinsx\": 10, \"x\": [21.0, 21.0, 22.8, 21.4, 18.7, 18.1, 14.3, 24.4, 22.8, 19.2, 17.8, 16.4, 17.3, 15.2, 10.4, 10.4, 14.7, 32.4, 30.4, 33.9, 21.5, 15.5, 15.2, 13.3, 19.2, 27.3, 26.0, 30.4, 15.8, 19.7, 15.0, 21.4], \"yaxis\": \"y1\", \"orientation\": \"v\", \"type\": \"histogram\"}, {\"marker\": {\"size\": 2, \"symbol\": \"dot\"}, \"mode\": \"markers\", \"type\": \"scatter\", \"text\": \"\", \"y\": [21.0, 21.0, 22.8, 21.4, 18.7, 18.1, 14.3, 24.4, 22.8, 19.2, 17.8, 16.4, 17.3, 15.2, 10.4, 10.4, 14.7, 32.4, 30.4, 33.9, 21.5, 15.5, 15.2, 13.3, 19.2, 27.3, 26.0, 30.4, 15.8, 19.7, 15.0, 21.4], \"x\": [110, 110, 93, 110, 175, 105, 245, 62, 95, 123, 123, 180, 180, 180, 205, 215, 230, 66, 52, 65, 97, 150, 150, 245, 175, 66, 91, 113, 264, 175, 335, 109], \"line\": {\"color\": \"rgba(128, 128, 128, 1.0)\", \"dash\": \"solid\", \"width\": 1.3}, \"yaxis\": \"y2\", \"xaxis\": \"x2\", \"name\": \"mpg\"}, {\"marker\": {\"size\": 2, \"symbol\": \"dot\"}, \"mode\": \"markers\", \"type\": \"scatter\", \"text\": \"\", \"y\": [21.0, 21.0, 22.8, 21.4, 18.7, 18.1, 14.3, 24.4, 22.8, 19.2, 17.8, 16.4, 17.3, 15.2, 10.4, 10.4, 14.7, 32.4, 30.4, 33.9, 21.5, 15.5, 15.2, 13.3, 19.2, 27.3, 26.0, 30.4, 15.8, 19.7, 15.0, 21.4], \"x\": [6, 6, 4, 6, 8, 6, 8, 4, 4, 6, 6, 8, 8, 8, 8, 8, 8, 4, 4, 4, 4, 8, 8, 8, 8, 4, 4, 4, 8, 6, 8, 4], \"line\": {\"color\": \"rgba(128, 128, 128, 1.0)\", \"dash\": \"solid\", \"width\": 1.3}, \"yaxis\": \"y3\", \"xaxis\": \"x3\", \"name\": \"mpg\"}, {\"marker\": {\"size\": 2, \"symbol\": \"dot\"}, \"mode\": \"markers\", \"type\": \"scatter\", \"text\": \"\", \"y\": [110, 110, 93, 110, 175, 105, 245, 62, 95, 123, 123, 180, 180, 180, 205, 215, 230, 66, 52, 65, 97, 150, 150, 245, 175, 66, 91, 113, 264, 175, 335, 109], \"x\": [21.0, 21.0, 22.8, 21.4, 18.7, 18.1, 14.3, 24.4, 22.8, 19.2, 17.8, 16.4, 17.3, 15.2, 10.4, 10.4, 14.7, 32.4, 30.4, 33.9, 21.5, 15.5, 15.2, 13.3, 19.2, 27.3, 26.0, 30.4, 15.8, 19.7, 15.0, 21.4], \"line\": {\"color\": \"rgba(128, 128, 128, 1.0)\", \"dash\": \"solid\", \"width\": 1.3}, \"yaxis\": \"y4\", \"xaxis\": \"x4\", \"name\": \"hp\"}, {\"marker\": {\"color\": \"rgba(62, 111, 176, 1.0)\", \"line\": {\"color\": \"#D9D9D9\", \"width\": 1.3}}, \"histnorm\": \"\", \"opacity\": 0.8, \"name\": \"hp\", \"xaxis\": \"x5\", \"histfunc\": \"count\", \"nbinsx\": 10, \"x\": [110, 110, 93, 110, 175, 105, 245, 62, 95, 123, 123, 180, 180, 180, 205, 215, 230, 66, 52, 65, 97, 150, 150, 245, 175, 66, 91, 113, 264, 175, 335, 109], \"yaxis\": \"y5\", \"orientation\": \"v\", \"type\": \"histogram\"}, {\"marker\": {\"size\": 2, \"symbol\": \"dot\"}, \"mode\": \"markers\", \"type\": \"scatter\", \"text\": \"\", \"y\": [110, 110, 93, 110, 175, 105, 245, 62, 95, 123, 123, 180, 180, 180, 205, 215, 230, 66, 52, 65, 97, 150, 150, 245, 175, 66, 91, 113, 264, 175, 335, 109], \"x\": [6, 6, 4, 6, 8, 6, 8, 4, 4, 6, 6, 8, 8, 8, 8, 8, 8, 4, 4, 4, 4, 8, 8, 8, 8, 4, 4, 4, 8, 6, 8, 4], \"line\": {\"color\": \"rgba(128, 128, 128, 1.0)\", \"dash\": \"solid\", \"width\": 1.3}, \"yaxis\": \"y6\", \"xaxis\": \"x6\", \"name\": \"hp\"}, {\"marker\": {\"size\": 2, \"symbol\": \"dot\"}, \"mode\": \"markers\", \"type\": \"scatter\", \"text\": \"\", \"y\": [6, 6, 4, 6, 8, 6, 8, 4, 4, 6, 6, 8, 8, 8, 8, 8, 8, 4, 4, 4, 4, 8, 8, 8, 8, 4, 4, 4, 8, 6, 8, 4], \"x\": [21.0, 21.0, 22.8, 21.4, 18.7, 18.1, 14.3, 24.4, 22.8, 19.2, 17.8, 16.4, 17.3, 15.2, 10.4, 10.4, 14.7, 32.4, 30.4, 33.9, 21.5, 15.5, 15.2, 13.3, 19.2, 27.3, 26.0, 30.4, 15.8, 19.7, 15.0, 21.4], \"line\": {\"color\": \"rgba(128, 128, 128, 1.0)\", \"dash\": \"solid\", \"width\": 1.3}, \"yaxis\": \"y7\", \"xaxis\": \"x7\", \"name\": \"cyl\"}, {\"marker\": {\"size\": 2, \"symbol\": \"dot\"}, \"mode\": \"markers\", \"type\": \"scatter\", \"text\": \"\", \"y\": [6, 6, 4, 6, 8, 6, 8, 4, 4, 6, 6, 8, 8, 8, 8, 8, 8, 4, 4, 4, 4, 8, 8, 8, 8, 4, 4, 4, 8, 6, 8, 4], \"x\": [110, 110, 93, 110, 175, 105, 245, 62, 95, 123, 123, 180, 180, 180, 205, 215, 230, 66, 52, 65, 97, 150, 150, 245, 175, 66, 91, 113, 264, 175, 335, 109], \"line\": {\"color\": \"rgba(128, 128, 128, 1.0)\", \"dash\": \"solid\", \"width\": 1.3}, \"yaxis\": \"y8\", \"xaxis\": \"x8\", \"name\": \"cyl\"}, {\"marker\": {\"color\": \"rgba(132, 118, 202, 1.0)\", \"line\": {\"color\": \"#D9D9D9\", \"width\": 1.3}}, \"histnorm\": \"\", \"opacity\": 0.8, \"name\": \"cyl\", \"xaxis\": \"x9\", \"histfunc\": \"count\", \"nbinsx\": 10, \"x\": [6, 6, 4, 6, 8, 6, 8, 4, 4, 6, 6, 8, 8, 8, 8, 8, 8, 4, 4, 4, 4, 8, 8, 8, 8, 4, 4, 4, 8, 6, 8, 4], \"yaxis\": \"y9\", \"orientation\": \"v\", \"type\": \"histogram\"}], {\"xaxis3\": {\"domain\": [0.7, 1.0], \"anchor\": \"y3\"}, \"xaxis8\": {\"domain\": [0.35, 0.6499999999999999], \"anchor\": \"y8\"}, \"yaxis7\": {\"domain\": [0.0, 0.2866666666666667], \"anchor\": \"x7\"}, \"bargap\": 0.02, \"xaxis1\": {\"tickfont\": {\"color\": \"#666666\"}, \"anchor\": \"y1\", \"domain\": [0.0, 0.3], \"showgrid\": false, \"zerolinecolor\": \"#F6F6F6\", \"titlefont\": {\"color\": \"#666666\"}, \"gridcolor\": \"#F6F6F6\", \"title\": \"\"}, \"yaxis1\": {\"tickfont\": {\"color\": \"#666666\"}, \"anchor\": \"x1\", \"domain\": [0.7133333333333334, 1.0], \"showgrid\": false, \"zerolinecolor\": \"#F6F6F6\", \"titlefont\": {\"color\": \"#666666\"}, \"gridcolor\": \"#F6F6F6\", \"title\": \"\"}, \"yaxis5\": {\"domain\": [0.3566666666666667, 0.6433333333333333], \"anchor\": \"x5\"}, \"xaxis6\": {\"domain\": [0.7, 1.0], \"anchor\": \"y6\"}, \"titlefont\": {\"color\": \"#151516\"}, \"plot_bgcolor\": \"#E5E5E5\", \"yaxis6\": {\"domain\": [0.3566666666666667, 0.6433333333333333], \"anchor\": \"x6\"}, \"xaxis5\": {\"domain\": [0.35, 0.6499999999999999], \"anchor\": \"y5\"}, \"xaxis7\": {\"domain\": [0.0, 0.3], \"anchor\": \"y7\"}, \"paper_bgcolor\": \"#FFFFFF\", \"yaxis4\": {\"domain\": [0.3566666666666667, 0.6433333333333333], \"anchor\": \"x4\"}, \"yaxis9\": {\"domain\": [0.0, 0.2866666666666667], \"anchor\": \"x9\"}, \"yaxis8\": {\"domain\": [0.0, 0.2866666666666667], \"anchor\": \"x8\"}, \"xaxis2\": {\"domain\": [0.35, 0.6499999999999999], \"anchor\": \"y2\"}, \"xaxis9\": {\"domain\": [0.7, 1.0], \"anchor\": \"y9\"}, \"showlegend\": false, \"xaxis4\": {\"domain\": [0.0, 0.3], \"anchor\": \"y4\"}, \"legend\": {\"bgcolor\": \"#FFFFFF\", \"font\": {\"color\": \"#666666\"}}, \"yaxis2\": {\"domain\": [0.7133333333333334, 1.0], \"anchor\": \"x2\"}, \"yaxis3\": {\"domain\": [0.7133333333333334, 1.0], \"anchor\": \"x3\"}}, {\"showLink\": true, \"linkText\": \"Export to plot.ly\"}).then(function() {\n",
       "    $(\".3ebedd5d-d50c-4270-92c2-8dc2abcdf403.loading\").remove();\n",
       "})</script>"
      ],
      "text/plain": [
       "<IPython.core.display.HTML object>"
      ]
     },
     "metadata": {},
     "output_type": "display_data"
    }
   ],
   "source": [
    "df = mtcars[['mpg', 'hp', 'cyl']]\n",
    "df.scatter_matrix()\n",
    "\n",
    "# Use KDE for the diagonals later"
   ]
  },
  {
   "cell_type": "markdown",
   "metadata": {},
   "source": [
    "### Spread and Ratio Charts"
   ]
  },
  {
   "cell_type": "code",
   "execution_count": 22,
   "metadata": {
    "collapsed": false
   },
   "outputs": [
    {
     "data": {
      "text/html": [
       "<script type=\"text/javascript\">window.PLOTLYENV=window.PLOTLYENV || {};window.PLOTLYENV.BASE_URL=\"https://plot.ly\";</script>"
      ],
      "text/plain": [
       "<IPython.core.display.HTML object>"
      ]
     },
     "metadata": {},
     "output_type": "display_data"
    },
    {
     "data": {
      "text/html": [
       "<div class=\"946c81df-6401-49dd-a6a6-172612c6a8f9 loading\" style=\"color: rgb(50,50,50);\">Drawing...</div><div id=\"946c81df-6401-49dd-a6a6-172612c6a8f9\" style=\"height: 525; width: 100%;\" class=\"plotly-graph-div\"></div><script type=\"text/javascript\">Plotly.plot(\"946c81df-6401-49dd-a6a6-172612c6a8f9\", [{\"mode\": \"lines\", \"type\": \"scatter\", \"text\": \"\", \"y\": [21.0, 21.0, 22.8, 21.4, 18.7, 18.1, 14.3, 24.4, 22.8, 19.2, 17.8, 16.4, 17.3, 15.2, 10.4, 10.4, 14.7, 32.4, 30.4, 33.9, 21.5, 15.5, 15.2, 13.3, 19.2, 27.3, 26.0, 30.4, 15.8, 19.7, 15.0, 21.4], \"x\": [\"Mazda RX4\", \"Mazda RX4 Wag\", \"Datsun 710\", \"Hornet 4 Drive\", \"Hornet Sportabout\", \"Valiant\", \"Duster 360\", \"Merc 240D\", \"Merc 230\", \"Merc 280\", \"Merc 280C\", \"Merc 450SE\", \"Merc 450SL\", \"Merc 450SLC\", \"Cadillac Fleetwood\", \"Lincoln Continental\", \"Chrysler Imperial\", \"Fiat 128\", \"Honda Civic\", \"Toyota Corolla\", \"Toyota Corona\", \"Dodge Challenger\", \"AMC Javelin\", \"Camaro Z28\", \"Pontiac Firebird\", \"Fiat X1-9\", \"Porsche 914-2\", \"Lotus Europa\", \"Ford Pantera L\", \"Ferrari Dino\", \"Maserati Bora\", \"Volvo 142E\"], \"line\": {\"color\": \"rgba(226, 74, 51, 1.0)\", \"dash\": \"solid\", \"width\": 1.3}, \"name\": \"mpg\"}, {\"mode\": \"lines\", \"type\": \"scatter\", \"text\": \"\", \"y\": [110, 110, 93, 110, 175, 105, 245, 62, 95, 123, 123, 180, 180, 180, 205, 215, 230, 66, 52, 65, 97, 150, 150, 245, 175, 66, 91, 113, 264, 175, 335, 109], \"x\": [\"Mazda RX4\", \"Mazda RX4 Wag\", \"Datsun 710\", \"Hornet 4 Drive\", \"Hornet Sportabout\", \"Valiant\", \"Duster 360\", \"Merc 240D\", \"Merc 230\", \"Merc 280\", \"Merc 280C\", \"Merc 450SE\", \"Merc 450SL\", \"Merc 450SLC\", \"Cadillac Fleetwood\", \"Lincoln Continental\", \"Chrysler Imperial\", \"Fiat 128\", \"Honda Civic\", \"Toyota Corolla\", \"Toyota Corona\", \"Dodge Challenger\", \"AMC Javelin\", \"Camaro Z28\", \"Pontiac Firebird\", \"Fiat X1-9\", \"Porsche 914-2\", \"Lotus Europa\", \"Ford Pantera L\", \"Ferrari Dino\", \"Maserati Bora\", \"Volvo 142E\"], \"line\": {\"color\": \"rgba(62, 111, 176, 1.0)\", \"dash\": \"solid\", \"width\": 1.3}, \"name\": \"hp\"}, {\"showlegend\": false, \"fill\": \"tozeroy\", \"y\": [0.19090909090909092, 0.19090909090909092, 0.24516129032258066, 0.19454545454545452, 0.10685714285714286, 0.17238095238095238, 0.058367346938775516, 0.39354838709677414, 0.24000000000000002, 0.15609756097560976, 0.14471544715447154, 0.0911111111111111, 0.09611111111111112, 0.08444444444444445, 0.050731707317073174, 0.04837209302325582, 0.06391304347826086, 0.4909090909090909, 0.5846153846153845, 0.5215384615384615, 0.22164948453608246, 0.10333333333333333, 0.10133333333333333, 0.05428571428571429, 0.10971428571428571, 0.41363636363636364, 0.2857142857142857, 0.26902654867256637, 0.05984848484848485, 0.11257142857142857, 0.04477611940298507, 0.19633027522935778], \"name\": \"Ratio\", \"connectgaps\": false, \"yaxis\": \"y2\", \"line\": {\"color\": \"rgba(0, 128, 0, 1.0)\", \"dash\": \"solid\", \"width\": 1}, \"x\": [\"Mazda RX4\", \"Mazda RX4 Wag\", \"Datsun 710\", \"Hornet 4 Drive\", \"Hornet Sportabout\", \"Valiant\", \"Duster 360\", \"Merc 240D\", \"Merc 230\", \"Merc 280\", \"Merc 280C\", \"Merc 450SE\", \"Merc 450SL\", \"Merc 450SLC\", \"Cadillac Fleetwood\", \"Lincoln Continental\", \"Chrysler Imperial\", \"Fiat 128\", \"Honda Civic\", \"Toyota Corolla\", \"Toyota Corona\", \"Dodge Challenger\", \"AMC Javelin\", \"Camaro Z28\", \"Pontiac Firebird\", \"Fiat X1-9\", \"Porsche 914-2\", \"Lotus Europa\", \"Ford Pantera L\", \"Ferrari Dino\", \"Maserati Bora\", \"Volvo 142E\"], \"xaxis\": \"x2\", \"mode\": \"lines\", \"type\": \"scatter\"}], {\"yaxis2\": {\"tickfont\": {\"color\": \"#666666\"}, \"domain\": [0, 0.25], \"showgrid\": true, \"zerolinecolor\": \"#F6F6F6\", \"titlefont\": {\"color\": \"#666666\"}, \"gridcolor\": \"#F6F6F6\", \"title\": \"Ratio\"}, \"yaxis1\": {\"tickfont\": {\"color\": \"#666666\"}, \"domain\": [0.3, 1], \"showgrid\": true, \"zerolinecolor\": \"#F6F6F6\", \"titlefont\": {\"color\": \"#666666\"}, \"gridcolor\": \"#F6F6F6\", \"title\": \"\"}, \"xaxis2\": {\"tickfont\": {\"color\": \"#666666\"}, \"anchor\": \"y2\", \"title\": \"\", \"showgrid\": true, \"zerolinecolor\": \"#F6F6F6\", \"titlefont\": {\"color\": \"#666666\"}, \"gridcolor\": \"#F6F6F6\", \"showticklabels\": false}, \"plot_bgcolor\": \"#E5E5E5\", \"legend\": {\"bgcolor\": \"#FFFFFF\", \"font\": {\"color\": \"#666666\"}}, \"titlefont\": {\"color\": \"#151516\"}, \"paper_bgcolor\": \"#FFFFFF\", \"hovermode\": \"x\", \"xaxis1\": {\"tickfont\": {\"color\": \"#666666\"}, \"showgrid\": true, \"zerolinecolor\": \"#F6F6F6\", \"titlefont\": {\"color\": \"#666666\"}, \"gridcolor\": \"#F6F6F6\", \"title\": \"\"}}, {\"showLink\": true, \"linkText\": \"Export to plot.ly\"}).then(function() {\n",
       "    $(\".946c81df-6401-49dd-a6a6-172612c6a8f9.loading\").remove();\n",
       "})</script>"
      ],
      "text/plain": [
       "<IPython.core.display.HTML object>"
      ]
     },
     "metadata": {},
     "output_type": "display_data"
    }
   ],
   "source": [
    "mtcars[['mpg', 'hp']].iplot(kind='ratio')"
   ]
  },
  {
   "cell_type": "code",
   "execution_count": 23,
   "metadata": {
    "collapsed": false
   },
   "outputs": [
    {
     "data": {
      "text/html": [
       "<script type=\"text/javascript\">window.PLOTLYENV=window.PLOTLYENV || {};window.PLOTLYENV.BASE_URL=\"https://plot.ly\";</script>"
      ],
      "text/plain": [
       "<IPython.core.display.HTML object>"
      ]
     },
     "metadata": {},
     "output_type": "display_data"
    },
    {
     "data": {
      "text/html": [
       "<div class=\"07119243-2a0b-4e0c-a9b9-15d7b9d4f01c loading\" style=\"color: rgb(50,50,50);\">Drawing...</div><div id=\"07119243-2a0b-4e0c-a9b9-15d7b9d4f01c\" style=\"height: 525; width: 100%;\" class=\"plotly-graph-div\"></div><script type=\"text/javascript\">Plotly.plot(\"07119243-2a0b-4e0c-a9b9-15d7b9d4f01c\", [{\"mode\": \"lines\", \"type\": \"scatter\", \"text\": \"\", \"y\": [6, 6, 4, 6, 8, 6, 8, 4, 4, 6, 6, 8, 8, 8, 8, 8, 8, 4, 4, 4, 4, 8, 8, 8, 8, 4, 4, 4, 8, 6, 8, 4], \"x\": [\"Mazda RX4\", \"Mazda RX4 Wag\", \"Datsun 710\", \"Hornet 4 Drive\", \"Hornet Sportabout\", \"Valiant\", \"Duster 360\", \"Merc 240D\", \"Merc 230\", \"Merc 280\", \"Merc 280C\", \"Merc 450SE\", \"Merc 450SL\", \"Merc 450SLC\", \"Cadillac Fleetwood\", \"Lincoln Continental\", \"Chrysler Imperial\", \"Fiat 128\", \"Honda Civic\", \"Toyota Corolla\", \"Toyota Corona\", \"Dodge Challenger\", \"AMC Javelin\", \"Camaro Z28\", \"Pontiac Firebird\", \"Fiat X1-9\", \"Porsche 914-2\", \"Lotus Europa\", \"Ford Pantera L\", \"Ferrari Dino\", \"Maserati Bora\", \"Volvo 142E\"], \"line\": {\"color\": \"rgba(226, 74, 51, 1.0)\", \"dash\": \"solid\", \"width\": 1.3}, \"name\": \"cyl\"}, {\"mode\": \"lines\", \"type\": \"scatter\", \"text\": \"\", \"y\": [21.0, 21.0, 22.8, 21.4, 18.7, 18.1, 14.3, 24.4, 22.8, 19.2, 17.8, 16.4, 17.3, 15.2, 10.4, 10.4, 14.7, 32.4, 30.4, 33.9, 21.5, 15.5, 15.2, 13.3, 19.2, 27.3, 26.0, 30.4, 15.8, 19.7, 15.0, 21.4], \"x\": [\"Mazda RX4\", \"Mazda RX4 Wag\", \"Datsun 710\", \"Hornet 4 Drive\", \"Hornet Sportabout\", \"Valiant\", \"Duster 360\", \"Merc 240D\", \"Merc 230\", \"Merc 280\", \"Merc 280C\", \"Merc 450SE\", \"Merc 450SL\", \"Merc 450SLC\", \"Cadillac Fleetwood\", \"Lincoln Continental\", \"Chrysler Imperial\", \"Fiat 128\", \"Honda Civic\", \"Toyota Corolla\", \"Toyota Corona\", \"Dodge Challenger\", \"AMC Javelin\", \"Camaro Z28\", \"Pontiac Firebird\", \"Fiat X1-9\", \"Porsche 914-2\", \"Lotus Europa\", \"Ford Pantera L\", \"Ferrari Dino\", \"Maserati Bora\", \"Volvo 142E\"], \"line\": {\"color\": \"rgba(62, 111, 176, 1.0)\", \"dash\": \"solid\", \"width\": 1.3}, \"name\": \"mpg\"}, {\"showlegend\": false, \"fill\": \"tozeroy\", \"y\": [-15.0, -15.0, -18.8, -15.399999999999999, -10.7, -12.100000000000001, -6.300000000000001, -20.4, -18.8, -13.2, -11.8, -8.399999999999999, -9.3, -7.199999999999999, -2.4000000000000004, -2.4000000000000004, -6.699999999999999, -28.4, -26.4, -29.9, -17.5, -7.5, -7.199999999999999, -5.300000000000001, -11.2, -23.3, -22.0, -26.4, -7.800000000000001, -13.7, -7.0, -17.4], \"name\": \"Spread\", \"connectgaps\": false, \"yaxis\": \"y2\", \"line\": {\"color\": \"red\", \"dash\": \"solid\", \"width\": 0.5}, \"x\": [\"Mazda RX4\", \"Mazda RX4 Wag\", \"Datsun 710\", \"Hornet 4 Drive\", \"Hornet Sportabout\", \"Valiant\", \"Duster 360\", \"Merc 240D\", \"Merc 230\", \"Merc 280\", \"Merc 280C\", \"Merc 450SE\", \"Merc 450SL\", \"Merc 450SLC\", \"Cadillac Fleetwood\", \"Lincoln Continental\", \"Chrysler Imperial\", \"Fiat 128\", \"Honda Civic\", \"Toyota Corolla\", \"Toyota Corona\", \"Dodge Challenger\", \"AMC Javelin\", \"Camaro Z28\", \"Pontiac Firebird\", \"Fiat X1-9\", \"Porsche 914-2\", \"Lotus Europa\", \"Ford Pantera L\", \"Ferrari Dino\", \"Maserati Bora\", \"Volvo 142E\"], \"xaxis\": \"x2\", \"mode\": \"lines\", \"type\": \"scatter\"}, {\"showlegend\": false, \"fill\": \"tozeroy\", \"y\": [\"\", \"\", \"\", \"\", \"\", \"\", \"\", \"\", \"\", \"\", \"\", \"\", \"\", \"\", \"\", \"\", \"\", \"\", \"\", \"\", \"\", \"\", \"\", \"\", \"\", \"\", \"\", \"\", \"\", \"\", \"\", \"\"], \"name\": \"Spread\", \"connectgaps\": false, \"yaxis\": \"y2\", \"line\": {\"color\": \"green\", \"dash\": \"solid\", \"width\": 0.5}, \"x\": [\"Mazda RX4\", \"Mazda RX4 Wag\", \"Datsun 710\", \"Hornet 4 Drive\", \"Hornet Sportabout\", \"Valiant\", \"Duster 360\", \"Merc 240D\", \"Merc 230\", \"Merc 280\", \"Merc 280C\", \"Merc 450SE\", \"Merc 450SL\", \"Merc 450SLC\", \"Cadillac Fleetwood\", \"Lincoln Continental\", \"Chrysler Imperial\", \"Fiat 128\", \"Honda Civic\", \"Toyota Corolla\", \"Toyota Corona\", \"Dodge Challenger\", \"AMC Javelin\", \"Camaro Z28\", \"Pontiac Firebird\", \"Fiat X1-9\", \"Porsche 914-2\", \"Lotus Europa\", \"Ford Pantera L\", \"Ferrari Dino\", \"Maserati Bora\", \"Volvo 142E\"], \"xaxis\": \"x2\", \"mode\": \"lines\", \"type\": \"scatter\"}], {\"yaxis2\": {\"tickfont\": {\"color\": \"#666666\"}, \"domain\": [0, 0.25], \"showgrid\": true, \"zerolinecolor\": \"#F6F6F6\", \"titlefont\": {\"color\": \"#666666\"}, \"gridcolor\": \"#F6F6F6\", \"title\": \"Spread\"}, \"yaxis1\": {\"tickfont\": {\"color\": \"#666666\"}, \"domain\": [0.3, 1], \"showgrid\": true, \"zerolinecolor\": \"#F6F6F6\", \"titlefont\": {\"color\": \"#666666\"}, \"gridcolor\": \"#F6F6F6\", \"title\": \"\"}, \"xaxis2\": {\"tickfont\": {\"color\": \"#666666\"}, \"anchor\": \"y2\", \"title\": \"\", \"showgrid\": true, \"zerolinecolor\": \"#F6F6F6\", \"titlefont\": {\"color\": \"#666666\"}, \"gridcolor\": \"#F6F6F6\", \"showticklabels\": false}, \"plot_bgcolor\": \"#E5E5E5\", \"legend\": {\"bgcolor\": \"#FFFFFF\", \"font\": {\"color\": \"#666666\"}}, \"titlefont\": {\"color\": \"#151516\"}, \"paper_bgcolor\": \"#FFFFFF\", \"hovermode\": \"x\", \"xaxis1\": {\"tickfont\": {\"color\": \"#666666\"}, \"showgrid\": true, \"zerolinecolor\": \"#F6F6F6\", \"titlefont\": {\"color\": \"#666666\"}, \"gridcolor\": \"#F6F6F6\", \"title\": \"\"}}, {\"showLink\": true, \"linkText\": \"Export to plot.ly\"}).then(function() {\n",
       "    $(\".07119243-2a0b-4e0c-a9b9-15d7b9d4f01c.loading\").remove();\n",
       "})</script>"
      ],
      "text/plain": [
       "<IPython.core.display.HTML object>"
      ]
     },
     "metadata": {},
     "output_type": "display_data"
    }
   ],
   "source": [
    "mtcars[['cyl', 'mpg']].iplot(kind='spread')"
   ]
  },
  {
   "cell_type": "code",
   "execution_count": 21,
   "metadata": {
    "collapsed": false
   },
   "outputs": [
    {
     "data": {
      "text/html": [
       "<div>\n",
       "<table border=\"1\" class=\"dataframe\">\n",
       "  <thead>\n",
       "    <tr style=\"text-align: right;\">\n",
       "      <th></th>\n",
       "      <th>mpg</th>\n",
       "      <th>cyl</th>\n",
       "      <th>disp</th>\n",
       "      <th>hp</th>\n",
       "      <th>drat</th>\n",
       "      <th>wt</th>\n",
       "      <th>qsec</th>\n",
       "      <th>vs</th>\n",
       "      <th>am</th>\n",
       "      <th>gear</th>\n",
       "      <th>carb</th>\n",
       "    </tr>\n",
       "  </thead>\n",
       "  <tbody>\n",
       "    <tr>\n",
       "      <th>Mazda RX4</th>\n",
       "      <td>21.0</td>\n",
       "      <td>6</td>\n",
       "      <td>160</td>\n",
       "      <td>110</td>\n",
       "      <td>3.90</td>\n",
       "      <td>2.620</td>\n",
       "      <td>16.46</td>\n",
       "      <td>0</td>\n",
       "      <td>1</td>\n",
       "      <td>4</td>\n",
       "      <td>4</td>\n",
       "    </tr>\n",
       "    <tr>\n",
       "      <th>Mazda RX4 Wag</th>\n",
       "      <td>21.0</td>\n",
       "      <td>6</td>\n",
       "      <td>160</td>\n",
       "      <td>110</td>\n",
       "      <td>3.90</td>\n",
       "      <td>2.875</td>\n",
       "      <td>17.02</td>\n",
       "      <td>0</td>\n",
       "      <td>1</td>\n",
       "      <td>4</td>\n",
       "      <td>4</td>\n",
       "    </tr>\n",
       "    <tr>\n",
       "      <th>Datsun 710</th>\n",
       "      <td>22.8</td>\n",
       "      <td>4</td>\n",
       "      <td>108</td>\n",
       "      <td>93</td>\n",
       "      <td>3.85</td>\n",
       "      <td>2.320</td>\n",
       "      <td>18.61</td>\n",
       "      <td>1</td>\n",
       "      <td>1</td>\n",
       "      <td>4</td>\n",
       "      <td>1</td>\n",
       "    </tr>\n",
       "    <tr>\n",
       "      <th>Hornet 4 Drive</th>\n",
       "      <td>21.4</td>\n",
       "      <td>6</td>\n",
       "      <td>258</td>\n",
       "      <td>110</td>\n",
       "      <td>3.08</td>\n",
       "      <td>3.215</td>\n",
       "      <td>19.44</td>\n",
       "      <td>1</td>\n",
       "      <td>0</td>\n",
       "      <td>3</td>\n",
       "      <td>1</td>\n",
       "    </tr>\n",
       "    <tr>\n",
       "      <th>Hornet Sportabout</th>\n",
       "      <td>18.7</td>\n",
       "      <td>8</td>\n",
       "      <td>360</td>\n",
       "      <td>175</td>\n",
       "      <td>3.15</td>\n",
       "      <td>3.440</td>\n",
       "      <td>17.02</td>\n",
       "      <td>0</td>\n",
       "      <td>0</td>\n",
       "      <td>3</td>\n",
       "      <td>2</td>\n",
       "    </tr>\n",
       "  </tbody>\n",
       "</table>\n",
       "</div>"
      ],
      "text/plain": [
       "                    mpg  cyl  disp   hp  drat     wt   qsec  vs  am  gear  \\\n",
       "Mazda RX4          21.0    6   160  110  3.90  2.620  16.46   0   1     4   \n",
       "Mazda RX4 Wag      21.0    6   160  110  3.90  2.875  17.02   0   1     4   \n",
       "Datsun 710         22.8    4   108   93  3.85  2.320  18.61   1   1     4   \n",
       "Hornet 4 Drive     21.4    6   258  110  3.08  3.215  19.44   1   0     3   \n",
       "Hornet Sportabout  18.7    8   360  175  3.15  3.440  17.02   0   0     3   \n",
       "\n",
       "                   carb  \n",
       "Mazda RX4             4  \n",
       "Mazda RX4 Wag         4  \n",
       "Datsun 710            1  \n",
       "Hornet 4 Drive        1  \n",
       "Hornet Sportabout     2  "
      ]
     },
     "execution_count": 21,
     "metadata": {},
     "output_type": "execute_result"
    }
   ],
   "source": [
    "mtcars.head()"
   ]
  },
  {
   "cell_type": "markdown",
   "metadata": {},
   "source": [
    "### Box Plots"
   ]
  },
  {
   "cell_type": "code",
   "execution_count": 24,
   "metadata": {
    "collapsed": false
   },
   "outputs": [
    {
     "data": {
      "text/html": [
       "<script type=\"text/javascript\">window.PLOTLYENV=window.PLOTLYENV || {};window.PLOTLYENV.BASE_URL=\"https://plot.ly\";</script>"
      ],
      "text/plain": [
       "<IPython.core.display.HTML object>"
      ]
     },
     "metadata": {},
     "output_type": "display_data"
    },
    {
     "data": {
      "text/html": [
       "<div class=\"79dfe036-1ff5-4676-ba12-3c82754d7563 loading\" style=\"color: rgb(50,50,50);\">Drawing...</div><div id=\"79dfe036-1ff5-4676-ba12-3c82754d7563\" style=\"height: 525; width: 100%;\" class=\"plotly-graph-div\"></div><script type=\"text/javascript\">Plotly.plot(\"79dfe036-1ff5-4676-ba12-3c82754d7563\", [{\"marker\": {\"color\": \"rgba(226, 74, 51, 1.0)\"}, \"boxpoints\": false, \"y\": [3.9, 3.9, 3.85, 3.08, 3.15, 2.76, 3.21, 3.69, 3.92, 3.92, 3.92, 3.07, 3.07, 3.07, 2.93, 3.0, 3.23, 4.08, 4.93, 4.22, 3.7, 2.76, 3.15, 3.73, 3.08, 4.08, 4.43, 3.77, 4.22, 3.62, 3.54, 4.11], \"line\": {\"width\": 1.3}, \"name\": \"drat\", \"type\": \"box\"}, {\"marker\": {\"color\": \"rgba(62, 111, 176, 1.0)\"}, \"boxpoints\": false, \"y\": [2.62, 2.875, 2.32, 3.215, 3.44, 3.46, 3.57, 3.19, 3.15, 3.44, 3.44, 4.07, 3.73, 3.78, 5.25, 5.4239999999999995, 5.345, 2.2, 1.615, 1.835, 2.465, 3.52, 3.435, 3.84, 3.845, 1.935, 2.14, 1.5130000000000001, 3.17, 2.77, 3.57, 2.78], \"line\": {\"width\": 1.3}, \"name\": \"wt\", \"type\": \"box\"}, {\"marker\": {\"color\": \"rgba(132, 118, 202, 1.0)\"}, \"boxpoints\": false, \"y\": [4, 4, 4, 3, 3, 3, 3, 4, 4, 4, 4, 3, 3, 3, 3, 3, 3, 4, 4, 4, 3, 3, 3, 3, 3, 4, 5, 5, 5, 5, 5, 4], \"line\": {\"width\": 1.3}, \"name\": \"gear\", \"type\": \"box\"}, {\"marker\": {\"color\": \"rgba(101, 101, 101, 1.0)\"}, \"boxpoints\": false, \"y\": [4, 4, 1, 1, 2, 1, 4, 2, 2, 4, 4, 3, 3, 3, 4, 4, 4, 1, 2, 1, 1, 2, 2, 4, 2, 1, 2, 2, 4, 6, 8, 2], \"line\": {\"width\": 1.3}, \"name\": \"carb\", \"type\": \"box\"}, {\"marker\": {\"color\": \"rgba(251, 193, 94, 1.0)\"}, \"boxpoints\": false, \"y\": [1, 1, 1, 0, 0, 0, 0, 0, 0, 0, 0, 0, 0, 0, 0, 0, 0, 1, 1, 1, 0, 0, 0, 0, 0, 1, 1, 1, 1, 1, 1, 1], \"line\": {\"width\": 1.3}, \"name\": \"am\", \"type\": \"box\"}], {\"yaxis1\": {\"tickfont\": {\"color\": \"#666666\"}, \"showgrid\": true, \"zerolinecolor\": \"#F6F6F6\", \"titlefont\": {\"color\": \"#666666\"}, \"gridcolor\": \"#F6F6F6\", \"title\": \"\"}, \"plot_bgcolor\": \"#E5E5E5\", \"legend\": {\"bgcolor\": \"#FFFFFF\", \"font\": {\"color\": \"#666666\"}}, \"titlefont\": {\"color\": \"#151516\"}, \"paper_bgcolor\": \"#FFFFFF\", \"xaxis1\": {\"tickfont\": {\"color\": \"#666666\"}, \"showgrid\": true, \"zerolinecolor\": \"#F6F6F6\", \"titlefont\": {\"color\": \"#666666\"}, \"gridcolor\": \"#F6F6F6\", \"title\": \"\"}}, {\"showLink\": true, \"linkText\": \"Export to plot.ly\"}).then(function() {\n",
       "    $(\".79dfe036-1ff5-4676-ba12-3c82754d7563.loading\").remove();\n",
       "})</script>"
      ],
      "text/plain": [
       "<IPython.core.display.HTML object>"
      ]
     },
     "metadata": {},
     "output_type": "display_data"
    }
   ],
   "source": [
    "mtcars[['drat','wt', 'gear', 'carb', 'am']].iplot(kind='box')"
   ]
  },
  {
   "cell_type": "markdown",
   "metadata": {},
   "source": [
    "## Bubble Plot"
   ]
  },
  {
   "cell_type": "code",
   "execution_count": 25,
   "metadata": {
    "collapsed": false
   },
   "outputs": [
    {
     "data": {
      "text/html": [
       "<script type=\"text/javascript\">window.PLOTLYENV=window.PLOTLYENV || {};window.PLOTLYENV.BASE_URL=\"https://plot.ly\";</script>"
      ],
      "text/plain": [
       "<IPython.core.display.HTML object>"
      ]
     },
     "metadata": {},
     "output_type": "display_data"
    },
    {
     "data": {
      "text/html": [
       "<div class=\"5f34494f-d6dd-4736-8a10-cf04885e427f loading\" style=\"color: rgb(50,50,50);\">Drawing...</div><div id=\"5f34494f-d6dd-4736-8a10-cf04885e427f\" style=\"height: 525; width: 100%;\" class=\"plotly-graph-div\"></div><script type=\"text/javascript\">Plotly.plot(\"5f34494f-d6dd-4736-8a10-cf04885e427f\", [{\"marker\": {\"color\": [\"rgb(226, 74, 51)\", \"rgb(226, 74, 51)\", \"rgb(226, 74, 51)\", \"rgb(226, 74, 51)\", \"rgb(226, 74, 51)\", \"rgb(226, 74, 51)\", \"rgb(226, 74, 51)\", \"rgb(226, 74, 51)\", \"rgb(226, 74, 51)\", \"rgb(226, 74, 51)\", \"rgb(226, 74, 51)\", \"rgb(226, 74, 51)\", \"rgb(226, 74, 51)\", \"rgb(226, 74, 51)\", \"rgb(226, 74, 51)\", \"rgb(226, 74, 51)\", \"rgb(226, 74, 51)\", \"rgb(226, 74, 51)\", \"rgb(226, 74, 51)\", \"rgb(226, 74, 51)\", \"rgb(226, 74, 51)\", \"rgb(226, 74, 51)\", \"rgb(226, 74, 51)\", \"rgb(226, 74, 51)\", \"rgb(226, 74, 51)\", \"rgb(226, 74, 51)\", \"rgb(226, 74, 51)\", \"rgb(226, 74, 51)\", \"rgb(226, 74, 51)\", \"rgb(226, 74, 51)\", \"rgb(226, 74, 51)\", \"rgb(226, 74, 51)\"], \"size\": [62, 62, 12, 62, 112, 62, 112, 12, 12, 62, 62, 112, 112, 112, 112, 112, 112, 12, 12, 12, 12, 112, 112, 112, 112, 12, 12, 12, 112, 62, 112, 12], \"symbol\": \"dot\", \"line\": {\"width\": 1.3}}, \"mode\": \"markers\", \"text\": \"\", \"y\": [110, 110, 93, 110, 175, 105, 245, 62, 95, 123, 123, 180, 180, 180, 205, 215, 230, 66, 52, 65, 97, 150, 150, 245, 175, 66, 91, 113, 264, 175, 335, 109], \"x\": [21.0, 21.0, 22.8, 21.4, 18.7, 18.1, 14.3, 24.4, 22.8, 19.2, 17.8, 16.4, 17.3, 15.2, 10.4, 10.4, 14.7, 32.4, 30.4, 33.9, 21.5, 15.5, 15.2, 13.3, 19.2, 27.3, 26.0, 30.4, 15.8, 19.7, 15.0, 21.4], \"type\": \"scatter\"}], {\"yaxis1\": {\"tickfont\": {\"color\": \"#666666\"}, \"showgrid\": true, \"zerolinecolor\": \"#F6F6F6\", \"titlefont\": {\"color\": \"#666666\"}, \"gridcolor\": \"#F6F6F6\", \"title\": \"Horsepower\"}, \"plot_bgcolor\": \"#E5E5E5\", \"legend\": {\"bgcolor\": \"#FFFFFF\", \"font\": {\"color\": \"#666666\"}}, \"titlefont\": {\"color\": \"#151516\"}, \"paper_bgcolor\": \"#FFFFFF\", \"xaxis1\": {\"tickfont\": {\"color\": \"#666666\"}, \"showgrid\": true, \"zerolinecolor\": \"#F6F6F6\", \"titlefont\": {\"color\": \"#666666\"}, \"gridcolor\": \"#F6F6F6\", \"title\": \"MPG\"}}, {\"showLink\": true, \"linkText\": \"Export to plot.ly\"}).then(function() {\n",
       "    $(\".5f34494f-d6dd-4736-8a10-cf04885e427f.loading\").remove();\n",
       "})</script>"
      ],
      "text/plain": [
       "<IPython.core.display.HTML object>"
      ]
     },
     "metadata": {},
     "output_type": "display_data"
    }
   ],
   "source": [
    "mtcars.iplot(kind='bubble', x='mpg', y='hp', size='cyl', xTitle='MPG', yTitle='Horsepower')"
   ]
  },
  {
   "cell_type": "markdown",
   "metadata": {},
   "source": [
    "## Subplots"
   ]
  },
  {
   "cell_type": "code",
   "execution_count": 26,
   "metadata": {
    "collapsed": false
   },
   "outputs": [
    {
     "data": {
      "text/html": [
       "<script type=\"text/javascript\">window.PLOTLYENV=window.PLOTLYENV || {};window.PLOTLYENV.BASE_URL=\"https://plot.ly\";</script>"
      ],
      "text/plain": [
       "<IPython.core.display.HTML object>"
      ]
     },
     "metadata": {},
     "output_type": "display_data"
    },
    {
     "data": {
      "text/html": [
       "<div class=\"4e80a92a-4f35-48f2-9c10-ceeea0f6c4ab loading\" style=\"color: rgb(50,50,50);\">Drawing...</div><div id=\"4e80a92a-4f35-48f2-9c10-ceeea0f6c4ab\" style=\"height: 525; width: 100%;\" class=\"plotly-graph-div\"></div><script type=\"text/javascript\">Plotly.plot(\"4e80a92a-4f35-48f2-9c10-ceeea0f6c4ab\", [{\"fill\": \"tozeroy\", \"type\": \"scatter\", \"text\": \"\", \"y\": [3.9, 3.9, 3.85, 3.08, 3.15, 2.76, 3.21, 3.69, 3.92, 3.92, 3.92, 3.07, 3.07, 3.07, 2.93, 3.0, 3.23, 4.08, 4.93, 4.22, 3.7, 2.76, 3.15, 3.73, 3.08, 4.08, 4.43, 3.77, 4.22, 3.62, 3.54, 4.11], \"xaxis\": \"x1\", \"line\": {\"color\": \"rgba(226, 74, 51, 1.0)\", \"dash\": \"solid\", \"width\": 1.3}, \"yaxis\": \"y1\", \"fillcolor\": \"rgba(226, 74, 51, 0.3)\", \"x\": [\"Mazda RX4\", \"Mazda RX4 Wag\", \"Datsun 710\", \"Hornet 4 Drive\", \"Hornet Sportabout\", \"Valiant\", \"Duster 360\", \"Merc 240D\", \"Merc 230\", \"Merc 280\", \"Merc 280C\", \"Merc 450SE\", \"Merc 450SL\", \"Merc 450SLC\", \"Cadillac Fleetwood\", \"Lincoln Continental\", \"Chrysler Imperial\", \"Fiat 128\", \"Honda Civic\", \"Toyota Corolla\", \"Toyota Corona\", \"Dodge Challenger\", \"AMC Javelin\", \"Camaro Z28\", \"Pontiac Firebird\", \"Fiat X1-9\", \"Porsche 914-2\", \"Lotus Europa\", \"Ford Pantera L\", \"Ferrari Dino\", \"Maserati Bora\", \"Volvo 142E\"], \"mode\": \"lines\", \"name\": \"drat\"}, {\"fill\": \"tozeroy\", \"type\": \"scatter\", \"text\": \"\", \"y\": [4, 4, 4, 3, 3, 3, 3, 4, 4, 4, 4, 3, 3, 3, 3, 3, 3, 4, 4, 4, 3, 3, 3, 3, 3, 4, 5, 5, 5, 5, 5, 4], \"xaxis\": \"x1\", \"line\": {\"color\": \"rgba(62, 111, 176, 1.0)\", \"dash\": \"solid\", \"width\": 1.3}, \"yaxis\": \"y2\", \"fillcolor\": \"rgba(62, 111, 176, 0.3)\", \"x\": [\"Mazda RX4\", \"Mazda RX4 Wag\", \"Datsun 710\", \"Hornet 4 Drive\", \"Hornet Sportabout\", \"Valiant\", \"Duster 360\", \"Merc 240D\", \"Merc 230\", \"Merc 280\", \"Merc 280C\", \"Merc 450SE\", \"Merc 450SL\", \"Merc 450SLC\", \"Cadillac Fleetwood\", \"Lincoln Continental\", \"Chrysler Imperial\", \"Fiat 128\", \"Honda Civic\", \"Toyota Corolla\", \"Toyota Corona\", \"Dodge Challenger\", \"AMC Javelin\", \"Camaro Z28\", \"Pontiac Firebird\", \"Fiat X1-9\", \"Porsche 914-2\", \"Lotus Europa\", \"Ford Pantera L\", \"Ferrari Dino\", \"Maserati Bora\", \"Volvo 142E\"], \"mode\": \"lines\", \"name\": \"gear\"}, {\"fill\": \"tozeroy\", \"type\": \"scatter\", \"text\": \"\", \"y\": [4, 4, 1, 1, 2, 1, 4, 2, 2, 4, 4, 3, 3, 3, 4, 4, 4, 1, 2, 1, 1, 2, 2, 4, 2, 1, 2, 2, 4, 6, 8, 2], \"xaxis\": \"x1\", \"line\": {\"color\": \"rgba(132, 118, 202, 1.0)\", \"dash\": \"solid\", \"width\": 1.3}, \"yaxis\": \"y3\", \"fillcolor\": \"rgba(132, 118, 202, 0.3)\", \"x\": [\"Mazda RX4\", \"Mazda RX4 Wag\", \"Datsun 710\", \"Hornet 4 Drive\", \"Hornet Sportabout\", \"Valiant\", \"Duster 360\", \"Merc 240D\", \"Merc 230\", \"Merc 280\", \"Merc 280C\", \"Merc 450SE\", \"Merc 450SL\", \"Merc 450SLC\", \"Cadillac Fleetwood\", \"Lincoln Continental\", \"Chrysler Imperial\", \"Fiat 128\", \"Honda Civic\", \"Toyota Corolla\", \"Toyota Corona\", \"Dodge Challenger\", \"AMC Javelin\", \"Camaro Z28\", \"Pontiac Firebird\", \"Fiat X1-9\", \"Porsche 914-2\", \"Lotus Europa\", \"Ford Pantera L\", \"Ferrari Dino\", \"Maserati Bora\", \"Volvo 142E\"], \"mode\": \"lines\", \"name\": \"carb\"}], {\"yaxis2\": {\"position\": 0.0, \"domain\": [0.35, 0.6499999999999999], \"anchor\": \"free\"}, \"yaxis1\": {\"tickfont\": {\"color\": \"#666666\"}, \"anchor\": \"free\", \"domain\": [0.7, 1.0], \"showgrid\": true, \"zerolinecolor\": \"#F6F6F6\", \"titlefont\": {\"color\": \"#666666\"}, \"position\": 0.0, \"gridcolor\": \"#F6F6F6\", \"title\": \"\"}, \"plot_bgcolor\": \"#E5E5E5\", \"legend\": {\"bgcolor\": \"#FFFFFF\", \"font\": {\"color\": \"#666666\"}}, \"titlefont\": {\"color\": \"#151516\"}, \"paper_bgcolor\": \"#FFFFFF\", \"xaxis1\": {\"tickfont\": {\"color\": \"#666666\"}, \"anchor\": \"y3\", \"domain\": [0.0, 1.0], \"showgrid\": true, \"zerolinecolor\": \"#F6F6F6\", \"titlefont\": {\"color\": \"#666666\"}, \"gridcolor\": \"#F6F6F6\", \"title\": \"\"}, \"yaxis3\": {\"domain\": [0.0, 0.3], \"anchor\": \"x1\"}}, {\"showLink\": true, \"linkText\": \"Export to plot.ly\"}).then(function() {\n",
       "    $(\".4e80a92a-4f35-48f2-9c10-ceeea0f6c4ab.loading\").remove();\n",
       "})</script>"
      ],
      "text/plain": [
       "<IPython.core.display.HTML object>"
      ]
     },
     "metadata": {},
     "output_type": "display_data"
    }
   ],
   "source": [
    "df = mtcars[['drat', 'gear', 'carb']]\n",
    "df.iplot(subplots=True, shape=(3,1), shared_xaxes=True, fill=True, vertical_spacing=.05)"
   ]
  },
  {
   "cell_type": "markdown",
   "metadata": {},
   "source": [
    "# Working on the command line\n",
    "\n",
    "Now we will discuss working on the command line. For this section and the next section on git and GitHub we will use slides from the [Data Science Specialization](https://github.com/DataScienceSpecialization/courses/tree/master/01_DataScientistToolbox) course on Coursera.  These slides are available from \n",
    "\n",
    "* [Command line interface](https://github.com/DataScienceSpecialization/courses/tree/master/01_DataScientistToolbox/02_03_commandLineInterface) \n"
   ]
  },
  {
   "cell_type": "markdown",
   "metadata": {},
   "source": [
    "# Introduction to git and GitHub\n",
    "\n",
    "Next we introduce git and GitHub. For this section we will also use slides from [Data Science Specialization](https://github.com/DataScienceSpecialization/courses/tree/master/01_DataScientistToolbox) course on Coursera.  These slides are available from \n",
    "\n",
    "* [Introduction to git](https://github.com/DataScienceSpecialization/courses/tree/master/01_DataScientistToolbox/02_04_01_introToGit) \n",
    "* [Github](https://github.com/DataScienceSpecialization/courses/tree/master/01_DataScientistToolbox/02_05_github)\n",
    "* [Create a new repo](https://github.com/DataScienceSpecialization/courses/tree/master/01_DataScientistToolbox/02_06_01_createNewRepo)\n",
    "* [Fork a repository](https://github.com/DataScienceSpecialization/courses/tree/master/01_DataScientistToolbox/02_06_02_forkRepo)\n",
    "* [Basic git commands](https://github.com/DataScienceSpecialization/courses/tree/master/01_DataScientistToolbox/02_07_01_basicGitCommands)\n",
    "* [git workflow](https://github.com/DataScienceSpecialization/courses/tree/master/01_DataScientistToolbox/02_07_02_gitWorkflow)\n",
    "\n",
    "Other useful resources for learning git and github: \n",
    "* [Interactive tutorial to learn git (only takes under 15 mins to complete!)](https://try.github.io/levels/1/challenges/1)\n",
    "* [Github guides](https://guides.github.com)\n",
    "* [git - the simple guide](http://rogerdudler.github.io/git-guide/)\n",
    "* [Github Youtube videos](https://www.youtube.com/user/GitHubGuides)"
   ]
  },
  {
   "cell_type": "markdown",
   "metadata": {},
   "source": [
    "# Your turn\n",
    "\n",
    "* If you don't have a github account yet, [register for a github account](https://github.com/join)\n",
    "* Use `git clone` to clone the [CS109 2014 course repository](https://github.com/cs109/2014) on Github\n",
    "* Use `git clone` to clone the [CS109 2014 data repository](https://github.com/cs109/2014_data) on Github\n",
    "\n"
   ]
  },
  {
   "cell_type": "code",
   "execution_count": null,
   "metadata": {
    "collapsed": true
   },
   "outputs": [],
   "source": []
  }
 ],
 "metadata": {
  "kernelspec": {
   "display_name": "Python 3",
   "language": "python",
   "name": "python3"
  },
  "language_info": {
   "codemirror_mode": {
    "name": "ipython",
    "version": 3
   },
   "file_extension": ".py",
   "mimetype": "text/x-python",
   "name": "python",
   "nbconvert_exporter": "python",
   "pygments_lexer": "ipython3",
   "version": "3.5.0"
  }
 },
 "nbformat": 4,
 "nbformat_minor": 0
}
