{
 "cells": [
  {
   "cell_type": "code",
   "execution_count": 22,
   "metadata": {
    "collapsed": false
   },
   "outputs": [],
   "source": [
    "# special IPython command to prepare the notebook for matplotlib\n",
    "%matplotlib inline \n",
    "%precision 2\n",
    "\n",
    "# Import NumPy\n",
    "import numpy as np\n",
    "import pandas as pd\n",
    "import matplotlib.pyplot as plt\n",
    "import plotly.plotly as py\n",
    "import plotly.graph_objs as go\n",
    "import cufflinks as cf\n",
    "\n",
    "\n",
    "pd.options.display.mpl_style = 'default'"
   ]
  },
  {
   "cell_type": "markdown",
   "metadata": {},
   "source": [
    "## Recall from from lab last week 09/12/2014\n",
    "\n",
    "Previously discussed: \n",
    "\n",
    "* Reading in a CSV file into a pandas DataFrame\n",
    "* Using histograms, scatterplots and boxplots as exploratory data analysis\n",
    "* Summary statistics\n",
    "* Functions to access a pandas DataFrame\n",
    "* Defining your own functions and using loops"
   ]
  },
  {
   "cell_type": "markdown",
   "metadata": {},
   "source": [
    "## Today, we will discuss the following:\n",
    "* Brief introduction to Numpy, Scipy\n",
    "    * Vectorizing functions\n",
    "* More pandas and matplotlib\n",
    "* Working in the command line\n",
    "* Overview of git and Github\n",
    "\n",
    "<a href=https://raw.githubusercontent.com/cs109/2014/master/labs/Lab3_Notes.ipynb download=Lab3_Notes.ipynb> Download this notebook from Github </a>"
   ]
  },
  {
   "cell_type": "markdown",
   "metadata": {},
   "source": [
    "## Numpy\n",
    "\n",
    "NumPy and SciPy are modules in Python for scientific computing.  [NumPy](http://www.numpy.org) lets you do fast, vectorized operations on arrays.  Why use this module?  \n",
    "\n",
    "* It gives you the performance of using low-level code (e.g. C or Fortran) with the benefit of writing the code in an interpreted scripting language (all while keeping the native Python code). \n",
    "* It gives you a fast, memory-efficient multidimensional array called `ndarray` which allows you perform vectorized operations on (and supports mathematical functions such as linear algebra and random number generation)"
   ]
  },
  {
   "cell_type": "code",
   "execution_count": 5,
   "metadata": {
    "collapsed": true
   },
   "outputs": [],
   "source": [
    "cf.set_config_file(theme='ggplot', offline=False, world_readable=True)"
   ]
  },
  {
   "cell_type": "markdown",
   "metadata": {},
   "source": [
    "To create a fast, multidimensional `ndarray` object, use the `np.array()` method on a python `list` or `tuple` or reading data from files. "
   ]
  },
  {
   "cell_type": "code",
   "execution_count": 8,
   "metadata": {
    "collapsed": false
   },
   "outputs": [
    {
     "data": {
      "text/plain": [
       "array([1, 2, 3, 4])"
      ]
     },
     "execution_count": 8,
     "metadata": {},
     "output_type": "execute_result"
    }
   ],
   "source": [
    "x = np.array([1,2,3,4])\n",
    "y = np.array([[1,2], [3,4]])\n",
    "x"
   ]
  },
  {
   "cell_type": "code",
   "execution_count": 9,
   "metadata": {
    "collapsed": false
   },
   "outputs": [
    {
     "data": {
      "text/plain": [
       "array([[1, 2],\n",
       "       [3, 4]])"
      ]
     },
     "execution_count": 9,
     "metadata": {},
     "output_type": "execute_result"
    }
   ],
   "source": [
    "y"
   ]
  },
  {
   "cell_type": "markdown",
   "metadata": {
    "collapsed": false
   },
   "source": [
    "## Testing tables\n",
    "\n",
    "Descriptions | Numbers\n",
    "- | --\n",
    "Rifayan | 234\n",
    "Richard | 67\n",
    "Ben Gay | 56\n",
    "\n"
   ]
  },
  {
   "cell_type": "markdown",
   "metadata": {},
   "source": [
    "#### Properties of NumPy arrays\n",
    "There are a set of properties about the `ndarray` object such the dimensions, the size, etc.  \n",
    "\n",
    "Property | Description\n",
    "--- | ----\n",
    "`y.shape` (or `shape(y)` | Shape or dimension of the array\n",
    "`y.size` (or `size(y)`) | Number of elements in the array \n",
    "`y.ndim` | number of dimensions \n"
   ]
  },
  {
   "cell_type": "code",
   "execution_count": 11,
   "metadata": {
    "collapsed": false
   },
   "outputs": [
    {
     "data": {
      "text/plain": [
       "(4,)"
      ]
     },
     "execution_count": 11,
     "metadata": {},
     "output_type": "execute_result"
    }
   ],
   "source": [
    "x.shape"
   ]
  },
  {
   "cell_type": "code",
   "execution_count": 15,
   "metadata": {
    "collapsed": false
   },
   "outputs": [
    {
     "name": "stdout",
     "output_type": "stream",
     "text": [
      "2\n"
     ]
    },
    {
     "data": {
      "text/plain": [
       "(2, 2)"
      ]
     },
     "execution_count": 15,
     "metadata": {},
     "output_type": "execute_result"
    }
   ],
   "source": [
    "print(y.ndim)\n",
    "y.shape"
   ]
  },
  {
   "cell_type": "markdown",
   "metadata": {},
   "source": [
    "#### Other ways to generate NumPy arrays\n",
    "\n",
    "Function | Description\n",
    "--- | ---\n",
    "`np.arange(start,stop,step)` | Create a range between the start and stop arguments\n",
    "`np.linspace(start,stop,num)` | Create a range between start and stop (both ends included) of length num\n",
    "`np.logspace(start, stop,num,base)` | Create a range in the log space with a define base of length num\n",
    "`np.eye(n)` | Generate an n x n identity matrix"
   ]
  },
  {
   "cell_type": "code",
   "execution_count": 8,
   "metadata": {
    "collapsed": false
   },
   "outputs": [
    {
     "data": {
      "text/plain": [
       "array([ 0,  2,  4,  6,  8, 10, 12, 14, 16, 18, 20])"
      ]
     },
     "execution_count": 8,
     "metadata": {},
     "output_type": "execute_result"
    }
   ],
   "source": [
    "np.arange(0, 21, 2)"
   ]
  },
  {
   "cell_type": "code",
   "execution_count": 26,
   "metadata": {
    "collapsed": false
   },
   "outputs": [
    {
     "data": {
      "text/plain": [
       "array([ 0,  2,  4,  6,  8, 10, 12, 14, 16, 18])"
      ]
     },
     "execution_count": 26,
     "metadata": {},
     "output_type": "execute_result"
    }
   ],
   "source": [
    "# Try it: Create a numpy array from 0 to 20 in steps of size 2\n",
    "np.arange(0,20,2)"
   ]
  },
  {
   "cell_type": "code",
   "execution_count": 33,
   "metadata": {
    "collapsed": false
   },
   "outputs": [
    {
     "data": {
      "text/plain": [
       "array([-10. ,  -9.5,  -9. ,  -8.5,  -8. ,  -7.5,  -7. ,  -6.5,  -6. ,\n",
       "        -5.5,  -5. ,  -4.5,  -4. ,  -3.5,  -3. ,  -2.5,  -2. ,  -1.5,\n",
       "        -1. ,  -0.5,   0. ,   0.5,   1. ,   1.5,   2. ,   2.5,   3. ,\n",
       "         3.5,   4. ,   4.5,   5. ,   5.5,   6. ,   6.5,   7. ,   7.5,\n",
       "         8. ,   8.5,   9. ,   9.5,  10. ])"
      ]
     },
     "execution_count": 33,
     "metadata": {},
     "output_type": "execute_result"
    }
   ],
   "source": [
    "# Try it: Create a numpy array from -10 to 10 in steps of 0.5 (INCLUDING the number 10)\n",
    "np.arange(-10, 10.5, 0.5)"
   ]
  },
  {
   "cell_type": "code",
   "execution_count": 31,
   "metadata": {
    "collapsed": false
   },
   "outputs": [
    {
     "data": {
      "text/plain": [
       "array([  100.,   200.,   300.,   400.,   500.,   600.,   700.,   800.,\n",
       "         900.,  1000.])"
      ]
     },
     "execution_count": 31,
     "metadata": {},
     "output_type": "execute_result"
    }
   ],
   "source": [
    "# Try it: Create a numpy array from 100 to 1000 of length 10\n",
    "np.linspace(100,1000,10)"
   ]
  },
  {
   "cell_type": "markdown",
   "metadata": {},
   "source": [
    "In addition, the `numpy.random` module can be used to create arrays using a random number generation "
   ]
  },
  {
   "cell_type": "code",
   "execution_count": 32,
   "metadata": {
    "collapsed": false
   },
   "outputs": [],
   "source": [
    "from numpy import random"
   ]
  },
  {
   "cell_type": "markdown",
   "metadata": {},
   "source": [
    "Function | Description\n",
    "--- | ---\n",
    "`np.random.randint(a, b, N)` | Generate N random integers between a and b\n",
    "`np.random.rand(n, m)` | Generate uniform random numbers in [0,1] of dim n x m\n",
    "`np.random.randn(n, m)` | Generate standard normal random numbers of dim n x m\n"
   ]
  },
  {
   "cell_type": "code",
   "execution_count": 50,
   "metadata": {
    "collapsed": false
   },
   "outputs": [
    {
     "name": "stdout",
     "output_type": "stream",
     "text": [
      "[[ 0.48  0.98  0.8   0.93]\n",
      " [ 0.36  0.47  0.83  0.66]\n",
      " [ 0.5   0.94  0.33  0.57]\n",
      " [ 0.82  0.72  0.93  0.86]\n",
      " [ 0.21  0.92  0.4   0.2 ]]\n",
      "\n",
      "[[ 0.48  0.98  0.8   0.93  0.36  0.47  0.83  0.66  0.5   0.94]\n",
      " [ 0.33  0.57  0.82  0.72  0.93  0.86  0.21  0.92  0.4   0.2 ]]\n",
      "\n"
     ]
    },
    {
     "data": {
      "text/plain": [
       "array([ 0.48,  0.98,  0.8 ,  0.93,  0.36,  0.47,  0.83,  0.66,  0.5 ,\n",
       "        0.94,  0.33,  0.57,  0.82,  0.72,  0.93,  0.86,  0.21,  0.92,\n",
       "        0.4 ,  0.2 ])"
      ]
     },
     "execution_count": 50,
     "metadata": {},
     "output_type": "execute_result"
    }
   ],
   "source": [
    "np.random.randint(1, 100, 50)\n",
    "\n",
    "d = np.random.rand(5,4)\n",
    "\n",
    "print(d)\n",
    "print()\n",
    "print(d.reshape(2,10))\n",
    "print()\n",
    "d.flatten()"
   ]
  },
  {
   "cell_type": "code",
   "execution_count": 14,
   "metadata": {
    "collapsed": false
   },
   "outputs": [],
   "source": [
    "# Try it: Create a numpy array filled with random samples \n",
    "# from a normal distribution of size 4 x 4"
   ]
  },
  {
   "cell_type": "markdown",
   "metadata": {},
   "source": [
    "#### Reshaping, resizing and stacking NumPy arrays\n",
    "\n",
    "To reshape an array, use `reshape()`:"
   ]
  },
  {
   "cell_type": "code",
   "execution_count": 15,
   "metadata": {
    "collapsed": false
   },
   "outputs": [
    {
     "data": {
      "text/plain": [
       "array([[ 0.34961451,  0.75618943,  0.85774252,  0.29423465],\n",
       "       [ 0.72196235,  0.02541357,  0.7708488 ,  0.07240782],\n",
       "       [ 0.54376752,  0.41193452,  0.40132359,  0.63399867],\n",
       "       [ 0.12622657,  0.34662246,  0.27813886,  0.95162428]])"
      ]
     },
     "execution_count": 15,
     "metadata": {},
     "output_type": "execute_result"
    }
   ],
   "source": [
    "z = np.random.rand(4,4)\n",
    "z "
   ]
  },
  {
   "cell_type": "code",
   "execution_count": 16,
   "metadata": {
    "collapsed": false
   },
   "outputs": [
    {
     "data": {
      "text/plain": [
       "(4, 4)"
      ]
     },
     "execution_count": 16,
     "metadata": {},
     "output_type": "execute_result"
    }
   ],
   "source": [
    "z.shape"
   ]
  },
  {
   "cell_type": "code",
   "execution_count": 17,
   "metadata": {
    "collapsed": false
   },
   "outputs": [
    {
     "data": {
      "text/plain": [
       "array([[ 0.34961451,  0.75618943],\n",
       "       [ 0.85774252,  0.29423465],\n",
       "       [ 0.72196235,  0.02541357],\n",
       "       [ 0.7708488 ,  0.07240782],\n",
       "       [ 0.54376752,  0.41193452],\n",
       "       [ 0.40132359,  0.63399867],\n",
       "       [ 0.12622657,  0.34662246],\n",
       "       [ 0.27813886,  0.95162428]])"
      ]
     },
     "execution_count": 17,
     "metadata": {},
     "output_type": "execute_result"
    }
   ],
   "source": [
    "z.reshape((8,2)) # dim is now 8 x 2"
   ]
  },
  {
   "cell_type": "markdown",
   "metadata": {},
   "source": [
    "To flatten an array (convert a higher dimensional array into a vector), use `flatten()`"
   ]
  },
  {
   "cell_type": "code",
   "execution_count": 18,
   "metadata": {
    "collapsed": false
   },
   "outputs": [
    {
     "data": {
      "text/plain": [
       "array([ 0.34961451,  0.75618943,  0.85774252,  0.29423465,  0.72196235,\n",
       "        0.02541357,  0.7708488 ,  0.07240782,  0.54376752,  0.41193452,\n",
       "        0.40132359,  0.63399867,  0.12622657,  0.34662246,  0.27813886,\n",
       "        0.95162428])"
      ]
     },
     "execution_count": 18,
     "metadata": {},
     "output_type": "execute_result"
    }
   ],
   "source": [
    "z.flatten()"
   ]
  },
  {
   "cell_type": "markdown",
   "metadata": {},
   "source": [
    "## Operating on NumPy arrays\n",
    "\n",
    "#### Assigning values\n",
    "To assign values to a specific element in a `ndarray`, use the assignment operator. "
   ]
  },
  {
   "cell_type": "code",
   "execution_count": 19,
   "metadata": {
    "collapsed": false
   },
   "outputs": [
    {
     "data": {
      "text/plain": [
       "(2, 2)"
      ]
     },
     "execution_count": 19,
     "metadata": {},
     "output_type": "execute_result"
    }
   ],
   "source": [
    "y = np.array([[1,2], [3,4]])\n",
    "y.shape"
   ]
  },
  {
   "cell_type": "code",
   "execution_count": 20,
   "metadata": {
    "collapsed": false
   },
   "outputs": [
    {
     "data": {
      "text/plain": [
       "array([[10,  2],\n",
       "       [ 3,  4]])"
      ]
     },
     "execution_count": 20,
     "metadata": {},
     "output_type": "execute_result"
    }
   ],
   "source": [
    "y[0,0] = 10\n",
    "y "
   ]
  },
  {
   "cell_type": "markdown",
   "metadata": {},
   "source": [
    "#### Indexing and slicing arrays\n",
    "To extract elements of the NumPy arrays, use the bracket operator and the slice (i.e. colon) operator.  To slice specific elements in the array, use `dat[lower:upper:step]`. To extract the diagonal (and subdiagonal) elements, use `diag()`. "
   ]
  },
  {
   "cell_type": "code",
   "execution_count": 51,
   "metadata": {
    "collapsed": false
   },
   "outputs": [
    {
     "data": {
      "text/plain": [
       "array([[ 0.24,  0.17,  0.07,  0.91],\n",
       "       [ 0.6 ,  0.03,  0.84,  0.32],\n",
       "       [ 0.1 ,  0.78,  0.12,  0.19],\n",
       "       [ 0.08,  0.88,  0.57,  0.01]])"
      ]
     },
     "execution_count": 51,
     "metadata": {},
     "output_type": "execute_result"
    }
   ],
   "source": [
    " # random samples from a uniform distribution between 0 and 1\n",
    "dat = np.random.rand(4,4)\n",
    "dat"
   ]
  },
  {
   "cell_type": "code",
   "execution_count": 52,
   "metadata": {
    "collapsed": false
   },
   "outputs": [
    {
     "data": {
      "text/plain": [
       "array([ 0.24,  0.17,  0.07,  0.91])"
      ]
     },
     "execution_count": 52,
     "metadata": {},
     "output_type": "execute_result"
    }
   ],
   "source": [
    "dat[0, :] # row 1"
   ]
  },
  {
   "cell_type": "code",
   "execution_count": 53,
   "metadata": {
    "collapsed": false
   },
   "outputs": [
    {
     "data": {
      "text/plain": [
       "array([ 0.24,  0.6 ,  0.1 ,  0.08])"
      ]
     },
     "execution_count": 53,
     "metadata": {},
     "output_type": "execute_result"
    }
   ],
   "source": [
    "dat[:, 0] # column 1"
   ]
  },
  {
   "cell_type": "code",
   "execution_count": 54,
   "metadata": {
    "collapsed": false
   },
   "outputs": [
    {
     "data": {
      "text/plain": [
       "array([ 0.24,  0.1 ])"
      ]
     },
     "execution_count": 54,
     "metadata": {},
     "output_type": "execute_result"
    }
   ],
   "source": [
    "dat[0:3:2, 0] # first and third elements in column 1"
   ]
  },
  {
   "cell_type": "code",
   "execution_count": 55,
   "metadata": {
    "collapsed": false
   },
   "outputs": [
    {
     "data": {
      "text/plain": [
       "array([ 0.24,  0.03,  0.12,  0.01])"
      ]
     },
     "execution_count": 55,
     "metadata": {},
     "output_type": "execute_result"
    }
   ],
   "source": [
    "np.diag(dat) # diagonal"
   ]
  },
  {
   "cell_type": "code",
   "execution_count": 26,
   "metadata": {
    "collapsed": false
   },
   "outputs": [
    {
     "data": {
      "text/plain": [
       "array([[ 0,  1,  2,  3],\n",
       "       [ 4,  5,  6,  7],\n",
       "       [ 8,  9, 10, 11],\n",
       "       [12, 13, 14, 15],\n",
       "       [16, 17, 18, 19],\n",
       "       [20, 21, 22, 23],\n",
       "       [24, 25, 26, 27],\n",
       "       [28, 29, 30, 31]])"
      ]
     },
     "execution_count": 26,
     "metadata": {},
     "output_type": "execute_result"
    }
   ],
   "source": [
    "np.arange(32).reshape((8, 4)) # returns an 8 x 4 array"
   ]
  },
  {
   "cell_type": "code",
   "execution_count": 65,
   "metadata": {
    "collapsed": false
   },
   "outputs": [
    {
     "data": {
      "text/plain": [
       "array(['less', 'less', 'less', 'less', 'less', 'high', 'high', 'high',\n",
       "       'high', 'high'], \n",
       "      dtype='<U4')"
      ]
     },
     "execution_count": 65,
     "metadata": {},
     "output_type": "execute_result"
    }
   ],
   "source": [
    "dat = np.arange(10)\n",
    "\n",
    "np.where(dat<5, 'less', 'high')"
   ]
  },
  {
   "cell_type": "markdown",
   "metadata": {},
   "source": [
    "#### Element-wise transformations on arrays\n",
    "There are many vectorized wrappers that take in one scalar and produce one ore more scalars (e.g. `np.exp()`, `np.sqrt()`). This element-wise array methods are also known as NumPy `ufuncs`. \n",
    "\n",
    "Function | Description \n",
    "--- | --- \n",
    "`np.abs(x)` | absolute value of each element\n",
    "`np.sqrt(x)` | square root of each element\n",
    "`np.square(x)` | square of each element\n",
    "`np.exp(x)` | exponential of each element\n",
    "`np.maximum(x, y)` | element-wise maximum from two arrays x and y\n",
    "`np.minimum(x,y)` | element-wise minimum\n",
    "`np.sign(x)` | compute the sign of each element: 1 (pos), 0 (zero), -1 (neg)\n",
    "`np.subtract(x, y)` | subtract elements in y from elements in x\n",
    "`np.power(x, y)` | raise elements in first array x to powers in second array y\n",
    "`np.where(cond, x, y)` | ifelse statement\n",
    "\n"
   ]
  },
  {
   "cell_type": "markdown",
   "metadata": {},
   "source": [
    "## Vectorizing functions\n",
    "\n",
    "It is important to state again that you should avoid looping through elements in vectors if at all possible.  One way to get around that when writing functions is to use what are called **vectorized functions**.  Say you wrote a function `f` which accepts some input `x` and checks if `x` is bigger or smaller than 0.  \n"
   ]
  },
  {
   "cell_type": "code",
   "execution_count": 28,
   "metadata": {
    "collapsed": false
   },
   "outputs": [
    {
     "name": "stdout",
     "output_type": "stream",
     "text": [
      "True\n"
     ]
    }
   ],
   "source": [
    "def f(x):\n",
    "    if x >=0:\n",
    "        return True\n",
    "    else:\n",
    "        return False\n",
    "\n",
    "print f(3)"
   ]
  },
  {
   "cell_type": "markdown",
   "metadata": {},
   "source": [
    "If we give the function an array instead of just one value (e.g. 3), then Python will give an error because there is more than one element in `x`.  The way to get around this is to **vectorize** the function.  "
   ]
  },
  {
   "cell_type": "code",
   "execution_count": 29,
   "metadata": {
    "collapsed": false
   },
   "outputs": [
    {
     "data": {
      "text/plain": [
       "array([-5, -4, -3, -2, -1,  0,  1,  2,  3,  4,  5])"
      ]
     },
     "execution_count": 29,
     "metadata": {},
     "output_type": "execute_result"
    }
   ],
   "source": [
    "f_vec = np.vectorize(f)\n",
    "z = np.arange(-5, 6)\n",
    "z "
   ]
  },
  {
   "cell_type": "code",
   "execution_count": 30,
   "metadata": {
    "collapsed": false
   },
   "outputs": [
    {
     "data": {
      "text/plain": [
       "array([False, False, False, False, False,  True,  True,  True,  True,\n",
       "        True,  True], dtype=bool)"
      ]
     },
     "execution_count": 30,
     "metadata": {},
     "output_type": "execute_result"
    }
   ],
   "source": [
    "f_vec(z)"
   ]
  },
  {
   "cell_type": "markdown",
   "metadata": {},
   "source": [
    "Instead of vectorizing the function, you can also make the function itself aware that it will be accepting vectors from the beginning. "
   ]
  },
  {
   "cell_type": "code",
   "execution_count": 31,
   "metadata": {
    "collapsed": false
   },
   "outputs": [
    {
     "name": "stdout",
     "output_type": "stream",
     "text": [
      "True\n"
     ]
    }
   ],
   "source": [
    "def f(x):\n",
    "    return (x >=0)\n",
    "\n",
    "print f(3)"
   ]
  },
  {
   "cell_type": "markdown",
   "metadata": {},
   "source": [
    "# Scipy"
   ]
  },
  {
   "cell_type": "markdown",
   "metadata": {},
   "source": [
    "Now that you know a little bit about [NumPy](numpy.html) and SciPy is a collection of mathematical and scientific modules built on top of NumPy.  For example, SciPy can handle multidimensional arrays, integration, linear algebra, statistics and optimization.  "
   ]
  },
  {
   "cell_type": "code",
   "execution_count": 32,
   "metadata": {
    "collapsed": false
   },
   "outputs": [],
   "source": [
    "# Import SciPy\n",
    "import scipy"
   ]
  },
  {
   "cell_type": "markdown",
   "metadata": {},
   "source": [
    "SciPy includes most of NumPy, so importing SciPy should be generally OK. The main SciPy module is made up of many [submodules containing specialized topics](http://docs.scipy.org/doc/scipy/reference/). \n",
    "\n",
    "Favorite SciPy submodules | What does it contain? \n",
    "--- | --- \n",
    "`scipy.stats` | [statistics](http://docs.scipy.org/doc/scipy/reference/tutorial/stats.html): random variables, probability density functions, cumulative distribution functions, survival functions\n",
    "`scipy.integrate` | [integration](http://docs.scipy.org/doc/scipy/reference/tutorial/integrate.html): single, double, triple integration, trapezoidal rule, Simpson's rule, differential equation solvers\n",
    "`scipy.signal` | [signal processing tools](http://docs.scipy.org/doc/scipy/reference/signal.html): signal processing tools such as wavelets, spectral densities, filters, B-splines\n",
    "`scipy.optimize` | [optimization](http://docs.scipy.org/doc/scipy/reference/optimize.html): find roots, curve fitting, least squares, etc \n",
    "`scipy.special` | [special functions](http://docs.scipy.org/doc/scipy/reference/tutorial/special.html): very specialized functions in mathematical physics e.g. bessel, gamma\n",
    "`scipy.linalg` | [linear algebra](http://docs.scipy.org/doc/scipy/reference/linalg.html): inverse of a matrix, determinant, Kronecker product, eigenvalue decomposition, SVD, functions for matrices (beyond those in `numpy.linalg`)\n",
    "\n",
    "If you want to import a SciPy submodule (e.g. the statistics submodule `scipy.stats`), use "
   ]
  },
  {
   "cell_type": "code",
   "execution_count": 66,
   "metadata": {
    "collapsed": false
   },
   "outputs": [],
   "source": [
    "from scipy import stats"
   ]
  },
  {
   "cell_type": "markdown",
   "metadata": {},
   "source": [
    "#### scipy.stats \n",
    "Let's dive a bit deeper in `scipy.stats`. The real utility of this submodule is to access probability distributions functions (pdfs) and standard statistical tests (e.g. $t$-test).  \n",
    "\n",
    "#### Probability distribution functions\n",
    "There is a large collection of [continuous and discrete pdfs](http://docs.scipy.org/doc/scipy/reference/stats.html) in the `scipy.stats` submodule.  The syntax to simulate random variables from a specific pdf is the name of the distribution  followed by `.rvs`. To generate $n$=10 $N(0,1)$ random variables, "
   ]
  },
  {
   "cell_type": "code",
   "execution_count": 88,
   "metadata": {
    "collapsed": false
   },
   "outputs": [
    {
     "data": {
      "text/plain": [
       "<matplotlib.text.Text at 0x10d1fa198>"
      ]
     },
     "execution_count": 88,
     "metadata": {},
     "output_type": "execute_result"
    },
    {
     "data": {
      "image/png": "[encoded data removed]",
      "text/plain": [
       "<matplotlib.figure.Figure at 0x10c78c4e0>"
      ]
     },
     "metadata": {},
     "output_type": "display_data"
    }
   ],
   "source": [
    "from scipy.stats import norm\n",
    "x = norm.rvs(loc = 0, scale = 1, size = 1000)\n",
    "plt.hist(x)\n",
    "plt.title('Histogram of 1000 normal random variables')\n"
   ]
  },
  {
   "cell_type": "code",
   "execution_count": 94,
   "metadata": {
    "collapsed": false
   },
   "outputs": [
    {
     "data": {
      "text/html": [
       "<script type=\"text/javascript\">window.PLOTLYENV=window.PLOTLYENV || {};window.PLOTLYENV.BASE_URL=\"https://plot.ly\";</script>"
      ],
      "text/plain": [
       "<IPython.core.display.HTML object>"
      ]
     },
     "metadata": {},
     "output_type": "display_data"
    },
    {
     "data": {
      "text/html": [
       "<div class=\"8b57e5ae-3d28-40c3-a6f7-fbc35d639342 loading\" style=\"color: rgb(50,50,50);\">Drawing...</div><div id=\"8b57e5ae-3d28-40c3-a6f7-fbc35d639342\" style=\"height: 525; width: 100%;\" class=\"plotly-graph-div\"></div><script type=\"text/javascript\">Plotly.plot(\"8b57e5ae-3d28-40c3-a6f7-fbc35d639342\", [{\"x\": [2.057229462079215, -0.17644073910906302, -0.6004879252323935, 0.6542569331393175, -0.634247225102214, -0.09811099086720775, 0.09654763657694308, -0.3707381540029922, 1.2079995856727967, 0.36085539853750404, -0.19204675060134663, -0.11189764942163806, -0.1927438634437097, -0.3708357781709922, -0.3890385976787435, -1.0139543224526126, 0.8114466790564957, 0.9813421983381875, -1.5037704691766558, 0.08558094055758868, -1.202083872379214, -0.1915924753770392, -1.9417894778265374, 1.1443965680521326, -0.9108365026743181, -0.484840444202793, 0.04565353190548028, -0.06111005878417976, 0.7206864978733736, -0.1606598790750965, -1.2183968254180457, -0.043259553270058405, -0.7289976594914241, -0.1513767914545186, 0.5039277931316337, 0.03933002048587212, 0.6374907045640266, 1.3199592380501828, -2.4270666814873705, 0.8055135170971262, 1.2921872985616516, 0.03605234465001578, -0.7012448907701814, 0.3157430661357404, 0.77695451261556, 0.32654775596296226, 0.43320521049969607, -1.0100126304327561, -0.8011277524263125, 0.35685795330160214, 1.3756667815569081, 1.253526372089797, -0.6057583085635119, 0.3402206207315954, -0.9446601132407974, 0.07188741305899247, -0.021641266322071716, 1.4162298141907064, -1.079273287361204, 0.2967577822377862, 0.34313968077066614, 2.0351124967198886, 1.5927130927143764, -1.1096929312156707, 0.9136962527667454, -0.4103124563442474, 0.020613896324832973, 0.2828074908904281, 0.05581667337713481, 1.4661568905924156, -4.857515165599542, -1.0138717602549592, -0.23027240248388078, 0.4000948161217854, 1.0051631616426493, 0.9486481962931836, 0.2442982612371457, 1.0995001858931104, 1.062819512958089, -0.3980023535969101, -1.0377576515817428, 2.381236469352584, 0.35600234723677493, -0.09567868185421097, 0.11969820052068239, 0.4649875077518801, -1.2113215809017537, 1.9879525172089803, -1.0131537051110107, 1.3168902322708897, 0.7056494204578379, -0.3760825070373483, 0.36661564167392485, -1.4153288209017614, 0.08597828309424006, -1.1889886585817298, -0.6043603152465169, 1.5057085552605534, 1.9929009871984364, -1.8769395111754126, 0.8267080132543524, -1.4680445690798205, -0.32454828576322187, 1.0039640243054202, -1.3045326418110654, -0.554117059660017, 1.496275356047793, -0.627389273959665, -0.44786059216315666, -0.5001745605152451, -0.49265095830676997, -0.6391928582003323, -0.13119841916235542, -2.426683804747519, -1.28416008056212, 0.5287952653988446, -0.5544653027734862, -1.5849140333631813, 0.1604557082024327, 0.18972533241721093, 0.9802803494598455, 1.5864030039019517, 0.10166093296872007, 0.7352279218878056, -0.51599450772294, 0.6956390126336829, 1.4663571593754283, -0.560643596573158, -0.4178828231868923, -0.13888463390905922, 2.263958729268433, -0.0886265387350665, -0.747620696914893, -1.1293902206235447, -0.8184364319396691, -0.7683359166783961, 0.5179440101997095, -0.9137587263549019, -0.8877689627208559, -1.3846368927249653, -0.14260630781224984, 0.6593674006896991, 1.10414160326908, -0.011239784356211117, -0.4790459015915095, 0.5536573911101351, 2.000589729050558, -1.1779487442476164, -0.9000769277884906, -0.15215415473308047, -1.1331842193573112, -0.3666800048489744, 0.2151267061438863, -1.1021302462897407, -0.01797003879016078, 0.1306307760527426, 0.6948996765753893, 0.8922754067431207, 0.30819247432725694, 0.5679518136486557, -1.8889717560487975, 0.9075579978745162, -0.03253938828745808, -1.8795568226746653, 0.9149993667050748, -0.628222348335337, 0.19844489237454427, 0.06018676912199569, -0.8552990824975982, 0.1993869319234712, 0.7074209212341689, -0.5839321904298955, -1.2795497367871214, -0.743970514182312, -0.33768358345051847, 0.8011772023743863, -0.1666815748632486, 0.576686409506286, 0.4071009018687289, 2.8262802483751086, -0.44778696529286083, 0.22743320686384033, -1.0717449865202822, -0.6447907820704949, -2.1472906639173663, -1.5141110460910716, -1.9810576866168375, 1.1267134841168966, -0.2211352086022277, 0.3241656230036279, -1.3442702370727142, 0.4191646868769279, 0.5177128282116961, 0.421173366893301, -1.3289061305960264, 0.6328358745462256, 2.1701898912504873, 2.3843035711015124, -0.19111900132193632, -0.3688731466973252, -0.3793627691720774, -0.5857392673936938, 1.442892104997661, -0.7302099932178465, -0.47795240932408317, 0.19749667525359357, -0.43320190537643266, 1.6673936793218391, 1.0654041043265816, -1.1909334029184064, -2.4020047233109847, -0.16839501423899578, -1.3498379715855906, -0.4646226732085815, 0.5100972707572184, 0.12616050225874123, -0.2383898205823107, 0.8865836563096906, -0.7935982391816244, 0.1909986354810759, -0.13802940205301814, -0.28009086876611966, 0.06494226729569513, -0.7295183292581487, 0.6925520016539451, -0.9024747456234179, 0.5758681666505758, 1.8867481641277624, -0.03410437789692606, -0.9631226056458987, -0.5371198587684319, -0.15592671828851384, 0.8275961235388348, -0.34269089812557907, 0.6008246272394678, -0.09141122648052767, 1.0191204156464033, -1.9116095687034182, -0.08023149369478687, 1.406758117567395, -1.2947096974163732, -0.8759391410206258, 1.784324413356336, -0.4261091384704969, 1.272957686381889, 1.3616296308162419, 0.1778189637550864, 0.5854424979057112, 0.3570866672601058, 0.5901085788049278, 1.574485208710143, -1.459512629993339, -1.0443262814313479, -1.0341518497695228, 0.4672857533487511, 1.1481514394637997, -0.2755263874747081, -2.3253973006620954, 1.6172728005477266, 0.028790796328607773, -2.2271857572554192, 0.49137421811504484, 0.21607231914047756, 0.6402814206083505, 0.7386016835096488, 0.3728098998263879, -1.7750451229360857, -1.0593458356461196, -1.5514165749257602, -1.8817922434347092, 0.4457289032319846, 0.6718520936149139, 0.01339382798151591, 0.08137243448989988, -0.41639835729515307, -2.2046032084565717, -0.5811456516342821, 0.7097742293494942, -1.1017588929574444, 1.4395806447049926, 0.9846556884148666, -0.2510735917136845, -1.5499165837469804, 0.6889888374114532, 0.5897004073861156, -0.8243502962427988, -1.553973600386328, 0.19451813062908957, -0.13820581531072698, -0.34041094625850177, 0.5262110946854311, 0.4820678447977896, -0.0018192936214189112, 1.291651597205921, -0.4625414916680477, 0.43865635258451496, -0.8161925939334036, 0.42666576681963114, -1.3735231542954462, -1.2426788953681218, -0.8415482037246323, 1.0565972872205234, -0.1198830882594942, 0.3195167478523896, -0.456614127758214, 0.6185202755760489, -0.22811613640539857, -0.6058173030916925, 0.2734120583327126, -0.32343048402321456, 0.5384998749230135, -0.6121722946020741, -0.7730845910916173, 2.2623356928048386, 2.516415798748459, 0.2561801127320506, -1.1417204486057393, -0.7913321890439411, -0.8013850693150667, 1.7291308809820325, 0.8729480635793544, 0.2731333524117455, -0.08397024866832097, 0.890354137989571, -0.11731355562313478, 0.44492368180208325, -0.8451964007263817, 1.6156449797114412, -0.01724804829313616, 1.3171238245298027, 1.598656969149662, 0.27161409029414374, -0.5819431836845069, 0.010313016224454706, 0.6039951158264087, -0.6665203900301011, 0.3119692655857654, -2.148536780322245, -1.4521572434055208, -1.260159804992978, -0.7073176635996677, 0.7437206178119697, -0.55988163990969, 0.012191144174650682, -1.0786626581915764, 0.275069105127136, -1.364411436522604, -0.2093440960594623, 0.9611941550436246, 0.17879346741695634, 0.9990777643354665, -0.3402660362755162, -2.774875019290187, 1.4799989335523345, 0.4322859287377331, -0.8308922123668583, 0.24805879899588373, -0.042376123857488526, 0.13942222850618274, -0.4796218643040783, -1.946384933458338, 0.25149602650646047, 0.1242716753040207, 0.9874316105489457, -0.15283915305861737, -0.2863247608583948, 1.1271365076994246, -1.466253150762145, -0.7735693203085101, 1.3448545926669864, 0.7585690229029571, 2.0620499428737147, -1.0697951454560015, 0.585496657582909, -0.6573135294051193, -0.4858668103222686, 0.28998955100309537, -1.5618126744699223, 0.44881420989006526, -0.189583641615178, -0.2029662884973176, -0.27095733358549917, -0.9087836882186064, 1.7366707662121217, -0.6317224077367127, 0.2121806767704568, -0.14691528993100525, 1.285423530507395, 0.7389015044266035, -0.5813093815275736, -1.375333603439739, -0.2768707140189114, 1.353208047624286, -0.11904785787463443, 0.027337057537922472, -0.7212817537141368, 1.30787042189912, -0.05836502920266328, 0.7751518074033044, -1.1311802888148885, 0.9336371128522581, -0.2356768926274699, 0.25352291458548415, -1.1693222263226657, 0.33649250712324213, 0.575476455742717, 1.3917133170762699, 1.027110231245556, -0.1434435499948345, 0.3412940815005235, -1.1456273861664144, -0.8266025995447956, 0.12459567405998048, -1.1610006546987535, -1.4252931584927115, -0.4142771471765962, -0.31662286987626836, -0.8227541975608933, -1.0675346777793153, -0.851766787690707, -0.1274540120640127, 0.05832408202467379, 0.38555262772974874, -1.4924027841253344, 0.09359126792562818, 0.4948998696542278, 0.289440461148786, 1.1624418648903783, -0.13244112874436414, 0.36264803883153784, 0.5854208557771536, -0.5678620369041517, -0.011141376873641116, 0.9166323442311214, 0.04713907970094467, -0.17423917807980388, 0.0519443514004065, -0.49725170590380546, 2.4180769287117583, -0.0772755031941165, -0.11128679208957035, 0.3960702102058261, 0.28648444638152387, -1.0197382832479398, 1.0548489232918585, -0.5150609014353, -0.8036620971852292, -0.3724062255223709, 1.4418743759021317, 0.8980541847084241, -0.06585147281929321, -0.5233406366865179, 0.9547096001683123, -1.1064045864916385, -0.7249061248802019, -0.6595392679711849, 0.36962036226827627, -1.261600444162735, -0.5145825411453605, 0.9307182113487229, -1.2756819244702255, -0.3376615812117234, 0.576698236940687, 0.05317631009495784, -0.82639452628954, -0.9983246075295428, -0.23169662872544577, 0.6444130906186903, 1.7849012282801313, 0.5896599413877103, -0.4466105756541114, -0.24896856255663888, -0.2825207129035519, 1.3324505391266113, -0.13186962906892688, -0.33748019377970634, -0.27446967815809714, -1.3731043768669202, -0.3833669213351593, 0.6422961129052689, -0.5461284300378011, 0.9547237221656498, 0.9097611645562718, 2.531621929819654, 0.42127960746956256, -0.6780456779003637, 1.0765100917647825, 0.6643051840002145, 0.31250449436428385, 1.3972119631431665, -1.875115310811022, 0.2048179288556083, -0.05450634871086925, -1.3222700453660483, -1.9369574333778932, 0.39981828489416815, 1.6459988238171477, -1.3754091198543672, -0.6552679888888491, -0.34205238851738884, -1.2030520422111415, -0.4587602984501131, 1.2427412306491965, -0.7682421671309866, 0.5337992305920615, 0.45682816946540994, -0.4390092579474461, 0.2088653905873726, 0.7644572309923476, 0.18689894589807993, -0.3437655354376219, 0.8452705202291262, 0.9835664689723332, 0.2070782234859841, 0.25751123201208903, -0.7644285927285499, -0.9379591075077499, -0.5615936916129411, -0.3092170738885713, 1.0473307184183156, -2.274291975051749, -0.0020978268617208966, 0.6544520184864, -2.826131123260812, 0.690226378680332, 1.266327768363541, -1.186846058359994, 0.24841874595348043, -0.8052100696723495, -1.2313504103231612, -0.6674232283836412, -0.8032216033437263, -0.8161194784396388, 0.30825167151615585, 0.883359679061419, 0.029214796159454753, -1.9965415178727153, -2.384107707315849, 0.5770392901398916, -0.5356281189018987, 0.7327415309432127, -1.6126144402195983, -0.276879631145416, -0.7389488652352757, 0.9320531842392676, 2.18851374063453, 0.31041467449766813, -2.694410549728113, -0.6173413411652038, -0.8608119965882959, 0.23770695488724772, 1.4857384642098201, -0.8625865486692883, -0.8382568330108743, 0.6664170761082365, 0.5546558265067679, 0.8839722451028827, -0.8048208043270334, -0.3971038402933051, -0.33380365673272205, -1.3660973349133851, -0.848964759743886, -1.3285797042641228, -0.793126125899996, -1.0004143555134528, -1.344585738844804, -1.2038962010243832, -0.09711995863656894, 1.2630064789762325, -1.6763588681140145, 0.698777691012439, 1.0679618175865266, 0.5655207856971073, 0.8608909746831528, 0.7541668751283588, -1.575019374521775, 0.47445793291464905, -0.5687485715036131, -0.14288190769335432, -1.8915134893444916, 0.41034803830571404, -0.15386722875383266, -2.1903400669751374, 0.13179463692134807, -0.6248871715870827, 1.937527549337302, -1.9415305521582322, -1.5462141973100756, 1.0100251044640356, 0.3127132690937226, -1.4399861675488663, -0.18730128129080495, -0.17543968930558493, -0.2604071757409988, -0.17503090504785818, 1.0885338710940933, -0.18325416196528166, -0.11484283935821356, 1.5495563290844223, -0.3880610247084175, 0.33591824733931835, 2.089423782590598, 0.2242690629204605, -2.952471379580454, -1.1576489269464394, -0.6083594666233177, 1.1391673003486482, 2.4019263356096707, -1.3478434513229802, -0.947225684610615, 0.38914853548494394, -0.10249341285187762, -0.6155644125915243, -0.7698331831045918, 1.4656531418880672, 1.4401342136739097, -1.3935391632059222, -0.5727228093475741, -1.1147715463621297, -0.3451014031420154, 0.27859735411453135, 1.699994791452763, -1.2467607513798704, -0.5618300382569141, 1.8444938917664198, -0.09307744657685282, -0.7209268114025454, 1.5800046102568757, -0.18025819505293322, 1.5633069001342088, -1.2855073531787389, -0.25085302537840876, -0.5898955398204724, 0.3123938669648925, 0.7442722881551579, -0.9741107636621191, 0.5216903328199376, -1.9207004310926017, -0.11657845039471179, -0.9841898308627796, -0.6459089967472006, -1.2179188664094496, 0.1542931029084538, -0.8207189168493371, -1.9274923846001288, -0.5586364871437141, 0.6588953201296472, -0.1303948822546519, 0.5140313270955588, -0.7298365818123488, -0.0858852392392548, 0.666223393702153, 0.582813768626954, -0.7360365690608953, 1.1504936729637656, -0.25185880208595357, -1.1521895916556504, 0.4592200610685525, -0.07501554572832064, -0.19705011657493215, 2.361050749586593, 1.0785521201046706, 0.2953026873750759, 0.2731225696242465, -0.782655015556819, 0.49775912633635694, -0.5716444183710875, 0.20508172327735902, -1.0800781722432022, 0.7518118769882234, -1.4894715326241692, -0.32455170729552874, -1.1232206926746713, -0.6467154532769548, 2.2624662499023875, 0.9674193959372425, -1.540103189347628, 1.567234218226998, 0.8447149751896516, 0.6627510752283604, 1.9063779265845986, -0.7339151099391609, -0.12070615759326696, 0.45141244518584667, 0.21227543857659126, -0.1696492779996521, 0.8572662383091108, -0.6760820445201782, 0.834179747661335, 0.3114526692140794, -0.29444705885361483, -0.7588558865185915, 1.0530605700516356, 0.18886838250580723, -1.332047501950959, -0.31316969364476344, 0.5756830367566275, 0.2715068632645246, 0.9062807132791137, -0.12478866157442411, 0.11074732725866064, -0.549390760899971, -0.9554613238942381, -0.34742133429412525, 1.298482931769774, 0.5811036788965301, -0.3377951607135125, -0.7644765184658878, -0.36297007347027693, 0.9241317797714824, -0.9369311334404119, -1.1806076335268605, -0.5996011933795982, 1.115233779684206, 0.06269534165826694, -0.8645556819747223, -0.4909082174007624, -2.546269317410212, 1.6025086451456723, 1.9001679479438327, 0.4165187370824389, -0.1754844478600248, 0.39591578741728684, 0.6230597596440235, 0.700128437654584, -1.6301005144089182, -1.3563517728452785, 0.6478628868082389, 0.08786086723026477, -0.3381464575998072, 0.8520116577003987, -0.6990053291946721, -1.2050210172362315, -1.036796876069184, -0.7877962705991987, 1.0749498818482566, -0.677716965339953, 1.390695676880574, -0.8705296236032032, -0.3733223245264806, 0.5639444429345537, -0.2806498740513423, -1.9341538921187065, -0.7902439437502553, -0.6317326739136297, 0.3985976588926831, -0.2968619399423017, 0.8537786868865641, -1.645373540478257, 0.1009350033702206, 1.3026143501313, 0.5615785100965709, 2.9188581865232277, -0.8729285597638781, -0.33048744878645975, 0.23245269670689508, -0.5444063567055442, 1.6005144430660116, -0.6608994200419475, 1.7481841980585746, 0.3377707448407111, -0.7922378016416235, -0.5268770531785083, -1.1800685326770008, -1.301895211899842, 0.3421708477631089, 1.1609188648331619, 2.703609406426143, -0.8921119118394611, 2.482440640430184, 0.2067716969986771, 2.152926818091803, 0.6300160732621766, -0.2067423308784551, -0.6549481382562923, -0.5470848017853157, -0.19260239460785836, 0.5858200535007204, -0.7400079788321349, 0.6223764352960843, 0.18678055345770345, 1.0505965759108515, -2.0772122991307853, 0.3791043388467089, 0.5038656087435076, 0.7567504397931024, 0.6776159018674726, -0.8438750839642832, 0.215157785485808, 0.5105996519873472, -1.242143205358251, 0.312671086338856, 0.064315889072021, 0.7267348011563259, -0.24763609983438103, 0.6172025864880892, -1.309633898397019, 1.2854199683112149, -0.550426380474122, 3.0955128475568547, -0.10879978265836508, -0.9981208916673615, 0.609282236592551, -0.22865512015057424, -0.6763449127260329, -0.40619403001559495, -0.19926864248281503, 0.028068334753302268, -0.39715501530843844, -0.31425132089362995, 0.4799431846134001, 0.06725402218129875, -1.618422237341317, 0.670255406354214, 0.3212674449533648, 0.17632072079322322, -0.1325531696633806, -0.19211373653621586, -1.2164970825369386, -0.19975275458237715, 0.1987428118453538, 0.5807672864531566, 0.9123565254063308, -0.29090759330591365, 0.9648669323723064, 1.6412298113621542, 1.2062380585348096, -1.1160915700023468, 0.6888742826026095, 0.5024026622478839, -0.7091272661644448, 0.2871566108532088, 1.4235075056194313, 0.48110394780267185, -1.1036429797837937, -0.5020462401234386, 0.3686675379629152, -0.005334688763561413, 1.7514976861242622, 0.22928401963284503, 1.9088690626036462, -0.3237010282008694, -0.7387199383900802, 0.8862316894156825, 2.1835051552787506, 1.1086466122404872, -2.0793565662091154, -2.617088553640271, 0.4324581718330615, -1.022348869109852, 1.7310820222590095, 1.18535290533973, 0.9433142579749123, 0.7177139990459123, 1.9549502219323014, 0.2698605866806792, 0.5520736572166408, -0.6505046626870328, -1.0471616561242818, 0.8828020178131902, 0.0890977568909721, -1.1680198485071644, -0.03014170353180764, 1.0507936538478782, 0.41234277168756645, -1.0091502268889214, 0.2616357122256153, -0.7742937371297454, -0.26276459280097314, 0.7265753831697569, 0.9661653130610348, -0.46831019304925325, -0.48983694015026247, -0.1959635943783926, -0.8461485925895481, -1.632065475951162, -0.6336522965299741, -0.489688491638178, -0.28972712941251105, 0.41577758736176457, 0.5083339700484926, 1.3840395447580436, -1.001494208418336, -0.6987862475754157, 0.37627347473667766, 0.01894750011694954, -0.9701694956116008, 0.7712514493982205, 0.33054185240573636, -0.5243848235167674, -0.24731474783121915, 1.0667777754010745, -0.06350453505185653, 0.4242238404556656, 0.038709115724956035, 0.20082702988820975, 0.06679580184580056, 0.9442190923074683, 0.052559296362987555, -1.3880324265374508, -0.23670849906745803, -1.9873592611414959, 1.20618180241274, 0.5018442915444102, 0.8676584423836459, -0.20165203736388929, 1.373273899662818, -1.1154837607240187, -1.3223046500347613, -0.6358728323867013, 0.577999780482417, -0.5522410218798122, 0.4974585587990794, 0.8674512737137081, -1.0491883382231721, -0.7805419748385876, -1.0835171648525823, -0.12948508852111348, -0.26091930796046625, 0.2443778486476219, -0.3896656172463477, 1.0614735244053575, 0.28411114797144293, -0.5252002709886698, -0.7789835841608097, 1.915112762825317, 0.6385517332735609, 0.476937429704567, -0.7680700725553176, 1.3101120558027268, -0.03986661773603989, -0.24863067742989614, 0.8982478157574005, 0.3711076972693261, -1.2625288525690743, -0.3225455004376121, 0.6198318550315788, -0.11911405333941703, 0.019871524389237994, -0.7902171455621163, -0.4428933760418174, -2.0360847221126126, -1.272222171575188, -0.2431864271210597, -0.8274637452388292, 0.17743754852150398, -0.7313480483961069, 0.8066254972625573, -1.217304366018924, -0.22064687018031343, 0.6674243386201418, 1.072691709662928, 0.5420808271658337, 1.3981138055239515, -0.5226132422585466, -0.7981779649469659, -0.5931458877266851, 0.8554904982801292, 0.0409988083047785, -0.22703335703923916, -1.2091890180832778, 0.5632223156719206, -0.14292289989424561, -0.42825820677710225, 1.828243368358647, 1.4996310080138961, 1.6296047889773673, 0.5098787929569403, 0.30402609913346934, 0.02032321316126025, 0.20830227462363, -0.5423142734702523, 0.48144523936491534, -0.7616846229524514, -0.39730130864252167, -1.025051689365441, 0.9151506820790826, -2.221406142559793, -0.4031239173945554, 0.17102276394376206, -0.07825795698667663, 0.43585234760641156, 1.2540559619301157, 1.2967210297355385, 0.002095106057109709, 0.5237021220843098, 0.7415637705348423, -0.34329987954530855, -0.8906595041583504, -0.14216984755677678, 0.04216758873579139, 1.0482912467180232, -0.7882269965340998, 1.0531128604256719, -1.5653471524489064, 2.1708229312834932, -0.8605514763467143, -0.07603074086281383, -0.013797283038341322, -0.30701026611825344], \"opacity\": 0.8, \"orientation\": \"v\", \"type\": \"histogram\", \"histfunc\": \"count\", \"name\": \"vals\", \"nbinsx\": 20, \"histnorm\": \"\", \"marker\": {\"line\": {\"color\": \"#D9D9D9\", \"width\": 1.3}, \"color\": \"rgba(226, 74, 51, 1.0)\"}}], {\"titlefont\": {\"color\": \"#151516\"}, \"paper_bgcolor\": \"#FFFFFF\", \"plot_bgcolor\": \"#E5E5E5\", \"barmode\": \"overlay\", \"legend\": {\"bgcolor\": \"#FFFFFF\", \"font\": {\"color\": \"#666666\"}}, \"xaxis1\": {\"gridcolor\": \"#F6F6F6\", \"titlefont\": {\"color\": \"#666666\"}, \"zerolinecolor\": \"#F6F6F6\", \"title\": \"\", \"tickfont\": {\"color\": \"#666666\"}, \"showgrid\": true}, \"yaxis1\": {\"gridcolor\": \"#F6F6F6\", \"titlefont\": {\"color\": \"#666666\"}, \"zerolinecolor\": \"#F6F6F6\", \"title\": \"\", \"tickfont\": {\"color\": \"#666666\"}, \"showgrid\": true}}, {\"showLink\": true, \"linkText\": \"Export to plot.ly\"}).then(function() {\n",
       "    $(\".8b57e5ae-3d28-40c3-a6f7-fbc35d639342.loading\").remove();\n",
       "})</script>"
      ],
      "text/plain": [
       "<IPython.core.display.HTML object>"
      ]
     },
     "metadata": {},
     "output_type": "display_data"
    }
   ],
   "source": [
    "df = pd.DataFrame(x, columns=['vals'])\n",
    "\n",
    "df.iplot(kind='hist', bins=20)"
   ]
  },
  {
   "cell_type": "markdown",
   "metadata": {},
   "source": [
    "# More Pandas and Matplotlib\n",
    "\n",
    "## Motor Trend Car Road Tests Data\n",
    "\n",
    "The data was extracted from the 1974 Motor Trend US magazine, and comprises fuel consumption and 10 aspects of automobile design and performance for 32 automobiles (1973–74 models). This dataset is available on Github in the [2014_data repository](https://github.com/cs109/2014_data) and is called `mtcars.csv`. "
   ]
  },
  {
   "cell_type": "markdown",
   "metadata": {},
   "source": [
    "## Reading in the mtcars data (CSV file) from the web\n",
    "\n",
    "This is a `.csv` file, so we will use the function `read_csv()` that will read in a CSV file into a pandas DataFrame. "
   ]
  },
  {
   "cell_type": "code",
   "execution_count": 95,
   "metadata": {
    "collapsed": false
   },
   "outputs": [
    {
     "data": {
      "text/html": [
       "<div>\n",
       "<table border=\"1\" class=\"dataframe\">\n",
       "  <thead>\n",
       "    <tr style=\"text-align: right;\">\n",
       "      <th></th>\n",
       "      <th>mpg</th>\n",
       "      <th>cyl</th>\n",
       "      <th>disp</th>\n",
       "      <th>hp</th>\n",
       "      <th>drat</th>\n",
       "      <th>wt</th>\n",
       "      <th>qsec</th>\n",
       "      <th>vs</th>\n",
       "      <th>am</th>\n",
       "      <th>gear</th>\n",
       "      <th>carb</th>\n",
       "    </tr>\n",
       "  </thead>\n",
       "  <tbody>\n",
       "    <tr>\n",
       "      <th>Mazda RX4</th>\n",
       "      <td>21.0</td>\n",
       "      <td>6</td>\n",
       "      <td>160</td>\n",
       "      <td>110</td>\n",
       "      <td>3.90</td>\n",
       "      <td>2.620</td>\n",
       "      <td>16.46</td>\n",
       "      <td>0</td>\n",
       "      <td>1</td>\n",
       "      <td>4</td>\n",
       "      <td>4</td>\n",
       "    </tr>\n",
       "    <tr>\n",
       "      <th>Mazda RX4 Wag</th>\n",
       "      <td>21.0</td>\n",
       "      <td>6</td>\n",
       "      <td>160</td>\n",
       "      <td>110</td>\n",
       "      <td>3.90</td>\n",
       "      <td>2.875</td>\n",
       "      <td>17.02</td>\n",
       "      <td>0</td>\n",
       "      <td>1</td>\n",
       "      <td>4</td>\n",
       "      <td>4</td>\n",
       "    </tr>\n",
       "    <tr>\n",
       "      <th>Datsun 710</th>\n",
       "      <td>22.8</td>\n",
       "      <td>4</td>\n",
       "      <td>108</td>\n",
       "      <td>93</td>\n",
       "      <td>3.85</td>\n",
       "      <td>2.320</td>\n",
       "      <td>18.61</td>\n",
       "      <td>1</td>\n",
       "      <td>1</td>\n",
       "      <td>4</td>\n",
       "      <td>1</td>\n",
       "    </tr>\n",
       "    <tr>\n",
       "      <th>Hornet 4 Drive</th>\n",
       "      <td>21.4</td>\n",
       "      <td>6</td>\n",
       "      <td>258</td>\n",
       "      <td>110</td>\n",
       "      <td>3.08</td>\n",
       "      <td>3.215</td>\n",
       "      <td>19.44</td>\n",
       "      <td>1</td>\n",
       "      <td>0</td>\n",
       "      <td>3</td>\n",
       "      <td>1</td>\n",
       "    </tr>\n",
       "    <tr>\n",
       "      <th>Hornet Sportabout</th>\n",
       "      <td>18.7</td>\n",
       "      <td>8</td>\n",
       "      <td>360</td>\n",
       "      <td>175</td>\n",
       "      <td>3.15</td>\n",
       "      <td>3.440</td>\n",
       "      <td>17.02</td>\n",
       "      <td>0</td>\n",
       "      <td>0</td>\n",
       "      <td>3</td>\n",
       "      <td>2</td>\n",
       "    </tr>\n",
       "  </tbody>\n",
       "</table>\n",
       "</div>"
      ],
      "text/plain": [
       "                    mpg  cyl  disp   hp  drat     wt   qsec  vs  am  gear  \\\n",
       "Mazda RX4          21.0    6   160  110  3.90  2.620  16.46   0   1     4   \n",
       "Mazda RX4 Wag      21.0    6   160  110  3.90  2.875  17.02   0   1     4   \n",
       "Datsun 710         22.8    4   108   93  3.85  2.320  18.61   1   1     4   \n",
       "Hornet 4 Drive     21.4    6   258  110  3.08  3.215  19.44   1   0     3   \n",
       "Hornet Sportabout  18.7    8   360  175  3.15  3.440  17.02   0   0     3   \n",
       "\n",
       "                   carb  \n",
       "Mazda RX4             4  \n",
       "Mazda RX4 Wag         4  \n",
       "Datsun 710            1  \n",
       "Hornet 4 Drive        1  \n",
       "Hornet Sportabout     2  "
      ]
     },
     "execution_count": 95,
     "metadata": {},
     "output_type": "execute_result"
    }
   ],
   "source": [
    "url = 'https://raw.githubusercontent.com/cs109/2014_data/master/mtcars.csv'\n",
    "mtcars = pd.read_csv(url, sep = ',', index_col=0)\n",
    "mtcars.head()"
   ]
  },
  {
   "cell_type": "code",
   "execution_count": 96,
   "metadata": {
    "collapsed": false
   },
   "outputs": [
    {
     "data": {
      "text/plain": [
       "(32, 11)"
      ]
     },
     "execution_count": 96,
     "metadata": {},
     "output_type": "execute_result"
    }
   ],
   "source": [
    "# DataFrame with 32 observations on 11 variables\n",
    "mtcars.shape "
   ]
  },
  {
   "cell_type": "code",
   "execution_count": 37,
   "metadata": {
    "collapsed": false
   },
   "outputs": [
    {
     "data": {
      "text/plain": [
       "Index([u'mpg', u'cyl', u'disp', u'hp', u'drat', u'wt', u'qsec', u'vs', u'am', u'gear', u'carb'], dtype='object')"
      ]
     },
     "execution_count": 37,
     "metadata": {},
     "output_type": "execute_result"
    }
   ],
   "source": [
    "# return the column names\n",
    "mtcars.columns"
   ]
  },
  {
   "cell_type": "markdown",
   "metadata": {},
   "source": [
    "Here is a table containing a description of all the column names. \n",
    "\n",
    "Column name | Description \n",
    "--- | --- \n",
    "mpg | Miles/(US) gallon\n",
    "cyl | Number of cylinders\n",
    "disp | Displacement (cu.in.)\n",
    "hp | Gross horsepower\n",
    "drat | Rear axle ratio\n",
    "wt | Weight (lb/1000)\n",
    "qsec | 1/4 mile time\n",
    "vs | V/S\n",
    "am | Transmission (0 = automatic, 1 = manual)\n",
    "gear | Number of forward gears\n",
    "carb | Number of carburetors\n"
   ]
  },
  {
   "cell_type": "code",
   "execution_count": 39,
   "metadata": {
    "collapsed": false
   },
   "outputs": [
    {
     "data": {
      "text/html": [
       "<div style=\"max-height:1000px;max-width:1500px;overflow:auto;\">\n",
       "<table border=\"1\" class=\"dataframe\">\n",
       "  <thead>\n",
       "    <tr style=\"text-align: right;\">\n",
       "      <th></th>\n",
       "      <th>mpg</th>\n",
       "      <th>cyl</th>\n",
       "      <th>disp</th>\n",
       "      <th>hp</th>\n",
       "      <th>drat</th>\n",
       "      <th>wt</th>\n",
       "      <th>qsec</th>\n",
       "      <th>vs</th>\n",
       "      <th>am</th>\n",
       "      <th>gear</th>\n",
       "      <th>carb</th>\n",
       "    </tr>\n",
       "  </thead>\n",
       "  <tbody>\n",
       "    <tr>\n",
       "      <th>Fiat X1-9</th>\n",
       "      <td> 27.3</td>\n",
       "      <td> 4</td>\n",
       "      <td>  79.0</td>\n",
       "      <td>  66</td>\n",
       "      <td> 4.08</td>\n",
       "      <td> 1.935</td>\n",
       "      <td> 18.9</td>\n",
       "      <td> 1</td>\n",
       "      <td> 1</td>\n",
       "      <td> 4</td>\n",
       "      <td> 1</td>\n",
       "    </tr>\n",
       "    <tr>\n",
       "      <th>Porsche 914-2</th>\n",
       "      <td> 26.0</td>\n",
       "      <td> 4</td>\n",
       "      <td> 120.3</td>\n",
       "      <td>  91</td>\n",
       "      <td> 4.43</td>\n",
       "      <td> 2.140</td>\n",
       "      <td> 16.7</td>\n",
       "      <td> 0</td>\n",
       "      <td> 1</td>\n",
       "      <td> 5</td>\n",
       "      <td> 2</td>\n",
       "    </tr>\n",
       "    <tr>\n",
       "      <th>Lotus Europa</th>\n",
       "      <td> 30.4</td>\n",
       "      <td> 4</td>\n",
       "      <td>  95.1</td>\n",
       "      <td> 113</td>\n",
       "      <td> 3.77</td>\n",
       "      <td> 1.513</td>\n",
       "      <td> 16.9</td>\n",
       "      <td> 1</td>\n",
       "      <td> 1</td>\n",
       "      <td> 5</td>\n",
       "      <td> 2</td>\n",
       "    </tr>\n",
       "    <tr>\n",
       "      <th>Ford Pantera L</th>\n",
       "      <td> 15.8</td>\n",
       "      <td> 8</td>\n",
       "      <td> 351.0</td>\n",
       "      <td> 264</td>\n",
       "      <td> 4.22</td>\n",
       "      <td> 3.170</td>\n",
       "      <td> 14.5</td>\n",
       "      <td> 0</td>\n",
       "      <td> 1</td>\n",
       "      <td> 5</td>\n",
       "      <td> 4</td>\n",
       "    </tr>\n",
       "    <tr>\n",
       "      <th>Ferrari Dino</th>\n",
       "      <td> 19.7</td>\n",
       "      <td> 6</td>\n",
       "      <td> 145.0</td>\n",
       "      <td> 175</td>\n",
       "      <td> 3.62</td>\n",
       "      <td> 2.770</td>\n",
       "      <td> 15.5</td>\n",
       "      <td> 0</td>\n",
       "      <td> 1</td>\n",
       "      <td> 5</td>\n",
       "      <td> 6</td>\n",
       "    </tr>\n",
       "    <tr>\n",
       "      <th>Maserati Bora</th>\n",
       "      <td> 15.0</td>\n",
       "      <td> 8</td>\n",
       "      <td> 301.0</td>\n",
       "      <td> 335</td>\n",
       "      <td> 3.54</td>\n",
       "      <td> 3.570</td>\n",
       "      <td> 14.6</td>\n",
       "      <td> 0</td>\n",
       "      <td> 1</td>\n",
       "      <td> 5</td>\n",
       "      <td> 8</td>\n",
       "    </tr>\n",
       "    <tr>\n",
       "      <th>Volvo 142E</th>\n",
       "      <td> 21.4</td>\n",
       "      <td> 4</td>\n",
       "      <td> 121.0</td>\n",
       "      <td> 109</td>\n",
       "      <td> 4.11</td>\n",
       "      <td> 2.780</td>\n",
       "      <td> 18.6</td>\n",
       "      <td> 1</td>\n",
       "      <td> 1</td>\n",
       "      <td> 4</td>\n",
       "      <td> 2</td>\n",
       "    </tr>\n",
       "  </tbody>\n",
       "</table>\n",
       "</div>"
      ],
      "text/plain": [
       "                 mpg  cyl   disp   hp  drat     wt  qsec  vs  am  gear  carb\n",
       "Fiat X1-9       27.3    4   79.0   66  4.08  1.935  18.9   1   1     4     1\n",
       "Porsche 914-2   26.0    4  120.3   91  4.43  2.140  16.7   0   1     5     2\n",
       "Lotus Europa    30.4    4   95.1  113  3.77  1.513  16.9   1   1     5     2\n",
       "Ford Pantera L  15.8    8  351.0  264  4.22  3.170  14.5   0   1     5     4\n",
       "Ferrari Dino    19.7    6  145.0  175  3.62  2.770  15.5   0   1     5     6\n",
       "Maserati Bora   15.0    8  301.0  335  3.54  3.570  14.6   0   1     5     8\n",
       "Volvo 142E      21.4    4  121.0  109  4.11  2.780  18.6   1   1     4     2"
      ]
     },
     "execution_count": 39,
     "metadata": {},
     "output_type": "execute_result"
    }
   ],
   "source": [
    "mtcars[25:] # rows 25 to end of data frame"
   ]
  },
  {
   "cell_type": "code",
   "execution_count": 40,
   "metadata": {
    "collapsed": false
   },
   "outputs": [
    {
     "data": {
      "text/plain": [
       "Index([u'Mazda RX4', u'Mazda RX4 Wag', u'Datsun 710', u'Hornet 4 Drive', u'Hornet Sportabout', u'Valiant', u'Duster 360', u'Merc 240D', u'Merc 230', u'Merc 280', u'Merc 280C', u'Merc 450SE', u'Merc 450SL', u'Merc 450SLC', u'Cadillac Fleetwood', u'Lincoln Continental', u'Chrysler Imperial', u'Fiat 128', u'Honda Civic', u'Toyota Corolla', u'Toyota Corona', u'Dodge Challenger', u'AMC Javelin', u'Camaro Z28', u'Pontiac Firebird', u'Fiat X1-9', u'Porsche 914-2', u'Lotus Europa', u'Ford Pantera L', u'Ferrari Dino', u'Maserati Bora', u'Volvo 142E'], dtype='object')"
      ]
     },
     "execution_count": 40,
     "metadata": {},
     "output_type": "execute_result"
    }
   ],
   "source": [
    "# return index\n",
    "mtcars.index"
   ]
  },
  {
   "cell_type": "code",
   "execution_count": 41,
   "metadata": {
    "collapsed": false
   },
   "outputs": [
    {
     "data": {
      "text/plain": [
       "mpg      15.00\n",
       "cyl       8.00\n",
       "disp    301.00\n",
       "hp      335.00\n",
       "drat      3.54\n",
       "wt        3.57\n",
       "qsec     14.60\n",
       "vs        0.00\n",
       "am        1.00\n",
       "gear      5.00\n",
       "carb      8.00\n",
       "Name: Maserati Bora, dtype: float64"
      ]
     },
     "execution_count": 41,
     "metadata": {},
     "output_type": "execute_result"
    }
   ],
   "source": [
    "mtcars.ix['Maserati Bora'] # access a row by an index"
   ]
  },
  {
   "cell_type": "code",
   "execution_count": 42,
   "metadata": {
    "collapsed": false
   },
   "outputs": [],
   "source": [
    "# What other methods are available when working with pandas DataFrames?\n",
    "# type 'mtcars.' and then click <TAB>\n",
    "# mtcars.<TAB>\n",
    "\n",
    "# try it here"
   ]
  },
  {
   "cell_type": "markdown",
   "metadata": {},
   "source": [
    "## Exploratory Data Analysis (EDA)\n",
    "\n",
    "Even though they may look like continuous variabes, `cyl`, `vs`, `am`, `gear` and `carb` are integer or categorical variables. First, let's look at some summary statistics of the mtcars data set. "
   ]
  },
  {
   "cell_type": "code",
   "execution_count": 43,
   "metadata": {
    "collapsed": false
   },
   "outputs": [
    {
     "data": {
      "text/html": [
       "<div style=\"max-height:1000px;max-width:1500px;overflow:auto;\">\n",
       "<table border=\"1\" class=\"dataframe\">\n",
       "  <thead>\n",
       "    <tr style=\"text-align: right;\">\n",
       "      <th></th>\n",
       "      <th>mpg</th>\n",
       "      <th>cyl</th>\n",
       "      <th>disp</th>\n",
       "      <th>hp</th>\n",
       "      <th>drat</th>\n",
       "      <th>wt</th>\n",
       "      <th>qsec</th>\n",
       "      <th>vs</th>\n",
       "      <th>am</th>\n",
       "      <th>gear</th>\n",
       "      <th>carb</th>\n",
       "    </tr>\n",
       "  </thead>\n",
       "  <tbody>\n",
       "    <tr>\n",
       "      <th>count</th>\n",
       "      <td> 32.000000</td>\n",
       "      <td> 32.000000</td>\n",
       "      <td>  32.000000</td>\n",
       "      <td>  32.000000</td>\n",
       "      <td> 32.000000</td>\n",
       "      <td> 32.000000</td>\n",
       "      <td> 32.000000</td>\n",
       "      <td> 32.000000</td>\n",
       "      <td> 32.000000</td>\n",
       "      <td> 32.000000</td>\n",
       "      <td> 32.0000</td>\n",
       "    </tr>\n",
       "    <tr>\n",
       "      <th>mean</th>\n",
       "      <td> 20.090625</td>\n",
       "      <td>  6.187500</td>\n",
       "      <td> 230.721875</td>\n",
       "      <td> 146.687500</td>\n",
       "      <td>  3.596563</td>\n",
       "      <td>  3.217250</td>\n",
       "      <td> 17.848750</td>\n",
       "      <td>  0.437500</td>\n",
       "      <td>  0.406250</td>\n",
       "      <td>  3.687500</td>\n",
       "      <td>  2.8125</td>\n",
       "    </tr>\n",
       "    <tr>\n",
       "      <th>std</th>\n",
       "      <td>  6.026948</td>\n",
       "      <td>  1.785922</td>\n",
       "      <td> 123.938694</td>\n",
       "      <td>  68.562868</td>\n",
       "      <td>  0.534679</td>\n",
       "      <td>  0.978457</td>\n",
       "      <td>  1.786943</td>\n",
       "      <td>  0.504016</td>\n",
       "      <td>  0.498991</td>\n",
       "      <td>  0.737804</td>\n",
       "      <td>  1.6152</td>\n",
       "    </tr>\n",
       "    <tr>\n",
       "      <th>min</th>\n",
       "      <td> 10.400000</td>\n",
       "      <td>  4.000000</td>\n",
       "      <td>  71.100000</td>\n",
       "      <td>  52.000000</td>\n",
       "      <td>  2.760000</td>\n",
       "      <td>  1.513000</td>\n",
       "      <td> 14.500000</td>\n",
       "      <td>  0.000000</td>\n",
       "      <td>  0.000000</td>\n",
       "      <td>  3.000000</td>\n",
       "      <td>  1.0000</td>\n",
       "    </tr>\n",
       "    <tr>\n",
       "      <th>25%</th>\n",
       "      <td> 15.425000</td>\n",
       "      <td>  4.000000</td>\n",
       "      <td> 120.825000</td>\n",
       "      <td>  96.500000</td>\n",
       "      <td>  3.080000</td>\n",
       "      <td>  2.581250</td>\n",
       "      <td> 16.892500</td>\n",
       "      <td>  0.000000</td>\n",
       "      <td>  0.000000</td>\n",
       "      <td>  3.000000</td>\n",
       "      <td>  2.0000</td>\n",
       "    </tr>\n",
       "    <tr>\n",
       "      <th>50%</th>\n",
       "      <td> 19.200000</td>\n",
       "      <td>  6.000000</td>\n",
       "      <td> 196.300000</td>\n",
       "      <td> 123.000000</td>\n",
       "      <td>  3.695000</td>\n",
       "      <td>  3.325000</td>\n",
       "      <td> 17.710000</td>\n",
       "      <td>  0.000000</td>\n",
       "      <td>  0.000000</td>\n",
       "      <td>  4.000000</td>\n",
       "      <td>  2.0000</td>\n",
       "    </tr>\n",
       "    <tr>\n",
       "      <th>75%</th>\n",
       "      <td> 22.800000</td>\n",
       "      <td>  8.000000</td>\n",
       "      <td> 326.000000</td>\n",
       "      <td> 180.000000</td>\n",
       "      <td>  3.920000</td>\n",
       "      <td>  3.610000</td>\n",
       "      <td> 18.900000</td>\n",
       "      <td>  1.000000</td>\n",
       "      <td>  1.000000</td>\n",
       "      <td>  4.000000</td>\n",
       "      <td>  4.0000</td>\n",
       "    </tr>\n",
       "    <tr>\n",
       "      <th>max</th>\n",
       "      <td> 33.900000</td>\n",
       "      <td>  8.000000</td>\n",
       "      <td> 472.000000</td>\n",
       "      <td> 335.000000</td>\n",
       "      <td>  4.930000</td>\n",
       "      <td>  5.424000</td>\n",
       "      <td> 22.900000</td>\n",
       "      <td>  1.000000</td>\n",
       "      <td>  1.000000</td>\n",
       "      <td>  5.000000</td>\n",
       "      <td>  8.0000</td>\n",
       "    </tr>\n",
       "  </tbody>\n",
       "</table>\n",
       "</div>"
      ],
      "text/plain": [
       "             mpg        cyl        disp          hp       drat         wt  \\\n",
       "count  32.000000  32.000000   32.000000   32.000000  32.000000  32.000000   \n",
       "mean   20.090625   6.187500  230.721875  146.687500   3.596563   3.217250   \n",
       "std     6.026948   1.785922  123.938694   68.562868   0.534679   0.978457   \n",
       "min    10.400000   4.000000   71.100000   52.000000   2.760000   1.513000   \n",
       "25%    15.425000   4.000000  120.825000   96.500000   3.080000   2.581250   \n",
       "50%    19.200000   6.000000  196.300000  123.000000   3.695000   3.325000   \n",
       "75%    22.800000   8.000000  326.000000  180.000000   3.920000   3.610000   \n",
       "max    33.900000   8.000000  472.000000  335.000000   4.930000   5.424000   \n",
       "\n",
       "            qsec         vs         am       gear     carb  \n",
       "count  32.000000  32.000000  32.000000  32.000000  32.0000  \n",
       "mean   17.848750   0.437500   0.406250   3.687500   2.8125  \n",
       "std     1.786943   0.504016   0.498991   0.737804   1.6152  \n",
       "min    14.500000   0.000000   0.000000   3.000000   1.0000  \n",
       "25%    16.892500   0.000000   0.000000   3.000000   2.0000  \n",
       "50%    17.710000   0.000000   0.000000   4.000000   2.0000  \n",
       "75%    18.900000   1.000000   1.000000   4.000000   4.0000  \n",
       "max    22.900000   1.000000   1.000000   5.000000   8.0000  "
      ]
     },
     "execution_count": 43,
     "metadata": {},
     "output_type": "execute_result"
    }
   ],
   "source": [
    "mtcars.describe()"
   ]
  },
  {
   "cell_type": "markdown",
   "metadata": {},
   "source": [
    "#### Using conditional statements\n",
    "\n",
    "To check if `any` or `all` elements in an array meet a certain criteria, use `any()` and `all()`. "
   ]
  },
  {
   "cell_type": "code",
   "execution_count": 44,
   "metadata": {
    "collapsed": false
   },
   "outputs": [
    {
     "data": {
      "text/plain": [
       "True"
      ]
     },
     "execution_count": 44,
     "metadata": {},
     "output_type": "execute_result"
    }
   ],
   "source": [
    "(mtcars.mpg >= 20).any()"
   ]
  },
  {
   "cell_type": "markdown",
   "metadata": {},
   "source": [
    "Let's look at the distribution of `mpg` using a histogram."
   ]
  },
  {
   "cell_type": "code",
   "execution_count": 111,
   "metadata": {
    "collapsed": false
   },
   "outputs": [
    {
     "data": {
      "text/plain": [
       "<matplotlib.text.Text at 0x10d125a58>"
      ]
     },
     "execution_count": 111,
     "metadata": {},
     "output_type": "execute_result"
    },
    {
     "data": {
      "image/png": "[encoded data removed]",
      "text/plain": [
       "<matplotlib.figure.Figure at 0x10d129400>"
      ]
     },
     "metadata": {},
     "output_type": "display_data"
    }
   ],
   "source": [
    "mtcars['mpg'].hist()\n",
    "plt.title('Distribution of MPG')\n",
    "plt.xlabel('Miles Per Gallon')"
   ]
  },
  {
   "cell_type": "code",
   "execution_count": 132,
   "metadata": {
    "collapsed": false
   },
   "outputs": [
    {
     "data": {
      "text/html": [
       "<script type=\"text/javascript\">window.PLOTLYENV=window.PLOTLYENV || {};window.PLOTLYENV.BASE_URL=\"https://plot.ly\";</script>"
      ],
      "text/plain": [
       "<IPython.core.display.HTML object>"
      ]
     },
     "metadata": {},
     "output_type": "display_data"
    },
    {
     "data": {
      "text/html": [
       "<div class=\"010ce08a-a959-426f-a223-632acf8378f5 loading\" style=\"color: rgb(50,50,50);\">Drawing...</div><div id=\"010ce08a-a959-426f-a223-632acf8378f5\" style=\"height: 525; width: 100%;\" class=\"plotly-graph-div\"></div><script type=\"text/javascript\">Plotly.plot(\"010ce08a-a959-426f-a223-632acf8378f5\", [{\"x\": [21.0, 21.0, 22.8, 21.4, 18.7, 18.1, 14.3, 24.4, 22.8, 19.2, 17.8, 16.4, 17.3, 15.2, 10.4, 10.4, 14.7, 32.4, 30.4, 33.9, 21.5, 15.5, 15.2, 13.3, 19.2, 27.3, 26.0, 30.4, 15.8, 19.7, 15.0, 21.4], \"opacity\": 0.8, \"orientation\": \"v\", \"type\": \"histogram\", \"histfunc\": \"count\", \"name\": \"mpg\", \"nbinsx\": 10, \"histnorm\": \"\", \"marker\": {\"line\": {\"color\": \"#D9D9D9\", \"width\": 1.3}, \"color\": \"rgba(226, 74, 51, 1.0)\"}}], {\"titlefont\": {\"color\": \"#151516\"}, \"paper_bgcolor\": \"#FFFFFF\", \"plot_bgcolor\": \"#E5E5E5\", \"barmode\": \"overlay\", \"legend\": {\"bgcolor\": \"#FFFFFF\", \"font\": {\"color\": \"#666666\"}}, \"xaxis1\": {\"gridcolor\": \"#F6F6F6\", \"titlefont\": {\"color\": \"#666666\"}, \"zerolinecolor\": \"#F6F6F6\", \"title\": \"Distribution of MPG\", \"tickfont\": {\"color\": \"#666666\"}, \"showgrid\": true}, \"yaxis1\": {\"gridcolor\": \"#F6F6F6\", \"titlefont\": {\"color\": \"#666666\"}, \"zerolinecolor\": \"#F6F6F6\", \"title\": \"Miles Per Gallon\", \"tickfont\": {\"color\": \"#666666\"}, \"showgrid\": true}}, {\"showLink\": true, \"linkText\": \"Export to plot.ly\"}).then(function() {\n",
       "    $(\".010ce08a-a959-426f-a223-632acf8378f5.loading\").remove();\n",
       "})</script>"
      ],
      "text/plain": [
       "<IPython.core.display.HTML object>"
      ]
     },
     "metadata": {},
     "output_type": "display_data"
    }
   ],
   "source": [
    "mtcars.mpg.iplot(kind='hist', bins=10,\n",
    "                xTitle='Distribution of MPG', yTitle='Miles Per Gallon')"
   ]
  },
  {
   "cell_type": "markdown",
   "metadata": {},
   "source": [
    "### Relationship between cyl and mpg"
   ]
  },
  {
   "cell_type": "code",
   "execution_count": 168,
   "metadata": {
    "collapsed": false
   },
   "outputs": [
    {
     "data": {
      "text/html": [
       "<script type=\"text/javascript\">window.PLOTLYENV=window.PLOTLYENV || {};window.PLOTLYENV.BASE_URL=\"https://plot.ly\";</script>"
      ],
      "text/plain": [
       "<IPython.core.display.HTML object>"
      ]
     },
     "metadata": {},
     "output_type": "display_data"
    },
    {
     "data": {
      "text/html": [
       "<div class=\"a0523c43-4cf8-4061-ae20-df2d36e8c19d loading\" style=\"color: rgb(50,50,50);\">Drawing...</div><div id=\"a0523c43-4cf8-4061-ae20-df2d36e8c19d\" style=\"height: 525; width: 100%;\" class=\"plotly-graph-div\"></div><script type=\"text/javascript\">Plotly.plot(\"a0523c43-4cf8-4061-ae20-df2d36e8c19d\", [{\"x\": [6, 6, 4, 6, 8, 6, 8, 4, 4, 6, 6, 8, 8, 8, 8, 8, 8, 4, 4, 4, 4, 8, 8, 8, 8, 4, 4, 4, 8, 6, 8, 4], \"text\": \"\", \"type\": \"scatter\", \"name\": \"mpg\", \"line\": {\"dash\": \"solid\", \"color\": \"rgba(139, 0, 0, 1.0)\", \"width\": 1.3}, \"marker\": {\"symbol\": \"dot\", \"size\": 12}, \"mode\": \"markers\", \"y\": [21.0, 21.0, 22.8, 21.4, 18.7, 18.1, 14.3, 24.4, 22.8, 19.2, 17.8, 16.4, 17.3, 15.2, 10.4, 10.4, 14.7, 32.4, 30.4, 33.9, 21.5, 15.5, 15.2, 13.3, 19.2, 27.3, 26.0, 30.4, 15.8, 19.7, 15.0, 21.4]}], {\"titlefont\": {\"color\": \"#151516\"}, \"paper_bgcolor\": \"#FFFFFF\", \"plot_bgcolor\": \"#E5E5E5\", \"legend\": {\"bgcolor\": \"#FFFFFF\", \"font\": {\"color\": \"#666666\"}}, \"xaxis1\": {\"gridcolor\": \"#F6F6F6\", \"titlefont\": {\"color\": \"#666666\"}, \"zerolinecolor\": \"#F6F6F6\", \"title\": \"Cylinder\", \"tickfont\": {\"color\": \"#666666\"}, \"showgrid\": true}, \"title\": \"Relationship between cylinders and MPG\", \"yaxis1\": {\"gridcolor\": \"#F6F6F6\", \"titlefont\": {\"color\": \"#666666\"}, \"zerolinecolor\": \"#F6F6F6\", \"title\": \"MPG\", \"tickfont\": {\"color\": \"#666666\"}, \"showgrid\": true}}, {\"showLink\": true, \"linkText\": \"Export to plot.ly\"}).then(function() {\n",
       "    $(\".a0523c43-4cf8-4061-ae20-df2d36e8c19d.loading\").remove();\n",
       "})</script>"
      ],
      "text/plain": [
       "<IPython.core.display.HTML object>"
      ]
     },
     "metadata": {},
     "output_type": "display_data"
    }
   ],
   "source": [
    "# Relationship between cyl and mpg\n",
    "mtcars[['cyl','mpg']].iplot(kind='scatter', x='cyl', y='mpg', mode='markers', \n",
    "                            colors='darkred', xTitle='Cylinder', yTitle='MPG', \n",
    "                            title='Relationship between cylinders and MPG')\n"
   ]
  },
  {
   "cell_type": "markdown",
   "metadata": {
    "collapsed": false
   },
   "source": [
    "### Relationship between horsepower and mpg\n"
   ]
  },
  {
   "cell_type": "code",
   "execution_count": 186,
   "metadata": {
    "collapsed": false
   },
   "outputs": [
    {
     "data": {
      "text/html": [
       "<script type=\"text/javascript\">window.PLOTLYENV=window.PLOTLYENV || {};window.PLOTLYENV.BASE_URL=\"https://plot.ly\";</script>"
      ],
      "text/plain": [
       "<IPython.core.display.HTML object>"
      ]
     },
     "metadata": {},
     "output_type": "display_data"
    },
    {
     "data": {
      "text/html": [
       "<div class=\"bdc9c971-f3f1-4ff2-b130-7223da2f7ddf loading\" style=\"color: rgb(50,50,50);\">Drawing...</div><div id=\"bdc9c971-f3f1-4ff2-b130-7223da2f7ddf\" style=\"height: 525; width: 100%;\" class=\"plotly-graph-div\"></div><script type=\"text/javascript\">Plotly.plot(\"bdc9c971-f3f1-4ff2-b130-7223da2f7ddf\", [{\"x\": [110, 110, 93, 110, 175, 105, 245, 62, 95, 123, 123, 180, 180, 180, 205, 215, 230, 66, 52, 65, 97, 150, 150, 245, 175, 66, 91, 113, 264, 175, 335, 109], \"text\": \"\", \"type\": \"scatter\", \"name\": \"mpg\", \"line\": {\"dash\": \"solid\", \"color\": \"rgba(0, 128, 0, 1.0)\", \"width\": 1.3}, \"marker\": {\"symbol\": \"dot\", \"size\": 12}, \"mode\": \"markers\", \"y\": [21.0, 21.0, 22.8, 21.4, 18.7, 18.1, 14.3, 24.4, 22.8, 19.2, 17.8, 16.4, 17.3, 15.2, 10.4, 10.4, 14.7, 32.4, 30.4, 33.9, 21.5, 15.5, 15.2, 13.3, 19.2, 27.3, 26.0, 30.4, 15.8, 19.7, 15.0, 21.4]}], {\"titlefont\": {\"color\": \"#151516\"}, \"paper_bgcolor\": \"#FFFFFF\", \"plot_bgcolor\": \"#E5E5E5\", \"legend\": {\"bgcolor\": \"#FFFFFF\", \"font\": {\"color\": \"#666666\"}}, \"xaxis1\": {\"gridcolor\": \"#F6F6F6\", \"titlefont\": {\"color\": \"#666666\"}, \"zerolinecolor\": \"#F6F6F6\", \"title\": \"Horsepower\", \"tickfont\": {\"color\": \"#666666\"}, \"showgrid\": true}, \"title\": \"Relationship between horsepower and MPG\", \"yaxis1\": {\"gridcolor\": \"#F6F6F6\", \"titlefont\": {\"color\": \"#666666\"}, \"zerolinecolor\": \"#F6F6F6\", \"title\": \"MPG\", \"tickfont\": {\"color\": \"#666666\"}, \"showgrid\": true}}, {\"showLink\": true, \"linkText\": \"Export to plot.ly\"}).then(function() {\n",
       "    $(\".bdc9c971-f3f1-4ff2-b130-7223da2f7ddf.loading\").remove();\n",
       "})</script>"
      ],
      "text/plain": [
       "<IPython.core.display.HTML object>"
      ]
     },
     "metadata": {},
     "output_type": "display_data"
    }
   ],
   "source": [
    "mtcars[['hp', 'mpg']].iplot(kind='scatter', mode='markers', x='hp', y='mpg', \n",
    "                            xTitle='Horsepower', yTitle='MPG', colors='green',\n",
    "                            title='Relationship between horsepower and MPG')"
   ]
  },
  {
   "cell_type": "markdown",
   "metadata": {},
   "source": [
    "### Generate corelation matrix"
   ]
  },
  {
   "cell_type": "code",
   "execution_count": 197,
   "metadata": {
    "collapsed": false
   },
   "outputs": [
    {
     "data": {
      "text/html": [
       "<script type=\"text/javascript\">window.PLOTLYENV=window.PLOTLYENV || {};window.PLOTLYENV.BASE_URL=\"https://plot.ly\";</script>"
      ],
      "text/plain": [
       "<IPython.core.display.HTML object>"
      ]
     },
     "metadata": {},
     "output_type": "display_data"
    },
    {
     "data": {
      "text/html": [
       "<div class=\"1243ddb4-f271-47d2-acd4-01e20aef70f6 loading\" style=\"color: rgb(50,50,50);\">Drawing...</div><div id=\"1243ddb4-f271-47d2-acd4-01e20aef70f6\" style=\"height: 525; width: 100%;\" class=\"plotly-graph-div\"></div><script type=\"text/javascript\">Plotly.plot(\"1243ddb4-f271-47d2-acd4-01e20aef70f6\", [{\"nbinsx\": 10, \"x\": [21.0, 21.0, 22.8, 21.4, 18.7, 18.1, 14.3, 24.4, 22.8, 19.2, 17.8, 16.4, 17.3, 15.2, 10.4, 10.4, 14.7, 32.4, 30.4, 33.9, 21.5, 15.5, 15.2, 13.3, 19.2, 27.3, 26.0, 30.4, 15.8, 19.7, 15.0, 21.4], \"opacity\": 0.8, \"orientation\": \"v\", \"type\": \"histogram\", \"yaxis\": \"y1\", \"histfunc\": \"count\", \"name\": \"mpg\", \"xaxis\": \"x1\", \"histnorm\": \"\", \"marker\": {\"line\": {\"color\": \"#D9D9D9\", \"width\": 1.3}, \"color\": \"rgba(226, 74, 51, 1.0)\"}}, {\"x\": [110, 110, 93, 110, 175, 105, 245, 62, 95, 123, 123, 180, 180, 180, 205, 215, 230, 66, 52, 65, 97, 150, 150, 245, 175, 66, 91, 113, 264, 175, 335, 109], \"text\": \"\", \"type\": \"scatter\", \"yaxis\": \"y2\", \"name\": \"mpg\", \"line\": {\"dash\": \"solid\", \"color\": \"rgba(128, 128, 128, 1.0)\", \"width\": 1.3}, \"y\": [21.0, 21.0, 22.8, 21.4, 18.7, 18.1, 14.3, 24.4, 22.8, 19.2, 17.8, 16.4, 17.3, 15.2, 10.4, 10.4, 14.7, 32.4, 30.4, 33.9, 21.5, 15.5, 15.2, 13.3, 19.2, 27.3, 26.0, 30.4, 15.8, 19.7, 15.0, 21.4], \"xaxis\": \"x2\", \"mode\": \"markers\", \"marker\": {\"symbol\": \"dot\", \"size\": 2}}, {\"x\": [6, 6, 4, 6, 8, 6, 8, 4, 4, 6, 6, 8, 8, 8, 8, 8, 8, 4, 4, 4, 4, 8, 8, 8, 8, 4, 4, 4, 8, 6, 8, 4], \"text\": \"\", \"type\": \"scatter\", \"yaxis\": \"y3\", \"name\": \"mpg\", \"line\": {\"dash\": \"solid\", \"color\": \"rgba(128, 128, 128, 1.0)\", \"width\": 1.3}, \"y\": [21.0, 21.0, 22.8, 21.4, 18.7, 18.1, 14.3, 24.4, 22.8, 19.2, 17.8, 16.4, 17.3, 15.2, 10.4, 10.4, 14.7, 32.4, 30.4, 33.9, 21.5, 15.5, 15.2, 13.3, 19.2, 27.3, 26.0, 30.4, 15.8, 19.7, 15.0, 21.4], \"xaxis\": \"x3\", \"mode\": \"markers\", \"marker\": {\"symbol\": \"dot\", \"size\": 2}}, {\"x\": [21.0, 21.0, 22.8, 21.4, 18.7, 18.1, 14.3, 24.4, 22.8, 19.2, 17.8, 16.4, 17.3, 15.2, 10.4, 10.4, 14.7, 32.4, 30.4, 33.9, 21.5, 15.5, 15.2, 13.3, 19.2, 27.3, 26.0, 30.4, 15.8, 19.7, 15.0, 21.4], \"text\": \"\", \"type\": \"scatter\", \"yaxis\": \"y4\", \"name\": \"hp\", \"line\": {\"dash\": \"solid\", \"color\": \"rgba(128, 128, 128, 1.0)\", \"width\": 1.3}, \"y\": [110, 110, 93, 110, 175, 105, 245, 62, 95, 123, 123, 180, 180, 180, 205, 215, 230, 66, 52, 65, 97, 150, 150, 245, 175, 66, 91, 113, 264, 175, 335, 109], \"xaxis\": \"x4\", \"mode\": \"markers\", \"marker\": {\"symbol\": \"dot\", \"size\": 2}}, {\"nbinsx\": 10, \"x\": [110, 110, 93, 110, 175, 105, 245, 62, 95, 123, 123, 180, 180, 180, 205, 215, 230, 66, 52, 65, 97, 150, 150, 245, 175, 66, 91, 113, 264, 175, 335, 109], \"opacity\": 0.8, \"orientation\": \"v\", \"type\": \"histogram\", \"yaxis\": \"y5\", \"histfunc\": \"count\", \"name\": \"hp\", \"xaxis\": \"x5\", \"histnorm\": \"\", \"marker\": {\"line\": {\"color\": \"#D9D9D9\", \"width\": 1.3}, \"color\": \"rgba(62, 111, 176, 1.0)\"}}, {\"x\": [6, 6, 4, 6, 8, 6, 8, 4, 4, 6, 6, 8, 8, 8, 8, 8, 8, 4, 4, 4, 4, 8, 8, 8, 8, 4, 4, 4, 8, 6, 8, 4], \"text\": \"\", \"type\": \"scatter\", \"yaxis\": \"y6\", \"name\": \"hp\", \"line\": {\"dash\": \"solid\", \"color\": \"rgba(128, 128, 128, 1.0)\", \"width\": 1.3}, \"y\": [110, 110, 93, 110, 175, 105, 245, 62, 95, 123, 123, 180, 180, 180, 205, 215, 230, 66, 52, 65, 97, 150, 150, 245, 175, 66, 91, 113, 264, 175, 335, 109], \"xaxis\": \"x6\", \"mode\": \"markers\", \"marker\": {\"symbol\": \"dot\", \"size\": 2}}, {\"x\": [21.0, 21.0, 22.8, 21.4, 18.7, 18.1, 14.3, 24.4, 22.8, 19.2, 17.8, 16.4, 17.3, 15.2, 10.4, 10.4, 14.7, 32.4, 30.4, 33.9, 21.5, 15.5, 15.2, 13.3, 19.2, 27.3, 26.0, 30.4, 15.8, 19.7, 15.0, 21.4], \"text\": \"\", \"type\": \"scatter\", \"yaxis\": \"y7\", \"name\": \"cyl\", \"line\": {\"dash\": \"solid\", \"color\": \"rgba(128, 128, 128, 1.0)\", \"width\": 1.3}, \"y\": [6, 6, 4, 6, 8, 6, 8, 4, 4, 6, 6, 8, 8, 8, 8, 8, 8, 4, 4, 4, 4, 8, 8, 8, 8, 4, 4, 4, 8, 6, 8, 4], \"xaxis\": \"x7\", \"mode\": \"markers\", \"marker\": {\"symbol\": \"dot\", \"size\": 2}}, {\"x\": [110, 110, 93, 110, 175, 105, 245, 62, 95, 123, 123, 180, 180, 180, 205, 215, 230, 66, 52, 65, 97, 150, 150, 245, 175, 66, 91, 113, 264, 175, 335, 109], \"text\": \"\", \"type\": \"scatter\", \"yaxis\": \"y8\", \"name\": \"cyl\", \"line\": {\"dash\": \"solid\", \"color\": \"rgba(128, 128, 128, 1.0)\", \"width\": 1.3}, \"y\": [6, 6, 4, 6, 8, 6, 8, 4, 4, 6, 6, 8, 8, 8, 8, 8, 8, 4, 4, 4, 4, 8, 8, 8, 8, 4, 4, 4, 8, 6, 8, 4], \"xaxis\": \"x8\", \"mode\": \"markers\", \"marker\": {\"symbol\": \"dot\", \"size\": 2}}, {\"nbinsx\": 10, \"x\": [6, 6, 4, 6, 8, 6, 8, 4, 4, 6, 6, 8, 8, 8, 8, 8, 8, 4, 4, 4, 4, 8, 8, 8, 8, 4, 4, 4, 8, 6, 8, 4], \"opacity\": 0.8, \"orientation\": \"v\", \"type\": \"histogram\", \"yaxis\": \"y9\", \"histfunc\": \"count\", \"name\": \"cyl\", \"xaxis\": \"x9\", \"histnorm\": \"\", \"marker\": {\"line\": {\"color\": \"#D9D9D9\", \"width\": 1.3}, \"color\": \"rgba(132, 118, 202, 1.0)\"}}], {\"yaxis4\": {\"domain\": [0.3566666666666667, 0.6433333333333333], \"anchor\": \"x4\"}, \"titlefont\": {\"color\": \"#151516\"}, \"xaxis5\": {\"domain\": [0.35, 0.6499999999999999], \"anchor\": \"y5\"}, \"xaxis9\": {\"domain\": [0.7, 1.0], \"anchor\": \"y9\"}, \"xaxis8\": {\"domain\": [0.35, 0.6499999999999999], \"anchor\": \"y8\"}, \"xaxis1\": {\"gridcolor\": \"#F6F6F6\", \"titlefont\": {\"color\": \"#666666\"}, \"zerolinecolor\": \"#F6F6F6\", \"domain\": [0.0, 0.3], \"tickfont\": {\"color\": \"#666666\"}, \"anchor\": \"y1\", \"title\": \"\", \"showgrid\": false}, \"xaxis4\": {\"domain\": [0.0, 0.3], \"anchor\": \"y4\"}, \"xaxis3\": {\"domain\": [0.7, 1.0], \"anchor\": \"y3\"}, \"yaxis9\": {\"domain\": [0.0, 0.2866666666666667], \"anchor\": \"x9\"}, \"yaxis2\": {\"domain\": [0.7133333333333334, 1.0], \"anchor\": \"x2\"}, \"yaxis8\": {\"domain\": [0.0, 0.2866666666666667], \"anchor\": \"x8\"}, \"paper_bgcolor\": \"#FFFFFF\", \"plot_bgcolor\": \"#E5E5E5\", \"xaxis2\": {\"domain\": [0.35, 0.6499999999999999], \"anchor\": \"y2\"}, \"xaxis7\": {\"domain\": [0.0, 0.3], \"anchor\": \"y7\"}, \"showlegend\": false, \"yaxis7\": {\"domain\": [0.0, 0.2866666666666667], \"anchor\": \"x7\"}, \"xaxis6\": {\"domain\": [0.7, 1.0], \"anchor\": \"y6\"}, \"yaxis3\": {\"domain\": [0.7133333333333334, 1.0], \"anchor\": \"x3\"}, \"legend\": {\"bgcolor\": \"#FFFFFF\", \"font\": {\"color\": \"#666666\"}}, \"bargap\": 0.02, \"yaxis1\": {\"gridcolor\": \"#F6F6F6\", \"titlefont\": {\"color\": \"#666666\"}, \"zerolinecolor\": \"#F6F6F6\", \"domain\": [0.7133333333333334, 1.0], \"tickfont\": {\"color\": \"#666666\"}, \"anchor\": \"x1\", \"title\": \"\", \"showgrid\": false}, \"yaxis5\": {\"domain\": [0.3566666666666667, 0.6433333333333333], \"anchor\": \"x5\"}, \"yaxis6\": {\"domain\": [0.3566666666666667, 0.6433333333333333], \"anchor\": \"x6\"}}, {\"showLink\": true, \"linkText\": \"Export to plot.ly\"}).then(function() {\n",
       "    $(\".1243ddb4-f271-47d2-acd4-01e20aef70f6.loading\").remove();\n",
       "})</script>"
      ],
      "text/plain": [
       "<IPython.core.display.HTML object>"
      ]
     },
     "metadata": {},
     "output_type": "display_data"
    }
   ],
   "source": [
    "df = mtcars[['mpg', 'hp', 'cyl']]\n",
    "df.scatter_matrix()\n",
    "\n",
    "# Use KDE for the diagonals later"
   ]
  },
  {
   "cell_type": "markdown",
   "metadata": {},
   "source": [
    "# Working on the command line\n",
    "\n",
    "Now we will discuss working on the command line. For this section and the next section on git and GitHub we will use slides from the [Data Science Specialization](https://github.com/DataScienceSpecialization/courses/tree/master/01_DataScientistToolbox) course on Coursera.  These slides are available from \n",
    "\n",
    "* [Command line interface](https://github.com/DataScienceSpecialization/courses/tree/master/01_DataScientistToolbox/02_03_commandLineInterface) \n"
   ]
  },
  {
   "cell_type": "markdown",
   "metadata": {},
   "source": [
    "# Introduction to git and GitHub\n",
    "\n",
    "Next we introduce git and GitHub. For this section we will also use slides from [Data Science Specialization](https://github.com/DataScienceSpecialization/courses/tree/master/01_DataScientistToolbox) course on Coursera.  These slides are available from \n",
    "\n",
    "* [Introduction to git](https://github.com/DataScienceSpecialization/courses/tree/master/01_DataScientistToolbox/02_04_01_introToGit) \n",
    "* [Github](https://github.com/DataScienceSpecialization/courses/tree/master/01_DataScientistToolbox/02_05_github)\n",
    "* [Create a new repo](https://github.com/DataScienceSpecialization/courses/tree/master/01_DataScientistToolbox/02_06_01_createNewRepo)\n",
    "* [Fork a repository](https://github.com/DataScienceSpecialization/courses/tree/master/01_DataScientistToolbox/02_06_02_forkRepo)\n",
    "* [Basic git commands](https://github.com/DataScienceSpecialization/courses/tree/master/01_DataScientistToolbox/02_07_01_basicGitCommands)\n",
    "* [git workflow](https://github.com/DataScienceSpecialization/courses/tree/master/01_DataScientistToolbox/02_07_02_gitWorkflow)\n",
    "\n",
    "Other useful resources for learning git and github: \n",
    "* [Interactive tutorial to learn git (only takes under 15 mins to complete!)](https://try.github.io/levels/1/challenges/1)\n",
    "* [Github guides](https://guides.github.com)\n",
    "* [git - the simple guide](http://rogerdudler.github.io/git-guide/)\n",
    "* [Github Youtube videos](https://www.youtube.com/user/GitHubGuides)"
   ]
  },
  {
   "cell_type": "markdown",
   "metadata": {},
   "source": [
    "# Your turn\n",
    "\n",
    "* If you don't have a github account yet, [register for a github account](https://github.com/join)\n",
    "* Use `git clone` to clone the [CS109 2014 course repository](https://github.com/cs109/2014) on Github\n",
    "* Use `git clone` to clone the [CS109 2014 data repository](https://github.com/cs109/2014_data) on Github\n",
    "\n"
   ]
  },
  {
   "cell_type": "code",
   "execution_count": null,
   "metadata": {
    "collapsed": false
   },
   "outputs": [],
   "source": []
  }
 ],
 "metadata": {
  "kernelspec": {
   "display_name": "Python 3",
   "language": "python",
   "name": "python3"
  },
  "language_info": {
   "codemirror_mode": {
    "name": "ipython",
    "version": 3
   },
   "file_extension": ".py",
   "mimetype": "text/x-python",
   "name": "python",
   "nbconvert_exporter": "python",
   "pygments_lexer": "ipython3",
   "version": "3.5.0"
  }
 },
 "nbformat": 4,
 "nbformat_minor": 0
}
