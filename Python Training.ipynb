{
 "cells": [
  {
   "cell_type": "markdown",
   "metadata": {},
   "source": [
    "## Python Decorators"
   ]
  },
  {
   "cell_type": "code",
   "execution_count": 204,
   "metadata": {
    "collapsed": false
   },
   "outputs": [
    {
     "name": "stdout",
     "output_type": "stream",
     "text": [
      "I'm adding 1 now...\n",
      "I'm multiplying by 2 now \n"
     ]
    },
    {
     "data": {
      "text/plain": [
       "27"
      ]
     },
     "execution_count": 204,
     "metadata": {},
     "output_type": "execute_result"
    }
   ],
   "source": [
    "## Function that takes another function as argument and returns another function\n",
    "\n",
    "\n",
    "def plus_one(f):\n",
    "    # A decorator that adds 1\n",
    "    def new_func(x):\n",
    "        print(\"I'm adding 1 now...\")\n",
    "        return f(x) + 1\n",
    "    return new_func\n",
    "\n",
    "\n",
    "def times_two(f):\n",
    "    # A decorator that multiplies by 2\n",
    "    def new_func(x):\n",
    "        print(\"I'm multiplying by 2 now \")      \n",
    "        return f(x) * 2\n",
    "    return new_func\n",
    "\n",
    "# A decorated function\n",
    "\n",
    "@plus_one\n",
    "@times_two\n",
    "def foo(x):\n",
    "    return int(x)\n",
    "\n",
    "\n",
    "foo(13)"
   ]
  },
  {
   "cell_type": "code",
   "execution_count": 200,
   "metadata": {
    "collapsed": false
   },
   "outputs": [
    {
     "name": "stdout",
     "output_type": "stream",
     "text": [
      "Calling with ([10, 25, 38],) and {}\n",
      "Return value is 3\n",
      "<function loud.<locals>.new_func at 0x10588e048>\n"
     ]
    }
   ],
   "source": [
    "def loud(f):\n",
    "    def new_func(*args, **kw):\n",
    "        print('Calling with {} and {}'.format(args, kw))\n",
    "        rtn = f(*args, **kw)\n",
    "        print('Return value is {}'.format(rtn))\n",
    "        return rtn\n",
    "    return new_func\n",
    "\n",
    "louder = loud(len)\n",
    "numbr = louder([10,25,38])\n",
    "print(louder)"
   ]
  },
  {
   "cell_type": "markdown",
   "metadata": {},
   "source": [
    "# # URLparse"
   ]
  },
  {
   "cell_type": "code",
   "execution_count": 131,
   "metadata": {
    "collapsed": false
   },
   "outputs": [
    {
     "name": "stdout",
     "output_type": "stream",
     "text": [
      "ParseResult(scheme='https', netloc='www.youtube.com', path='/watch', params='', query='v=x3nvbzSm4GU&list=RDx3nvbzSm4GU&spfreload=10', fragment='t=5')\n"
     ]
    }
   ],
   "source": [
    "from contextlib import closing\n",
    "from urllib.parse import urlparse\n",
    "\n",
    "vurl = \"https://www.youtube.com/watch?v=x3nvbzSm4GU&list=RDx3nvbzSm4GU&spfreload=10#t=5\"\n",
    "\n",
    "def validate_url(vidlix_url):\n",
    "        \"\"\" Validate that the link is valid Youtube URL \"\"\"\n",
    "        error = None\n",
    "        vidlixer = urlparse(vidlix_url)\n",
    "        if vidlixer.netloc != 'www.youtube.com':\n",
    "            error = 'Only Youtube link are accepted for now'\n",
    "        elif vidlixer.scheme != 'http' or 'https':\n",
    "            error = \"please include 'http://' or 'https://' in your link\"\n",
    "        return error\n",
    "\n",
    "vidlix = urlparse(vurl)\n",
    "\n",
    "print(vidlix)\n",
    "\n"
   ]
  },
  {
   "cell_type": "markdown",
   "metadata": {},
   "source": [
    "##Using the sys module"
   ]
  },
  {
   "cell_type": "code",
   "execution_count": 165,
   "metadata": {
    "collapsed": false
   },
   "outputs": [
    {
     "name": "stdout",
     "output_type": "stream",
     "text": [
      "darwin\n",
      "\n",
      "3.4.3 |Anaconda 2.2.0 (x86_64)| (default, Mar  6 2015, 12:07:41) \n",
      "[GCC 4.2.1 (Apple Inc. build 5577)]\n",
      "\n",
      "sys.version_info(major=3, minor=4, micro=3, releaselevel='final', serial=0)\n"
     ]
    }
   ],
   "source": [
    "import sys\n",
    "\n",
    "\n",
    "print(sys.platform)\n",
    "print()\n",
    "print(sys.version)\n",
    "print()\n",
    "print(sys.version_info)\n"
   ]
  },
  {
   "cell_type": "markdown",
   "metadata": {},
   "source": [
    "## Using the os module"
   ]
  },
  {
   "cell_type": "code",
   "execution_count": 176,
   "metadata": {
    "collapsed": false
   },
   "outputs": [
    {
     "name": "stdout",
     "output_type": "stream",
     "text": [
      "/Users/RichardAfolabi/myGitHub\n",
      "\n",
      "['.DS_Store', '.ipynb_checkpoints', 'Data_Analysis_with_Python', 'DataScience_Materials', 'Flask Web Frameworks Playground.ipynb', 'flask-oauth-example', 'flasky', 'Mining_Social_Network_Data', 'oreilly-intro-to-flask-video', 'Programming Python 4th Edtn.ipynb', 'Python_Web_Programming', 'Scientific-Python', 'Templates']\n",
      "\n",
      "('/Users/RichardAfolabi/myGitHub', 'Programming Python 4th Edtn.ipynb')\n",
      "\n",
      "True\n",
      "\n",
      "/Users/RichardAfolabi/myGitHub/Programming Python 4th Edtn.ipynb\n",
      "\n",
      "/Users/RichardAfolabi/myGitHub\n",
      "\n",
      "Programming Python 4th Edtn.ipynb\n",
      "\n",
      "('/Users/RichardAfolabi/myGitHub/Programming Python 4th Edtn', '.ipynb')\n",
      "\n",
      "/Users/RichardAfolabi/myGitHub/Programming Python 4th Edtn.ipynb\n"
     ]
    }
   ],
   "source": [
    "import os\n",
    "\n",
    "print(os.getcwd() )\n",
    "\n",
    "print()\n",
    "print(os.listdir() )\n",
    "\n",
    "print()\n",
    "print(os.path.split(\"/Users/RichardAfolabi/myGitHub/Programming Python 4th Edtn.ipynb\"))\n",
    "\n",
    "print()\n",
    "print(os.path.isfile(\"/Users/RichardAfolabi/myGitHub/Programming Python 4th Edtn.ipynb\"))\n",
    "\n",
    "print()\n",
    "print(os.path.abspath(\"/Users/RichardAfolabi/myGitHub/Programming Python 4th Edtn.ipynb\"))\n",
    "\n",
    "print()\n",
    "print(os.path.dirname(\"/Users/RichardAfolabi/myGitHub/Programming Python 4th Edtn.ipynb\"))\n",
    "\n",
    "print()\n",
    "print(os.path.basename(\"/Users/RichardAfolabi/myGitHub/Programming Python 4th Edtn.ipynb\"))\n",
    "\n",
    "print()\n",
    "print(os.path.splitext(\"/Users/RichardAfolabi/myGitHub/Programming Python 4th Edtn.ipynb\"))\n",
    "\n",
    "print()\n",
    "print(os.path.expanduser(\"/Users/RichardAfolabi/myGitHub/Programming Python 4th Edtn.ipynb\"))"
   ]
  },
  {
   "cell_type": "code",
   "execution_count": 1,
   "metadata": {
    "collapsed": false
   },
   "outputs": [
    {
     "name": "stdout",
     "output_type": "stream",
     "text": [
      "23 Apr, 2015\n"
     ]
    }
   ],
   "source": [
    "from datetime import datetime\n",
    "\n",
    "mydate = datetime.utcnow()\n",
    "\n",
    "print(mydate.strftime(\"%d %b, %Y\"))"
   ]
  },
  {
   "cell_type": "code",
   "execution_count": 34,
   "metadata": {
    "collapsed": false
   },
   "outputs": [
    {
     "name": "stdout",
     "output_type": "stream",
     "text": [
      "Categories.Fun\n",
      "Categories.Family\n",
      "Categories.Comedy\n",
      "Categories.Animations\n",
      "Categories.Politics\n",
      "{'last': 'Smith', 'first': 'Bob'}\n"
     ]
    }
   ],
   "source": [
    "from enum import Enum\n",
    "\n",
    "categories = Enum('Categories','Fun Family Comedy Animations Politics')\n",
    "\n",
    "\n",
    "for cat in categories:\n",
    "    print(cat)\n",
    "    \n",
    "    \n",
    "\n",
    "    \n",
    "category = 'fun, comedy, animations'\n",
    "\n",
    "[cat.strip() for cat in category.split(',')]\n",
    "\n",
    "\n",
    "bob = {'name': {'first': 'Bob', 'last': 'Smith'}, \n",
    "        'age': 42,\n",
    "        'job': ['software', 'writing'], \n",
    "        'pay': (40000, 50000)\n",
    "       }\n",
    "\n"
   ]
  },
  {
   "cell_type": "markdown",
   "metadata": {},
   "source": [
    "## Masking & Fancy Slicing"
   ]
  },
  {
   "cell_type": "code",
   "execution_count": 85,
   "metadata": {
    "collapsed": false
   },
   "outputs": [
    {
     "name": "stdout",
     "output_type": "stream",
     "text": [
      "[ 0.94978612  0.42026056  0.61720658  0.68778524  0.4611995 ]\n",
      "[ 0.94978612  0.61720658  0.68778524]\n",
      "[[ 0  1  2  3  4  5]\n",
      " [ 6  7  8  9 10 11]\n",
      " [12 13 14 15 16 17]\n",
      " [18 19 20 21 22 23]\n",
      " [24 25 26 27 28 29]\n",
      " [30 31 32 33 34 35]]\n",
      "\n",
      "\n",
      " [[18 20 23]\n",
      " [24 26 29]\n",
      " [30 32 35]]\n",
      "\n",
      "\n",
      " [[16 17 18 19 20 21 22 23 24 25]\n",
      " [26 27 28 29 30 31 32 33 34 35]]\n"
     ]
    }
   ],
   "source": [
    "import numpy as np\n",
    "\n",
    "\n",
    "ar = np.random.rand(5)\n",
    "\n",
    "print(ar)\n",
    "\n",
    "mask = ar > 0.5\n",
    "\n",
    "print(ar[mask])\n",
    "\n",
    "\n",
    "\n",
    "ar3 = np.arange(36).reshape((6,6))\n",
    "print(ar3)\n",
    "\n",
    "# Select all elements from row 3 to end and cols 0, 2, and 5.\n",
    "print('\\n\\n', ar3[3:,[0,2,5]])\n",
    "\n",
    "\n",
    "# select all elements greater than 15\n",
    "\n",
    "mask = ar3 > 15\n",
    "print('\\n\\n', ar3[mask].reshape(2,10))\n"
   ]
  },
  {
   "cell_type": "code",
   "execution_count": null,
   "metadata": {
    "collapsed": true
   },
   "outputs": [],
   "source": []
  },
  {
   "cell_type": "code",
   "execution_count": null,
   "metadata": {
    "collapsed": true
   },
   "outputs": [],
   "source": []
  }
 ],
 "metadata": {
  "kernelspec": {
   "display_name": "Python 3",
   "language": "python",
   "name": "python3"
  },
  "language_info": {
   "codemirror_mode": {
    "name": "ipython",
    "version": 3
   },
   "file_extension": ".py",
   "mimetype": "text/x-python",
   "name": "python",
   "nbconvert_exporter": "python",
   "pygments_lexer": "ipython3",
   "version": "3.4.3"
  }
 },
 "nbformat": 4,
 "nbformat_minor": 0
}
