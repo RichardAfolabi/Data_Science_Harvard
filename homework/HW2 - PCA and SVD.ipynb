{
 "cells": [
  {
   "cell_type": "markdown",
   "metadata": {},
   "source": [
    "# Homework 2: More Exploratory Data Analysis\n",
    "## Gene Expression Data and Election Polls \n",
    "\n",
    "Due: Thursday, October 2, 2014 11:59 PM\n",
    "\n",
    "<a href=https://raw.githubusercontent.com/cs109/2014/master/homework/HW2.ipynb download=HW2.ipynb> Download this assignment</a>\n",
    "\n",
    "#### Submission Instructions\n",
    "To submit your homework, create a folder named lastname_firstinitial_hw# and place your IPython notebooks, data files, and any other files in this folder. Your IPython Notebooks should be completely executed with the results visible in the notebook. We should not have to run any code. Compress the folder (please use .zip compression) and submit to the CS109 dropbox in the appropriate folder. If we cannot access your work because these directions are not followed correctly, we will not grade your work.\n",
    "\n",
    "\n",
    "---"
   ]
  },
  {
   "cell_type": "markdown",
   "metadata": {},
   "source": [
    "## Introduction\n",
    "\n",
    "John Tukey wrote in [Exploratory Data Analysis, 1977](http://www.amazon.com/Exploratory-Data-Analysis-Wilder-Tukey/dp/0201076160/ref=pd_bbs_sr_2/103-4466654-5303007?ie=UTF8&s=books&qid=1189739816&sr=8-2): \"The greatest value of a picture is when it forces us to notice what we never expected to see.\" In this assignment we will continue using our exploratory data analysis tools, but apply it to new sets of data: [gene expression](http://en.wikipedia.org/wiki/Gene_expression) and polls from the [2012 Presidental Election](http://en.wikipedia.org/wiki/United_States_presidential_election,_2012) and from the [2014 Senate Midterm Elections](http://en.wikipedia.org/wiki/United_States_Senate_elections,_2014).   \n",
    "\n",
    "**First**: You will use exploratory data analysis and apply the [singular value decomposition](http://en.wikipedia.org/wiki/Singular_value_decomposition) (SVD) to a gene expression data matrix to determine if the the date that the gene expression samples are processed has large effect on the variability seen in the data.  \n",
    "\n",
    "**Second**: You will use the polls from the 2012 Presidential Elections to determine (1) Is there a pollster bias in presidential election polls? and (2) Is the average of polls better than just one poll?\n",
    "\n",
    "**Finally**: You will use the [HuffPost Pollster API](http://elections.huffingtonpost.com/pollster/api) to extract the polls for the current 2014 Senate Midterm Elections and provide a preliminary prediction of the result of each state.\n",
    "\n",
    "#### Data\n",
    "\n",
    "We will use the following data sets: \n",
    "\n",
    "1. A gene expression data set called `exprs_GSE5859.csv` and sample annotation table called `sampleinfo_GSE5859.csv` which are both available on Github in the 2014_data repository: [expression data set](https://github.com/cs109/2014_data/blob/master/exprs_GSE5859.csv) and [sample annotation table](https://github.com/cs109/2014_data/blob/master/sampleinfo_GSE5859.csv).  \n",
    "\n",
    "2. Polls from the [2012 Presidential Election: Barack Obama vs Mitt Romney](http://elections.huffingtonpost.com/pollster/2012-general-election-romney-vs-obama). The polls we will use are from the [Huffington Post Pollster](http://elections.huffingtonpost.com/pollster).  \n",
    "\n",
    "3. Polls from the [2014 Senate Midterm Elections](http://elections.huffingtonpost.com/pollster) from the [HuffPost Pollster API](http://elections.huffingtonpost.com/pollster/api). \n",
    "\n",
    "---"
   ]
  },
  {
   "cell_type": "markdown",
   "metadata": {},
   "source": [
    "## Load Python modules"
   ]
  },
  {
   "cell_type": "code",
   "execution_count": 4,
   "metadata": {
    "collapsed": false
   },
   "outputs": [],
   "source": [
    "# special IPython command to prepare the notebook for matplotlib\n",
    "%matplotlib inline \n",
    "\n",
    "import requests \n",
    "# from StringIO import StringIO\n",
    "import numpy as np\n",
    "import pandas as pd \n",
    "import scipy as sp        # module for performing linear algebra operations\n",
    "\n",
    "pd.set_option('notebook_repr_html', True)\n",
    "import matplotlib.pyplot as plt # module for plotting \n",
    "import datetime as dt # module for manipulating dates and times\n",
    "\n",
    "# Make the graphs a bit prettier, and bigger\n",
    "pd.set_option('display.mpl_style', 'default')\n",
    "\n",
    "import plotly.plotly as py\n",
    "import plotly.graph_objs as go\n",
    "import cufflinks as cf\n",
    "\n",
    "cf.set_config_file(theme='ggplot',sharing='public', offline=False, world_readable=True)\n"
   ]
  },
  {
   "cell_type": "markdown",
   "metadata": {},
   "source": [
    "## Problem 1\n",
    "\n",
    "In this problem we will be using a [gene expression](http://en.wikipedia.org/wiki/Gene_expression) data set obtained from a [microarray](http://en.wikipedia.org/wiki/DNA_microarray) experiement [Read more about the specific experiment here](http://www.ncbi.nlm.nih.gov/geo/query/acc.cgi?acc=GSE5859).  There are two data sets we will use:  \n",
    "\n",
    "1. The gene expression intensities where the rows represent the features on the microarray (e.g. genes) and the columsns represent the different microarray samples.  \n",
    "\n",
    "2. A table that contains the information about each of the samples (columns in the gene expression data set) such as the sex, the age, the treatment status, the date the samples were processed.  Each row represents one sample. "
   ]
  },
  {
   "cell_type": "markdown",
   "metadata": {},
   "source": [
    "#### Problem 1(a) \n",
    "Read in the two files from Github: [exprs_GSE5859.csv](https://github.com/cs109/2014_data/blob/master/exprs_GSE5859.csv) and [sampleinfo_GSE5859.csv](https://github.com/cs109/2014_data/blob/master/sampleinfo_GSE5859.csv) as pandas DataFrames called `exprs` and `sampleinfo`. Use the gene names as the index of the `exprs` DataFrame."
   ]
  },
  {
   "cell_type": "code",
   "execution_count": 5,
   "metadata": {
    "collapsed": false
   },
   "outputs": [
    {
     "data": {
      "text/html": [
       "<div>\n",
       "<table border=\"1\" class=\"dataframe\">\n",
       "  <thead>\n",
       "    <tr style=\"text-align: right;\">\n",
       "      <th></th>\n",
       "      <th>ethnicity</th>\n",
       "      <th>date</th>\n",
       "      <th>filename</th>\n",
       "      <th>sex</th>\n",
       "    </tr>\n",
       "  </thead>\n",
       "  <tbody>\n",
       "    <tr>\n",
       "      <th>0</th>\n",
       "      <td>CEU</td>\n",
       "      <td>2003-02-04</td>\n",
       "      <td>GSM25349.CEL.gz</td>\n",
       "      <td>M</td>\n",
       "    </tr>\n",
       "    <tr>\n",
       "      <th>1</th>\n",
       "      <td>CEU</td>\n",
       "      <td>2003-02-04</td>\n",
       "      <td>GSM25350.CEL.gz</td>\n",
       "      <td>M</td>\n",
       "    </tr>\n",
       "    <tr>\n",
       "      <th>2</th>\n",
       "      <td>CEU</td>\n",
       "      <td>2002-12-17</td>\n",
       "      <td>GSM25356.CEL.gz</td>\n",
       "      <td>M</td>\n",
       "    </tr>\n",
       "  </tbody>\n",
       "</table>\n",
       "</div>"
      ],
      "text/plain": [
       "  ethnicity        date         filename sex\n",
       "0       CEU  2003-02-04  GSM25349.CEL.gz   M\n",
       "1       CEU  2003-02-04  GSM25350.CEL.gz   M\n",
       "2       CEU  2002-12-17  GSM25356.CEL.gz   M"
      ]
     },
     "execution_count": 5,
     "metadata": {},
     "output_type": "execute_result"
    }
   ],
   "source": [
    "sampleinfo = pd.read_csv(\"../2014_data/sampleinfo_GSE5859.csv\", parse_dates=True)\n",
    "sampleinfo.head(3)"
   ]
  },
  {
   "cell_type": "code",
   "execution_count": 6,
   "metadata": {
    "collapsed": false
   },
   "outputs": [
    {
     "data": {
      "text/html": [
       "<div>\n",
       "<table border=\"1\" class=\"dataframe\">\n",
       "  <thead>\n",
       "    <tr style=\"text-align: right;\">\n",
       "      <th>filename</th>\n",
       "      <th>GSM25349.CEL.gz</th>\n",
       "      <th>GSM25350.CEL.gz</th>\n",
       "      <th>GSM25356.CEL.gz</th>\n",
       "      <th>GSM25357.CEL.gz</th>\n",
       "      <th>GSM25358.CEL.gz</th>\n",
       "      <th>GSM25359.CEL.gz</th>\n",
       "      <th>GSM25360.CEL.gz</th>\n",
       "      <th>GSM25361.CEL.gz</th>\n",
       "      <th>GSM25377.CEL.gz</th>\n",
       "      <th>GSM25378.CEL.gz</th>\n",
       "      <th>...</th>\n",
       "      <th>GSM136719.CEL.gz</th>\n",
       "      <th>GSM136720.CEL.gz</th>\n",
       "      <th>GSM136721.CEL.gz</th>\n",
       "      <th>GSM136722.CEL.gz</th>\n",
       "      <th>GSM136723.CEL.gz</th>\n",
       "      <th>GSM136724.CEL.gz</th>\n",
       "      <th>GSM136725.CEL.gz</th>\n",
       "      <th>GSM136726.CEL.gz</th>\n",
       "      <th>GSM136727.CEL.gz</th>\n",
       "      <th>GSM136729.CEL.gz</th>\n",
       "    </tr>\n",
       "  </thead>\n",
       "  <tbody>\n",
       "    <tr>\n",
       "      <th>1007_s_at</th>\n",
       "      <td>6.333951</td>\n",
       "      <td>5.736190</td>\n",
       "      <td>6.156754</td>\n",
       "      <td>6.513010</td>\n",
       "      <td>6.061013</td>\n",
       "      <td>6.506493</td>\n",
       "      <td>6.863426</td>\n",
       "      <td>6.369645</td>\n",
       "      <td>6.646321</td>\n",
       "      <td>5.810930</td>\n",
       "      <td>...</td>\n",
       "      <td>7.082636</td>\n",
       "      <td>6.315866</td>\n",
       "      <td>7.010165</td>\n",
       "      <td>6.460107</td>\n",
       "      <td>6.122355</td>\n",
       "      <td>6.330314</td>\n",
       "      <td>6.627014</td>\n",
       "      <td>6.133068</td>\n",
       "      <td>6.419444</td>\n",
       "      <td>6.488579</td>\n",
       "    </tr>\n",
       "    <tr>\n",
       "      <th>1053_at</th>\n",
       "      <td>7.255622</td>\n",
       "      <td>7.399993</td>\n",
       "      <td>7.491967</td>\n",
       "      <td>7.006123</td>\n",
       "      <td>7.250995</td>\n",
       "      <td>7.082581</td>\n",
       "      <td>6.842236</td>\n",
       "      <td>7.048487</td>\n",
       "      <td>7.042361</td>\n",
       "      <td>6.666625</td>\n",
       "      <td>...</td>\n",
       "      <td>6.599718</td>\n",
       "      <td>7.412731</td>\n",
       "      <td>7.274429</td>\n",
       "      <td>6.928642</td>\n",
       "      <td>7.168782</td>\n",
       "      <td>7.235648</td>\n",
       "      <td>6.939184</td>\n",
       "      <td>7.280781</td>\n",
       "      <td>6.351776</td>\n",
       "      <td>7.517410</td>\n",
       "    </tr>\n",
       "    <tr>\n",
       "      <th>117_at</th>\n",
       "      <td>5.760106</td>\n",
       "      <td>4.825169</td>\n",
       "      <td>5.039387</td>\n",
       "      <td>5.414160</td>\n",
       "      <td>5.205697</td>\n",
       "      <td>5.300078</td>\n",
       "      <td>5.099337</td>\n",
       "      <td>5.156459</td>\n",
       "      <td>5.736109</td>\n",
       "      <td>5.807496</td>\n",
       "      <td>...</td>\n",
       "      <td>6.231457</td>\n",
       "      <td>5.240717</td>\n",
       "      <td>5.275062</td>\n",
       "      <td>5.759827</td>\n",
       "      <td>5.409720</td>\n",
       "      <td>5.491938</td>\n",
       "      <td>5.113570</td>\n",
       "      <td>5.401876</td>\n",
       "      <td>5.537605</td>\n",
       "      <td>5.247190</td>\n",
       "    </tr>\n",
       "  </tbody>\n",
       "</table>\n",
       "<p>3 rows × 208 columns</p>\n",
       "</div>"
      ],
      "text/plain": [
       "filename   GSM25349.CEL.gz  GSM25350.CEL.gz  GSM25356.CEL.gz  GSM25357.CEL.gz  \\\n",
       "1007_s_at         6.333951         5.736190         6.156754         6.513010   \n",
       "1053_at           7.255622         7.399993         7.491967         7.006123   \n",
       "117_at            5.760106         4.825169         5.039387         5.414160   \n",
       "\n",
       "filename   GSM25358.CEL.gz  GSM25359.CEL.gz  GSM25360.CEL.gz  GSM25361.CEL.gz  \\\n",
       "1007_s_at         6.061013         6.506493         6.863426         6.369645   \n",
       "1053_at           7.250995         7.082581         6.842236         7.048487   \n",
       "117_at            5.205697         5.300078         5.099337         5.156459   \n",
       "\n",
       "filename   GSM25377.CEL.gz  GSM25378.CEL.gz        ...         \\\n",
       "1007_s_at         6.646321         5.810930        ...          \n",
       "1053_at           7.042361         6.666625        ...          \n",
       "117_at            5.736109         5.807496        ...          \n",
       "\n",
       "filename   GSM136719.CEL.gz  GSM136720.CEL.gz  GSM136721.CEL.gz  \\\n",
       "1007_s_at          7.082636          6.315866          7.010165   \n",
       "1053_at            6.599718          7.412731          7.274429   \n",
       "117_at             6.231457          5.240717          5.275062   \n",
       "\n",
       "filename   GSM136722.CEL.gz  GSM136723.CEL.gz  GSM136724.CEL.gz  \\\n",
       "1007_s_at          6.460107          6.122355          6.330314   \n",
       "1053_at            6.928642          7.168782          7.235648   \n",
       "117_at             5.759827          5.409720          5.491938   \n",
       "\n",
       "filename   GSM136725.CEL.gz  GSM136726.CEL.gz  GSM136727.CEL.gz  \\\n",
       "1007_s_at          6.627014          6.133068          6.419444   \n",
       "1053_at            6.939184          7.280781          6.351776   \n",
       "117_at             5.113570          5.401876          5.537605   \n",
       "\n",
       "filename   GSM136729.CEL.gz  \n",
       "1007_s_at          6.488579  \n",
       "1053_at            7.517410  \n",
       "117_at             5.247190  \n",
       "\n",
       "[3 rows x 208 columns]"
      ]
     },
     "execution_count": 6,
     "metadata": {},
     "output_type": "execute_result"
    }
   ],
   "source": [
    "exprs = pd.read_csv(\"../2014_data/exprs_GSE5859.csv\", index_col=0, low_memory=False)\n",
    "exprs.columns = sampleinfo.filename\n",
    "exprs.head(3)"
   ]
  },
  {
   "cell_type": "code",
   "execution_count": 88,
   "metadata": {
    "collapsed": false
   },
   "outputs": [
    {
     "name": "stdout",
     "output_type": "stream",
     "text": [
      "Sample info shape:  (208, 4)\n",
      "\n",
      "Gene expression dimensions:  (8793, 208)\n"
     ]
    }
   ],
   "source": [
    "print('Sample info shape: ',sampleinfo.shape)\n",
    "\n",
    "print('\\nGene expression dimensions: ', exprs.shape)\n"
   ]
  },
  {
   "cell_type": "markdown",
   "metadata": {},
   "source": [
    "Make sure the order of the columns in the gene expression DataFrame match the order of file names in the sample annotation DataFrame. If the order of the columns the `exprs` DataFrame do not match the order of the file names in the `sampleinfo` DataFrame, reorder the columns in the `exprs` DataFrame. \n",
    "\n",
    "**Note**: The column names of the gene expression DataFrame are the filenames of the orignal files from which these data were obtained.  \n",
    "\n",
    "**Hint**: The method `list.index(x)` [[read here](https://docs.python.org/2/tutorial/datastructures.html)] can be used to return the index in the list of the first item whose value is x. It is an error if there is no such item. To check if the order of the columns in `exprs` matches the order of the rows in `sampleinfo`, you can check using the method `.all()` on a Boolean or list of Booleans: \n",
    "\n",
    "Example code: `(exprs.columns == sampleinfo.filename).all()`"
   ]
  },
  {
   "cell_type": "code",
   "execution_count": 89,
   "metadata": {
    "collapsed": false
   },
   "outputs": [
    {
     "data": {
      "text/plain": [
       "True"
      ]
     },
     "execution_count": 89,
     "metadata": {},
     "output_type": "execute_result"
    }
   ],
   "source": [
    "# Check if the filename of 'sampleinfo' is same as the order of arrangement of the 'exprs' dataframe\n",
    "(exprs.columns == sampleinfo.filename).all()"
   ]
  },
  {
   "cell_type": "markdown",
   "metadata": {},
   "source": [
    "#### Problem 1(b)\n",
    "\n",
    "Extract the year and month as integers from the `sampleinfo` table. \n",
    "\n",
    "**Hint**: To convert a Series or a column of a pandas DataFrame that contains a date-like object, you can use the `to_datetime` function [[read here](http://pandas.pydata.org/pandas-docs/stable/timeseries.html)].  This will create a `DatetimeIndex` which can be used to extract the month and year for each row in the DataFrame. "
   ]
  },
  {
   "cell_type": "code",
   "execution_count": 7,
   "metadata": {
    "collapsed": false
   },
   "outputs": [
    {
     "name": "stdout",
     "output_type": "stream",
     "text": [
      "parsed dates :  DatetimeIndex(['2003-02-04', '2003-02-04', '2002-12-17', '2003-01-30'], dtype='datetime64[ns]', freq=None)\n",
      "\n",
      "Years :  [2003 2003 2002 2003 2003 2003 2003 2003 2002 2002]\n",
      "\n",
      "Months :  [ 2  2 12  1  1  1  1  2 12 12]\n"
     ]
    }
   ],
   "source": [
    "parsed_date = pd.to_datetime(sampleinfo.date.values)\n",
    "all_years = parsed_date.year\n",
    "all_months = parsed_date.month\n",
    "\n",
    "print('parsed dates : ',parsed_date[:4])\n",
    "print('\\nYears : ', all_years[:10])\n",
    "print('\\nMonths : ', all_months[:10])"
   ]
  },
  {
   "cell_type": "markdown",
   "metadata": {},
   "source": [
    "#### Problem 1(c)\n",
    "\n",
    "Convert the dates in the `date` column from the `sampleinfo` table into days since October 31, 2002. Add a column to the `sampleinfo` DataFrame titled `elapsedInDays` containing the days since October 31, 2002.  Show the head of the `sampleinfo` DataFrame which includes the new column.  \n",
    "\n",
    "**Hint**: Use the `datetime` module to create a new `datetime` object for the specific date October 31, 2002. Then, subtract the October 31, 2002 date from each date from the `date` column in the `sampleinfo` DataFrame. "
   ]
  },
  {
   "cell_type": "code",
   "execution_count": 8,
   "metadata": {
    "collapsed": false
   },
   "outputs": [
    {
     "data": {
      "text/html": [
       "<div>\n",
       "<table border=\"1\" class=\"dataframe\">\n",
       "  <thead>\n",
       "    <tr style=\"text-align: right;\">\n",
       "      <th></th>\n",
       "      <th>ethnicity</th>\n",
       "      <th>date</th>\n",
       "      <th>filename</th>\n",
       "      <th>sex</th>\n",
       "      <th>elapsedInDays</th>\n",
       "    </tr>\n",
       "  </thead>\n",
       "  <tbody>\n",
       "    <tr>\n",
       "      <th>0</th>\n",
       "      <td>CEU</td>\n",
       "      <td>2003-02-04</td>\n",
       "      <td>GSM25349.CEL.gz</td>\n",
       "      <td>M</td>\n",
       "      <td>96</td>\n",
       "    </tr>\n",
       "    <tr>\n",
       "      <th>1</th>\n",
       "      <td>CEU</td>\n",
       "      <td>2003-02-04</td>\n",
       "      <td>GSM25350.CEL.gz</td>\n",
       "      <td>M</td>\n",
       "      <td>96</td>\n",
       "    </tr>\n",
       "    <tr>\n",
       "      <th>2</th>\n",
       "      <td>CEU</td>\n",
       "      <td>2002-12-17</td>\n",
       "      <td>GSM25356.CEL.gz</td>\n",
       "      <td>M</td>\n",
       "      <td>47</td>\n",
       "    </tr>\n",
       "    <tr>\n",
       "      <th>3</th>\n",
       "      <td>CEU</td>\n",
       "      <td>2003-01-30</td>\n",
       "      <td>GSM25357.CEL.gz</td>\n",
       "      <td>M</td>\n",
       "      <td>91</td>\n",
       "    </tr>\n",
       "    <tr>\n",
       "      <th>4</th>\n",
       "      <td>CEU</td>\n",
       "      <td>2003-01-03</td>\n",
       "      <td>GSM25358.CEL.gz</td>\n",
       "      <td>M</td>\n",
       "      <td>64</td>\n",
       "    </tr>\n",
       "  </tbody>\n",
       "</table>\n",
       "</div>"
      ],
      "text/plain": [
       "  ethnicity        date         filename sex  elapsedInDays\n",
       "0       CEU  2003-02-04  GSM25349.CEL.gz   M             96\n",
       "1       CEU  2003-02-04  GSM25350.CEL.gz   M             96\n",
       "2       CEU  2002-12-17  GSM25356.CEL.gz   M             47\n",
       "3       CEU  2003-01-30  GSM25357.CEL.gz   M             91\n",
       "4       CEU  2003-01-03  GSM25358.CEL.gz   M             64"
      ]
     },
     "execution_count": 8,
     "metadata": {},
     "output_type": "execute_result"
    }
   ],
   "source": [
    "sampleinfo['elapsedInDays'] = (parsed_date - pd.datetime(2002,10,31)).days\n",
    "\n",
    "sampleinfo.head()"
   ]
  },
  {
   "cell_type": "markdown",
   "metadata": {},
   "source": [
    "#### Problem 1(d)\n",
    "\n",
    "Use exploratory analysis and the singular value decomposition (SVD) of the gene expression data matrix to determine if the date the samples were processed has large effect on the variability seen in the data or if it is just ethnicity (which is confounded with date). \n",
    "\n",
    "**Hint**: See the end of the [lecture from 9/23/2014 for help with SVD](http://nbviewer.ipython.org/github/cs109/2014/blob/master/lectures/lecture07/data_scraping_transcript.ipynb). \n",
    "\n",
    "First subset the the `sampleinfo` DataFrame to include only the CEU ethnicity.  Call this new subsetted DataFrame `sampleinfoCEU`.  Show the head of `sampleinfoCEU` DataFrame. "
   ]
  },
  {
   "cell_type": "code",
   "execution_count": 9,
   "metadata": {
    "collapsed": false
   },
   "outputs": [
    {
     "name": "stdout",
     "output_type": "stream",
     "text": [
      "\n",
      "SampleinfoCEU size :  102\n",
      "\n",
      "sampleinfo size :  208\n"
     ]
    },
    {
     "data": {
      "text/html": [
       "<div>\n",
       "<table border=\"1\" class=\"dataframe\">\n",
       "  <thead>\n",
       "    <tr style=\"text-align: right;\">\n",
       "      <th></th>\n",
       "      <th>ethnicity</th>\n",
       "      <th>date</th>\n",
       "      <th>filename</th>\n",
       "      <th>sex</th>\n",
       "      <th>elapsedInDays</th>\n",
       "    </tr>\n",
       "  </thead>\n",
       "  <tbody>\n",
       "    <tr>\n",
       "      <th>0</th>\n",
       "      <td>CEU</td>\n",
       "      <td>2003-02-04</td>\n",
       "      <td>GSM25349.CEL.gz</td>\n",
       "      <td>M</td>\n",
       "      <td>96</td>\n",
       "    </tr>\n",
       "    <tr>\n",
       "      <th>1</th>\n",
       "      <td>CEU</td>\n",
       "      <td>2003-02-04</td>\n",
       "      <td>GSM25350.CEL.gz</td>\n",
       "      <td>M</td>\n",
       "      <td>96</td>\n",
       "    </tr>\n",
       "    <tr>\n",
       "      <th>2</th>\n",
       "      <td>CEU</td>\n",
       "      <td>2002-12-17</td>\n",
       "      <td>GSM25356.CEL.gz</td>\n",
       "      <td>M</td>\n",
       "      <td>47</td>\n",
       "    </tr>\n",
       "  </tbody>\n",
       "</table>\n",
       "</div>"
      ],
      "text/plain": [
       "  ethnicity        date         filename sex  elapsedInDays\n",
       "0       CEU  2003-02-04  GSM25349.CEL.gz   M             96\n",
       "1       CEU  2003-02-04  GSM25350.CEL.gz   M             96\n",
       "2       CEU  2002-12-17  GSM25356.CEL.gz   M             47"
      ]
     },
     "execution_count": 9,
     "metadata": {},
     "output_type": "execute_result"
    }
   ],
   "source": [
    "sampleinfoCEU = sampleinfo[sampleinfo.ethnicity == 'CEU']\n",
    "print('\\nSampleinfoCEU size : ',sampleinfoCEU.index.size)\n",
    "print('\\nsampleinfo size : ', sampleinfo.index.size)\n",
    "sampleinfoCEU.head(3)"
   ]
  },
  {
   "cell_type": "markdown",
   "metadata": {},
   "source": [
    "Next, subset the `exprs` DataFrame to only include the samples with the CEU ethnicity. Name this new subsetted DataFrame `exprsCEU`. Show the head of the `exprsCEU` DataFrame. "
   ]
  },
  {
   "cell_type": "code",
   "execution_count": 10,
   "metadata": {
    "collapsed": false
   },
   "outputs": [
    {
     "data": {
      "text/html": [
       "<div>\n",
       "<table border=\"1\" class=\"dataframe\">\n",
       "  <thead>\n",
       "    <tr style=\"text-align: right;\">\n",
       "      <th>filename</th>\n",
       "      <th>GSM25349.CEL.gz</th>\n",
       "      <th>GSM25350.CEL.gz</th>\n",
       "      <th>GSM25356.CEL.gz</th>\n",
       "      <th>GSM25357.CEL.gz</th>\n",
       "      <th>GSM25358.CEL.gz</th>\n",
       "      <th>GSM25359.CEL.gz</th>\n",
       "      <th>GSM25360.CEL.gz</th>\n",
       "      <th>GSM25361.CEL.gz</th>\n",
       "      <th>GSM25377.CEL.gz</th>\n",
       "      <th>GSM25378.CEL.gz</th>\n",
       "      <th>...</th>\n",
       "      <th>GSM48658.CEL.gz</th>\n",
       "      <th>GSM48660.CEL.gz</th>\n",
       "      <th>GSM48661.CEL.gz</th>\n",
       "      <th>GSM48662.CEL.gz</th>\n",
       "      <th>GSM48663.CEL.gz</th>\n",
       "      <th>GSM48664.CEL.gz</th>\n",
       "      <th>GSM48665.CEL.gz</th>\n",
       "      <th>GSM136725.CEL.gz</th>\n",
       "      <th>GSM136726.CEL.gz</th>\n",
       "      <th>GSM136727.CEL.gz</th>\n",
       "    </tr>\n",
       "  </thead>\n",
       "  <tbody>\n",
       "    <tr>\n",
       "      <th>1007_s_at</th>\n",
       "      <td>6.333951</td>\n",
       "      <td>5.736190</td>\n",
       "      <td>6.156754</td>\n",
       "      <td>6.513010</td>\n",
       "      <td>6.061013</td>\n",
       "      <td>6.506493</td>\n",
       "      <td>6.863426</td>\n",
       "      <td>6.369645</td>\n",
       "      <td>6.646321</td>\n",
       "      <td>5.810930</td>\n",
       "      <td>...</td>\n",
       "      <td>6.597014</td>\n",
       "      <td>6.444051</td>\n",
       "      <td>6.232830</td>\n",
       "      <td>6.928044</td>\n",
       "      <td>6.533592</td>\n",
       "      <td>6.494656</td>\n",
       "      <td>6.237984</td>\n",
       "      <td>6.627014</td>\n",
       "      <td>6.133068</td>\n",
       "      <td>6.419444</td>\n",
       "    </tr>\n",
       "    <tr>\n",
       "      <th>1053_at</th>\n",
       "      <td>7.255622</td>\n",
       "      <td>7.399993</td>\n",
       "      <td>7.491967</td>\n",
       "      <td>7.006123</td>\n",
       "      <td>7.250995</td>\n",
       "      <td>7.082581</td>\n",
       "      <td>6.842236</td>\n",
       "      <td>7.048487</td>\n",
       "      <td>7.042361</td>\n",
       "      <td>6.666625</td>\n",
       "      <td>...</td>\n",
       "      <td>6.835104</td>\n",
       "      <td>7.099125</td>\n",
       "      <td>6.322516</td>\n",
       "      <td>6.860116</td>\n",
       "      <td>7.156344</td>\n",
       "      <td>6.583563</td>\n",
       "      <td>7.169030</td>\n",
       "      <td>6.939184</td>\n",
       "      <td>7.280781</td>\n",
       "      <td>6.351776</td>\n",
       "    </tr>\n",
       "    <tr>\n",
       "      <th>117_at</th>\n",
       "      <td>5.760106</td>\n",
       "      <td>4.825169</td>\n",
       "      <td>5.039387</td>\n",
       "      <td>5.414160</td>\n",
       "      <td>5.205697</td>\n",
       "      <td>5.300078</td>\n",
       "      <td>5.099337</td>\n",
       "      <td>5.156459</td>\n",
       "      <td>5.736109</td>\n",
       "      <td>5.807496</td>\n",
       "      <td>...</td>\n",
       "      <td>5.328841</td>\n",
       "      <td>5.448902</td>\n",
       "      <td>5.475455</td>\n",
       "      <td>6.386241</td>\n",
       "      <td>5.127260</td>\n",
       "      <td>5.081738</td>\n",
       "      <td>5.095864</td>\n",
       "      <td>5.113570</td>\n",
       "      <td>5.401876</td>\n",
       "      <td>5.537605</td>\n",
       "    </tr>\n",
       "    <tr>\n",
       "      <th>121_at</th>\n",
       "      <td>6.935451</td>\n",
       "      <td>7.025210</td>\n",
       "      <td>7.543667</td>\n",
       "      <td>7.959781</td>\n",
       "      <td>7.223323</td>\n",
       "      <td>8.006816</td>\n",
       "      <td>8.102504</td>\n",
       "      <td>7.434617</td>\n",
       "      <td>7.532321</td>\n",
       "      <td>7.711461</td>\n",
       "      <td>...</td>\n",
       "      <td>8.171934</td>\n",
       "      <td>7.638094</td>\n",
       "      <td>7.482308</td>\n",
       "      <td>7.592908</td>\n",
       "      <td>7.815864</td>\n",
       "      <td>7.870124</td>\n",
       "      <td>7.220390</td>\n",
       "      <td>7.833862</td>\n",
       "      <td>7.607461</td>\n",
       "      <td>7.302935</td>\n",
       "    </tr>\n",
       "    <tr>\n",
       "      <th>1255_g_at</th>\n",
       "      <td>3.597872</td>\n",
       "      <td>3.108801</td>\n",
       "      <td>3.128269</td>\n",
       "      <td>3.364947</td>\n",
       "      <td>3.125909</td>\n",
       "      <td>3.186834</td>\n",
       "      <td>3.311022</td>\n",
       "      <td>3.092042</td>\n",
       "      <td>3.167737</td>\n",
       "      <td>2.969579</td>\n",
       "      <td>...</td>\n",
       "      <td>3.318510</td>\n",
       "      <td>3.327960</td>\n",
       "      <td>3.312954</td>\n",
       "      <td>3.269272</td>\n",
       "      <td>3.339234</td>\n",
       "      <td>3.396263</td>\n",
       "      <td>2.926689</td>\n",
       "      <td>3.152269</td>\n",
       "      <td>3.225123</td>\n",
       "      <td>3.222731</td>\n",
       "    </tr>\n",
       "  </tbody>\n",
       "</table>\n",
       "<p>5 rows × 102 columns</p>\n",
       "</div>"
      ],
      "text/plain": [
       "filename   GSM25349.CEL.gz  GSM25350.CEL.gz  GSM25356.CEL.gz  GSM25357.CEL.gz  \\\n",
       "1007_s_at         6.333951         5.736190         6.156754         6.513010   \n",
       "1053_at           7.255622         7.399993         7.491967         7.006123   \n",
       "117_at            5.760106         4.825169         5.039387         5.414160   \n",
       "121_at            6.935451         7.025210         7.543667         7.959781   \n",
       "1255_g_at         3.597872         3.108801         3.128269         3.364947   \n",
       "\n",
       "filename   GSM25358.CEL.gz  GSM25359.CEL.gz  GSM25360.CEL.gz  GSM25361.CEL.gz  \\\n",
       "1007_s_at         6.061013         6.506493         6.863426         6.369645   \n",
       "1053_at           7.250995         7.082581         6.842236         7.048487   \n",
       "117_at            5.205697         5.300078         5.099337         5.156459   \n",
       "121_at            7.223323         8.006816         8.102504         7.434617   \n",
       "1255_g_at         3.125909         3.186834         3.311022         3.092042   \n",
       "\n",
       "filename   GSM25377.CEL.gz  GSM25378.CEL.gz        ...         \\\n",
       "1007_s_at         6.646321         5.810930        ...          \n",
       "1053_at           7.042361         6.666625        ...          \n",
       "117_at            5.736109         5.807496        ...          \n",
       "121_at            7.532321         7.711461        ...          \n",
       "1255_g_at         3.167737         2.969579        ...          \n",
       "\n",
       "filename   GSM48658.CEL.gz  GSM48660.CEL.gz  GSM48661.CEL.gz  GSM48662.CEL.gz  \\\n",
       "1007_s_at         6.597014         6.444051         6.232830         6.928044   \n",
       "1053_at           6.835104         7.099125         6.322516         6.860116   \n",
       "117_at            5.328841         5.448902         5.475455         6.386241   \n",
       "121_at            8.171934         7.638094         7.482308         7.592908   \n",
       "1255_g_at         3.318510         3.327960         3.312954         3.269272   \n",
       "\n",
       "filename   GSM48663.CEL.gz  GSM48664.CEL.gz  GSM48665.CEL.gz  \\\n",
       "1007_s_at         6.533592         6.494656         6.237984   \n",
       "1053_at           7.156344         6.583563         7.169030   \n",
       "117_at            5.127260         5.081738         5.095864   \n",
       "121_at            7.815864         7.870124         7.220390   \n",
       "1255_g_at         3.339234         3.396263         2.926689   \n",
       "\n",
       "filename   GSM136725.CEL.gz  GSM136726.CEL.gz  GSM136727.CEL.gz  \n",
       "1007_s_at          6.627014          6.133068          6.419444  \n",
       "1053_at            6.939184          7.280781          6.351776  \n",
       "117_at             5.113570          5.401876          5.537605  \n",
       "121_at             7.833862          7.607461          7.302935  \n",
       "1255_g_at          3.152269          3.225123          3.222731  \n",
       "\n",
       "[5 rows x 102 columns]"
      ]
     },
     "execution_count": 10,
     "metadata": {},
     "output_type": "execute_result"
    }
   ],
   "source": [
    "exprsCEU = exprs[sampleinfoCEU.filename.values]\n",
    "exprsCEU.head()"
   ]
  },
  {
   "cell_type": "markdown",
   "metadata": {},
   "source": [
    "Check to make sure the order of the columns in the `exprsCEU` DataFrame matches the rows in the `sampleinfoCEU` DataFrame.  "
   ]
  },
  {
   "cell_type": "code",
   "execution_count": 184,
   "metadata": {
    "collapsed": false
   },
   "outputs": [
    {
     "data": {
      "text/plain": [
       "True"
      ]
     },
     "execution_count": 184,
     "metadata": {},
     "output_type": "execute_result"
    }
   ],
   "source": [
    "(exprsCEU.columns == sampleinfoCEU.filename).all()"
   ]
  },
  {
   "cell_type": "markdown",
   "metadata": {},
   "source": [
    "Compute the average gene expression intensity in the `exprsCEU` DataFrame across all the samples. For each sample in the `exprsCEU` DataFrame, subtract the average gene expression intensity from each of the samples. Show the head of the mean normalized gene expression data.  "
   ]
  },
  {
   "cell_type": "markdown",
   "metadata": {},
   "source": [
    "*Compute the mean across each column $X$ and subtract from each element $x_i$ of the column.*  $x_i - \\bar{X}$ for $i=1,..,|X|$ "
   ]
  },
  {
   "cell_type": "code",
   "execution_count": 11,
   "metadata": {
    "collapsed": false
   },
   "outputs": [
    {
     "data": {
      "text/html": [
       "<div>\n",
       "<table border=\"1\" class=\"dataframe\">\n",
       "  <thead>\n",
       "    <tr style=\"text-align: right;\">\n",
       "      <th>filename</th>\n",
       "      <th>GSM25349.CEL.gz</th>\n",
       "      <th>GSM25350.CEL.gz</th>\n",
       "      <th>GSM25356.CEL.gz</th>\n",
       "      <th>GSM25357.CEL.gz</th>\n",
       "      <th>GSM25358.CEL.gz</th>\n",
       "      <th>GSM25359.CEL.gz</th>\n",
       "      <th>GSM25360.CEL.gz</th>\n",
       "      <th>GSM25361.CEL.gz</th>\n",
       "      <th>GSM25377.CEL.gz</th>\n",
       "      <th>GSM25378.CEL.gz</th>\n",
       "      <th>...</th>\n",
       "      <th>GSM48658.CEL.gz</th>\n",
       "      <th>GSM48660.CEL.gz</th>\n",
       "      <th>GSM48661.CEL.gz</th>\n",
       "      <th>GSM48662.CEL.gz</th>\n",
       "      <th>GSM48663.CEL.gz</th>\n",
       "      <th>GSM48664.CEL.gz</th>\n",
       "      <th>GSM48665.CEL.gz</th>\n",
       "      <th>GSM136725.CEL.gz</th>\n",
       "      <th>GSM136726.CEL.gz</th>\n",
       "      <th>GSM136727.CEL.gz</th>\n",
       "    </tr>\n",
       "  </thead>\n",
       "  <tbody>\n",
       "    <tr>\n",
       "      <th>1007_s_at</th>\n",
       "      <td>-0.024183</td>\n",
       "      <td>-0.621943</td>\n",
       "      <td>-0.201379</td>\n",
       "      <td>0.154876</td>\n",
       "      <td>-0.297121</td>\n",
       "      <td>0.148359</td>\n",
       "      <td>0.505293</td>\n",
       "      <td>0.011512</td>\n",
       "      <td>0.288187</td>\n",
       "      <td>-0.547203</td>\n",
       "      <td>...</td>\n",
       "      <td>0.238880</td>\n",
       "      <td>0.085917</td>\n",
       "      <td>-0.125304</td>\n",
       "      <td>0.569910</td>\n",
       "      <td>0.175459</td>\n",
       "      <td>0.136522</td>\n",
       "      <td>-0.120149</td>\n",
       "      <td>0.268881</td>\n",
       "      <td>-0.225065</td>\n",
       "      <td>0.061310</td>\n",
       "    </tr>\n",
       "    <tr>\n",
       "      <th>1053_at</th>\n",
       "      <td>0.143529</td>\n",
       "      <td>0.287900</td>\n",
       "      <td>0.379875</td>\n",
       "      <td>-0.105970</td>\n",
       "      <td>0.138903</td>\n",
       "      <td>-0.029512</td>\n",
       "      <td>-0.269857</td>\n",
       "      <td>-0.063605</td>\n",
       "      <td>-0.069732</td>\n",
       "      <td>-0.445468</td>\n",
       "      <td>...</td>\n",
       "      <td>-0.276989</td>\n",
       "      <td>-0.012968</td>\n",
       "      <td>-0.789576</td>\n",
       "      <td>-0.251977</td>\n",
       "      <td>0.044251</td>\n",
       "      <td>-0.528530</td>\n",
       "      <td>0.056937</td>\n",
       "      <td>-0.172908</td>\n",
       "      <td>0.168688</td>\n",
       "      <td>-0.760317</td>\n",
       "    </tr>\n",
       "    <tr>\n",
       "      <th>117_at</th>\n",
       "      <td>0.318124</td>\n",
       "      <td>-0.616813</td>\n",
       "      <td>-0.402594</td>\n",
       "      <td>-0.027822</td>\n",
       "      <td>-0.236285</td>\n",
       "      <td>-0.141904</td>\n",
       "      <td>-0.342645</td>\n",
       "      <td>-0.285523</td>\n",
       "      <td>0.294127</td>\n",
       "      <td>0.365515</td>\n",
       "      <td>...</td>\n",
       "      <td>-0.113141</td>\n",
       "      <td>0.006920</td>\n",
       "      <td>0.033473</td>\n",
       "      <td>0.944259</td>\n",
       "      <td>-0.314722</td>\n",
       "      <td>-0.360244</td>\n",
       "      <td>-0.346118</td>\n",
       "      <td>-0.328412</td>\n",
       "      <td>-0.040106</td>\n",
       "      <td>0.095623</td>\n",
       "    </tr>\n",
       "    <tr>\n",
       "      <th>121_at</th>\n",
       "      <td>-0.651884</td>\n",
       "      <td>-0.562124</td>\n",
       "      <td>-0.043667</td>\n",
       "      <td>0.372447</td>\n",
       "      <td>-0.364011</td>\n",
       "      <td>0.419482</td>\n",
       "      <td>0.515169</td>\n",
       "      <td>-0.152717</td>\n",
       "      <td>-0.055013</td>\n",
       "      <td>0.124126</td>\n",
       "      <td>...</td>\n",
       "      <td>0.584600</td>\n",
       "      <td>0.050759</td>\n",
       "      <td>-0.105026</td>\n",
       "      <td>0.005574</td>\n",
       "      <td>0.228530</td>\n",
       "      <td>0.282790</td>\n",
       "      <td>-0.366945</td>\n",
       "      <td>0.246527</td>\n",
       "      <td>0.020127</td>\n",
       "      <td>-0.284400</td>\n",
       "    </tr>\n",
       "    <tr>\n",
       "      <th>1255_g_at</th>\n",
       "      <td>0.398042</td>\n",
       "      <td>-0.091029</td>\n",
       "      <td>-0.071561</td>\n",
       "      <td>0.165118</td>\n",
       "      <td>-0.073921</td>\n",
       "      <td>-0.012995</td>\n",
       "      <td>0.111192</td>\n",
       "      <td>-0.107788</td>\n",
       "      <td>-0.032093</td>\n",
       "      <td>-0.230251</td>\n",
       "      <td>...</td>\n",
       "      <td>0.118680</td>\n",
       "      <td>0.128130</td>\n",
       "      <td>0.113124</td>\n",
       "      <td>0.069442</td>\n",
       "      <td>0.139404</td>\n",
       "      <td>0.196433</td>\n",
       "      <td>-0.273141</td>\n",
       "      <td>-0.047560</td>\n",
       "      <td>0.025293</td>\n",
       "      <td>0.022901</td>\n",
       "    </tr>\n",
       "  </tbody>\n",
       "</table>\n",
       "<p>5 rows × 102 columns</p>\n",
       "</div>"
      ],
      "text/plain": [
       "filename   GSM25349.CEL.gz  GSM25350.CEL.gz  GSM25356.CEL.gz  GSM25357.CEL.gz  \\\n",
       "1007_s_at        -0.024183        -0.621943        -0.201379         0.154876   \n",
       "1053_at           0.143529         0.287900         0.379875        -0.105970   \n",
       "117_at            0.318124        -0.616813        -0.402594        -0.027822   \n",
       "121_at           -0.651884        -0.562124        -0.043667         0.372447   \n",
       "1255_g_at         0.398042        -0.091029        -0.071561         0.165118   \n",
       "\n",
       "filename   GSM25358.CEL.gz  GSM25359.CEL.gz  GSM25360.CEL.gz  GSM25361.CEL.gz  \\\n",
       "1007_s_at        -0.297121         0.148359         0.505293         0.011512   \n",
       "1053_at           0.138903        -0.029512        -0.269857        -0.063605   \n",
       "117_at           -0.236285        -0.141904        -0.342645        -0.285523   \n",
       "121_at           -0.364011         0.419482         0.515169        -0.152717   \n",
       "1255_g_at        -0.073921        -0.012995         0.111192        -0.107788   \n",
       "\n",
       "filename   GSM25377.CEL.gz  GSM25378.CEL.gz        ...         \\\n",
       "1007_s_at         0.288187        -0.547203        ...          \n",
       "1053_at          -0.069732        -0.445468        ...          \n",
       "117_at            0.294127         0.365515        ...          \n",
       "121_at           -0.055013         0.124126        ...          \n",
       "1255_g_at        -0.032093        -0.230251        ...          \n",
       "\n",
       "filename   GSM48658.CEL.gz  GSM48660.CEL.gz  GSM48661.CEL.gz  GSM48662.CEL.gz  \\\n",
       "1007_s_at         0.238880         0.085917        -0.125304         0.569910   \n",
       "1053_at          -0.276989        -0.012968        -0.789576        -0.251977   \n",
       "117_at           -0.113141         0.006920         0.033473         0.944259   \n",
       "121_at            0.584600         0.050759        -0.105026         0.005574   \n",
       "1255_g_at         0.118680         0.128130         0.113124         0.069442   \n",
       "\n",
       "filename   GSM48663.CEL.gz  GSM48664.CEL.gz  GSM48665.CEL.gz  \\\n",
       "1007_s_at         0.175459         0.136522        -0.120149   \n",
       "1053_at           0.044251        -0.528530         0.056937   \n",
       "117_at           -0.314722        -0.360244        -0.346118   \n",
       "121_at            0.228530         0.282790        -0.366945   \n",
       "1255_g_at         0.139404         0.196433        -0.273141   \n",
       "\n",
       "filename   GSM136725.CEL.gz  GSM136726.CEL.gz  GSM136727.CEL.gz  \n",
       "1007_s_at          0.268881         -0.225065          0.061310  \n",
       "1053_at           -0.172908          0.168688         -0.760317  \n",
       "117_at            -0.328412         -0.040106          0.095623  \n",
       "121_at             0.246527          0.020127         -0.284400  \n",
       "1255_g_at         -0.047560          0.025293          0.022901  \n",
       "\n",
       "[5 rows x 102 columns]"
      ]
     },
     "execution_count": 11,
     "metadata": {},
     "output_type": "execute_result"
    }
   ],
   "source": [
    "# Compute the mean across each coloumn and substract from each element of the column.\n",
    "norm_mean_exprCEU = exprsCEU.apply(lambda x: x - exprsCEU.mean(axis=1), axis=0)\n",
    "norm_mean_exprCEU.head()"
   ]
  },
  {
   "cell_type": "markdown",
   "metadata": {},
   "source": [
    "Using this mean normalized gene expression data, compute the projection to the first Principal Component (PC1).  \n",
    "\n",
    "**Hint**: Use the `numpy.linalg.svd()` function in the `numpy.linalg` module (or the `scipy.linalg.svd()` function in the `scipy.linalg` module) to apply an [singular value decomposition](http://en.wikipedia.org/wiki/Singular_value_decomposition) to a matrix.  "
   ]
  },
  {
   "cell_type": "code",
   "execution_count": 12,
   "metadata": {
    "collapsed": false
   },
   "outputs": [
    {
     "name": "stdout",
     "output_type": "stream",
     "text": [
      "shape of U :  (8793, 8793)\n",
      "shape of diagonal d :  (102,)\n",
      "shape of V :  (102, 102)\n"
     ]
    }
   ],
   "source": [
    "U, d, Vt = np.linalg.svd(norm_mean_exprCEU, full_matrices=True)\n",
    "\n",
    "print('shape of U : ',U.shape)\n",
    "print('shape of diagonal d : ', d.shape)\n",
    "print('shape of V : ', Vt.shape)\n",
    "\n",
    "# # Reconstruct the data\n",
    "# D = np.diag(d)\n",
    "# reconstruct = np.dot(U, np.dot(D,V))\n",
    "\n",
    "# # np.allclose : Returns True if two arrays are element-wise equal within a tolerance.\n",
    "# np.allclose(norm_mean_exprCEU.values, reconstruct)"
   ]
  },
  {
   "cell_type": "markdown",
   "metadata": {},
   "source": [
    "* `The PC1 is the 1st col, PC2 is 2nd col, etc Interpretation of the principal components is based on finding which variables are most strongly correlated with each component, i.e., which of these numbers are large in magnitude, the farthest from zero in either positive or negative direction.  Which numbers we consider to be large or small is of course is a subjective decision. Sometimes, correlation value above 0.5 may be deemed important.`"
   ]
  },
  {
   "cell_type": "code",
   "execution_count": 14,
   "metadata": {
    "collapsed": false
   },
   "outputs": [
    {
     "data": {
      "text/html": [
       "<div>\n",
       "<table border=\"1\" class=\"dataframe\">\n",
       "  <thead>\n",
       "    <tr style=\"text-align: right;\">\n",
       "      <th></th>\n",
       "      <th>0</th>\n",
       "      <th>1</th>\n",
       "      <th>2</th>\n",
       "      <th>3</th>\n",
       "      <th>4</th>\n",
       "      <th>5</th>\n",
       "      <th>6</th>\n",
       "      <th>7</th>\n",
       "      <th>8</th>\n",
       "      <th>9</th>\n",
       "      <th>...</th>\n",
       "      <th>92</th>\n",
       "      <th>93</th>\n",
       "      <th>94</th>\n",
       "      <th>95</th>\n",
       "      <th>96</th>\n",
       "      <th>97</th>\n",
       "      <th>98</th>\n",
       "      <th>99</th>\n",
       "      <th>100</th>\n",
       "      <th>101</th>\n",
       "    </tr>\n",
       "    <tr>\n",
       "      <th>filename</th>\n",
       "      <th></th>\n",
       "      <th></th>\n",
       "      <th></th>\n",
       "      <th></th>\n",
       "      <th></th>\n",
       "      <th></th>\n",
       "      <th></th>\n",
       "      <th></th>\n",
       "      <th></th>\n",
       "      <th></th>\n",
       "      <th></th>\n",
       "      <th></th>\n",
       "      <th></th>\n",
       "      <th></th>\n",
       "      <th></th>\n",
       "      <th></th>\n",
       "      <th></th>\n",
       "      <th></th>\n",
       "      <th></th>\n",
       "      <th></th>\n",
       "      <th></th>\n",
       "    </tr>\n",
       "  </thead>\n",
       "  <tbody>\n",
       "    <tr>\n",
       "      <th>GSM25349.CEL.gz</th>\n",
       "      <td>0.173497</td>\n",
       "      <td>-0.061108</td>\n",
       "      <td>0.026102</td>\n",
       "      <td>-0.000303</td>\n",
       "      <td>0.002304</td>\n",
       "      <td>-0.161532</td>\n",
       "      <td>0.026157</td>\n",
       "      <td>-0.005499</td>\n",
       "      <td>0.068172</td>\n",
       "      <td>-0.054336</td>\n",
       "      <td>...</td>\n",
       "      <td>0.028267</td>\n",
       "      <td>0.025969</td>\n",
       "      <td>0.015250</td>\n",
       "      <td>0.004206</td>\n",
       "      <td>-0.024795</td>\n",
       "      <td>0.028937</td>\n",
       "      <td>-0.025139</td>\n",
       "      <td>0.019606</td>\n",
       "      <td>-0.004356</td>\n",
       "      <td>-0.099015</td>\n",
       "    </tr>\n",
       "    <tr>\n",
       "      <th>GSM25350.CEL.gz</th>\n",
       "      <td>0.069402</td>\n",
       "      <td>-0.139841</td>\n",
       "      <td>0.007564</td>\n",
       "      <td>0.114188</td>\n",
       "      <td>0.005616</td>\n",
       "      <td>0.199607</td>\n",
       "      <td>-0.157241</td>\n",
       "      <td>0.052592</td>\n",
       "      <td>-0.077026</td>\n",
       "      <td>0.036708</td>\n",
       "      <td>...</td>\n",
       "      <td>0.023727</td>\n",
       "      <td>0.047046</td>\n",
       "      <td>0.213379</td>\n",
       "      <td>-0.554360</td>\n",
       "      <td>0.018879</td>\n",
       "      <td>-0.089516</td>\n",
       "      <td>0.023795</td>\n",
       "      <td>0.057305</td>\n",
       "      <td>0.023664</td>\n",
       "      <td>-0.099015</td>\n",
       "    </tr>\n",
       "  </tbody>\n",
       "</table>\n",
       "<p>2 rows × 102 columns</p>\n",
       "</div>"
      ],
      "text/plain": [
       "                      0         1         2         3         4         5    \\\n",
       "filename                                                                      \n",
       "GSM25349.CEL.gz  0.173497 -0.061108  0.026102 -0.000303  0.002304 -0.161532   \n",
       "GSM25350.CEL.gz  0.069402 -0.139841  0.007564  0.114188  0.005616  0.199607   \n",
       "\n",
       "                      6         7         8         9      ...          92   \\\n",
       "filename                                                   ...                \n",
       "GSM25349.CEL.gz  0.026157 -0.005499  0.068172 -0.054336    ...     0.028267   \n",
       "GSM25350.CEL.gz -0.157241  0.052592 -0.077026  0.036708    ...     0.023727   \n",
       "\n",
       "                      93        94        95        96        97        98   \\\n",
       "filename                                                                      \n",
       "GSM25349.CEL.gz  0.025969  0.015250  0.004206 -0.024795  0.028937 -0.025139   \n",
       "GSM25350.CEL.gz  0.047046  0.213379 -0.554360  0.018879 -0.089516  0.023795   \n",
       "\n",
       "                      99        100       101  \n",
       "filename                                       \n",
       "GSM25349.CEL.gz  0.019606 -0.004356 -0.099015  \n",
       "GSM25350.CEL.gz  0.057305  0.023664 -0.099015  \n",
       "\n",
       "[2 rows x 102 columns]"
      ]
     },
     "execution_count": 14,
     "metadata": {},
     "output_type": "execute_result"
    }
   ],
   "source": [
    "pca_s = pd.DataFrame(Vt.T, index=norm_mean_exprCEU.columns)\n",
    "pca_s.head(2)"
   ]
  },
  {
   "cell_type": "markdown",
   "metadata": {},
   "source": [
    "Create a histogram using the values from PC1.  Use a bin size of 25.  "
   ]
  },
  {
   "cell_type": "code",
   "execution_count": 15,
   "metadata": {
    "collapsed": false
   },
   "outputs": [
    {
     "data": {
      "text/html": [
       "<div id=\"9135c3f0-2530-4e1b-8c55-7e2aa1f2ee58\" style=\"height: 525; width: 100%;\" class=\"plotly-graph-div\"></div><script type=\"text/javascript\">window.PLOTLYENV=window.PLOTLYENV || {};window.PLOTLYENV.BASE_URL=\"https://plot.ly\";Plotly.newPlot(\"9135c3f0-2530-4e1b-8c55-7e2aa1f2ee58\", [{\"histnorm\": \"\", \"type\": \"histogram\", \"name\": 0, \"orientation\": \"v\", \"nbinsx\": 25, \"histfunc\": \"count\", \"marker\": {\"line\": {\"width\": 1.3, \"color\": \"#D9D9D9\"}, \"color\": \"rgba(226, 74, 51, 1.0)\"}, \"opacity\": 0.8, \"x\": [0.1734966779782165, 0.06940179686990111, -0.051154387309452265, -0.13397351471693247, 0.06697680662538404, -0.13532203217683414, -0.13036699078579728, -0.039898434976491405, -0.07932196709890477, 0.22700434792857682, 0.06312223942217757, 0.06829460081423992, -0.024272507858729992, 0.032595520754886476, -0.07845167886878227, 0.01835450779193305, -0.058589380669051914, -0.14475187697633646, 0.16005532002452685, -0.1044469468959729, -0.08965445350387499, 0.041824755218781644, -0.08448776303449583, 0.11994912822264216, 0.003380774708314915, 0.14832744967298067, 0.1455418301890565, 0.17717369186176443, -0.10566140417185277, 0.11266370043249262, -0.019565937245022022, -0.04310691982099878, -0.039295603878174, 0.09519328512285141, -0.10811902135752884, -0.06327194522811046, -0.04053357928382819, 0.05372549873609791, -0.07106365875929585, -0.11911259440888688, -0.12297053888346711, -0.07237176352437766, -0.04237319569448889, -0.04292884379059378, -0.13677394880513516, -0.031651688769025535, 0.06392750106005377, 0.05196660439704621, -0.06373552154105508, -0.041448980074330934, 0.07575038634695892, -0.06526627014710228, 0.08708398144872759, 0.04166858024736217, 0.17468015160089248, 0.16209138815681157, 0.06511635806250746, 0.006796729078717357, -0.05307456148409622, -0.10994180632409398, -0.09658403262991513, 0.13927100494069664, 0.13127174877702083, -0.1104801467688584, -0.007181180967131151, 0.037676580262277125, -0.0937117208716021, -0.10203465222914487, 0.16303155286546436, -0.13901302031676663, 0.058841426610071426, -0.06205631278416737, 0.06287495003422122, 0.09474085899143674, 0.04953508288434064, -0.04745360284672895, -0.05757762592153175, 0.03061801372133875, -0.051232602976919145, -0.08368793423519515, -0.06641766834424893, -0.023577286298835227, 0.03579149286323474, -0.11114129817019561, -0.08314096433319469, 0.1579293571462479, -0.04553233934299927, 0.16568244023707335, 0.17682718502463, 0.06973466239624775, 0.20235242838185588, 0.13510970910688316, -0.1490778321304487, -0.10447569485756085, -0.05908951892944287, -0.06060754242827413, -0.11030277232384182, -0.1422814668718241, -0.03802278147583077, 0.05815205866173648, -0.015556730982941478, 0.1315922814220418]}], {\"yaxis1\": {\"tickfont\": {\"color\": \"#666666\"}, \"gridcolor\": \"#F6F6F6\", \"titlefont\": {\"color\": \"#666666\"}, \"showgrid\": true, \"title\": \"Frequency\", \"zerolinecolor\": \"#F6F6F6\"}, \"plot_bgcolor\": \"#E5E5E5\", \"xaxis1\": {\"tickfont\": {\"color\": \"#666666\"}, \"gridcolor\": \"#F6F6F6\", \"titlefont\": {\"color\": \"#666666\"}, \"showgrid\": true, \"title\": \"PC1\", \"zerolinecolor\": \"#F6F6F6\"}, \"titlefont\": {\"color\": \"#151516\"}, \"barmode\": \"overlay\", \"title\": \"Distributions from the values from PC1\", \"legend\": {\"bgcolor\": \"#FFFFFF\", \"font\": {\"color\": \"#666666\"}}, \"paper_bgcolor\": \"#FFFFFF\"}, {\"showLink\": true, \"linkText\": \"Export to plot.ly\"})</script>"
      ],
      "text/plain": [
       "<IPython.core.display.HTML object>"
      ]
     },
     "metadata": {},
     "output_type": "display_data"
    }
   ],
   "source": [
    "\n",
    "pc1 = pca_s[0]\n",
    "pc1.iplot(kind='hist', bins=25, filename='harvard/principal_comp_1', \n",
    "          xTitle='PC1', yTitle='Frequency', title='Distributions from the values from PC1')\n"
   ]
  },
  {
   "cell_type": "markdown",
   "metadata": {},
   "source": [
    "Create a scatter plot with the days since October 31, 2002 on the x-axis and PC1 on the y-axis."
   ]
  },
  {
   "cell_type": "code",
   "execution_count": 16,
   "metadata": {
    "collapsed": false
   },
   "outputs": [
    {
     "data": {
      "text/html": [
       "<div id=\"acf57b62-913b-486a-b05e-e3a4c2b1223d\" style=\"height: 525; width: 100%;\" class=\"plotly-graph-div\"></div><script type=\"text/javascript\">window.PLOTLYENV=window.PLOTLYENV || {};window.PLOTLYENV.BASE_URL=\"https://plot.ly\";Plotly.newPlot(\"acf57b62-913b-486a-b05e-e3a4c2b1223d\", [{\"type\": \"scatter\", \"name\": \"pc1\", \"x\": [96.0, 96.0, 47.0, 91.0, 64.0, 77.0, 64.0, 96.0, 47.0, 47.0, 47.0, 64.0, 47.0, 47.0, 22.0, 36.0, 64.0, 113.0, 113.0, 49.0, 19.0, 21.0, 19.0, 21.0, 21.0, 27.0, 36.0, 36.0, 21.0, 27.0, 21.0, 36.0, 77.0, 77.0, 83.0, 83.0, 131.0, 131.0, 127.0, 127.0, 155.0, 155.0, 84.0, 91.0, 84.0, 91.0, 108.0, 96.0, 84.0, 108.0, 131.0, 131.0, 0.0, 15.0, 0.0, 15.0, 49.0, 64.0, 64.0, 84.0, 77.0, 77.0, 84.0, 124.0, 75.0, 75.0, 75.0, 75.0, 83.0, 22.0, 49.0, 92.0, 49.0, 49.0, 118.0, 118.0, 113.0, 113.0, 118.0, 118.0, 118.0, 118.0, 118.0, 118.0, 547.0, 547.0, 547.0, 547.0, 783.0, 735.0, 735.0, 749.0, 735.0, 749.0, 783.0, 749.0, 749.0, 22.0, 22.0, null, null, null], \"marker\": {\"symbol\": \"dot\", \"size\": 12}, \"line\": {\"dash\": \"solid\", \"width\": 1.3, \"color\": \"rgba(226, 74, 51, 1.0)\"}, \"mode\": \"markers\", \"y\": [0.1734966779782165, 0.06940179686990111, -0.051154387309452265, -0.13397351471693247, 0.06697680662538404, -0.13532203217683414, -0.13036699078579728, -0.039898434976491405, -0.07932196709890477, 0.22700434792857682, 0.06312223942217757, 0.06829460081423992, -0.024272507858729992, 0.032595520754886476, -0.07845167886878227, 0.01835450779193305, -0.058589380669051914, -0.14475187697633646, 0.16005532002452685, -0.1044469468959729, -0.08965445350387499, 0.041824755218781644, -0.08448776303449583, 0.11994912822264216, 0.003380774708314915, 0.14832744967298067, 0.1455418301890565, 0.17717369186176443, -0.10566140417185277, 0.11266370043249262, -0.019565937245022022, -0.04310691982099878, -0.039295603878174, 0.09519328512285141, -0.10811902135752884, -0.06327194522811046, -0.04053357928382819, 0.05372549873609791, -0.07106365875929585, -0.11911259440888688, -0.12297053888346711, -0.07237176352437766, -0.04237319569448889, -0.04292884379059378, -0.13677394880513516, -0.031651688769025535, 0.06392750106005377, 0.05196660439704621, -0.06373552154105508, -0.041448980074330934, 0.07575038634695892, -0.06526627014710228, 0.08708398144872759, 0.04166858024736217, 0.17468015160089248, 0.16209138815681157, 0.06511635806250746, 0.006796729078717357, -0.05307456148409622, -0.10994180632409398, -0.09658403262991513, 0.13927100494069664, 0.13127174877702083, -0.1104801467688584, -0.007181180967131151, 0.037676580262277125, -0.0937117208716021, -0.10203465222914487, 0.16303155286546436, -0.13901302031676663, 0.058841426610071426, -0.06205631278416737, 0.06287495003422122, 0.09474085899143674, 0.04953508288434064, -0.04745360284672895, -0.05757762592153175, 0.03061801372133875, -0.051232602976919145, -0.08368793423519515, -0.06641766834424893, -0.023577286298835227, 0.03579149286323474, -0.11114129817019561, -0.08314096433319469, 0.1579293571462479, -0.04553233934299927, 0.16568244023707335, 0.17682718502463, 0.06973466239624775, 0.20235242838185588, 0.13510970910688316, -0.1490778321304487, -0.10447569485756085, -0.05908951892944287, -0.06060754242827413, -0.11030277232384182, -0.1422814668718241, -0.03802278147583077, 0.05815205866173648, -0.015556730982941478, 0.1315922814220418], \"text\": \"\"}], {\"plot_bgcolor\": \"#E5E5E5\", \"yaxis1\": {\"tickfont\": {\"color\": \"#666666\"}, \"gridcolor\": \"#F6F6F6\", \"titlefont\": {\"color\": \"#666666\"}, \"showgrid\": true, \"title\": \"PC1\", \"zerolinecolor\": \"#F6F6F6\"}, \"xaxis1\": {\"tickfont\": {\"color\": \"#666666\"}, \"gridcolor\": \"#F6F6F6\", \"titlefont\": {\"color\": \"#666666\"}, \"showgrid\": true, \"title\": \"Date sample was processed (Number of days since Oct 31, 2012)\", \"zerolinecolor\": \"#F6F6F6\"}, \"titlefont\": {\"color\": \"#151516\"}, \"paper_bgcolor\": \"#FFFFFF\", \"title\": \"Relationship between the PC1 and the date the samples were processed\", \"legend\": {\"bgcolor\": \"#FFFFFF\", \"font\": {\"color\": \"#666666\"}}}, {\"showLink\": true, \"linkText\": \"Export to plot.ly\"})</script>"
      ],
      "text/plain": [
       "<IPython.core.display.HTML object>"
      ]
     },
     "metadata": {},
     "output_type": "display_data"
    }
   ],
   "source": [
    "pc1_vs_ceu = pd.DataFrame()\n",
    "pc1_vs_ceu['pc1'] = pc1.values\n",
    "pc1_vs_ceu['days'] = sampleinfoCEU.elapsedInDays\n",
    "pc1_vs_ceu.head()\n",
    "\n",
    "pc1_vs_ceu.iplot(kind='scatter', x='days', y='pc1', mode='markers', filename='harvard/pc1_vs_days', \n",
    "                 yTitle='PC1', \n",
    "                 xTitle='Date sample was processed (Number of days since Oct 31, 2012)', \n",
    "                 title='Relationship between the PC1 and the date the samples were processed')"
   ]
  },
  {
   "cell_type": "markdown",
   "metadata": {},
   "source": [
    "### `Scatter_matrix` for `PC1 to PC5`"
   ]
  },
  {
   "cell_type": "code",
   "execution_count": 17,
   "metadata": {
    "collapsed": false
   },
   "outputs": [
    {
     "data": {
      "text/html": [
       "<div id=\"741fae4e-3307-4ca1-ac6b-df5e0cac40c2\" style=\"height: 525; width: 100%;\" class=\"plotly-graph-div\"></div><script type=\"text/javascript\">window.PLOTLYENV=window.PLOTLYENV || {};window.PLOTLYENV.BASE_URL=\"https://plot.ly\";Plotly.newPlot(\"741fae4e-3307-4ca1-ac6b-df5e0cac40c2\", [{\"histnorm\": \"\", \"type\": \"histogram\", \"name\": 1, \"orientation\": \"v\", \"nbinsx\": 10, \"marker\": {\"line\": {\"width\": 1.3, \"color\": \"#D9D9D9\"}, \"color\": \"rgba(226, 74, 51, 1.0)\"}, \"histfunc\": \"count\", \"yaxis\": \"y1\", \"xaxis\": \"x1\", \"opacity\": 0.8, \"x\": [-0.061107580958939325, -0.13984109971379566, -0.11138128206204934, 0.09248749997779049, -0.11602468263246868, 0.052259394682026894, 0.14091253965113507, -0.13860627145768536, -0.026299094957040983, 0.31763145956154304, -0.12772685969751482, 0.018821123823306016, -0.009300191469094474, -0.023491064604327948, 0.009968901645550502, 0.14015914674793112, -0.05764855292725581, 0.06788168621825964, -0.13977690845296423, 0.08310142195143154, 0.14499876891961602, -0.05885995568411235, -0.0625040774744487, -0.03611815463173359, -0.016712950848523637, 0.1046908716256326, 0.029719312998885885, 0.10900250732405584, 0.027017969607232222, 0.13499846352114905, 0.0954538292042824, 0.019119463940218472, 0.08911999842610833, -0.013128247712182569, 0.05901714286762598, -0.10156210854704381, -0.09854388117215511, 0.09993740294418933, -0.05830414077390119, 0.08548578022921344, 0.07589269245750419, -0.03817562199234498, -0.09629616225669566, 0.05367379355671724, 0.10463600798561608, -0.07544585888654631, -0.004709989367040379, -0.10769184419867721, -0.09012681710433788, 0.016344773661054277, -0.08027087702308802, -0.06772069644762983, 0.1507437774536186, -0.13016435339121185, -0.06367167866356822, 0.0786796617615371, 0.0017424840002231363, -0.08250895230212517, -0.07722631404711021, 0.04311353451550979, 0.047613880727126606, 0.09788998652139726, -0.12672056046973315, -0.011237529592127668, 0.003544700909574625, -0.14463821424895726, 0.031325450023107264, 0.2006264521132176, 0.044866626282388425, 0.08671135170492453, 0.011952781037095368, -0.0026055688775329638, 0.010936280169025786, 0.11881498032556848, -0.15871153819317163, -0.11157135256568028, -0.10349352809179706, -0.15487799269275404, -0.04083760045225625, 0.08251938235902413, -0.12420491345641561, -0.03292716249579644, -0.17993733820915922, -0.023499218285543123, 0.07721357414513956, 0.016352676929300532, -0.17269272910487923, 0.31133331335670844, -0.07812444679524265, 0.011167750062802682, -0.011155308306135626, -0.051259402141385704, 0.16916626893100137, -0.0646765603625796, -0.027883980231280008, 0.03518579667245168, -0.04187185770683434, 0.08598394422794123, -0.10910923648216692, 0.09640931102234264, -0.0029012804466053838, 0.09965767188654172]}, {\"type\": \"scatter\", \"name\": 1, \"x\": [0.026102468897267028, 0.007564059824316086, -0.0260557619954829, 0.08156957276394844, -0.0836872969857137, 0.061399199278723726, 0.005960015258958895, 0.1056104886620652, -0.006556265709554329, -0.09441580549871112, -0.07112288621124807, 0.047710129757490075, -0.10374928534887137, 0.015292419898315349, -0.01639733176868181, -0.2608449719907615, 0.07650945673957618, 0.03666213338418626, 0.009492826758767621, 0.008535661789432724, 0.031174935841463157, -0.06890838594025958, -0.045391619362324116, -0.22258647672643173, -0.05484964504329869, -0.012112631330750299, -0.1516007155096367, 0.054808019416847556, 0.000992008400428654, 0.3226413422100545, -0.11473590602823472, -0.05876603121581823, -0.07048361055857374, 0.15079178352850747, 0.01340061700001288, -0.05329219254816809, 0.023104760040948663, -0.10485843283623651, 0.07174041814627906, 0.0472538211143592, 0.10132851784405017, -0.079827727649598, 0.11700301955700453, -0.058774362805155564, 0.09422872562247935, 0.07070813523726371, -0.09230503087399912, 0.022448389764131334, -0.0496595746049705, -0.018514772169852534, 0.02114543069177026, 0.02226460372052191, 0.1614453423597005, -0.06947245273651519, 0.12269961474870872, -0.13626499045749382, 0.000686708216524058, -0.09864696308679737, -0.05900884621668726, -0.020593831569878627, -0.06798466046579725, -0.03860720325439516, 0.057525818597321574, -0.01374274364857049, -0.13207758817455134, -0.056631027243012146, -0.020805243858386138, 0.01870070028541787, 0.22378380575258258, 0.013002314847325997, -0.02809585337386263, 0.029900240334356065, -0.08453658549057845, -0.06425285767534647, 0.07089936969724621, -0.0035333024163639952, -0.04743522015077787, -0.05696818835627066, -0.03535933071261965, -0.012159649082603967, -0.05072380005308727, 0.04065928965667866, -0.08445704361063615, 0.10814591231880247, -0.010609253274859875, 0.094428728566698, 0.0017370314591396458, -0.14726213836709853, 0.06023645302939294, -0.11288978255125132, 0.1218973779359161, 0.222972767888259, 0.05987346528910068, -0.07006052594019554, 0.24221823838233594, 0.092659128583443, 0.11142803159647248, 0.054966479567675114, -0.042826996230919664, -0.11485092955164804, -0.22757174822842466, 0.26961569622869097], \"line\": {\"dash\": \"solid\", \"width\": 1.3, \"color\": \"rgba(128, 128, 128, 1.0)\"}, \"yaxis\": \"y2\", \"marker\": {\"symbol\": \"dot\", \"size\": 2}, \"xaxis\": \"x2\", \"mode\": \"markers\", \"y\": [-0.061107580958939325, -0.13984109971379566, -0.11138128206204934, 0.09248749997779049, -0.11602468263246868, 0.052259394682026894, 0.14091253965113507, -0.13860627145768536, -0.026299094957040983, 0.31763145956154304, -0.12772685969751482, 0.018821123823306016, -0.009300191469094474, -0.023491064604327948, 0.009968901645550502, 0.14015914674793112, -0.05764855292725581, 0.06788168621825964, -0.13977690845296423, 0.08310142195143154, 0.14499876891961602, -0.05885995568411235, -0.0625040774744487, -0.03611815463173359, -0.016712950848523637, 0.1046908716256326, 0.029719312998885885, 0.10900250732405584, 0.027017969607232222, 0.13499846352114905, 0.0954538292042824, 0.019119463940218472, 0.08911999842610833, -0.013128247712182569, 0.05901714286762598, -0.10156210854704381, -0.09854388117215511, 0.09993740294418933, -0.05830414077390119, 0.08548578022921344, 0.07589269245750419, -0.03817562199234498, -0.09629616225669566, 0.05367379355671724, 0.10463600798561608, -0.07544585888654631, -0.004709989367040379, -0.10769184419867721, -0.09012681710433788, 0.016344773661054277, -0.08027087702308802, -0.06772069644762983, 0.1507437774536186, -0.13016435339121185, -0.06367167866356822, 0.0786796617615371, 0.0017424840002231363, -0.08250895230212517, -0.07722631404711021, 0.04311353451550979, 0.047613880727126606, 0.09788998652139726, -0.12672056046973315, -0.011237529592127668, 0.003544700909574625, -0.14463821424895726, 0.031325450023107264, 0.2006264521132176, 0.044866626282388425, 0.08671135170492453, 0.011952781037095368, -0.0026055688775329638, 0.010936280169025786, 0.11881498032556848, -0.15871153819317163, -0.11157135256568028, -0.10349352809179706, -0.15487799269275404, -0.04083760045225625, 0.08251938235902413, -0.12420491345641561, -0.03292716249579644, -0.17993733820915922, -0.023499218285543123, 0.07721357414513956, 0.016352676929300532, -0.17269272910487923, 0.31133331335670844, -0.07812444679524265, 0.011167750062802682, -0.011155308306135626, -0.051259402141385704, 0.16916626893100137, -0.0646765603625796, -0.027883980231280008, 0.03518579667245168, -0.04187185770683434, 0.08598394422794123, -0.10910923648216692, 0.09640931102234264, -0.0029012804466053838, 0.09965767188654172], \"text\": \"\"}, {\"type\": \"scatter\", \"name\": 1, \"x\": [-0.0003029357862572572, 0.11418763406188463, 0.10416695313832457, 0.04091188811313696, 0.08650883444144995, 0.043125996627072685, 0.021934166825032124, 0.0354118631613433, 0.02210469767929584, 0.1582412644818569, 0.0686536714677548, -0.1575209295943356, -0.03427473316144153, -0.005532494606650257, 0.08635925132610625, -0.3056253374760587, -0.08569244829207032, 0.04308146490843044, 0.09296229644349953, 0.07390473453359751, -0.00806035606515751, 0.026534597262163808, 0.012209373935219271, -0.19951689932967986, -0.2319977462565633, 0.11682543865278569, 0.12319725101632835, 0.1631564020454336, -0.16448580543294827, -0.09204376581161246, 0.018152962383173172, 0.0569650956512033, 0.01747766738423461, 0.04693506012188707, 0.03188458524803302, 0.033189307591239385, 0.11567950554608576, -0.021873337136242725, 0.07439351227954084, 0.0027731121203717498, 0.02014126938263924, 0.04892472857015696, -0.16461913107179243, -0.01846708563488302, 0.021308562128522973, -0.0408599515457422, 0.050054362652365736, 0.09835898879717123, 0.03442665419490477, 0.09196951057173844, 0.003602492365609685, 0.003438591625532741, 0.05896254357710209, 0.07532674114942116, -0.13971664336900708, -0.08235508869141203, -0.28234356421301277, 0.004188115419335052, -0.04942047842837003, 0.03782222887447058, 0.11473286082957117, 0.030634364357052093, -0.04538152362626249, -0.022139201065106546, -0.09122857281550029, 0.058370686005284673, -0.07192826550148881, 0.014479032522861994, -0.17160547439113985, 0.05647912669178995, -0.026671566988123268, -0.048031488648889634, 0.021680491094293243, 0.12371589862733685, 0.016739122353937513, -0.2904558786820861, 0.06865013222270935, 0.16316933629143934, 0.0762711779055263, 0.032582712069009506, -0.045628625265993185, -0.0840981131216557, 0.1832327882803666, 0.07583174341628486, -0.054912386272959066, 0.015924842600503565, -0.1657857417810734, 0.021263477046750818, 0.08703687833877295, 0.014494337414069604, 0.04967310381311366, -0.006597135662862536, 0.08529649646052086, -0.05260029109982468, -0.054006177807891804, -0.020608837771368536, 0.05830702147520167, 0.022588826290293188, -0.008091854227040531, -0.03305826700694645, -0.2338665641865325, -0.15920313603615915], \"line\": {\"dash\": \"solid\", \"width\": 1.3, \"color\": \"rgba(128, 128, 128, 1.0)\"}, \"yaxis\": \"y3\", \"marker\": {\"symbol\": \"dot\", \"size\": 2}, \"xaxis\": \"x3\", \"mode\": \"markers\", \"y\": [-0.061107580958939325, -0.13984109971379566, -0.11138128206204934, 0.09248749997779049, -0.11602468263246868, 0.052259394682026894, 0.14091253965113507, -0.13860627145768536, -0.026299094957040983, 0.31763145956154304, -0.12772685969751482, 0.018821123823306016, -0.009300191469094474, -0.023491064604327948, 0.009968901645550502, 0.14015914674793112, -0.05764855292725581, 0.06788168621825964, -0.13977690845296423, 0.08310142195143154, 0.14499876891961602, -0.05885995568411235, -0.0625040774744487, -0.03611815463173359, -0.016712950848523637, 0.1046908716256326, 0.029719312998885885, 0.10900250732405584, 0.027017969607232222, 0.13499846352114905, 0.0954538292042824, 0.019119463940218472, 0.08911999842610833, -0.013128247712182569, 0.05901714286762598, -0.10156210854704381, -0.09854388117215511, 0.09993740294418933, -0.05830414077390119, 0.08548578022921344, 0.07589269245750419, -0.03817562199234498, -0.09629616225669566, 0.05367379355671724, 0.10463600798561608, -0.07544585888654631, -0.004709989367040379, -0.10769184419867721, -0.09012681710433788, 0.016344773661054277, -0.08027087702308802, -0.06772069644762983, 0.1507437774536186, -0.13016435339121185, -0.06367167866356822, 0.0786796617615371, 0.0017424840002231363, -0.08250895230212517, -0.07722631404711021, 0.04311353451550979, 0.047613880727126606, 0.09788998652139726, -0.12672056046973315, -0.011237529592127668, 0.003544700909574625, -0.14463821424895726, 0.031325450023107264, 0.2006264521132176, 0.044866626282388425, 0.08671135170492453, 0.011952781037095368, -0.0026055688775329638, 0.010936280169025786, 0.11881498032556848, -0.15871153819317163, -0.11157135256568028, -0.10349352809179706, -0.15487799269275404, -0.04083760045225625, 0.08251938235902413, -0.12420491345641561, -0.03292716249579644, -0.17993733820915922, -0.023499218285543123, 0.07721357414513956, 0.016352676929300532, -0.17269272910487923, 0.31133331335670844, -0.07812444679524265, 0.011167750062802682, -0.011155308306135626, -0.051259402141385704, 0.16916626893100137, -0.0646765603625796, -0.027883980231280008, 0.03518579667245168, -0.04187185770683434, 0.08598394422794123, -0.10910923648216692, 0.09640931102234264, -0.0029012804466053838, 0.09965767188654172], \"text\": \"\"}, {\"type\": \"scatter\", \"name\": 1, \"x\": [0.00230385277166647, 0.005615724843038438, -0.052726090662528834, 0.0014160083437309173, -0.11990720709669767, 0.029450074407828562, 0.10633115142797724, -0.04244547011274322, -0.012216974279724555, 0.0634483227465297, -0.09288781808228375, 0.04787675664666324, 0.1887013659330368, 0.05831644812196746, -0.09521087703690656, -0.06793899367028611, -0.13292366212810763, 0.06561412990009481, -0.010940136261413744, -0.13099990772106657, -0.14733880103628816, 0.10993634748994945, 0.009801180652993765, 0.05570340860381259, -0.186460719763474, -0.04916751724266272, 0.21919754578247053, -0.08567738231126507, 0.09351648935707814, -0.013424367807792204, -0.08086628415875906, -0.05133020712467181, -0.1608064568289995, -0.0860573429664209, -0.04580371845871518, -0.06716073373059327, -0.025251512495317267, 0.11572044947636546, -0.021954390642196932, 0.10156467596685609, 0.08780974027863638, -0.015436292368297558, 0.22988310775683854, 0.017198517948087935, 0.03231810650978042, 0.062372226551714614, 0.2498548121588225, 0.007249922774212025, -0.10174969560437123, -0.05434855259566506, 0.02168352952905916, 0.0006517903021383793, -0.01961079274935106, -0.006877442724946596, 0.062112177995479474, 0.12088508360907177, -0.17528700171309178, 0.20993312919568297, 0.05093111176771003, -0.05400255036076448, 0.05303222162693511, -0.0900517144716653, 0.03297757327343712, 0.09467922971898515, -0.018322650530292993, 0.030986875506796414, -0.08364330232977062, -0.08175797761731132, 0.1439440790520646, 0.06616266098289261, 0.02097383664417455, -0.007706843753191359, -0.003904504808561848, -0.06276764671363207, -0.08681776374079893, -0.27343053336126333, -0.003110526533184788, 0.0877183904639762, -0.15635256194491468, -0.061601220205740576, -0.033118686772439704, -0.09392165983987956, 0.036335622146624856, -0.011329653778677213, -0.05353660275144953, -0.16245013612534875, 0.28772399988846653, 0.08647569745451802, -0.1518493184660526, -0.03284359617584868, -0.11029353928777048, 0.038077839349830396, 0.10175083776001573, 0.0656844419259466, 0.09952011718391561, -0.027962411493057573, -0.023058357010742988, 0.06648970994750876, 0.10164264371689184, -0.033116788445877336, -0.06779662391327622, 0.0959805543138749], \"line\": {\"dash\": \"solid\", \"width\": 1.3, \"color\": \"rgba(128, 128, 128, 1.0)\"}, \"yaxis\": \"y4\", \"marker\": {\"symbol\": \"dot\", \"size\": 2}, \"xaxis\": \"x4\", \"mode\": \"markers\", \"y\": [-0.061107580958939325, -0.13984109971379566, -0.11138128206204934, 0.09248749997779049, -0.11602468263246868, 0.052259394682026894, 0.14091253965113507, -0.13860627145768536, -0.026299094957040983, 0.31763145956154304, -0.12772685969751482, 0.018821123823306016, -0.009300191469094474, -0.023491064604327948, 0.009968901645550502, 0.14015914674793112, -0.05764855292725581, 0.06788168621825964, -0.13977690845296423, 0.08310142195143154, 0.14499876891961602, -0.05885995568411235, -0.0625040774744487, -0.03611815463173359, -0.016712950848523637, 0.1046908716256326, 0.029719312998885885, 0.10900250732405584, 0.027017969607232222, 0.13499846352114905, 0.0954538292042824, 0.019119463940218472, 0.08911999842610833, -0.013128247712182569, 0.05901714286762598, -0.10156210854704381, -0.09854388117215511, 0.09993740294418933, -0.05830414077390119, 0.08548578022921344, 0.07589269245750419, -0.03817562199234498, -0.09629616225669566, 0.05367379355671724, 0.10463600798561608, -0.07544585888654631, -0.004709989367040379, -0.10769184419867721, -0.09012681710433788, 0.016344773661054277, -0.08027087702308802, -0.06772069644762983, 0.1507437774536186, -0.13016435339121185, -0.06367167866356822, 0.0786796617615371, 0.0017424840002231363, -0.08250895230212517, -0.07722631404711021, 0.04311353451550979, 0.047613880727126606, 0.09788998652139726, -0.12672056046973315, -0.011237529592127668, 0.003544700909574625, -0.14463821424895726, 0.031325450023107264, 0.2006264521132176, 0.044866626282388425, 0.08671135170492453, 0.011952781037095368, -0.0026055688775329638, 0.010936280169025786, 0.11881498032556848, -0.15871153819317163, -0.11157135256568028, -0.10349352809179706, -0.15487799269275404, -0.04083760045225625, 0.08251938235902413, -0.12420491345641561, -0.03292716249579644, -0.17993733820915922, -0.023499218285543123, 0.07721357414513956, 0.016352676929300532, -0.17269272910487923, 0.31133331335670844, -0.07812444679524265, 0.011167750062802682, -0.011155308306135626, -0.051259402141385704, 0.16916626893100137, -0.0646765603625796, -0.027883980231280008, 0.03518579667245168, -0.04187185770683434, 0.08598394422794123, -0.10910923648216692, 0.09640931102234264, -0.0029012804466053838, 0.09965767188654172], \"text\": \"\"}, {\"type\": \"scatter\", \"name\": 2, \"x\": [-0.061107580958939325, -0.13984109971379566, -0.11138128206204934, 0.09248749997779049, -0.11602468263246868, 0.052259394682026894, 0.14091253965113507, -0.13860627145768536, -0.026299094957040983, 0.31763145956154304, -0.12772685969751482, 0.018821123823306016, -0.009300191469094474, -0.023491064604327948, 0.009968901645550502, 0.14015914674793112, -0.05764855292725581, 0.06788168621825964, -0.13977690845296423, 0.08310142195143154, 0.14499876891961602, -0.05885995568411235, -0.0625040774744487, -0.03611815463173359, -0.016712950848523637, 0.1046908716256326, 0.029719312998885885, 0.10900250732405584, 0.027017969607232222, 0.13499846352114905, 0.0954538292042824, 0.019119463940218472, 0.08911999842610833, -0.013128247712182569, 0.05901714286762598, -0.10156210854704381, -0.09854388117215511, 0.09993740294418933, -0.05830414077390119, 0.08548578022921344, 0.07589269245750419, -0.03817562199234498, -0.09629616225669566, 0.05367379355671724, 0.10463600798561608, -0.07544585888654631, -0.004709989367040379, -0.10769184419867721, -0.09012681710433788, 0.016344773661054277, -0.08027087702308802, -0.06772069644762983, 0.1507437774536186, -0.13016435339121185, -0.06367167866356822, 0.0786796617615371, 0.0017424840002231363, -0.08250895230212517, -0.07722631404711021, 0.04311353451550979, 0.047613880727126606, 0.09788998652139726, -0.12672056046973315, -0.011237529592127668, 0.003544700909574625, -0.14463821424895726, 0.031325450023107264, 0.2006264521132176, 0.044866626282388425, 0.08671135170492453, 0.011952781037095368, -0.0026055688775329638, 0.010936280169025786, 0.11881498032556848, -0.15871153819317163, -0.11157135256568028, -0.10349352809179706, -0.15487799269275404, -0.04083760045225625, 0.08251938235902413, -0.12420491345641561, -0.03292716249579644, -0.17993733820915922, -0.023499218285543123, 0.07721357414513956, 0.016352676929300532, -0.17269272910487923, 0.31133331335670844, -0.07812444679524265, 0.011167750062802682, -0.011155308306135626, -0.051259402141385704, 0.16916626893100137, -0.0646765603625796, -0.027883980231280008, 0.03518579667245168, -0.04187185770683434, 0.08598394422794123, -0.10910923648216692, 0.09640931102234264, -0.0029012804466053838, 0.09965767188654172], \"line\": {\"dash\": \"solid\", \"width\": 1.3, \"color\": \"rgba(128, 128, 128, 1.0)\"}, \"yaxis\": \"y5\", \"marker\": {\"symbol\": \"dot\", \"size\": 2}, \"xaxis\": \"x5\", \"mode\": \"markers\", \"y\": [0.026102468897267028, 0.007564059824316086, -0.0260557619954829, 0.08156957276394844, -0.0836872969857137, 0.061399199278723726, 0.005960015258958895, 0.1056104886620652, -0.006556265709554329, -0.09441580549871112, -0.07112288621124807, 0.047710129757490075, -0.10374928534887137, 0.015292419898315349, -0.01639733176868181, -0.2608449719907615, 0.07650945673957618, 0.03666213338418626, 0.009492826758767621, 0.008535661789432724, 0.031174935841463157, -0.06890838594025958, -0.045391619362324116, -0.22258647672643173, -0.05484964504329869, -0.012112631330750299, -0.1516007155096367, 0.054808019416847556, 0.000992008400428654, 0.3226413422100545, -0.11473590602823472, -0.05876603121581823, -0.07048361055857374, 0.15079178352850747, 0.01340061700001288, -0.05329219254816809, 0.023104760040948663, -0.10485843283623651, 0.07174041814627906, 0.0472538211143592, 0.10132851784405017, -0.079827727649598, 0.11700301955700453, -0.058774362805155564, 0.09422872562247935, 0.07070813523726371, -0.09230503087399912, 0.022448389764131334, -0.0496595746049705, -0.018514772169852534, 0.02114543069177026, 0.02226460372052191, 0.1614453423597005, -0.06947245273651519, 0.12269961474870872, -0.13626499045749382, 0.000686708216524058, -0.09864696308679737, -0.05900884621668726, -0.020593831569878627, -0.06798466046579725, -0.03860720325439516, 0.057525818597321574, -0.01374274364857049, -0.13207758817455134, -0.056631027243012146, -0.020805243858386138, 0.01870070028541787, 0.22378380575258258, 0.013002314847325997, -0.02809585337386263, 0.029900240334356065, -0.08453658549057845, -0.06425285767534647, 0.07089936969724621, -0.0035333024163639952, -0.04743522015077787, -0.05696818835627066, -0.03535933071261965, -0.012159649082603967, -0.05072380005308727, 0.04065928965667866, -0.08445704361063615, 0.10814591231880247, -0.010609253274859875, 0.094428728566698, 0.0017370314591396458, -0.14726213836709853, 0.06023645302939294, -0.11288978255125132, 0.1218973779359161, 0.222972767888259, 0.05987346528910068, -0.07006052594019554, 0.24221823838233594, 0.092659128583443, 0.11142803159647248, 0.054966479567675114, -0.042826996230919664, -0.11485092955164804, -0.22757174822842466, 0.26961569622869097], \"text\": \"\"}, {\"histnorm\": \"\", \"type\": \"histogram\", \"name\": 2, \"orientation\": \"v\", \"nbinsx\": 10, \"marker\": {\"line\": {\"width\": 1.3, \"color\": \"#D9D9D9\"}, \"color\": \"rgba(62, 111, 176, 1.0)\"}, \"histfunc\": \"count\", \"yaxis\": \"y6\", \"xaxis\": \"x6\", \"opacity\": 0.8, \"x\": [0.026102468897267028, 0.007564059824316086, -0.0260557619954829, 0.08156957276394844, -0.0836872969857137, 0.061399199278723726, 0.005960015258958895, 0.1056104886620652, -0.006556265709554329, -0.09441580549871112, -0.07112288621124807, 0.047710129757490075, -0.10374928534887137, 0.015292419898315349, -0.01639733176868181, -0.2608449719907615, 0.07650945673957618, 0.03666213338418626, 0.009492826758767621, 0.008535661789432724, 0.031174935841463157, -0.06890838594025958, -0.045391619362324116, -0.22258647672643173, -0.05484964504329869, -0.012112631330750299, -0.1516007155096367, 0.054808019416847556, 0.000992008400428654, 0.3226413422100545, -0.11473590602823472, -0.05876603121581823, -0.07048361055857374, 0.15079178352850747, 0.01340061700001288, -0.05329219254816809, 0.023104760040948663, -0.10485843283623651, 0.07174041814627906, 0.0472538211143592, 0.10132851784405017, -0.079827727649598, 0.11700301955700453, -0.058774362805155564, 0.09422872562247935, 0.07070813523726371, -0.09230503087399912, 0.022448389764131334, -0.0496595746049705, -0.018514772169852534, 0.02114543069177026, 0.02226460372052191, 0.1614453423597005, -0.06947245273651519, 0.12269961474870872, -0.13626499045749382, 0.000686708216524058, -0.09864696308679737, -0.05900884621668726, -0.020593831569878627, -0.06798466046579725, -0.03860720325439516, 0.057525818597321574, -0.01374274364857049, -0.13207758817455134, -0.056631027243012146, -0.020805243858386138, 0.01870070028541787, 0.22378380575258258, 0.013002314847325997, -0.02809585337386263, 0.029900240334356065, -0.08453658549057845, -0.06425285767534647, 0.07089936969724621, -0.0035333024163639952, -0.04743522015077787, -0.05696818835627066, -0.03535933071261965, -0.012159649082603967, -0.05072380005308727, 0.04065928965667866, -0.08445704361063615, 0.10814591231880247, -0.010609253274859875, 0.094428728566698, 0.0017370314591396458, -0.14726213836709853, 0.06023645302939294, -0.11288978255125132, 0.1218973779359161, 0.222972767888259, 0.05987346528910068, -0.07006052594019554, 0.24221823838233594, 0.092659128583443, 0.11142803159647248, 0.054966479567675114, -0.042826996230919664, -0.11485092955164804, -0.22757174822842466, 0.26961569622869097]}, {\"type\": \"scatter\", \"name\": 2, \"x\": [-0.0003029357862572572, 0.11418763406188463, 0.10416695313832457, 0.04091188811313696, 0.08650883444144995, 0.043125996627072685, 0.021934166825032124, 0.0354118631613433, 0.02210469767929584, 0.1582412644818569, 0.0686536714677548, -0.1575209295943356, -0.03427473316144153, -0.005532494606650257, 0.08635925132610625, -0.3056253374760587, -0.08569244829207032, 0.04308146490843044, 0.09296229644349953, 0.07390473453359751, -0.00806035606515751, 0.026534597262163808, 0.012209373935219271, -0.19951689932967986, -0.2319977462565633, 0.11682543865278569, 0.12319725101632835, 0.1631564020454336, -0.16448580543294827, -0.09204376581161246, 0.018152962383173172, 0.0569650956512033, 0.01747766738423461, 0.04693506012188707, 0.03188458524803302, 0.033189307591239385, 0.11567950554608576, -0.021873337136242725, 0.07439351227954084, 0.0027731121203717498, 0.02014126938263924, 0.04892472857015696, -0.16461913107179243, -0.01846708563488302, 0.021308562128522973, -0.0408599515457422, 0.050054362652365736, 0.09835898879717123, 0.03442665419490477, 0.09196951057173844, 0.003602492365609685, 0.003438591625532741, 0.05896254357710209, 0.07532674114942116, -0.13971664336900708, -0.08235508869141203, -0.28234356421301277, 0.004188115419335052, -0.04942047842837003, 0.03782222887447058, 0.11473286082957117, 0.030634364357052093, -0.04538152362626249, -0.022139201065106546, -0.09122857281550029, 0.058370686005284673, -0.07192826550148881, 0.014479032522861994, -0.17160547439113985, 0.05647912669178995, -0.026671566988123268, -0.048031488648889634, 0.021680491094293243, 0.12371589862733685, 0.016739122353937513, -0.2904558786820861, 0.06865013222270935, 0.16316933629143934, 0.0762711779055263, 0.032582712069009506, -0.045628625265993185, -0.0840981131216557, 0.1832327882803666, 0.07583174341628486, -0.054912386272959066, 0.015924842600503565, -0.1657857417810734, 0.021263477046750818, 0.08703687833877295, 0.014494337414069604, 0.04967310381311366, -0.006597135662862536, 0.08529649646052086, -0.05260029109982468, -0.054006177807891804, -0.020608837771368536, 0.05830702147520167, 0.022588826290293188, -0.008091854227040531, -0.03305826700694645, -0.2338665641865325, -0.15920313603615915], \"line\": {\"dash\": \"solid\", \"width\": 1.3, \"color\": \"rgba(128, 128, 128, 1.0)\"}, \"yaxis\": \"y7\", \"marker\": {\"symbol\": \"dot\", \"size\": 2}, \"xaxis\": \"x7\", \"mode\": \"markers\", \"y\": [0.026102468897267028, 0.007564059824316086, -0.0260557619954829, 0.08156957276394844, -0.0836872969857137, 0.061399199278723726, 0.005960015258958895, 0.1056104886620652, -0.006556265709554329, -0.09441580549871112, -0.07112288621124807, 0.047710129757490075, -0.10374928534887137, 0.015292419898315349, -0.01639733176868181, -0.2608449719907615, 0.07650945673957618, 0.03666213338418626, 0.009492826758767621, 0.008535661789432724, 0.031174935841463157, -0.06890838594025958, -0.045391619362324116, -0.22258647672643173, -0.05484964504329869, -0.012112631330750299, -0.1516007155096367, 0.054808019416847556, 0.000992008400428654, 0.3226413422100545, -0.11473590602823472, -0.05876603121581823, -0.07048361055857374, 0.15079178352850747, 0.01340061700001288, -0.05329219254816809, 0.023104760040948663, -0.10485843283623651, 0.07174041814627906, 0.0472538211143592, 0.10132851784405017, -0.079827727649598, 0.11700301955700453, -0.058774362805155564, 0.09422872562247935, 0.07070813523726371, -0.09230503087399912, 0.022448389764131334, -0.0496595746049705, -0.018514772169852534, 0.02114543069177026, 0.02226460372052191, 0.1614453423597005, -0.06947245273651519, 0.12269961474870872, -0.13626499045749382, 0.000686708216524058, -0.09864696308679737, -0.05900884621668726, -0.020593831569878627, -0.06798466046579725, -0.03860720325439516, 0.057525818597321574, -0.01374274364857049, -0.13207758817455134, -0.056631027243012146, -0.020805243858386138, 0.01870070028541787, 0.22378380575258258, 0.013002314847325997, -0.02809585337386263, 0.029900240334356065, -0.08453658549057845, -0.06425285767534647, 0.07089936969724621, -0.0035333024163639952, -0.04743522015077787, -0.05696818835627066, -0.03535933071261965, -0.012159649082603967, -0.05072380005308727, 0.04065928965667866, -0.08445704361063615, 0.10814591231880247, -0.010609253274859875, 0.094428728566698, 0.0017370314591396458, -0.14726213836709853, 0.06023645302939294, -0.11288978255125132, 0.1218973779359161, 0.222972767888259, 0.05987346528910068, -0.07006052594019554, 0.24221823838233594, 0.092659128583443, 0.11142803159647248, 0.054966479567675114, -0.042826996230919664, -0.11485092955164804, -0.22757174822842466, 0.26961569622869097], \"text\": \"\"}, {\"type\": \"scatter\", \"name\": 2, \"x\": [0.00230385277166647, 0.005615724843038438, -0.052726090662528834, 0.0014160083437309173, -0.11990720709669767, 0.029450074407828562, 0.10633115142797724, -0.04244547011274322, -0.012216974279724555, 0.0634483227465297, -0.09288781808228375, 0.04787675664666324, 0.1887013659330368, 0.05831644812196746, -0.09521087703690656, -0.06793899367028611, -0.13292366212810763, 0.06561412990009481, -0.010940136261413744, -0.13099990772106657, -0.14733880103628816, 0.10993634748994945, 0.009801180652993765, 0.05570340860381259, -0.186460719763474, -0.04916751724266272, 0.21919754578247053, -0.08567738231126507, 0.09351648935707814, -0.013424367807792204, -0.08086628415875906, -0.05133020712467181, -0.1608064568289995, -0.0860573429664209, -0.04580371845871518, -0.06716073373059327, -0.025251512495317267, 0.11572044947636546, -0.021954390642196932, 0.10156467596685609, 0.08780974027863638, -0.015436292368297558, 0.22988310775683854, 0.017198517948087935, 0.03231810650978042, 0.062372226551714614, 0.2498548121588225, 0.007249922774212025, -0.10174969560437123, -0.05434855259566506, 0.02168352952905916, 0.0006517903021383793, -0.01961079274935106, -0.006877442724946596, 0.062112177995479474, 0.12088508360907177, -0.17528700171309178, 0.20993312919568297, 0.05093111176771003, -0.05400255036076448, 0.05303222162693511, -0.0900517144716653, 0.03297757327343712, 0.09467922971898515, -0.018322650530292993, 0.030986875506796414, -0.08364330232977062, -0.08175797761731132, 0.1439440790520646, 0.06616266098289261, 0.02097383664417455, -0.007706843753191359, -0.003904504808561848, -0.06276764671363207, -0.08681776374079893, -0.27343053336126333, -0.003110526533184788, 0.0877183904639762, -0.15635256194491468, -0.061601220205740576, -0.033118686772439704, -0.09392165983987956, 0.036335622146624856, -0.011329653778677213, -0.05353660275144953, -0.16245013612534875, 0.28772399988846653, 0.08647569745451802, -0.1518493184660526, -0.03284359617584868, -0.11029353928777048, 0.038077839349830396, 0.10175083776001573, 0.0656844419259466, 0.09952011718391561, -0.027962411493057573, -0.023058357010742988, 0.06648970994750876, 0.10164264371689184, -0.033116788445877336, -0.06779662391327622, 0.0959805543138749], \"line\": {\"dash\": \"solid\", \"width\": 1.3, \"color\": \"rgba(128, 128, 128, 1.0)\"}, \"yaxis\": \"y8\", \"marker\": {\"symbol\": \"dot\", \"size\": 2}, \"xaxis\": \"x8\", \"mode\": \"markers\", \"y\": [0.026102468897267028, 0.007564059824316086, -0.0260557619954829, 0.08156957276394844, -0.0836872969857137, 0.061399199278723726, 0.005960015258958895, 0.1056104886620652, -0.006556265709554329, -0.09441580549871112, -0.07112288621124807, 0.047710129757490075, -0.10374928534887137, 0.015292419898315349, -0.01639733176868181, -0.2608449719907615, 0.07650945673957618, 0.03666213338418626, 0.009492826758767621, 0.008535661789432724, 0.031174935841463157, -0.06890838594025958, -0.045391619362324116, -0.22258647672643173, -0.05484964504329869, -0.012112631330750299, -0.1516007155096367, 0.054808019416847556, 0.000992008400428654, 0.3226413422100545, -0.11473590602823472, -0.05876603121581823, -0.07048361055857374, 0.15079178352850747, 0.01340061700001288, -0.05329219254816809, 0.023104760040948663, -0.10485843283623651, 0.07174041814627906, 0.0472538211143592, 0.10132851784405017, -0.079827727649598, 0.11700301955700453, -0.058774362805155564, 0.09422872562247935, 0.07070813523726371, -0.09230503087399912, 0.022448389764131334, -0.0496595746049705, -0.018514772169852534, 0.02114543069177026, 0.02226460372052191, 0.1614453423597005, -0.06947245273651519, 0.12269961474870872, -0.13626499045749382, 0.000686708216524058, -0.09864696308679737, -0.05900884621668726, -0.020593831569878627, -0.06798466046579725, -0.03860720325439516, 0.057525818597321574, -0.01374274364857049, -0.13207758817455134, -0.056631027243012146, -0.020805243858386138, 0.01870070028541787, 0.22378380575258258, 0.013002314847325997, -0.02809585337386263, 0.029900240334356065, -0.08453658549057845, -0.06425285767534647, 0.07089936969724621, -0.0035333024163639952, -0.04743522015077787, -0.05696818835627066, -0.03535933071261965, -0.012159649082603967, -0.05072380005308727, 0.04065928965667866, -0.08445704361063615, 0.10814591231880247, -0.010609253274859875, 0.094428728566698, 0.0017370314591396458, -0.14726213836709853, 0.06023645302939294, -0.11288978255125132, 0.1218973779359161, 0.222972767888259, 0.05987346528910068, -0.07006052594019554, 0.24221823838233594, 0.092659128583443, 0.11142803159647248, 0.054966479567675114, -0.042826996230919664, -0.11485092955164804, -0.22757174822842466, 0.26961569622869097], \"text\": \"\"}, {\"type\": \"scatter\", \"name\": 3, \"x\": [-0.061107580958939325, -0.13984109971379566, -0.11138128206204934, 0.09248749997779049, -0.11602468263246868, 0.052259394682026894, 0.14091253965113507, -0.13860627145768536, -0.026299094957040983, 0.31763145956154304, -0.12772685969751482, 0.018821123823306016, -0.009300191469094474, -0.023491064604327948, 0.009968901645550502, 0.14015914674793112, -0.05764855292725581, 0.06788168621825964, -0.13977690845296423, 0.08310142195143154, 0.14499876891961602, -0.05885995568411235, -0.0625040774744487, -0.03611815463173359, -0.016712950848523637, 0.1046908716256326, 0.029719312998885885, 0.10900250732405584, 0.027017969607232222, 0.13499846352114905, 0.0954538292042824, 0.019119463940218472, 0.08911999842610833, -0.013128247712182569, 0.05901714286762598, -0.10156210854704381, -0.09854388117215511, 0.09993740294418933, -0.05830414077390119, 0.08548578022921344, 0.07589269245750419, -0.03817562199234498, -0.09629616225669566, 0.05367379355671724, 0.10463600798561608, -0.07544585888654631, -0.004709989367040379, -0.10769184419867721, -0.09012681710433788, 0.016344773661054277, -0.08027087702308802, -0.06772069644762983, 0.1507437774536186, -0.13016435339121185, -0.06367167866356822, 0.0786796617615371, 0.0017424840002231363, -0.08250895230212517, -0.07722631404711021, 0.04311353451550979, 0.047613880727126606, 0.09788998652139726, -0.12672056046973315, -0.011237529592127668, 0.003544700909574625, -0.14463821424895726, 0.031325450023107264, 0.2006264521132176, 0.044866626282388425, 0.08671135170492453, 0.011952781037095368, -0.0026055688775329638, 0.010936280169025786, 0.11881498032556848, -0.15871153819317163, -0.11157135256568028, -0.10349352809179706, -0.15487799269275404, -0.04083760045225625, 0.08251938235902413, -0.12420491345641561, -0.03292716249579644, -0.17993733820915922, -0.023499218285543123, 0.07721357414513956, 0.016352676929300532, -0.17269272910487923, 0.31133331335670844, -0.07812444679524265, 0.011167750062802682, -0.011155308306135626, -0.051259402141385704, 0.16916626893100137, -0.0646765603625796, -0.027883980231280008, 0.03518579667245168, -0.04187185770683434, 0.08598394422794123, -0.10910923648216692, 0.09640931102234264, -0.0029012804466053838, 0.09965767188654172], \"line\": {\"dash\": \"solid\", \"width\": 1.3, \"color\": \"rgba(128, 128, 128, 1.0)\"}, \"yaxis\": \"y9\", \"marker\": {\"symbol\": \"dot\", \"size\": 2}, \"xaxis\": \"x9\", \"mode\": \"markers\", \"y\": [-0.0003029357862572572, 0.11418763406188463, 0.10416695313832457, 0.04091188811313696, 0.08650883444144995, 0.043125996627072685, 0.021934166825032124, 0.0354118631613433, 0.02210469767929584, 0.1582412644818569, 0.0686536714677548, -0.1575209295943356, -0.03427473316144153, -0.005532494606650257, 0.08635925132610625, -0.3056253374760587, -0.08569244829207032, 0.04308146490843044, 0.09296229644349953, 0.07390473453359751, -0.00806035606515751, 0.026534597262163808, 0.012209373935219271, -0.19951689932967986, -0.2319977462565633, 0.11682543865278569, 0.12319725101632835, 0.1631564020454336, -0.16448580543294827, -0.09204376581161246, 0.018152962383173172, 0.0569650956512033, 0.01747766738423461, 0.04693506012188707, 0.03188458524803302, 0.033189307591239385, 0.11567950554608576, -0.021873337136242725, 0.07439351227954084, 0.0027731121203717498, 0.02014126938263924, 0.04892472857015696, -0.16461913107179243, -0.01846708563488302, 0.021308562128522973, -0.0408599515457422, 0.050054362652365736, 0.09835898879717123, 0.03442665419490477, 0.09196951057173844, 0.003602492365609685, 0.003438591625532741, 0.05896254357710209, 0.07532674114942116, -0.13971664336900708, -0.08235508869141203, -0.28234356421301277, 0.004188115419335052, -0.04942047842837003, 0.03782222887447058, 0.11473286082957117, 0.030634364357052093, -0.04538152362626249, -0.022139201065106546, -0.09122857281550029, 0.058370686005284673, -0.07192826550148881, 0.014479032522861994, -0.17160547439113985, 0.05647912669178995, -0.026671566988123268, -0.048031488648889634, 0.021680491094293243, 0.12371589862733685, 0.016739122353937513, -0.2904558786820861, 0.06865013222270935, 0.16316933629143934, 0.0762711779055263, 0.032582712069009506, -0.045628625265993185, -0.0840981131216557, 0.1832327882803666, 0.07583174341628486, -0.054912386272959066, 0.015924842600503565, -0.1657857417810734, 0.021263477046750818, 0.08703687833877295, 0.014494337414069604, 0.04967310381311366, -0.006597135662862536, 0.08529649646052086, -0.05260029109982468, -0.054006177807891804, -0.020608837771368536, 0.05830702147520167, 0.022588826290293188, -0.008091854227040531, -0.03305826700694645, -0.2338665641865325, -0.15920313603615915], \"text\": \"\"}, {\"type\": \"scatter\", \"name\": 3, \"x\": [0.026102468897267028, 0.007564059824316086, -0.0260557619954829, 0.08156957276394844, -0.0836872969857137, 0.061399199278723726, 0.005960015258958895, 0.1056104886620652, -0.006556265709554329, -0.09441580549871112, -0.07112288621124807, 0.047710129757490075, -0.10374928534887137, 0.015292419898315349, -0.01639733176868181, -0.2608449719907615, 0.07650945673957618, 0.03666213338418626, 0.009492826758767621, 0.008535661789432724, 0.031174935841463157, -0.06890838594025958, -0.045391619362324116, -0.22258647672643173, -0.05484964504329869, -0.012112631330750299, -0.1516007155096367, 0.054808019416847556, 0.000992008400428654, 0.3226413422100545, -0.11473590602823472, -0.05876603121581823, -0.07048361055857374, 0.15079178352850747, 0.01340061700001288, -0.05329219254816809, 0.023104760040948663, -0.10485843283623651, 0.07174041814627906, 0.0472538211143592, 0.10132851784405017, -0.079827727649598, 0.11700301955700453, -0.058774362805155564, 0.09422872562247935, 0.07070813523726371, -0.09230503087399912, 0.022448389764131334, -0.0496595746049705, -0.018514772169852534, 0.02114543069177026, 0.02226460372052191, 0.1614453423597005, -0.06947245273651519, 0.12269961474870872, -0.13626499045749382, 0.000686708216524058, -0.09864696308679737, -0.05900884621668726, -0.020593831569878627, -0.06798466046579725, -0.03860720325439516, 0.057525818597321574, -0.01374274364857049, -0.13207758817455134, -0.056631027243012146, -0.020805243858386138, 0.01870070028541787, 0.22378380575258258, 0.013002314847325997, -0.02809585337386263, 0.029900240334356065, -0.08453658549057845, -0.06425285767534647, 0.07089936969724621, -0.0035333024163639952, -0.04743522015077787, -0.05696818835627066, -0.03535933071261965, -0.012159649082603967, -0.05072380005308727, 0.04065928965667866, -0.08445704361063615, 0.10814591231880247, -0.010609253274859875, 0.094428728566698, 0.0017370314591396458, -0.14726213836709853, 0.06023645302939294, -0.11288978255125132, 0.1218973779359161, 0.222972767888259, 0.05987346528910068, -0.07006052594019554, 0.24221823838233594, 0.092659128583443, 0.11142803159647248, 0.054966479567675114, -0.042826996230919664, -0.11485092955164804, -0.22757174822842466, 0.26961569622869097], \"line\": {\"dash\": \"solid\", \"width\": 1.3, \"color\": \"rgba(128, 128, 128, 1.0)\"}, \"yaxis\": \"y10\", \"marker\": {\"symbol\": \"dot\", \"size\": 2}, \"xaxis\": \"x10\", \"mode\": \"markers\", \"y\": [-0.0003029357862572572, 0.11418763406188463, 0.10416695313832457, 0.04091188811313696, 0.08650883444144995, 0.043125996627072685, 0.021934166825032124, 0.0354118631613433, 0.02210469767929584, 0.1582412644818569, 0.0686536714677548, -0.1575209295943356, -0.03427473316144153, -0.005532494606650257, 0.08635925132610625, -0.3056253374760587, -0.08569244829207032, 0.04308146490843044, 0.09296229644349953, 0.07390473453359751, -0.00806035606515751, 0.026534597262163808, 0.012209373935219271, -0.19951689932967986, -0.2319977462565633, 0.11682543865278569, 0.12319725101632835, 0.1631564020454336, -0.16448580543294827, -0.09204376581161246, 0.018152962383173172, 0.0569650956512033, 0.01747766738423461, 0.04693506012188707, 0.03188458524803302, 0.033189307591239385, 0.11567950554608576, -0.021873337136242725, 0.07439351227954084, 0.0027731121203717498, 0.02014126938263924, 0.04892472857015696, -0.16461913107179243, -0.01846708563488302, 0.021308562128522973, -0.0408599515457422, 0.050054362652365736, 0.09835898879717123, 0.03442665419490477, 0.09196951057173844, 0.003602492365609685, 0.003438591625532741, 0.05896254357710209, 0.07532674114942116, -0.13971664336900708, -0.08235508869141203, -0.28234356421301277, 0.004188115419335052, -0.04942047842837003, 0.03782222887447058, 0.11473286082957117, 0.030634364357052093, -0.04538152362626249, -0.022139201065106546, -0.09122857281550029, 0.058370686005284673, -0.07192826550148881, 0.014479032522861994, -0.17160547439113985, 0.05647912669178995, -0.026671566988123268, -0.048031488648889634, 0.021680491094293243, 0.12371589862733685, 0.016739122353937513, -0.2904558786820861, 0.06865013222270935, 0.16316933629143934, 0.0762711779055263, 0.032582712069009506, -0.045628625265993185, -0.0840981131216557, 0.1832327882803666, 0.07583174341628486, -0.054912386272959066, 0.015924842600503565, -0.1657857417810734, 0.021263477046750818, 0.08703687833877295, 0.014494337414069604, 0.04967310381311366, -0.006597135662862536, 0.08529649646052086, -0.05260029109982468, -0.054006177807891804, -0.020608837771368536, 0.05830702147520167, 0.022588826290293188, -0.008091854227040531, -0.03305826700694645, -0.2338665641865325, -0.15920313603615915], \"text\": \"\"}, {\"histnorm\": \"\", \"type\": \"histogram\", \"name\": 3, \"orientation\": \"v\", \"nbinsx\": 10, \"marker\": {\"line\": {\"width\": 1.3, \"color\": \"#D9D9D9\"}, \"color\": \"rgba(132, 118, 202, 1.0)\"}, \"histfunc\": \"count\", \"yaxis\": \"y11\", \"xaxis\": \"x11\", \"opacity\": 0.8, \"x\": [-0.0003029357862572572, 0.11418763406188463, 0.10416695313832457, 0.04091188811313696, 0.08650883444144995, 0.043125996627072685, 0.021934166825032124, 0.0354118631613433, 0.02210469767929584, 0.1582412644818569, 0.0686536714677548, -0.1575209295943356, -0.03427473316144153, -0.005532494606650257, 0.08635925132610625, -0.3056253374760587, -0.08569244829207032, 0.04308146490843044, 0.09296229644349953, 0.07390473453359751, -0.00806035606515751, 0.026534597262163808, 0.012209373935219271, -0.19951689932967986, -0.2319977462565633, 0.11682543865278569, 0.12319725101632835, 0.1631564020454336, -0.16448580543294827, -0.09204376581161246, 0.018152962383173172, 0.0569650956512033, 0.01747766738423461, 0.04693506012188707, 0.03188458524803302, 0.033189307591239385, 0.11567950554608576, -0.021873337136242725, 0.07439351227954084, 0.0027731121203717498, 0.02014126938263924, 0.04892472857015696, -0.16461913107179243, -0.01846708563488302, 0.021308562128522973, -0.0408599515457422, 0.050054362652365736, 0.09835898879717123, 0.03442665419490477, 0.09196951057173844, 0.003602492365609685, 0.003438591625532741, 0.05896254357710209, 0.07532674114942116, -0.13971664336900708, -0.08235508869141203, -0.28234356421301277, 0.004188115419335052, -0.04942047842837003, 0.03782222887447058, 0.11473286082957117, 0.030634364357052093, -0.04538152362626249, -0.022139201065106546, -0.09122857281550029, 0.058370686005284673, -0.07192826550148881, 0.014479032522861994, -0.17160547439113985, 0.05647912669178995, -0.026671566988123268, -0.048031488648889634, 0.021680491094293243, 0.12371589862733685, 0.016739122353937513, -0.2904558786820861, 0.06865013222270935, 0.16316933629143934, 0.0762711779055263, 0.032582712069009506, -0.045628625265993185, -0.0840981131216557, 0.1832327882803666, 0.07583174341628486, -0.054912386272959066, 0.015924842600503565, -0.1657857417810734, 0.021263477046750818, 0.08703687833877295, 0.014494337414069604, 0.04967310381311366, -0.006597135662862536, 0.08529649646052086, -0.05260029109982468, -0.054006177807891804, -0.020608837771368536, 0.05830702147520167, 0.022588826290293188, -0.008091854227040531, -0.03305826700694645, -0.2338665641865325, -0.15920313603615915]}, {\"type\": \"scatter\", \"name\": 3, \"x\": [0.00230385277166647, 0.005615724843038438, -0.052726090662528834, 0.0014160083437309173, -0.11990720709669767, 0.029450074407828562, 0.10633115142797724, -0.04244547011274322, -0.012216974279724555, 0.0634483227465297, -0.09288781808228375, 0.04787675664666324, 0.1887013659330368, 0.05831644812196746, -0.09521087703690656, -0.06793899367028611, -0.13292366212810763, 0.06561412990009481, -0.010940136261413744, -0.13099990772106657, -0.14733880103628816, 0.10993634748994945, 0.009801180652993765, 0.05570340860381259, -0.186460719763474, -0.04916751724266272, 0.21919754578247053, -0.08567738231126507, 0.09351648935707814, -0.013424367807792204, -0.08086628415875906, -0.05133020712467181, -0.1608064568289995, -0.0860573429664209, -0.04580371845871518, -0.06716073373059327, -0.025251512495317267, 0.11572044947636546, -0.021954390642196932, 0.10156467596685609, 0.08780974027863638, -0.015436292368297558, 0.22988310775683854, 0.017198517948087935, 0.03231810650978042, 0.062372226551714614, 0.2498548121588225, 0.007249922774212025, -0.10174969560437123, -0.05434855259566506, 0.02168352952905916, 0.0006517903021383793, -0.01961079274935106, -0.006877442724946596, 0.062112177995479474, 0.12088508360907177, -0.17528700171309178, 0.20993312919568297, 0.05093111176771003, -0.05400255036076448, 0.05303222162693511, -0.0900517144716653, 0.03297757327343712, 0.09467922971898515, -0.018322650530292993, 0.030986875506796414, -0.08364330232977062, -0.08175797761731132, 0.1439440790520646, 0.06616266098289261, 0.02097383664417455, -0.007706843753191359, -0.003904504808561848, -0.06276764671363207, -0.08681776374079893, -0.27343053336126333, -0.003110526533184788, 0.0877183904639762, -0.15635256194491468, -0.061601220205740576, -0.033118686772439704, -0.09392165983987956, 0.036335622146624856, -0.011329653778677213, -0.05353660275144953, -0.16245013612534875, 0.28772399988846653, 0.08647569745451802, -0.1518493184660526, -0.03284359617584868, -0.11029353928777048, 0.038077839349830396, 0.10175083776001573, 0.0656844419259466, 0.09952011718391561, -0.027962411493057573, -0.023058357010742988, 0.06648970994750876, 0.10164264371689184, -0.033116788445877336, -0.06779662391327622, 0.0959805543138749], \"line\": {\"dash\": \"solid\", \"width\": 1.3, \"color\": \"rgba(128, 128, 128, 1.0)\"}, \"yaxis\": \"y12\", \"marker\": {\"symbol\": \"dot\", \"size\": 2}, \"xaxis\": \"x12\", \"mode\": \"markers\", \"y\": [-0.0003029357862572572, 0.11418763406188463, 0.10416695313832457, 0.04091188811313696, 0.08650883444144995, 0.043125996627072685, 0.021934166825032124, 0.0354118631613433, 0.02210469767929584, 0.1582412644818569, 0.0686536714677548, -0.1575209295943356, -0.03427473316144153, -0.005532494606650257, 0.08635925132610625, -0.3056253374760587, -0.08569244829207032, 0.04308146490843044, 0.09296229644349953, 0.07390473453359751, -0.00806035606515751, 0.026534597262163808, 0.012209373935219271, -0.19951689932967986, -0.2319977462565633, 0.11682543865278569, 0.12319725101632835, 0.1631564020454336, -0.16448580543294827, -0.09204376581161246, 0.018152962383173172, 0.0569650956512033, 0.01747766738423461, 0.04693506012188707, 0.03188458524803302, 0.033189307591239385, 0.11567950554608576, -0.021873337136242725, 0.07439351227954084, 0.0027731121203717498, 0.02014126938263924, 0.04892472857015696, -0.16461913107179243, -0.01846708563488302, 0.021308562128522973, -0.0408599515457422, 0.050054362652365736, 0.09835898879717123, 0.03442665419490477, 0.09196951057173844, 0.003602492365609685, 0.003438591625532741, 0.05896254357710209, 0.07532674114942116, -0.13971664336900708, -0.08235508869141203, -0.28234356421301277, 0.004188115419335052, -0.04942047842837003, 0.03782222887447058, 0.11473286082957117, 0.030634364357052093, -0.04538152362626249, -0.022139201065106546, -0.09122857281550029, 0.058370686005284673, -0.07192826550148881, 0.014479032522861994, -0.17160547439113985, 0.05647912669178995, -0.026671566988123268, -0.048031488648889634, 0.021680491094293243, 0.12371589862733685, 0.016739122353937513, -0.2904558786820861, 0.06865013222270935, 0.16316933629143934, 0.0762711779055263, 0.032582712069009506, -0.045628625265993185, -0.0840981131216557, 0.1832327882803666, 0.07583174341628486, -0.054912386272959066, 0.015924842600503565, -0.1657857417810734, 0.021263477046750818, 0.08703687833877295, 0.014494337414069604, 0.04967310381311366, -0.006597135662862536, 0.08529649646052086, -0.05260029109982468, -0.054006177807891804, -0.020608837771368536, 0.05830702147520167, 0.022588826290293188, -0.008091854227040531, -0.03305826700694645, -0.2338665641865325, -0.15920313603615915], \"text\": \"\"}, {\"type\": \"scatter\", \"name\": 4, \"x\": [-0.061107580958939325, -0.13984109971379566, -0.11138128206204934, 0.09248749997779049, -0.11602468263246868, 0.052259394682026894, 0.14091253965113507, -0.13860627145768536, -0.026299094957040983, 0.31763145956154304, -0.12772685969751482, 0.018821123823306016, -0.009300191469094474, -0.023491064604327948, 0.009968901645550502, 0.14015914674793112, -0.05764855292725581, 0.06788168621825964, -0.13977690845296423, 0.08310142195143154, 0.14499876891961602, -0.05885995568411235, -0.0625040774744487, -0.03611815463173359, -0.016712950848523637, 0.1046908716256326, 0.029719312998885885, 0.10900250732405584, 0.027017969607232222, 0.13499846352114905, 0.0954538292042824, 0.019119463940218472, 0.08911999842610833, -0.013128247712182569, 0.05901714286762598, -0.10156210854704381, -0.09854388117215511, 0.09993740294418933, -0.05830414077390119, 0.08548578022921344, 0.07589269245750419, -0.03817562199234498, -0.09629616225669566, 0.05367379355671724, 0.10463600798561608, -0.07544585888654631, -0.004709989367040379, -0.10769184419867721, -0.09012681710433788, 0.016344773661054277, -0.08027087702308802, -0.06772069644762983, 0.1507437774536186, -0.13016435339121185, -0.06367167866356822, 0.0786796617615371, 0.0017424840002231363, -0.08250895230212517, -0.07722631404711021, 0.04311353451550979, 0.047613880727126606, 0.09788998652139726, -0.12672056046973315, -0.011237529592127668, 0.003544700909574625, -0.14463821424895726, 0.031325450023107264, 0.2006264521132176, 0.044866626282388425, 0.08671135170492453, 0.011952781037095368, -0.0026055688775329638, 0.010936280169025786, 0.11881498032556848, -0.15871153819317163, -0.11157135256568028, -0.10349352809179706, -0.15487799269275404, -0.04083760045225625, 0.08251938235902413, -0.12420491345641561, -0.03292716249579644, -0.17993733820915922, -0.023499218285543123, 0.07721357414513956, 0.016352676929300532, -0.17269272910487923, 0.31133331335670844, -0.07812444679524265, 0.011167750062802682, -0.011155308306135626, -0.051259402141385704, 0.16916626893100137, -0.0646765603625796, -0.027883980231280008, 0.03518579667245168, -0.04187185770683434, 0.08598394422794123, -0.10910923648216692, 0.09640931102234264, -0.0029012804466053838, 0.09965767188654172], \"line\": {\"dash\": \"solid\", \"width\": 1.3, \"color\": \"rgba(128, 128, 128, 1.0)\"}, \"yaxis\": \"y13\", \"marker\": {\"symbol\": \"dot\", \"size\": 2}, \"xaxis\": \"x13\", \"mode\": \"markers\", \"y\": [0.00230385277166647, 0.005615724843038438, -0.052726090662528834, 0.0014160083437309173, -0.11990720709669767, 0.029450074407828562, 0.10633115142797724, -0.04244547011274322, -0.012216974279724555, 0.0634483227465297, -0.09288781808228375, 0.04787675664666324, 0.1887013659330368, 0.05831644812196746, -0.09521087703690656, -0.06793899367028611, -0.13292366212810763, 0.06561412990009481, -0.010940136261413744, -0.13099990772106657, -0.14733880103628816, 0.10993634748994945, 0.009801180652993765, 0.05570340860381259, -0.186460719763474, -0.04916751724266272, 0.21919754578247053, -0.08567738231126507, 0.09351648935707814, -0.013424367807792204, -0.08086628415875906, -0.05133020712467181, -0.1608064568289995, -0.0860573429664209, -0.04580371845871518, -0.06716073373059327, -0.025251512495317267, 0.11572044947636546, -0.021954390642196932, 0.10156467596685609, 0.08780974027863638, -0.015436292368297558, 0.22988310775683854, 0.017198517948087935, 0.03231810650978042, 0.062372226551714614, 0.2498548121588225, 0.007249922774212025, -0.10174969560437123, -0.05434855259566506, 0.02168352952905916, 0.0006517903021383793, -0.01961079274935106, -0.006877442724946596, 0.062112177995479474, 0.12088508360907177, -0.17528700171309178, 0.20993312919568297, 0.05093111176771003, -0.05400255036076448, 0.05303222162693511, -0.0900517144716653, 0.03297757327343712, 0.09467922971898515, -0.018322650530292993, 0.030986875506796414, -0.08364330232977062, -0.08175797761731132, 0.1439440790520646, 0.06616266098289261, 0.02097383664417455, -0.007706843753191359, -0.003904504808561848, -0.06276764671363207, -0.08681776374079893, -0.27343053336126333, -0.003110526533184788, 0.0877183904639762, -0.15635256194491468, -0.061601220205740576, -0.033118686772439704, -0.09392165983987956, 0.036335622146624856, -0.011329653778677213, -0.05353660275144953, -0.16245013612534875, 0.28772399988846653, 0.08647569745451802, -0.1518493184660526, -0.03284359617584868, -0.11029353928777048, 0.038077839349830396, 0.10175083776001573, 0.0656844419259466, 0.09952011718391561, -0.027962411493057573, -0.023058357010742988, 0.06648970994750876, 0.10164264371689184, -0.033116788445877336, -0.06779662391327622, 0.0959805543138749], \"text\": \"\"}, {\"type\": \"scatter\", \"name\": 4, \"x\": [0.026102468897267028, 0.007564059824316086, -0.0260557619954829, 0.08156957276394844, -0.0836872969857137, 0.061399199278723726, 0.005960015258958895, 0.1056104886620652, -0.006556265709554329, -0.09441580549871112, -0.07112288621124807, 0.047710129757490075, -0.10374928534887137, 0.015292419898315349, -0.01639733176868181, -0.2608449719907615, 0.07650945673957618, 0.03666213338418626, 0.009492826758767621, 0.008535661789432724, 0.031174935841463157, -0.06890838594025958, -0.045391619362324116, -0.22258647672643173, -0.05484964504329869, -0.012112631330750299, -0.1516007155096367, 0.054808019416847556, 0.000992008400428654, 0.3226413422100545, -0.11473590602823472, -0.05876603121581823, -0.07048361055857374, 0.15079178352850747, 0.01340061700001288, -0.05329219254816809, 0.023104760040948663, -0.10485843283623651, 0.07174041814627906, 0.0472538211143592, 0.10132851784405017, -0.079827727649598, 0.11700301955700453, -0.058774362805155564, 0.09422872562247935, 0.07070813523726371, -0.09230503087399912, 0.022448389764131334, -0.0496595746049705, -0.018514772169852534, 0.02114543069177026, 0.02226460372052191, 0.1614453423597005, -0.06947245273651519, 0.12269961474870872, -0.13626499045749382, 0.000686708216524058, -0.09864696308679737, -0.05900884621668726, -0.020593831569878627, -0.06798466046579725, -0.03860720325439516, 0.057525818597321574, -0.01374274364857049, -0.13207758817455134, -0.056631027243012146, -0.020805243858386138, 0.01870070028541787, 0.22378380575258258, 0.013002314847325997, -0.02809585337386263, 0.029900240334356065, -0.08453658549057845, -0.06425285767534647, 0.07089936969724621, -0.0035333024163639952, -0.04743522015077787, -0.05696818835627066, -0.03535933071261965, -0.012159649082603967, -0.05072380005308727, 0.04065928965667866, -0.08445704361063615, 0.10814591231880247, -0.010609253274859875, 0.094428728566698, 0.0017370314591396458, -0.14726213836709853, 0.06023645302939294, -0.11288978255125132, 0.1218973779359161, 0.222972767888259, 0.05987346528910068, -0.07006052594019554, 0.24221823838233594, 0.092659128583443, 0.11142803159647248, 0.054966479567675114, -0.042826996230919664, -0.11485092955164804, -0.22757174822842466, 0.26961569622869097], \"line\": {\"dash\": \"solid\", \"width\": 1.3, \"color\": \"rgba(128, 128, 128, 1.0)\"}, \"yaxis\": \"y14\", \"marker\": {\"symbol\": \"dot\", \"size\": 2}, \"xaxis\": \"x14\", \"mode\": \"markers\", \"y\": [0.00230385277166647, 0.005615724843038438, -0.052726090662528834, 0.0014160083437309173, -0.11990720709669767, 0.029450074407828562, 0.10633115142797724, -0.04244547011274322, -0.012216974279724555, 0.0634483227465297, -0.09288781808228375, 0.04787675664666324, 0.1887013659330368, 0.05831644812196746, -0.09521087703690656, -0.06793899367028611, -0.13292366212810763, 0.06561412990009481, -0.010940136261413744, -0.13099990772106657, -0.14733880103628816, 0.10993634748994945, 0.009801180652993765, 0.05570340860381259, -0.186460719763474, -0.04916751724266272, 0.21919754578247053, -0.08567738231126507, 0.09351648935707814, -0.013424367807792204, -0.08086628415875906, -0.05133020712467181, -0.1608064568289995, -0.0860573429664209, -0.04580371845871518, -0.06716073373059327, -0.025251512495317267, 0.11572044947636546, -0.021954390642196932, 0.10156467596685609, 0.08780974027863638, -0.015436292368297558, 0.22988310775683854, 0.017198517948087935, 0.03231810650978042, 0.062372226551714614, 0.2498548121588225, 0.007249922774212025, -0.10174969560437123, -0.05434855259566506, 0.02168352952905916, 0.0006517903021383793, -0.01961079274935106, -0.006877442724946596, 0.062112177995479474, 0.12088508360907177, -0.17528700171309178, 0.20993312919568297, 0.05093111176771003, -0.05400255036076448, 0.05303222162693511, -0.0900517144716653, 0.03297757327343712, 0.09467922971898515, -0.018322650530292993, 0.030986875506796414, -0.08364330232977062, -0.08175797761731132, 0.1439440790520646, 0.06616266098289261, 0.02097383664417455, -0.007706843753191359, -0.003904504808561848, -0.06276764671363207, -0.08681776374079893, -0.27343053336126333, -0.003110526533184788, 0.0877183904639762, -0.15635256194491468, -0.061601220205740576, -0.033118686772439704, -0.09392165983987956, 0.036335622146624856, -0.011329653778677213, -0.05353660275144953, -0.16245013612534875, 0.28772399988846653, 0.08647569745451802, -0.1518493184660526, -0.03284359617584868, -0.11029353928777048, 0.038077839349830396, 0.10175083776001573, 0.0656844419259466, 0.09952011718391561, -0.027962411493057573, -0.023058357010742988, 0.06648970994750876, 0.10164264371689184, -0.033116788445877336, -0.06779662391327622, 0.0959805543138749], \"text\": \"\"}, {\"type\": \"scatter\", \"name\": 4, \"x\": [-0.0003029357862572572, 0.11418763406188463, 0.10416695313832457, 0.04091188811313696, 0.08650883444144995, 0.043125996627072685, 0.021934166825032124, 0.0354118631613433, 0.02210469767929584, 0.1582412644818569, 0.0686536714677548, -0.1575209295943356, -0.03427473316144153, -0.005532494606650257, 0.08635925132610625, -0.3056253374760587, -0.08569244829207032, 0.04308146490843044, 0.09296229644349953, 0.07390473453359751, -0.00806035606515751, 0.026534597262163808, 0.012209373935219271, -0.19951689932967986, -0.2319977462565633, 0.11682543865278569, 0.12319725101632835, 0.1631564020454336, -0.16448580543294827, -0.09204376581161246, 0.018152962383173172, 0.0569650956512033, 0.01747766738423461, 0.04693506012188707, 0.03188458524803302, 0.033189307591239385, 0.11567950554608576, -0.021873337136242725, 0.07439351227954084, 0.0027731121203717498, 0.02014126938263924, 0.04892472857015696, -0.16461913107179243, -0.01846708563488302, 0.021308562128522973, -0.0408599515457422, 0.050054362652365736, 0.09835898879717123, 0.03442665419490477, 0.09196951057173844, 0.003602492365609685, 0.003438591625532741, 0.05896254357710209, 0.07532674114942116, -0.13971664336900708, -0.08235508869141203, -0.28234356421301277, 0.004188115419335052, -0.04942047842837003, 0.03782222887447058, 0.11473286082957117, 0.030634364357052093, -0.04538152362626249, -0.022139201065106546, -0.09122857281550029, 0.058370686005284673, -0.07192826550148881, 0.014479032522861994, -0.17160547439113985, 0.05647912669178995, -0.026671566988123268, -0.048031488648889634, 0.021680491094293243, 0.12371589862733685, 0.016739122353937513, -0.2904558786820861, 0.06865013222270935, 0.16316933629143934, 0.0762711779055263, 0.032582712069009506, -0.045628625265993185, -0.0840981131216557, 0.1832327882803666, 0.07583174341628486, -0.054912386272959066, 0.015924842600503565, -0.1657857417810734, 0.021263477046750818, 0.08703687833877295, 0.014494337414069604, 0.04967310381311366, -0.006597135662862536, 0.08529649646052086, -0.05260029109982468, -0.054006177807891804, -0.020608837771368536, 0.05830702147520167, 0.022588826290293188, -0.008091854227040531, -0.03305826700694645, -0.2338665641865325, -0.15920313603615915], \"line\": {\"dash\": \"solid\", \"width\": 1.3, \"color\": \"rgba(128, 128, 128, 1.0)\"}, \"yaxis\": \"y15\", \"marker\": {\"symbol\": \"dot\", \"size\": 2}, \"xaxis\": \"x15\", \"mode\": \"markers\", \"y\": [0.00230385277166647, 0.005615724843038438, -0.052726090662528834, 0.0014160083437309173, -0.11990720709669767, 0.029450074407828562, 0.10633115142797724, -0.04244547011274322, -0.012216974279724555, 0.0634483227465297, -0.09288781808228375, 0.04787675664666324, 0.1887013659330368, 0.05831644812196746, -0.09521087703690656, -0.06793899367028611, -0.13292366212810763, 0.06561412990009481, -0.010940136261413744, -0.13099990772106657, -0.14733880103628816, 0.10993634748994945, 0.009801180652993765, 0.05570340860381259, -0.186460719763474, -0.04916751724266272, 0.21919754578247053, -0.08567738231126507, 0.09351648935707814, -0.013424367807792204, -0.08086628415875906, -0.05133020712467181, -0.1608064568289995, -0.0860573429664209, -0.04580371845871518, -0.06716073373059327, -0.025251512495317267, 0.11572044947636546, -0.021954390642196932, 0.10156467596685609, 0.08780974027863638, -0.015436292368297558, 0.22988310775683854, 0.017198517948087935, 0.03231810650978042, 0.062372226551714614, 0.2498548121588225, 0.007249922774212025, -0.10174969560437123, -0.05434855259566506, 0.02168352952905916, 0.0006517903021383793, -0.01961079274935106, -0.006877442724946596, 0.062112177995479474, 0.12088508360907177, -0.17528700171309178, 0.20993312919568297, 0.05093111176771003, -0.05400255036076448, 0.05303222162693511, -0.0900517144716653, 0.03297757327343712, 0.09467922971898515, -0.018322650530292993, 0.030986875506796414, -0.08364330232977062, -0.08175797761731132, 0.1439440790520646, 0.06616266098289261, 0.02097383664417455, -0.007706843753191359, -0.003904504808561848, -0.06276764671363207, -0.08681776374079893, -0.27343053336126333, -0.003110526533184788, 0.0877183904639762, -0.15635256194491468, -0.061601220205740576, -0.033118686772439704, -0.09392165983987956, 0.036335622146624856, -0.011329653778677213, -0.05353660275144953, -0.16245013612534875, 0.28772399988846653, 0.08647569745451802, -0.1518493184660526, -0.03284359617584868, -0.11029353928777048, 0.038077839349830396, 0.10175083776001573, 0.0656844419259466, 0.09952011718391561, -0.027962411493057573, -0.023058357010742988, 0.06648970994750876, 0.10164264371689184, -0.033116788445877336, -0.06779662391327622, 0.0959805543138749], \"text\": \"\"}, {\"histnorm\": \"\", \"type\": \"histogram\", \"name\": 4, \"orientation\": \"v\", \"nbinsx\": 10, \"marker\": {\"line\": {\"width\": 1.3, \"color\": \"#D9D9D9\"}, \"color\": \"rgba(101, 101, 101, 1.0)\"}, \"histfunc\": \"count\", \"yaxis\": \"y16\", \"xaxis\": \"x16\", \"opacity\": 0.8, \"x\": [0.00230385277166647, 0.005615724843038438, -0.052726090662528834, 0.0014160083437309173, -0.11990720709669767, 0.029450074407828562, 0.10633115142797724, -0.04244547011274322, -0.012216974279724555, 0.0634483227465297, -0.09288781808228375, 0.04787675664666324, 0.1887013659330368, 0.05831644812196746, -0.09521087703690656, -0.06793899367028611, -0.13292366212810763, 0.06561412990009481, -0.010940136261413744, -0.13099990772106657, -0.14733880103628816, 0.10993634748994945, 0.009801180652993765, 0.05570340860381259, -0.186460719763474, -0.04916751724266272, 0.21919754578247053, -0.08567738231126507, 0.09351648935707814, -0.013424367807792204, -0.08086628415875906, -0.05133020712467181, -0.1608064568289995, -0.0860573429664209, -0.04580371845871518, -0.06716073373059327, -0.025251512495317267, 0.11572044947636546, -0.021954390642196932, 0.10156467596685609, 0.08780974027863638, -0.015436292368297558, 0.22988310775683854, 0.017198517948087935, 0.03231810650978042, 0.062372226551714614, 0.2498548121588225, 0.007249922774212025, -0.10174969560437123, -0.05434855259566506, 0.02168352952905916, 0.0006517903021383793, -0.01961079274935106, -0.006877442724946596, 0.062112177995479474, 0.12088508360907177, -0.17528700171309178, 0.20993312919568297, 0.05093111176771003, -0.05400255036076448, 0.05303222162693511, -0.0900517144716653, 0.03297757327343712, 0.09467922971898515, -0.018322650530292993, 0.030986875506796414, -0.08364330232977062, -0.08175797761731132, 0.1439440790520646, 0.06616266098289261, 0.02097383664417455, -0.007706843753191359, -0.003904504808561848, -0.06276764671363207, -0.08681776374079893, -0.27343053336126333, -0.003110526533184788, 0.0877183904639762, -0.15635256194491468, -0.061601220205740576, -0.033118686772439704, -0.09392165983987956, 0.036335622146624856, -0.011329653778677213, -0.05353660275144953, -0.16245013612534875, 0.28772399988846653, 0.08647569745451802, -0.1518493184660526, -0.03284359617584868, -0.11029353928777048, 0.038077839349830396, 0.10175083776001573, 0.0656844419259466, 0.09952011718391561, -0.027962411493057573, -0.023058357010742988, 0.06648970994750876, 0.10164264371689184, -0.033116788445877336, -0.06779662391327622, 0.0959805543138749]}], {\"yaxis1\": {\"domain\": [0.8025, 1.0], \"gridcolor\": \"#F6F6F6\", \"titlefont\": {\"color\": \"#666666\"}, \"showgrid\": false, \"tickfont\": {\"color\": \"#666666\"}, \"title\": \"\", \"anchor\": \"x1\", \"zerolinecolor\": \"#F6F6F6\"}, \"bargap\": 0.02, \"yaxis9\": {\"domain\": [0.2675, 0.465], \"anchor\": \"x9\"}, \"xaxis16\": {\"domain\": [0.7875000000000001, 1.0], \"anchor\": \"y16\"}, \"yaxis8\": {\"domain\": [0.535, 0.7325], \"anchor\": \"x8\"}, \"xaxis3\": {\"domain\": [0.525, 0.7375], \"anchor\": \"y3\"}, \"xaxis12\": {\"domain\": [0.7875000000000001, 1.0], \"anchor\": \"y12\"}, \"yaxis14\": {\"domain\": [0.0, 0.1975], \"anchor\": \"x14\"}, \"xaxis7\": {\"domain\": [0.525, 0.7375], \"anchor\": \"y7\"}, \"yaxis12\": {\"domain\": [0.2675, 0.465], \"anchor\": \"x12\"}, \"xaxis14\": {\"domain\": [0.2625, 0.475], \"anchor\": \"y14\"}, \"xaxis1\": {\"domain\": [0.0, 0.2125], \"gridcolor\": \"#F6F6F6\", \"titlefont\": {\"color\": \"#666666\"}, \"showgrid\": false, \"tickfont\": {\"color\": \"#666666\"}, \"title\": \"\", \"anchor\": \"y1\", \"zerolinecolor\": \"#F6F6F6\"}, \"yaxis5\": {\"domain\": [0.535, 0.7325], \"anchor\": \"x5\"}, \"xaxis9\": {\"domain\": [0.0, 0.2125], \"anchor\": \"y9\"}, \"yaxis11\": {\"domain\": [0.2675, 0.465], \"anchor\": \"x11\"}, \"xaxis5\": {\"domain\": [0.0, 0.2125], \"anchor\": \"y5\"}, \"yaxis10\": {\"domain\": [0.2675, 0.465], \"anchor\": \"x10\"}, \"showlegend\": false, \"yaxis3\": {\"domain\": [0.8025, 1.0], \"anchor\": \"x3\"}, \"xaxis8\": {\"domain\": [0.7875000000000001, 1.0], \"anchor\": \"y8\"}, \"xaxis11\": {\"domain\": [0.525, 0.7375], \"anchor\": \"y11\"}, \"titlefont\": {\"color\": \"#151516\"}, \"yaxis15\": {\"domain\": [0.0, 0.1975], \"anchor\": \"x15\"}, \"yaxis7\": {\"domain\": [0.535, 0.7325], \"anchor\": \"x7\"}, \"yaxis6\": {\"domain\": [0.535, 0.7325], \"anchor\": \"x6\"}, \"xaxis6\": {\"domain\": [0.2625, 0.475], \"anchor\": \"y6\"}, \"xaxis4\": {\"domain\": [0.7875000000000001, 1.0], \"anchor\": \"y4\"}, \"legend\": {\"bgcolor\": \"#FFFFFF\", \"font\": {\"color\": \"#666666\"}}, \"plot_bgcolor\": \"#E5E5E5\", \"xaxis10\": {\"domain\": [0.2625, 0.475], \"anchor\": \"y10\"}, \"xaxis15\": {\"domain\": [0.525, 0.7375], \"anchor\": \"y15\"}, \"xaxis2\": {\"domain\": [0.2625, 0.475], \"anchor\": \"y2\"}, \"yaxis2\": {\"domain\": [0.8025, 1.0], \"anchor\": \"x2\"}, \"yaxis13\": {\"domain\": [0.0, 0.1975], \"anchor\": \"x13\"}, \"xaxis13\": {\"domain\": [0.0, 0.2125], \"anchor\": \"y13\"}, \"yaxis16\": {\"domain\": [0.0, 0.1975], \"anchor\": \"x16\"}, \"yaxis4\": {\"domain\": [0.8025, 1.0], \"anchor\": \"x4\"}, \"paper_bgcolor\": \"#FFFFFF\"}, {\"showLink\": true, \"linkText\": \"Export to plot.ly\"})</script>"
      ],
      "text/plain": [
       "<IPython.core.display.HTML object>"
      ]
     },
     "metadata": {},
     "output_type": "display_data"
    }
   ],
   "source": [
    "\n",
    "pca_s[np.arange(1,5)].scatter_matrix()\n"
   ]
  },
  {
   "cell_type": "markdown",
   "metadata": {},
   "source": [
    "Around what day do you notice a difference in the way the samples were processed?"
   ]
  },
  {
   "cell_type": "code",
   "execution_count": 18,
   "metadata": {
    "collapsed": false
   },
   "outputs": [
    {
     "name": "stderr",
     "output_type": "stream",
     "text": [
      "/Users/RichardAfolabi/anaconda/lib/python3.5/site-packages/matplotlib/__init__.py:872: UserWarning:\n",
      "\n",
      "axes.color_cycle is deprecated and replaced with axes.prop_cycle; please use the latter.\n",
      "\n"
     ]
    },
    {
     "data": {
      "text/plain": [
       "<matplotlib.lines.Line2D at 0x1042ad0f0>"
      ]
     },
     "execution_count": 18,
     "metadata": {},
     "output_type": "execute_result"
    },
    {
     "data": {
      "image/png": "[encoded data removed]",
      "text/plain": [
       "<matplotlib.figure.Figure at 0x1042ad160>"
      ]
     },
     "metadata": {},
     "output_type": "display_data"
    }
   ],
   "source": [
    "\n",
    "import seaborn as sns\n",
    "\n",
    "ax = sns.regplot(data=pc1_vs_ceu, x='days', y='pc1')\n",
    "ax.set_xlim(0,200)\n",
    "ax.axvline(x=150, color='r')\n"
   ]
  },
  {
   "cell_type": "markdown",
   "metadata": {},
   "source": [
    "Answer:"
   ]
  },
  {
   "cell_type": "markdown",
   "metadata": {},
   "source": [
    "## Discussion for Problem 1\n",
    "\n",
    "*Write a brief discussion of your conclusions to the questions and tasks above in 100 words or less.*\n",
    "\n",
    "---\n"
   ]
  },
  {
   "cell_type": "markdown",
   "metadata": {},
   "source": [
    "## Problem 2: Is there a pollster bias in presidential election polls?"
   ]
  },
  {
   "cell_type": "markdown",
   "metadata": {},
   "source": [
    "#### Problem 2(a)\n",
    "\n",
    "The [HuffPost Pollster](http://elections.huffingtonpost.com/pollster) contains many political polls. You can access these polls from individual races as a CSV but you can also access polls through the [HuffPost Pollster API](http://elections.huffingtonpost.com/pollster/api) to access the data.  \n",
    "\n",
    "Read in the polls from the [2012 Presidential Election: Barack Obama vs Mitt Romney](http://elections.huffingtonpost.com/pollster/2012-general-election-romney-vs-obama) into a pandas DataFrame called `election`. For this problem, you may read in the polls for this race directly using [the CSV file](http://elections.huffingtonpost.com/pollster/2012-general-election-romney-vs-obama.csv) available from the HuffPost Pollster page."
   ]
  },
  {
   "cell_type": "code",
   "execution_count": 20,
   "metadata": {
    "collapsed": false
   },
   "outputs": [],
   "source": [
    "url = \"http://elections.huffingtonpost.com/pollster/2012-general-election-romney-vs-obama.csv\"\n",
    "elections = pd.read_csv(url, parse_dates=True)"
   ]
  },
  {
   "cell_type": "markdown",
   "metadata": {},
   "source": [
    "Show the head of the `election` DataFrame. "
   ]
  },
  {
   "cell_type": "code",
   "execution_count": 430,
   "metadata": {
    "collapsed": false
   },
   "outputs": [
    {
     "data": {
      "text/html": [
       "<div>\n",
       "<table border=\"1\" class=\"dataframe\">\n",
       "  <thead>\n",
       "    <tr style=\"text-align: right;\">\n",
       "      <th></th>\n",
       "      <th>Pollster</th>\n",
       "      <th>Start Date</th>\n",
       "      <th>End Date</th>\n",
       "      <th>Entry Date/Time (ET)</th>\n",
       "      <th>Number of Observations</th>\n",
       "      <th>Population</th>\n",
       "      <th>Mode</th>\n",
       "      <th>Obama</th>\n",
       "      <th>Romney</th>\n",
       "      <th>Undecided</th>\n",
       "      <th>Pollster URL</th>\n",
       "      <th>Source URL</th>\n",
       "      <th>Partisan</th>\n",
       "      <th>Affiliation</th>\n",
       "    </tr>\n",
       "  </thead>\n",
       "  <tbody>\n",
       "    <tr>\n",
       "      <th>0</th>\n",
       "      <td>Politico/GWU/Battleground</td>\n",
       "      <td>2012-11-04</td>\n",
       "      <td>2012-11-05</td>\n",
       "      <td>2012-11-06 2000-01-01 08:40:26 UTC</td>\n",
       "      <td>1000</td>\n",
       "      <td>Likely Voters</td>\n",
       "      <td>Live Phone</td>\n",
       "      <td>47</td>\n",
       "      <td>47</td>\n",
       "      <td>6</td>\n",
       "      <td>http://elections.huffingtonpost.com/pollster/p...</td>\n",
       "      <td>http://www.politico.com/news/stories/1112/8338...</td>\n",
       "      <td>Nonpartisan</td>\n",
       "      <td>None</td>\n",
       "    </tr>\n",
       "    <tr>\n",
       "      <th>1</th>\n",
       "      <td>UPI/CVOTER</td>\n",
       "      <td>2012-11-03</td>\n",
       "      <td>2012-11-05</td>\n",
       "      <td>2012-11-05 2000-01-01 18:30:15 UTC</td>\n",
       "      <td>3000</td>\n",
       "      <td>Likely Voters</td>\n",
       "      <td>Live Phone</td>\n",
       "      <td>49</td>\n",
       "      <td>48</td>\n",
       "      <td>NaN</td>\n",
       "      <td>http://elections.huffingtonpost.com/pollster/p...</td>\n",
       "      <td>NaN</td>\n",
       "      <td>Nonpartisan</td>\n",
       "      <td>None</td>\n",
       "    </tr>\n",
       "  </tbody>\n",
       "</table>\n",
       "</div>"
      ],
      "text/plain": [
       "                    Pollster  Start Date    End Date  \\\n",
       "0  Politico/GWU/Battleground  2012-11-04  2012-11-05   \n",
       "1                 UPI/CVOTER  2012-11-03  2012-11-05   \n",
       "\n",
       "                 Entry Date/Time (ET)  Number of Observations     Population  \\\n",
       "0  2012-11-06 2000-01-01 08:40:26 UTC                    1000  Likely Voters   \n",
       "1  2012-11-05 2000-01-01 18:30:15 UTC                    3000  Likely Voters   \n",
       "\n",
       "         Mode  Obama  Romney  Undecided  \\\n",
       "0  Live Phone     47      47          6   \n",
       "1  Live Phone     49      48        NaN   \n",
       "\n",
       "                                        Pollster URL  \\\n",
       "0  http://elections.huffingtonpost.com/pollster/p...   \n",
       "1  http://elections.huffingtonpost.com/pollster/p...   \n",
       "\n",
       "                                          Source URL     Partisan Affiliation  \n",
       "0  http://www.politico.com/news/stories/1112/8338...  Nonpartisan        None  \n",
       "1                                                NaN  Nonpartisan        None  "
      ]
     },
     "execution_count": 430,
     "metadata": {},
     "output_type": "execute_result"
    }
   ],
   "source": [
    "elections.head(2)"
   ]
  },
  {
   "cell_type": "markdown",
   "metadata": {},
   "source": [
    "How many polls were conducted in November? Define this number as M.  \n",
    "\n",
    "**Hint**: Subset the `election` DataFrame for only dates in the `Start Date` column that are in November 2012.  "
   ]
  },
  {
   "cell_type": "code",
   "execution_count": 21,
   "metadata": {
    "collapsed": false
   },
   "outputs": [
    {
     "name": "stdout",
     "output_type": "stream",
     "text": [
      "\n",
      "Number of Polls in Nov:  44\n"
     ]
    }
   ],
   "source": [
    "in_nov = pd.to_datetime(elections['Start Date'])\n",
    "\n",
    "all_nov = in_nov[in_nov.apply(lambda x: x.month==11)]\n",
    "print(\"\\nNumber of Polls in Nov: \", all_nov.count())"
   ]
  },
  {
   "cell_type": "markdown",
   "metadata": {},
   "source": [
    "Answer:"
   ]
  },
  {
   "cell_type": "markdown",
   "metadata": {},
   "source": [
    "What was the median of the number of observations in the November polls? Define this quantity as N. "
   ]
  },
  {
   "cell_type": "code",
   "execution_count": 22,
   "metadata": {
    "collapsed": false
   },
   "outputs": [
    {
     "name": "stdout",
     "output_type": "stream",
     "text": [
      "\n",
      "Median of Observations in November 1000.0\n"
     ]
    },
    {
     "data": {
      "text/html": [
       "<div id=\"625847c4-7562-40ea-840e-10f695b39130\" style=\"height: 525; width: 100%;\" class=\"plotly-graph-div\"></div><script type=\"text/javascript\">window.PLOTLYENV=window.PLOTLYENV || {};window.PLOTLYENV.BASE_URL=\"https://plot.ly\";Plotly.newPlot(\"625847c4-7562-40ea-840e-10f695b39130\", [{\"type\": \"box\", \"name\": \"Number of Observations\", \"y\": [1000.0, 3000.0, 872.0, 1041.0, 1500.0, 712.0, 740.0, 4725.0, 1200.0, 693.0, 1200.0, 2551.0, 1080.0, 1417.0, 1300.0, 2345.0, 1019.0, 1475.0, 1074.0, 855.0, 1000.0, 715.0, 1000.0, 602.0, 1000.0, 2552.0, 2064.0, 1000.0, 328.0, 715.0, 1901.0, 925.0, 700.0, 1000.0, 872.0, 1000.0, 715.0, null, 2032.0, 707.0, 2424.0, 1668.0, 800.0, 1066.0], \"marker\": {\"color\": \"rgba(226, 74, 51, 1.0)\"}, \"line\": {\"width\": 1.3}, \"boxpoints\": false}], {\"plot_bgcolor\": \"#E5E5E5\", \"yaxis1\": {\"tickfont\": {\"color\": \"#666666\"}, \"gridcolor\": \"#F6F6F6\", \"titlefont\": {\"color\": \"#666666\"}, \"showgrid\": true, \"title\": \"Number of Observations\", \"zerolinecolor\": \"#F6F6F6\"}, \"xaxis1\": {\"tickfont\": {\"color\": \"#666666\"}, \"gridcolor\": \"#F6F6F6\", \"titlefont\": {\"color\": \"#666666\"}, \"showgrid\": true, \"title\": \"November\", \"zerolinecolor\": \"#F6F6F6\"}, \"titlefont\": {\"color\": \"#151516\"}, \"paper_bgcolor\": \"#FFFFFF\", \"legend\": {\"bgcolor\": \"#FFFFFF\", \"font\": {\"color\": \"#666666\"}}}, {\"showLink\": true, \"linkText\": \"Export to plot.ly\"})</script>"
      ],
      "text/plain": [
       "<IPython.core.display.HTML object>"
      ]
     },
     "metadata": {},
     "output_type": "display_data"
    }
   ],
   "source": [
    "observ = elections['Number of Observations']\n",
    "\n",
    "obsv_in_nov = observ[in_nov.apply(lambda x: x.month==11)]\n",
    "\n",
    "N = obsv_in_nov.median()\n",
    "\n",
    "print(\"\\nMedian of Observations in November\", N)\n",
    "\n",
    "obsv_in_nov.iplot(kind='box', xTitle='November', yTitle='Number of Observations')"
   ]
  },
  {
   "cell_type": "markdown",
   "metadata": {},
   "source": [
    "Answer: "
   ]
  },
  {
   "cell_type": "markdown",
   "metadata": {},
   "source": [
    "#### Problem 2(b)\n",
    "\n",
    "Using the median sample size $N$ from Problem 1(a), simulate the results from a single poll:  simulate the number of votes for Obama out of a sample size $N$ where $p$ = 0.53 is the percent of voters who are voting for Obama.  \n",
    "\n",
    "**Hint**: Use the binomial distribution with parameters $N$ and $p$ = 0.53. "
   ]
  },
  {
   "cell_type": "code",
   "execution_count": 497,
   "metadata": {
    "collapsed": false
   },
   "outputs": [
    {
     "data": {
      "text/plain": [
       "500.50799999999998"
      ]
     },
     "execution_count": 497,
     "metadata": {},
     "output_type": "execute_result"
    }
   ],
   "source": [
    "np.mean(np.random.binomial(N,p=0.5, size=500))"
   ]
  },
  {
   "cell_type": "markdown",
   "metadata": {},
   "source": [
    "Now, perform a Monte Carlo simulation to obtain the estimated percentage of Obama votes with a sample size $N$ where $N$ is the median sample size calculated in Problem 2(a). Let $p$=0.53 be the percent of voters are voting for Obama. \n",
    "\n",
    "**Hint**: You will repeat the simulation above 1,000 times and plot the distribution of the estimated *percent* of Obama votes from a single poll.  The results from the single poll you simulate is random variable and will be different every time you sample. "
   ]
  },
  {
   "cell_type": "code",
   "execution_count": 19,
   "metadata": {
    "collapsed": false
   },
   "outputs": [],
   "source": [
    "#your code here"
   ]
  },
  {
   "cell_type": "markdown",
   "metadata": {},
   "source": [
    "Plot the distribution of the estimated percentage of Obama votes from your single poll. What is the distribution of the estimated percentage of Obama votes? "
   ]
  },
  {
   "cell_type": "code",
   "execution_count": 20,
   "metadata": {
    "collapsed": false
   },
   "outputs": [],
   "source": [
    "#your code here"
   ]
  },
  {
   "cell_type": "markdown",
   "metadata": {},
   "source": [
    "Answer: "
   ]
  },
  {
   "cell_type": "markdown",
   "metadata": {},
   "source": [
    "What is the standard error (SE) of the estimated percentage from the poll. \n",
    "\n",
    "**Hint**: Remember the SE is the standard deviation (SD) of the distribution of a random variable. "
   ]
  },
  {
   "cell_type": "code",
   "execution_count": 21,
   "metadata": {
    "collapsed": false
   },
   "outputs": [],
   "source": [
    "#your code here"
   ]
  },
  {
   "cell_type": "markdown",
   "metadata": {},
   "source": [
    "#### Problem 2(c)\n",
    "\n",
    "Now suppose we run M polls where M is the number of polls that happened in November (calculated in Problem 2(a)). Run 1,000 simulations and compute the mean of the M polls for each simulation. "
   ]
  },
  {
   "cell_type": "code",
   "execution_count": 22,
   "metadata": {
    "collapsed": false
   },
   "outputs": [],
   "source": [
    "#your code here"
   ]
  },
  {
   "cell_type": "markdown",
   "metadata": {},
   "source": [
    "What is the distribution of the average of polls?\n",
    "\n",
    "**Hint**: Show a plot. "
   ]
  },
  {
   "cell_type": "code",
   "execution_count": 23,
   "metadata": {
    "collapsed": false
   },
   "outputs": [],
   "source": [
    "#your code here"
   ]
  },
  {
   "cell_type": "markdown",
   "metadata": {},
   "source": [
    "Answer: "
   ]
  },
  {
   "cell_type": "markdown",
   "metadata": {},
   "source": [
    "What is the standard error (SE) of the average of polls? "
   ]
  },
  {
   "cell_type": "code",
   "execution_count": 24,
   "metadata": {
    "collapsed": false
   },
   "outputs": [],
   "source": [
    "#your code here"
   ]
  },
  {
   "cell_type": "markdown",
   "metadata": {},
   "source": [
    "Answer: "
   ]
  },
  {
   "cell_type": "markdown",
   "metadata": {},
   "source": [
    "Is the SE of the average of polls larger, the same, or smaller than that the SD of a single poll (calculated in Problem 2(b))? By how much?\n",
    "\n",
    "**Hint**: Compute a ratio of the two quantities.  "
   ]
  },
  {
   "cell_type": "code",
   "execution_count": 25,
   "metadata": {
    "collapsed": false
   },
   "outputs": [],
   "source": [
    "#your code here"
   ]
  },
  {
   "cell_type": "markdown",
   "metadata": {},
   "source": [
    "Answer: "
   ]
  },
  {
   "cell_type": "markdown",
   "metadata": {},
   "source": [
    "#### Problem 2(d) \n",
    "\n",
    "Repeat Problem 2(c) but now record the *across poll* standard deviation in each simulation. "
   ]
  },
  {
   "cell_type": "code",
   "execution_count": 26,
   "metadata": {
    "collapsed": false
   },
   "outputs": [],
   "source": [
    "#your code here"
   ]
  },
  {
   "cell_type": "markdown",
   "metadata": {},
   "source": [
    "What is the distribution of the *across M polls* standard deviation?\n",
    "\n",
    "**Hint**: Show a plot. "
   ]
  },
  {
   "cell_type": "code",
   "execution_count": 27,
   "metadata": {
    "collapsed": false
   },
   "outputs": [],
   "source": [
    "#your code here"
   ]
  },
  {
   "cell_type": "markdown",
   "metadata": {},
   "source": [
    "Answer: "
   ]
  },
  {
   "cell_type": "markdown",
   "metadata": {},
   "source": [
    "#### Problem 2(e) \n",
    "\n",
    "What is the standard deviation of M polls in our real (not simulated) 2012 presidential election data ? "
   ]
  },
  {
   "cell_type": "code",
   "execution_count": 28,
   "metadata": {
    "collapsed": false
   },
   "outputs": [],
   "source": [
    "#your code here"
   ]
  },
  {
   "cell_type": "markdown",
   "metadata": {},
   "source": [
    "Is this larger, the same, or smaller than what we expeced if polls were not biased."
   ]
  },
  {
   "cell_type": "code",
   "execution_count": 29,
   "metadata": {
    "collapsed": false
   },
   "outputs": [],
   "source": [
    "#your code here"
   ]
  },
  {
   "cell_type": "markdown",
   "metadata": {},
   "source": [
    "Answer: "
   ]
  },
  {
   "cell_type": "markdown",
   "metadata": {},
   "source": [
    "#### Problem 2(f)\n",
    "\n",
    "**For AC209 Students**: Learn about the normal approximation for the binomial distribution and derive the results of Problem 2(b) and 2(c) analytically (using this approximation). Compare the results obtained analytically to those obtained from simulations."
   ]
  },
  {
   "cell_type": "code",
   "execution_count": 30,
   "metadata": {
    "collapsed": false
   },
   "outputs": [],
   "source": [
    "#your code here"
   ]
  },
  {
   "cell_type": "markdown",
   "metadata": {},
   "source": [
    "Answer: "
   ]
  },
  {
   "cell_type": "markdown",
   "metadata": {},
   "source": [
    "## Discussion for Problem 2\n",
    "\n",
    "*Write a brief discussion of your conclusions to the questions and tasks above in 100 words or less.*\n",
    "\n",
    "---\n"
   ]
  },
  {
   "cell_type": "markdown",
   "metadata": {},
   "source": [
    "## Problem 3: Is the average of polls better than just one poll?"
   ]
  },
  {
   "cell_type": "markdown",
   "metadata": {},
   "source": [
    "#### Problem 3(a)\n",
    "\n",
    "Most undecided voters vote for one of the two candidates at the election. Therefore, the reported percentages underestimate the final value of both candidates. However, if we assume the undecided will split evenly, then the observed difference should be an unbiased estimate of the final difference. \n",
    "\n",
    "Add a new column to the `election` DataFrame containg the difference between Obama and Romeny called `Diff`. "
   ]
  },
  {
   "cell_type": "code",
   "execution_count": 31,
   "metadata": {
    "collapsed": false
   },
   "outputs": [],
   "source": [
    "#your code here"
   ]
  },
  {
   "cell_type": "markdown",
   "metadata": {},
   "source": [
    "#### Problem 3(b)\n",
    "\n",
    "Make a plot of the differences for the week before the election (e.g. 5 days) where the days are on the x-axis and the differences are on the y-axis.  Add a horizontal line showing 3.9%: the difference between Obama and Romney on election day."
   ]
  },
  {
   "cell_type": "code",
   "execution_count": 32,
   "metadata": {
    "collapsed": false
   },
   "outputs": [],
   "source": [
    "#your code here"
   ]
  },
  {
   "cell_type": "markdown",
   "metadata": {},
   "source": [
    "#### Problem 3(c) \n",
    "\n",
    "Make a plot showing the differences by pollster where the pollsters are on the x-axis and the differences on the y-axis. "
   ]
  },
  {
   "cell_type": "code",
   "execution_count": 33,
   "metadata": {
    "collapsed": false
   },
   "outputs": [],
   "source": [
    "#your code here"
   ]
  },
  {
   "cell_type": "markdown",
   "metadata": {},
   "source": [
    "Is the *across poll* difference larger than the *between pollster* difference? "
   ]
  },
  {
   "cell_type": "markdown",
   "metadata": {},
   "source": [
    "Answer: "
   ]
  },
  {
   "cell_type": "markdown",
   "metadata": {},
   "source": [
    "#### Problem 3(d)\n",
    "\n",
    "Take the average for each pollster and then compute the average of that. Given this difference how confident would you have been of an Obama victory?\n",
    "\n",
    "**Hint**: Compute an estimate of the SE of this average based exclusively on the observed data. "
   ]
  },
  {
   "cell_type": "code",
   "execution_count": 34,
   "metadata": {
    "collapsed": false
   },
   "outputs": [],
   "source": [
    "#your code here"
   ]
  },
  {
   "cell_type": "markdown",
   "metadata": {},
   "source": [
    "Answer: "
   ]
  },
  {
   "cell_type": "markdown",
   "metadata": {},
   "source": [
    "#### Problem 3(e)\n",
    "\n",
    "**For AC209 Students**: Show the difference against time and see if you can detect a trend towards the end. Use this trend to see if it improves the final estimate."
   ]
  },
  {
   "cell_type": "code",
   "execution_count": 35,
   "metadata": {
    "collapsed": false
   },
   "outputs": [],
   "source": [
    "#your code here"
   ]
  },
  {
   "cell_type": "markdown",
   "metadata": {},
   "source": [
    "Answer: "
   ]
  },
  {
   "cell_type": "markdown",
   "metadata": {},
   "source": [
    "## Discussion for Problem 3\n",
    "\n",
    "*Write a brief discussion of your conclusions to the questions and tasks above in 100 words or less.*\n",
    "\n",
    "---\n"
   ]
  },
  {
   "cell_type": "markdown",
   "metadata": {},
   "source": [
    "## Problem 4\n",
    "\n",
    "In this last problem, we will use the polls from the [2014 Senate Midterm Elections](http://elections.huffingtonpost.com/pollster) from the [HuffPost Pollster API](http://elections.huffingtonpost.com/pollster/api) to create a preliminary prediction of the result of each state. \n",
    "\n",
    "The HuffPost Pollster API allows you to access the data as a CSV or a JSON response by tacking \".csv\" or \".json\" at the end of the URLs. For example the 2012 Presidential Election could be accessed as a [.json](http://elections.huffingtonpost.com/pollster/2012-general-election-romney-vs-obama.json) instead of a [.csv](http://elections.huffingtonpost.com/pollster/2012-general-election-romney-vs-obama.csv)"
   ]
  },
  {
   "cell_type": "markdown",
   "metadata": {},
   "source": [
    "#### Problem 4(a)\n",
    "\n",
    "Read in the polls for **all** of the 2014 Senate Elections using the HuffPost API. For example, we can consider the [2014 Senate race in Kentucky between Mitch McConnell and Alison Grimes](http://elections.huffingtonpost.com/pollster/2014-kentucky-senate-mcconnell-vs-grimes). \n",
    "\n",
    "To search for the 2014 Senate races, use the `topics` parameter in the API [[read more about topics here](http://elections.huffingtonpost.com/pollster/api)].  "
   ]
  },
  {
   "cell_type": "code",
   "execution_count": 36,
   "metadata": {
    "collapsed": false
   },
   "outputs": [],
   "source": [
    "url_str = \"http://elections.huffingtonpost.com/pollster/api/charts/?topic=2014-senate\""
   ]
  },
  {
   "cell_type": "markdown",
   "metadata": {},
   "source": [
    "To list all the URLs related to the 2014 Senate races using the pollster API, we can use a list comprehension:"
   ]
  },
  {
   "cell_type": "code",
   "execution_count": 37,
   "metadata": {
    "collapsed": false
   },
   "outputs": [
    {
     "data": {
      "text/plain": [
       "[u'http://elections.huffingtonpost.com/pollster/2014-kentucky-senate-mcconnell-vs-grimes.csv',\n",
       " u'http://elections.huffingtonpost.com/pollster/2014-arkansas-senate-cotton-vs-pryor.csv',\n",
       " u'http://elections.huffingtonpost.com/pollster/2014-michigan-senate-land-vs-peters.csv',\n",
       " u'http://elections.huffingtonpost.com/pollster/2014-louisiana-senate-cassidy-vs-landrieu.csv',\n",
       " u'http://elections.huffingtonpost.com/pollster/2014-new-hampshire-senate-brown-vs-shaheen.csv',\n",
       " u'http://elections.huffingtonpost.com/pollster/2014-west-virginia-senate-capito-vs-tennant.csv',\n",
       " u'http://elections.huffingtonpost.com/pollster/2014-new-hampshire-senate-bass-vs-shaheen.csv',\n",
       " u'http://elections.huffingtonpost.com/pollster/2014-north-carolina-senate-tillis-vs-hagan.csv',\n",
       " u'http://elections.huffingtonpost.com/pollster/2014-virginia-senate-gillespie-vs-warner.csv',\n",
       " u'http://elections.huffingtonpost.com/pollster/2014-colorado-senate-gardner-vs-udall.csv',\n",
       " u'http://elections.huffingtonpost.com/pollster/2014-illinois-senate-oberweis-vs-durbin.csv',\n",
       " u'http://elections.huffingtonpost.com/pollster/2014-alaska-senate-sullivan-vs-begich.csv',\n",
       " u'http://elections.huffingtonpost.com/pollster/2014-iowa-senate-ernst-vs-braley.csv',\n",
       " u'http://elections.huffingtonpost.com/pollster/2014-mississippi-senate-cochran-vs-childers.csv',\n",
       " u'http://elections.huffingtonpost.com/pollster/2014-oregon-senate-wehby-vs-merkley.csv',\n",
       " u'http://elections.huffingtonpost.com/pollster/2014-georgia-senate-perdue-vs-nunn.csv',\n",
       " u'http://elections.huffingtonpost.com/pollster/2014-louisiana-senate-sasse-vs-domina.csv',\n",
       " u'http://elections.huffingtonpost.com/pollster/2014-south-dakota-senate-rounds-vs-weiland.csv',\n",
       " u'http://elections.huffingtonpost.com/pollster/2014-maine-senate-collins-vs-bellows.csv',\n",
       " u'http://elections.huffingtonpost.com/pollster/2014-minnesota-senate-mcfadden-vs-franken.csv',\n",
       " u'http://elections.huffingtonpost.com/pollster/2014-texas-senate-cornyn-vs-alameel.csv',\n",
       " u'http://elections.huffingtonpost.com/pollster/2014-south-carolina-senate-graham-vs-hutto.csv',\n",
       " u'http://elections.huffingtonpost.com/pollster/2014-south-carolina-senate-scott-vs-dickerson.csv',\n",
       " u'http://elections.huffingtonpost.com/pollster/2014-oklahoma-senate-inhofe-vs-silverstein.csv',\n",
       " u'http://elections.huffingtonpost.com/pollster/2014-new-mexico-senate-weh-vs-udall.csv',\n",
       " u'http://elections.huffingtonpost.com/pollster/2014-new-jersey-senate-bell-vs-booker.csv',\n",
       " u'http://elections.huffingtonpost.com/pollster/2014-idaho-senate-risch-vs-mitchell.csv',\n",
       " u'http://elections.huffingtonpost.com/pollster/2014-tennessee-senate-alexander-vs-ball.csv',\n",
       " u'http://elections.huffingtonpost.com/pollster/2014-wyoming-senate.csv',\n",
       " u'http://elections.huffingtonpost.com/pollster/2014-kansas-senate-roberts-vs-orman-vs-taylor.csv',\n",
       " u'http://elections.huffingtonpost.com/pollster/2014-hawaii-senate-cavasso-vs-schatz.csv',\n",
       " u'http://elections.huffingtonpost.com/pollster/2014-oklahoma-senate-lankford-vs-johnson.csv',\n",
       " u'http://elections.huffingtonpost.com/pollster/2014-montana-senate-daines-vs-curtis.csv',\n",
       " u'http://elections.huffingtonpost.com/pollster/2014-rhode-island-senate-zaccaria-vs-reed.csv',\n",
       " u'http://elections.huffingtonpost.com/pollster/2014-massachusetts-senate-herr-vs-markey.csv',\n",
       " u'http://elections.huffingtonpost.com/pollster/2014-delaware-senate-wade-vs-coons.csv']"
      ]
     },
     "execution_count": 37,
     "metadata": {},
     "output_type": "execute_result"
    }
   ],
   "source": [
    "election_urls = [election['url'] + '.csv' for election in requests.get(url_str).json()]\n",
    "election_urls"
   ]
  },
  {
   "cell_type": "markdown",
   "metadata": {},
   "source": [
    "Because there so many Senate races, we can create a dictionary of pandas DataFrames that will be keyed by the name of the election (a string). "
   ]
  },
  {
   "cell_type": "code",
   "execution_count": 38,
   "metadata": {
    "collapsed": false
   },
   "outputs": [],
   "source": [
    "def build_frame(url):\n",
    "    \"\"\"\n",
    "    Returns a pandas DataFrame object containing\n",
    "    the data returned from the given url\n",
    "    \"\"\"\n",
    "    source = requests.get(url).text\n",
    "    \n",
    "    # Use StringIO because pd.DataFrame.from_csv requires .read() method\n",
    "    s = StringIO(source)\n",
    "    \n",
    "    return pd.DataFrame.from_csv(s, index_col=None).convert_objects(\n",
    "            convert_dates=\"coerce\", convert_numeric=True)"
   ]
  },
  {
   "cell_type": "code",
   "execution_count": 39,
   "metadata": {
    "collapsed": false
   },
   "outputs": [],
   "source": [
    "# Makes a dictionary of pandas DataFrames keyed on election string.\n",
    "dfs = dict((election.split(\"/\")[-1][:-4], build_frame(election)) for election in election_urls)"
   ]
  },
  {
   "cell_type": "markdown",
   "metadata": {},
   "source": [
    "Show the head of the DataFrame containing the polls for the 2014 Senate race in Kentucky between McConnell and Grimes."
   ]
  },
  {
   "cell_type": "code",
   "execution_count": 40,
   "metadata": {
    "collapsed": false
   },
   "outputs": [],
   "source": [
    "#your code here"
   ]
  },
  {
   "cell_type": "markdown",
   "metadata": {},
   "source": [
    "#### Problem 4(b)\n",
    "\n",
    "For each 2014 Senate race, create a preliminary prediction of the result for that state."
   ]
  },
  {
   "cell_type": "code",
   "execution_count": 42,
   "metadata": {
    "collapsed": false
   },
   "outputs": [],
   "source": [
    "#your code here"
   ]
  },
  {
   "cell_type": "markdown",
   "metadata": {},
   "source": [
    "# Submission Instructions\n",
    "\n",
    "To submit your homework, create a folder named **lastname_firstinitial_hw#** and place your IPython notebooks, data files, and any other files in this folder. Your IPython Notebooks should be completely executed with the results visible in the notebook. We should not have to run any code.  Compress the folder (please use .zip compression) and submit to the CS109 dropbox in the appropriate folder. *If we cannot access your work because these directions are not followed correctly, we will not grade your work.*\n"
   ]
  },
  {
   "cell_type": "code",
   "execution_count": null,
   "metadata": {
    "collapsed": false
   },
   "outputs": [],
   "source": []
  }
 ],
 "metadata": {
  "kernelspec": {
   "display_name": "Python 3",
   "language": "python",
   "name": "python3"
  },
  "language_info": {
   "codemirror_mode": {
    "name": "ipython",
    "version": 3
   },
   "file_extension": ".py",
   "mimetype": "text/x-python",
   "name": "python",
   "nbconvert_exporter": "python",
   "pygments_lexer": "ipython3",
   "version": "3.5.1"
  }
 },
 "nbformat": 4,
 "nbformat_minor": 0
}
